{
 "cells": [
  {
   "cell_type": "markdown",
   "metadata": {},
   "source": [
    "## The Sternberg Task\n",
    "\n",
    "The Sternberg item-recognition task a widely used paradigm to study the short-term memory of humans. It tries to answer the question of how we search for items we memorized in our working memory.\n",
    "\n",
    "When we memorize items and try to recall them, this recall could either be serial or in parallel:\n",
    "* If it was parallel, we could recall all stored items simultaneously.\n",
    "* If it was serial, items are recalled one after the other. Note that 'serial' does not imply any order of the items yet, it could be encoding-based (forward or backward) or in an arbitrary order. Serial recall can be sub-divided into self-terminating recall and exhaustive recall:\n",
    "  * Self-terminating recall means that as soon as the entry we try to recall is found, we end our search.\n",
    "  * Exhaustive means that we go through all items in our working memory, even if we found the one we're looking for already.\n",
    "\n",
    "The Steinberg task tries to check which of these three possibilities hold by testing the following experimental setup:\n",
    "* 1-6 numbers between 1 and 9 are presented one after another in a random order\n",
    "* Afterwards, a single number is presented,\n",
    "* There are 2 seconds waiting time\n",
    "* The subject has to tell if the single number was part of the sequence from before.\n",
    "\n",
    "The hypotheses are the following:\n",
    "* If the recall-process was parallel, there would be either no increase or a jumpy increase in response time\n",
    "* If the recall-process was serial and self-terminating, the response time would increase with every item, until the item is actually found (leading on average to a curve with decreasing slope)\n",
    "* If the recall-process was serial and exhaustive, the response time would increase linearly with every item.\n"
   ]
  },
  {
   "cell_type": "markdown",
   "metadata": {},
   "source": [
    "### Experiment-Program\n",
    "\n",
    "* The task consists of 132 tasks, where the first 12 are practice-trials, and then there two blocks of 60 trials each.\n",
    "* After the practice-trials and the first main block, there is a pause where the subject can relax\n",
    "* One trial consists of 1-6 consecutively presented digits (1200ms per digit), then 1800 ms of white screen, 100ms fix-cross, again 100ms white screen, then the target digit, where the user has maximally 5000ms time to respond with either Yes [Y] or No [N].\n",
    "* In between trials there is a pause of 1000ms\n",
    "* Every combination of the length of the sequence (1-6) and expected answer (yes/no) appears 5 times per main block (6*2*5*2 = 120 trials), plus 12 randomly selected practice-trials\n"
   ]
  },
  {
   "cell_type": "code",
   "execution_count": 14,
   "metadata": {},
   "outputs": [
    {
     "name": "stdout",
     "output_type": "stream",
     "text": [
      "*** DEVELOP MODE ***\n",
      "Standard output and error logging is switched off under IPython.\n"
     ]
    },
    {
     "ename": "SystemExit",
     "evalue": "",
     "output_type": "error",
     "traceback": [
      "An exception has occurred, use %tb to see the full traceback.\n",
      "\u001b[0;31mSystemExit\u001b[0m\n"
     ]
    },
    {
     "name": "stderr",
     "output_type": "stream",
     "text": [
      "/usr/local/lib/python3.6/dist-packages/IPython/core/interactiveshell.py:2971: UserWarning: To exit: use 'exit', 'quit', or Ctrl-D.\n",
      "  warn(\"To exit: use 'exit', 'quit', or Ctrl-D.\", stacklevel=1)\n"
     ]
    }
   ],
   "source": [
    "from expyriment import design, control, stimuli, io, misc\n",
    "import random\n",
    "\n",
    "control.set_develop_mode(True)\n",
    "design.defaults.experiment_background_colour = (255, 255, 255)\n",
    "design.defaults.experiment_text_size = 40\n",
    "stimuli.defaults.textline_text_size = 90\n",
    "stimuli.defaults.fixcross_line_width = 2\n",
    "stimuli.defaults.textline_text_font = 'arial'\n",
    "stimuli.defaults.fixcross_size = (40,40)\n",
    "io.defaults.outputfile_time_stamp = False\n",
    "\n",
    "INSTRUCTION_TEXT = \"\"\"In this task, you'll see a sequence of 1-6 numbers one after another. Then, after a short pause, you'll see another number (in red). Your task is to tell as quickly as possible if the red number was part of the sequence before or not. \\n\\n Try to answer as quick as possible using your keyboard: Press [Y] if the number was part of the sequence, and [N] if it wasn't. We'll start with a few practice trials before you can have a pause, before we start the real task. \\n\\n Press any key to start the practice.\"\"\"\n",
    "AFTER_PRACTICE_TEXT = \"That was the practice. If you have any questions and there's an instructor nearby, ask your questions. If not, press any Key to continue to the first block.\"\n",
    "PAUSE_TEXT = \"This was the first block of the experiment. Make a pause and press any key to continue to the last block whenever you're ready.\"\n",
    "GOODBYE_TEXT = \"That's it! Thanks for participating in this study!\"\n",
    "\n",
    "def make_design(exp):\n",
    "    number_selection = range(1,10)\n",
    "    for blockname in [\"Practice\", \"First Block\", \"Second Block\"]:\n",
    "        b = design.Block(blockname)\n",
    "        for length in range(1,7):\n",
    "            for does_appear in [True, False]:\n",
    "                for _ in range(5):\n",
    "                    t = design.Trial()\n",
    "                    t.set_factor(\"length\", length)\n",
    "                    t.set_factor(\"does_appear\", does_appear)\n",
    "                    numbers = random.sample(number_selection, length)\n",
    "                    for i in numbers:\n",
    "                        s = stimuli.TextLine(str(i))\n",
    "                        t.add_stimulus(s)\n",
    "                    possible_numbers = numbers if does_appear else list(set(number_selection)-set(numbers))\n",
    "                    s = stimuli.TextLine(str(random.sample(possible_numbers, 1)[0]), text_colour=misc.constants.C_RED)\n",
    "                    t.add_stimulus(s)\n",
    "                    b.add_trial(t)\n",
    "        b.shuffle_trials()\n",
    "        if blockname == \"Practice\":\n",
    "            try:\n",
    "                while True:\n",
    "                    b.remove_trial(12)\n",
    "            except IndexError:\n",
    "                pass\n",
    "        exp.add_block(b)\n",
    "\n",
    "\n",
    "def conduct_experiment(exp, response_keys, fixcross, blankscreen):\n",
    "    for num, block in enumerate(exp.blocks):\n",
    "        if num == 0:\n",
    "            stimuli.TextScreen(\"Instructions\", INSTRUCTION_TEXT, text_size=25).present()\n",
    "            exp.clock.wait(1000)\n",
    "        elif num == 1:\n",
    "            stimuli.TextScreen(\"Pause\", AFTER_PRACTICE_TEXT).present()\n",
    "            exp.clock.wait(1000)\n",
    "        elif num == 2:\n",
    "            stimuli.TextScreen(\"Pause\", PAUSE_TEXT).present()\n",
    "            exp.clock.wait(1000)\n",
    "        exp.keyboard.wait()\n",
    "        for trial in block.trials:\n",
    "            blankscreen.present()\n",
    "            exp.clock.wait(1000 - trial.stimuli[0].preload())\n",
    "            for num in range(len(trial.stimuli)-1):\n",
    "                trial.stimuli[num].present()\n",
    "                exp.clock.wait(1200 - trial.stimuli[num+1].preload() if num < len(trial.stimuli)-1 else 0)\n",
    "            blankscreen.present()\n",
    "            exp.clock.wait(1800)\n",
    "            fixcross.present(clear=False, update=True)\n",
    "            exp.clock.wait(100)\n",
    "            blankscreen.present()\n",
    "            exp.clock.wait(100 - trial.stimuli[-1].preload())\n",
    "            trial.stimuli[-1].present(clear=False)\n",
    "            key, rt = exp.keyboard.wait(keys=response_keys, duration=5000)\n",
    "            user_thought = (key == response_keys[0])\n",
    "            user_correct = (user_thought == trial.get_factor(\"does_appear\"))\n",
    "            exp.data.add([block.name, trial.get_factor(\"length\"), trial.get_factor(\"does_appear\"), user_correct, rt])\n",
    "\n",
    "\n",
    "def main():\n",
    "    # Create and initialize an Experiment\n",
    "    exp = design.Experiment(\"Sternberg Task\")\n",
    "    control.initialize(exp)\n",
    "    exp.keyboard.set_quit_key(27)\n",
    "\n",
    "    # Define and preload standard stimuli\n",
    "    fixcross = stimuli.FixCross()\n",
    "    fixcross.preload()\n",
    "    blankscreen = stimuli.BlankScreen(colour=(255,255,255))\n",
    "    blankscreen.preload()\n",
    "\n",
    "    response_keys = [misc.constants.K_y, misc.constants.K_n]\n",
    "\n",
    "    make_design(exp) #this is the function you're implementing!\n",
    "\n",
    "    exp.data_variable_names = [\"Block\", \"Length\", \"Does Appear\", \"Correct Answer\", \"Response Time\"]\n",
    "    exp.save_design('steinberg_task_design.csv')\n",
    "\n",
    "    control.start()\n",
    "    conduct_experiment(exp, response_keys, fixcross, blankscreen)\n",
    "    control.end(goodbye_text= GOODBYE_TEXT)\n",
    "\n",
    "\n",
    "if __name__ == \"__main__\":\n",
    "    main()\n"
   ]
  },
  {
   "cell_type": "raw",
   "metadata": {},
   "source": [
    "\n",
    "\n",
    "\n",
    "\n",
    "\n",
    "\n",
    "\n",
    "\n",
    "\n"
   ]
  },
  {
   "cell_type": "markdown",
   "metadata": {},
   "source": [
    "## Interpretation\n",
    "\n",
    "* If the recall-process was parallel, there would be either no increase or a jumpy increase in response time\n",
    "* If the recall-process was serial and self-terminating, the response time would increase with every item, until the item is actually found -- leading on average to a curve with lesser slope in the conditions where the target is part of the sequence. If the target is not part of the sequence, the reaction time is steeper, because the search must be exhaustive\n",
    "* If the recall-process was serial and exhaustive, the response time would increase linearly with every item (equally for appearing and non-appearing)"
   ]
  },
  {
   "cell_type": "code",
   "execution_count": 73,
   "metadata": {},
   "outputs": [
    {
     "data": {
      "text/plain": [
       "<matplotlib.legend.Legend at 0x7fcd2e20f438>"
      ]
     },
     "execution_count": 73,
     "metadata": {},
     "output_type": "execute_result"
    },
    {
     "data": {
      "image/png": "[encoded data removed]",
      "text/plain": [
       "<Figure size 432x288 with 1 Axes>"
      ]
     },
     "metadata": {},
     "output_type": "display_data"
    }
   ],
   "source": [
    "import random\n",
    "per_number_time = 100\n",
    "responsetimes = []\n",
    "for appears in [True, False]:\n",
    "    for seqlen in range(1,20):\n",
    "        for _ in range(100):\n",
    "            is_num = random.randint(1,seqlen)\n",
    "            term_responsetime = per_number_time*is_num#*(is_num if appears else seqlen)\n",
    "            nterm_responsetime = per_number_time*seqlen\n",
    "            responsetimes.append((seqlen, term_responsetime, nterm_responsetime))\n",
    "\n",
    "fig, ax = plt.subplots()\n",
    "pd.DataFrame(responsetimes).groupby(0).mean().plot(ax=ax, title=\"Theoretical reactiontimes\")\n",
    "plt.legend([\"self-terminating and appears\", \"exhaustive or doesn't appear\"])"
   ]
  },
  {
   "cell_type": "raw",
   "metadata": {},
   "source": [
    "\n",
    "\n",
    "\n",
    "\n"
   ]
  },
  {
   "cell_type": "code",
   "execution_count": 1,
   "metadata": {},
   "outputs": [
    {
     "name": "stdout",
     "output_type": "stream",
     "text": [
      "Expyriment  (Python 3.6.6) \n",
      "\n"
     ]
    }
   ],
   "source": [
    "import pandas as pd\n",
    "from expyriment import misc\n",
    "import numpy as np\n",
    "import os\n",
    "import matplotlib.pyplot as plt\n",
    "import statsmodels.formula.api as smf\n",
    "NUM_STANDARD_DEVIATIONS = 2"
   ]
  },
  {
   "cell_type": "code",
   "execution_count": 2,
   "metadata": {},
   "outputs": [
    {
     "name": "stdout",
     "output_type": "stream",
     "text": [
      "** Expyriment Data Preprocessor **\n",
      "found 81 subject_data sets\n",
      "found 6 variables: [b'subject_id', b'Block', b'Length', b'Response Time', b'Does Appear', b'Correct Answer']\n",
      "   reading b'sternberg_task_301.xpd'\n",
      "   reading b'sternberg_task_105.xpd'\n",
      "   reading b'sternberg_task_314.xpd'\n",
      "   reading b'sternberg_task_310.xpd'\n",
      "   reading b'sternberg_task_217.xpd'\n",
      "   reading b'sternberg_task_209.xpd'\n",
      "   reading b'sternberg_task_103.xpd'\n",
      "   reading b'sternberg_task_107.xpd'\n",
      "   reading b'sternberg_task_303.xpd'\n",
      "   reading b'sternberg_task_223.xpd'\n",
      "   reading b'sternberg_task_216.xpd'\n",
      "   reading b'sternberg_task_320.xpd'\n",
      "   reading b'sternberg_task_221.xpd'\n",
      "   reading b'sternberg_task_318.xpd'\n",
      "   reading b'sternberg_task_207.xpd'\n",
      "   reading b'sternberg_task_117.xpd'\n",
      "   reading b'sternberg_task_305.xpd'\n",
      "   reading b'sternberg_task_130.xpd'\n",
      "   reading b'sternberg_task_213.xpd'\n",
      "   reading b'sternberg_task_302.xpd'\n",
      "   reading b'sternberg_task_203.xpd'\n",
      "   reading b'sternberg_task_205.xpd'\n",
      "   reading b'sternberg_task_215.xpd'\n",
      "   reading b'sternberg_task_206.xpd'\n",
      "   reading b'sternberg_task_227.xpd'\n",
      "   reading b'sternberg_task_102.xpd'\n",
      "   reading b'sternberg_task_228.xpd'\n",
      "   reading b'sternberg_task_225.xpd'\n",
      "   reading b'sternberg_task_124.xpd'\n",
      "   reading b'sternberg_task_323.xpd'\n",
      "   reading b'sternberg_task_115.xpd'\n",
      "   reading b'sternberg_task_219.xpd'\n",
      "   reading b'sternberg_task_201.xpd'\n",
      "   reading b'sternberg_task_208.xpd'\n",
      "   reading b'sternberg_task_112.xpd'\n",
      "   reading b'sternberg_task_306.xpd'\n",
      "   reading b'sternberg_task_127.xpd'\n",
      "   reading b'sternberg_task_325.xpd'\n",
      "   reading b'sternberg_task_311.xpd'\n",
      "   reading b'sternberg_task_321.xpd'\n",
      "   reading b'sternberg_task_304.xpd'\n",
      "   reading b'sternberg_task_326.xpd'\n",
      "   reading b'sternberg_task_202.xpd'\n",
      "   reading b'sternberg_task_129.xpd'\n",
      "   reading b'sternberg_task_108.xpd'\n",
      "   reading b'sternberg_task_307.xpd'\n",
      "   reading b'sternberg_task_122.xpd'\n",
      "   reading b'sternberg_task_324.xpd'\n",
      "   reading b'sternberg_task_313.xpd'\n",
      "   reading b'sternberg_task_101.xpd'\n",
      "   reading b'sternberg_task_016.xpd'\n",
      "   reading b'sternberg_task_109.xpd'\n",
      "   reading b'sternberg_task_126.xpd'\n",
      "   reading b'sternberg_task_308.xpd'\n",
      "   reading b'sternberg_task_224.xpd'\n",
      "   reading b'sternberg_task_222.xpd'\n",
      "   reading b'sternberg_task_315.xpd'\n",
      "   reading b'sternberg_task_111.xpd'\n",
      "   reading b'sternberg_task_118.xpd'\n",
      "   reading b'sternberg_task_214.xpd'\n",
      "   reading b'sternberg_task_210.xpd'\n",
      "   reading b'sternberg_task_119.xpd'\n",
      "   reading b'sternberg_task_114.xpd'\n",
      "   reading b'sternberg_task_327.xpd'\n",
      "   reading b'sternberg_task_106.xpd'\n",
      "   reading b'sternberg_task_120.xpd'\n",
      "   reading b'sternberg_task_104.xpd'\n",
      "   reading b'sternberg_task_128.xpd'\n",
      "   reading b'sternberg_task_110.xpd'\n",
      "   reading b'sternberg_task_121.xpd'\n",
      "   reading b'sternberg_task_319.xpd'\n",
      "   reading b'sternberg_task_113.xpd'\n",
      "   reading b'sternberg_task_230.xpd'\n",
      "   reading b'sternberg_task_226.xpd'\n",
      "   reading b'sternberg_task_218.xpd'\n",
      "   reading b'sternberg_task_312.xpd'\n",
      "   reading b'sternberg_task_204.xpd'\n",
      "   reading b'sternberg_task_212.xpd'\n",
      "   reading b'sternberg_task_125.xpd'\n",
      "   reading b'sternberg_task_220.xpd'\n",
      "   reading b'sternberg_task_309.xpd'\n",
      "write file: data.csv (63438 cells in 10573 rows)\n"
     ]
    }
   ],
   "source": [
    "data_folder = \"subjdata/\"\n",
    "misc.data_preprocessing.write_concatenated_data(data_folder, \"sternberg_task\", output_file=\"data.csv\")"
   ]
  },
  {
   "cell_type": "code",
   "execution_count": 23,
   "metadata": {},
   "outputs": [],
   "source": [
    "df = pd.read_csv(\"data.csv\", comment=\"#\").sort_values(by=\"subject_id\").dropna()\n",
    "df = df.rename(mapper={\"Does Appear\": \"does_appear\", \"Response Time\": \"response_time\", \"Correct Answer\": \"correct_answer\"}, axis=\"columns\")\n",
    "df = df[df[\"response_time\"] > 0]"
   ]
  },
  {
   "cell_type": "code",
   "execution_count": 24,
   "metadata": {},
   "outputs": [
    {
     "name": "stdout",
     "output_type": "stream",
     "text": [
      "Mean Accuracy by subject: 0.9265085275005156 Std: 0.07319302943115578\n",
      "Least Accuracy to be counted: 0.780122468638204\n",
      "Deleted will be: [16, 114, 230, 312]\n"
     ]
    }
   ],
   "source": [
    "accuracies = df.groupby(\"subject_id\")[\"correct_answer\"].mean()\n",
    "print(\"Mean Accuracy by subject:\", accuracies.mean(), \"Std:\", accuracies.std())\n",
    "min_acc = accuracies.mean()-NUM_STANDARD_DEVIATIONS*accuracies.std()\n",
    "print(\"Least Accuracy to be counted:\", min_acc)\n",
    "to_delete = list(accuracies[accuracies<min_acc].index)\n",
    "print(\"Deleted will be:\", to_delete)\n",
    "df = df[~df[\"subject_id\"].isin(to_delete)]\n",
    "df = df[~(df[\"Block\"] == \"Practice\")]\n",
    "df = df[df[\"correct_answer\"]].drop(\"correct_answer\", axis=\"columns\")"
   ]
  },
  {
   "cell_type": "code",
   "execution_count": 6,
   "metadata": {},
   "outputs": [
    {
     "data": {
      "text/html": [
       "<div>\n",
       "<style scoped>\n",
       "    .dataframe tbody tr th:only-of-type {\n",
       "        vertical-align: middle;\n",
       "    }\n",
       "\n",
       "    .dataframe tbody tr th {\n",
       "        vertical-align: top;\n",
       "    }\n",
       "\n",
       "    .dataframe thead th {\n",
       "        text-align: right;\n",
       "    }\n",
       "</style>\n",
       "<table border=\"1\" class=\"dataframe\">\n",
       "  <thead>\n",
       "    <tr style=\"text-align: right;\">\n",
       "      <th></th>\n",
       "      <th>Length</th>\n",
       "      <th>does_appear</th>\n",
       "      <th>response_time</th>\n",
       "    </tr>\n",
       "  </thead>\n",
       "  <tbody>\n",
       "    <tr>\n",
       "      <th>0</th>\n",
       "      <td>1.0</td>\n",
       "      <td>False</td>\n",
       "      <td>698.049561</td>\n",
       "    </tr>\n",
       "    <tr>\n",
       "      <th>1</th>\n",
       "      <td>1.0</td>\n",
       "      <td>True</td>\n",
       "      <td>613.589401</td>\n",
       "    </tr>\n",
       "    <tr>\n",
       "      <th>2</th>\n",
       "      <td>2.0</td>\n",
       "      <td>False</td>\n",
       "      <td>726.968713</td>\n",
       "    </tr>\n",
       "    <tr>\n",
       "      <th>3</th>\n",
       "      <td>2.0</td>\n",
       "      <td>True</td>\n",
       "      <td>668.781015</td>\n",
       "    </tr>\n",
       "    <tr>\n",
       "      <th>4</th>\n",
       "      <td>3.0</td>\n",
       "      <td>False</td>\n",
       "      <td>751.286346</td>\n",
       "    </tr>\n",
       "    <tr>\n",
       "      <th>5</th>\n",
       "      <td>3.0</td>\n",
       "      <td>True</td>\n",
       "      <td>716.735062</td>\n",
       "    </tr>\n",
       "    <tr>\n",
       "      <th>6</th>\n",
       "      <td>4.0</td>\n",
       "      <td>False</td>\n",
       "      <td>792.903728</td>\n",
       "    </tr>\n",
       "    <tr>\n",
       "      <th>7</th>\n",
       "      <td>4.0</td>\n",
       "      <td>True</td>\n",
       "      <td>757.778206</td>\n",
       "    </tr>\n",
       "    <tr>\n",
       "      <th>8</th>\n",
       "      <td>5.0</td>\n",
       "      <td>False</td>\n",
       "      <td>844.597368</td>\n",
       "    </tr>\n",
       "    <tr>\n",
       "      <th>9</th>\n",
       "      <td>5.0</td>\n",
       "      <td>True</td>\n",
       "      <td>791.413200</td>\n",
       "    </tr>\n",
       "    <tr>\n",
       "      <th>10</th>\n",
       "      <td>6.0</td>\n",
       "      <td>False</td>\n",
       "      <td>907.665716</td>\n",
       "    </tr>\n",
       "    <tr>\n",
       "      <th>11</th>\n",
       "      <td>6.0</td>\n",
       "      <td>True</td>\n",
       "      <td>829.991693</td>\n",
       "    </tr>\n",
       "  </tbody>\n",
       "</table>\n",
       "</div>"
      ],
      "text/plain": [
       "    Length  does_appear  response_time\n",
       "0      1.0        False     698.049561\n",
       "1      1.0         True     613.589401\n",
       "2      2.0        False     726.968713\n",
       "3      2.0         True     668.781015\n",
       "4      3.0        False     751.286346\n",
       "5      3.0         True     716.735062\n",
       "6      4.0        False     792.903728\n",
       "7      4.0         True     757.778206\n",
       "8      5.0        False     844.597368\n",
       "9      5.0         True     791.413200\n",
       "10     6.0        False     907.665716\n",
       "11     6.0         True     829.991693"
      ]
     },
     "execution_count": 6,
     "metadata": {},
     "output_type": "execute_result"
    }
   ],
   "source": [
    "averaged_times = df.groupby(['subject_id', 'Length', 'does_appear']).mean().reset_index()\n",
    "global_average = averaged_times.groupby(['Length', 'does_appear'])[\"response_time\"].mean()\n",
    "global_average.reset_index()"
   ]
  },
  {
   "cell_type": "code",
   "execution_count": 7,
   "metadata": {},
   "outputs": [
    {
     "data": {
      "image/png": "[encoded data removed]",
      "text/plain": [
       "<Figure size 432x288 with 1 Axes>"
      ]
     },
     "metadata": {},
     "output_type": "display_data"
    }
   ],
   "source": [
    "fig, ax = plt.subplots()\n",
    "for num, obj in global_average.reset_index().groupby(\"does_appear\"):\n",
    "    obj.plot(x=\"Length\", y=\"response_time\", ax=ax, title=\"Reaction Time\")\n",
    "\n",
    "ax.legend([\"Stimulus does not appear\", \"Stimulus does appear\"])\n",
    "ax.set(ylabel=\"Reaction Time (ms)\", xlabel=\"Length of sequence\")\n",
    "plt.show()"
   ]
  },
  {
   "cell_type": "markdown",
   "metadata": {},
   "source": [
    "We see that the reaction time increases with the number of items - this is already strong visual evidence that our working memory does not work in parallel."
   ]
  },
  {
   "cell_type": "code",
   "execution_count": 8,
   "metadata": {},
   "outputs": [
    {
     "name": "stderr",
     "output_type": "stream",
     "text": [
      "/usr/local/lib/python3.6/dist-packages/scipy/stats/stats.py:1390: UserWarning: kurtosistest only valid for n>=20 ... continuing anyway, n=12\n",
      "  \"anyway, n=%i\" % int(n))\n"
     ]
    },
    {
     "data": {
      "text/html": [
       "<table class=\"simpletable\">\n",
       "<caption>OLS Regression Results</caption>\n",
       "<tr>\n",
       "  <th>Dep. Variable:</th>      <td>response_time</td>  <th>  R-squared:         </th> <td>   0.983</td>\n",
       "</tr>\n",
       "<tr>\n",
       "  <th>Model:</th>                   <td>OLS</td>       <th>  Adj. R-squared:    </th> <td>   0.977</td>\n",
       "</tr>\n",
       "<tr>\n",
       "  <th>Method:</th>             <td>Least Squares</td>  <th>  F-statistic:       </th> <td>   154.0</td>\n",
       "</tr>\n",
       "<tr>\n",
       "  <th>Date:</th>             <td>Mon, 02 Jul 2018</td> <th>  Prob (F-statistic):</th> <td>2.05e-07</td>\n",
       "</tr>\n",
       "<tr>\n",
       "  <th>Time:</th>                 <td>14:52:02</td>     <th>  Log-Likelihood:    </th> <td> -44.829</td>\n",
       "</tr>\n",
       "<tr>\n",
       "  <th>No. Observations:</th>      <td>    12</td>      <th>  AIC:               </th> <td>   97.66</td>\n",
       "</tr>\n",
       "<tr>\n",
       "  <th>Df Residuals:</th>          <td>     8</td>      <th>  BIC:               </th> <td>   99.60</td>\n",
       "</tr>\n",
       "<tr>\n",
       "  <th>Df Model:</th>              <td>     3</td>      <th>                     </th>     <td> </td>   \n",
       "</tr>\n",
       "<tr>\n",
       "  <th>Covariance Type:</th>      <td>nonrobust</td>    <th>                     </th>     <td> </td>   \n",
       "</tr>\n",
       "</table>\n",
       "<table class=\"simpletable\">\n",
       "<tr>\n",
       "               <td></td>                 <th>coef</th>     <th>std err</th>      <th>t</th>      <th>P>|t|</th>  <th>[0.025</th>    <th>0.975]</th>  \n",
       "</tr>\n",
       "<tr>\n",
       "  <th>Intercept</th>                  <td>  642.6535</td> <td>   11.565</td> <td>   55.569</td> <td> 0.000</td> <td>  615.985</td> <td>  669.322</td>\n",
       "</tr>\n",
       "<tr>\n",
       "  <th>does_appear[T.True]</th>        <td>  -62.0338</td> <td>   16.355</td> <td>   -3.793</td> <td> 0.005</td> <td>  -99.749</td> <td>  -24.318</td>\n",
       "</tr>\n",
       "<tr>\n",
       "  <th>Length</th>                     <td>   41.2167</td> <td>    2.970</td> <td>   13.880</td> <td> 0.000</td> <td>   34.369</td> <td>   48.065</td>\n",
       "</tr>\n",
       "<tr>\n",
       "  <th>does_appear[T.True]:Length</th> <td>    1.3819</td> <td>    4.200</td> <td>    0.329</td> <td> 0.751</td> <td>   -8.303</td> <td>   11.066</td>\n",
       "</tr>\n",
       "</table>\n",
       "<table class=\"simpletable\">\n",
       "<tr>\n",
       "  <th>Omnibus:</th>       <td> 0.543</td> <th>  Durbin-Watson:     </th> <td>   2.951</td>\n",
       "</tr>\n",
       "<tr>\n",
       "  <th>Prob(Omnibus):</th> <td> 0.762</td> <th>  Jarque-Bera (JB):  </th> <td>   0.543</td>\n",
       "</tr>\n",
       "<tr>\n",
       "  <th>Skew:</th>          <td> 0.128</td> <th>  Prob(JB):          </th> <td>   0.762</td>\n",
       "</tr>\n",
       "<tr>\n",
       "  <th>Kurtosis:</th>      <td> 1.990</td> <th>  Cond. No.          </th> <td>    24.5</td>\n",
       "</tr>\n",
       "</table>"
      ],
      "text/plain": [
       "<class 'statsmodels.iolib.summary.Summary'>\n",
       "\"\"\"\n",
       "                            OLS Regression Results                            \n",
       "==============================================================================\n",
       "Dep. Variable:          response_time   R-squared:                       0.983\n",
       "Model:                            OLS   Adj. R-squared:                  0.977\n",
       "Method:                 Least Squares   F-statistic:                     154.0\n",
       "Date:                Mon, 02 Jul 2018   Prob (F-statistic):           2.05e-07\n",
       "Time:                        14:52:02   Log-Likelihood:                -44.829\n",
       "No. Observations:                  12   AIC:                             97.66\n",
       "Df Residuals:                       8   BIC:                             99.60\n",
       "Df Model:                           3                                         \n",
       "Covariance Type:            nonrobust                                         \n",
       "==============================================================================================\n",
       "                                 coef    std err          t      P>|t|      [0.025      0.975]\n",
       "----------------------------------------------------------------------------------------------\n",
       "Intercept                    642.6535     11.565     55.569      0.000     615.985     669.322\n",
       "does_appear[T.True]          -62.0338     16.355     -3.793      0.005     -99.749     -24.318\n",
       "Length                        41.2167      2.970     13.880      0.000      34.369      48.065\n",
       "does_appear[T.True]:Length     1.3819      4.200      0.329      0.751      -8.303      11.066\n",
       "==============================================================================\n",
       "Omnibus:                        0.543   Durbin-Watson:                   2.951\n",
       "Prob(Omnibus):                  0.762   Jarque-Bera (JB):                0.543\n",
       "Skew:                           0.128   Prob(JB):                        0.762\n",
       "Kurtosis:                       1.990   Cond. No.                         24.5\n",
       "==============================================================================\n",
       "\n",
       "Warnings:\n",
       "[1] Standard Errors assume that the covariance matrix of the errors is correctly specified.\n",
       "\"\"\""
      ]
     },
     "execution_count": 8,
     "metadata": {},
     "output_type": "execute_result"
    }
   ],
   "source": [
    "fit = smf.ols('response_time ~ does_appear * Length', global_average.reset_index()).fit()\n",
    "fit.summary()"
   ]
  },
  {
   "cell_type": "markdown",
   "metadata": {},
   "source": [
    "We see: \n",
    "* The reaction time increases with the number of items (by 43ms on average, highly significant, p < 0.0001) $\\rightarrow$ No parallel processing\n",
    "* When the target does appear, the response time is on average 55 ms faster (highly significant, p<0.0001)\n",
    "* We do not have an interaction-effect: does_appear[T.True]:Length is not significant\n",
    "* With these two factors, we have 98.5% explained variance, which is quite a lot!\n",
    "\n",
    "**$\\Rightarrow$ Because the difference between conditions [appears/doesn't appear] is significant, we have to look at both groups separately!**"
   ]
  },
  {
   "cell_type": "code",
   "execution_count": 9,
   "metadata": {},
   "outputs": [],
   "source": [
    "positives = global_average.reset_index()[global_average.reset_index()[\"does_appear\"]]\n",
    "negatives = global_average.reset_index()[~global_average.reset_index()[\"does_appear\"]]"
   ]
  },
  {
   "cell_type": "code",
   "execution_count": 10,
   "metadata": {},
   "outputs": [
    {
     "name": "stderr",
     "output_type": "stream",
     "text": [
      "/usr/local/lib/python3.6/dist-packages/statsmodels/stats/stattools.py:72: ValueWarning: omni_normtest is not valid with less than 8 observations; 6 samples were given.\n",
      "  \"samples were given.\" % int(n), ValueWarning)\n"
     ]
    },
    {
     "data": {
      "text/html": [
       "<table class=\"simpletable\">\n",
       "<caption>OLS Regression Results</caption>\n",
       "<tr>\n",
       "  <th>Dep. Variable:</th>      <td>response_time</td>  <th>  R-squared:         </th> <td>   0.992</td>\n",
       "</tr>\n",
       "<tr>\n",
       "  <th>Model:</th>                   <td>OLS</td>       <th>  Adj. R-squared:    </th> <td>   0.990</td>\n",
       "</tr>\n",
       "<tr>\n",
       "  <th>Method:</th>             <td>Least Squares</td>  <th>  F-statistic:       </th> <td>   488.6</td>\n",
       "</tr>\n",
       "<tr>\n",
       "  <th>Date:</th>             <td>Mon, 02 Jul 2018</td> <th>  Prob (F-statistic):</th> <td>2.48e-05</td>\n",
       "</tr>\n",
       "<tr>\n",
       "  <th>Time:</th>                 <td>14:56:02</td>     <th>  Log-Likelihood:    </th> <td> -19.820</td>\n",
       "</tr>\n",
       "<tr>\n",
       "  <th>No. Observations:</th>      <td>     6</td>      <th>  AIC:               </th> <td>   43.64</td>\n",
       "</tr>\n",
       "<tr>\n",
       "  <th>Df Residuals:</th>          <td>     4</td>      <th>  BIC:               </th> <td>   43.22</td>\n",
       "</tr>\n",
       "<tr>\n",
       "  <th>Df Model:</th>              <td>     1</td>      <th>                     </th>     <td> </td>   \n",
       "</tr>\n",
       "<tr>\n",
       "  <th>Covariance Type:</th>      <td>nonrobust</td>    <th>                     </th>     <td> </td>   \n",
       "</tr>\n",
       "</table>\n",
       "<table class=\"simpletable\">\n",
       "<tr>\n",
       "      <td></td>         <th>coef</th>     <th>std err</th>      <th>t</th>      <th>P>|t|</th>  <th>[0.025</th>    <th>0.975]</th>  \n",
       "</tr>\n",
       "<tr>\n",
       "  <th>Intercept</th> <td>  580.6196</td> <td>    7.505</td> <td>   77.360</td> <td> 0.000</td> <td>  559.781</td> <td>  601.458</td>\n",
       "</tr>\n",
       "<tr>\n",
       "  <th>Length</th>    <td>   42.5986</td> <td>    1.927</td> <td>   22.104</td> <td> 0.000</td> <td>   37.248</td> <td>   47.949</td>\n",
       "</tr>\n",
       "</table>\n",
       "<table class=\"simpletable\">\n",
       "<tr>\n",
       "  <th>Omnibus:</th>       <td>   nan</td> <th>  Durbin-Watson:     </th> <td>   1.101</td>\n",
       "</tr>\n",
       "<tr>\n",
       "  <th>Prob(Omnibus):</th> <td>   nan</td> <th>  Jarque-Bera (JB):  </th> <td>   0.569</td>\n",
       "</tr>\n",
       "<tr>\n",
       "  <th>Skew:</th>          <td>-0.136</td> <th>  Prob(JB):          </th> <td>   0.752</td>\n",
       "</tr>\n",
       "<tr>\n",
       "  <th>Kurtosis:</th>      <td> 1.516</td> <th>  Cond. No.          </th> <td>    9.36</td>\n",
       "</tr>\n",
       "</table>"
      ],
      "text/plain": [
       "<class 'statsmodels.iolib.summary.Summary'>\n",
       "\"\"\"\n",
       "                            OLS Regression Results                            \n",
       "==============================================================================\n",
       "Dep. Variable:          response_time   R-squared:                       0.992\n",
       "Model:                            OLS   Adj. R-squared:                  0.990\n",
       "Method:                 Least Squares   F-statistic:                     488.6\n",
       "Date:                Mon, 02 Jul 2018   Prob (F-statistic):           2.48e-05\n",
       "Time:                        14:56:02   Log-Likelihood:                -19.820\n",
       "No. Observations:                   6   AIC:                             43.64\n",
       "Df Residuals:                       4   BIC:                             43.22\n",
       "Df Model:                           1                                         \n",
       "Covariance Type:            nonrobust                                         \n",
       "==============================================================================\n",
       "                 coef    std err          t      P>|t|      [0.025      0.975]\n",
       "------------------------------------------------------------------------------\n",
       "Intercept    580.6196      7.505     77.360      0.000     559.781     601.458\n",
       "Length        42.5986      1.927     22.104      0.000      37.248      47.949\n",
       "==============================================================================\n",
       "Omnibus:                          nan   Durbin-Watson:                   1.101\n",
       "Prob(Omnibus):                    nan   Jarque-Bera (JB):                0.569\n",
       "Skew:                          -0.136   Prob(JB):                        0.752\n",
       "Kurtosis:                       1.516   Cond. No.                         9.36\n",
       "==============================================================================\n",
       "\n",
       "Warnings:\n",
       "[1] Standard Errors assume that the covariance matrix of the errors is correctly specified.\n",
       "\"\"\""
      ]
     },
     "execution_count": 10,
     "metadata": {},
     "output_type": "execute_result"
    }
   ],
   "source": [
    "fit_pos = smf.ols('response_time ~ Length', positives).fit()\n",
    "fit_pos.summary()"
   ]
  },
  {
   "cell_type": "code",
   "execution_count": 11,
   "metadata": {},
   "outputs": [
    {
     "name": "stderr",
     "output_type": "stream",
     "text": [
      "/usr/local/lib/python3.6/dist-packages/statsmodels/stats/stattools.py:72: ValueWarning: omni_normtest is not valid with less than 8 observations; 6 samples were given.\n",
      "  \"samples were given.\" % int(n), ValueWarning)\n"
     ]
    },
    {
     "data": {
      "text/html": [
       "<table class=\"simpletable\">\n",
       "<caption>OLS Regression Results</caption>\n",
       "<tr>\n",
       "  <th>Dep. Variable:</th>      <td>response_time</td>  <th>  R-squared:         </th> <td>   0.968</td>\n",
       "</tr>\n",
       "<tr>\n",
       "  <th>Model:</th>                   <td>OLS</td>       <th>  Adj. R-squared:    </th> <td>   0.960</td>\n",
       "</tr>\n",
       "<tr>\n",
       "  <th>Method:</th>             <td>Least Squares</td>  <th>  F-statistic:       </th> <td>   122.0</td>\n",
       "</tr>\n",
       "<tr>\n",
       "  <th>Date:</th>             <td>Mon, 02 Jul 2018</td> <th>  Prob (F-statistic):</th> <td>0.000382</td>\n",
       "</tr>\n",
       "<tr>\n",
       "  <th>Time:</th>                 <td>14:56:10</td>     <th>  Log-Likelihood:    </th> <td> -23.784</td>\n",
       "</tr>\n",
       "<tr>\n",
       "  <th>No. Observations:</th>      <td>     6</td>      <th>  AIC:               </th> <td>   51.57</td>\n",
       "</tr>\n",
       "<tr>\n",
       "  <th>Df Residuals:</th>          <td>     4</td>      <th>  BIC:               </th> <td>   51.15</td>\n",
       "</tr>\n",
       "<tr>\n",
       "  <th>Df Model:</th>              <td>     1</td>      <th>                     </th>     <td> </td>   \n",
       "</tr>\n",
       "<tr>\n",
       "  <th>Covariance Type:</th>      <td>nonrobust</td>    <th>                     </th>     <td> </td>   \n",
       "</tr>\n",
       "</table>\n",
       "<table class=\"simpletable\">\n",
       "<tr>\n",
       "      <td></td>         <th>coef</th>     <th>std err</th>      <th>t</th>      <th>P>|t|</th>  <th>[0.025</th>    <th>0.975]</th>  \n",
       "</tr>\n",
       "<tr>\n",
       "  <th>Intercept</th> <td>  642.6535</td> <td>   14.532</td> <td>   44.225</td> <td> 0.000</td> <td>  602.307</td> <td>  682.999</td>\n",
       "</tr>\n",
       "<tr>\n",
       "  <th>Length</th>    <td>   41.2167</td> <td>    3.731</td> <td>   11.046</td> <td> 0.000</td> <td>   30.857</td> <td>   51.577</td>\n",
       "</tr>\n",
       "</table>\n",
       "<table class=\"simpletable\">\n",
       "<tr>\n",
       "  <th>Omnibus:</th>       <td>   nan</td> <th>  Durbin-Watson:     </th> <td>   1.051</td>\n",
       "</tr>\n",
       "<tr>\n",
       "  <th>Prob(Omnibus):</th> <td>   nan</td> <th>  Jarque-Bera (JB):  </th> <td>   0.593</td>\n",
       "</tr>\n",
       "<tr>\n",
       "  <th>Skew:</th>          <td> 0.148</td> <th>  Prob(JB):          </th> <td>   0.743</td>\n",
       "</tr>\n",
       "<tr>\n",
       "  <th>Kurtosis:</th>      <td> 1.489</td> <th>  Cond. No.          </th> <td>    9.36</td>\n",
       "</tr>\n",
       "</table>"
      ],
      "text/plain": [
       "<class 'statsmodels.iolib.summary.Summary'>\n",
       "\"\"\"\n",
       "                            OLS Regression Results                            \n",
       "==============================================================================\n",
       "Dep. Variable:          response_time   R-squared:                       0.968\n",
       "Model:                            OLS   Adj. R-squared:                  0.960\n",
       "Method:                 Least Squares   F-statistic:                     122.0\n",
       "Date:                Mon, 02 Jul 2018   Prob (F-statistic):           0.000382\n",
       "Time:                        14:56:10   Log-Likelihood:                -23.784\n",
       "No. Observations:                   6   AIC:                             51.57\n",
       "Df Residuals:                       4   BIC:                             51.15\n",
       "Df Model:                           1                                         \n",
       "Covariance Type:            nonrobust                                         \n",
       "==============================================================================\n",
       "                 coef    std err          t      P>|t|      [0.025      0.975]\n",
       "------------------------------------------------------------------------------\n",
       "Intercept    642.6535     14.532     44.225      0.000     602.307     682.999\n",
       "Length        41.2167      3.731     11.046      0.000      30.857      51.577\n",
       "==============================================================================\n",
       "Omnibus:                          nan   Durbin-Watson:                   1.051\n",
       "Prob(Omnibus):                    nan   Jarque-Bera (JB):                0.593\n",
       "Skew:                           0.148   Prob(JB):                        0.743\n",
       "Kurtosis:                       1.489   Cond. No.                         9.36\n",
       "==============================================================================\n",
       "\n",
       "Warnings:\n",
       "[1] Standard Errors assume that the covariance matrix of the errors is correctly specified.\n",
       "\"\"\""
      ]
     },
     "execution_count": 11,
     "metadata": {},
     "output_type": "execute_result"
    }
   ],
   "source": [
    "fit_neg = smf.ols('response_time ~ Length', negatives).fit()\n",
    "fit_neg.summary()"
   ]
  },
  {
   "cell_type": "markdown",
   "metadata": {},
   "source": [
    "* We explained 99% / 96.8% of the variance...\n",
    "* There is almost no difference in the steepness of the curves\n",
    "\n",
    "$\\rightarrow$ If this difference was significant, it would provide evidence for serial & self-terminating recall. If not (if the same slope could explain both conditions equally), it would be evidence for serial & exhaustive.  \n",
    "$\\Rightarrow$ We have to see if this is significant"
   ]
  },
  {
   "cell_type": "markdown",
   "metadata": {},
   "source": [
    "Let's plot the two opposing hypotheses - equal slope with different intercept vs. different slope:"
   ]
  },
  {
   "cell_type": "code",
   "execution_count": 12,
   "metadata": {},
   "outputs": [
    {
     "data": {
      "text/plain": [
       "[<matplotlib.lines.Line2D at 0x7f95ecfc3320>]"
      ]
     },
     "execution_count": 12,
     "metadata": {},
     "output_type": "execute_result"
    },
    {
     "data": {
      "image/png": "[encoded data removed]",
      "text/plain": [
       "<Figure size 1152x576 with 2 Axes>"
      ]
     },
     "metadata": {},
     "output_type": "display_data"
    }
   ],
   "source": [
    "fit = smf.ols('response_time ~ does_appear + Length', global_average.reset_index()).fit()\n",
    "fig, ax = plt.subplots(1, 2, figsize=(16,8))\n",
    "\n",
    "for num, (cond, obj) in enumerate(global_average.reset_index().groupby(\"does_appear\")):\n",
    "    obj.plot(x=\"Length\", y=\"response_time\", ax=ax[num], title=\"Reaction Time\", kind=\"scatter\")\n",
    "    joint_curve = fit.params[\"Intercept\"]+fit.params[\"Length\"]*np.arange(1,7) + (fit.params[\"does_appear[T.True]\"] if cond else 0)\n",
    "    ax[num].plot(np.arange(1,7), joint_curve, color=\"orange\")    \n",
    "       \n",
    "ax[0].plot(np.arange(1,7), fit_neg.params[\"Intercept\"]+fit_neg.params[\"Length\"]*np.arange(1,7), color=\"grey\")    \n",
    "ax[1].plot(np.arange(1,7), fit_pos.params[\"Intercept\"]+fit_pos.params[\"Length\"]*np.arange(1,7), color=\"grey\") "
   ]
  },
  {
   "cell_type": "markdown",
   "metadata": {},
   "source": [
    "What we have to do now, is to see if the difference of the entire curve is significant, or if it's simply for one condition. To do that, we have to look at the individual conditions (sequencelength = 1..6) separately, testing the difference for significance.  \n",
    "We however have to *Bonferroni-Correct* the p-values:   \n",
    "![https://xkcd.com/882/](xkcd_significant.png)"
   ]
  },
  {
   "cell_type": "code",
   "execution_count": 13,
   "metadata": {},
   "outputs": [
    {
     "data": {
      "text/plain": [
       "0.008333333333333333"
      ]
     },
     "execution_count": 13,
     "metadata": {},
     "output_type": "execute_result"
    }
   ],
   "source": [
    "orig_alpha = 0.05\n",
    "corr_alpha = orig_alpha/6\n",
    "corr_alpha"
   ]
  },
  {
   "cell_type": "code",
   "execution_count": 14,
   "metadata": {},
   "outputs": [],
   "source": [
    "#doesntappear, doesappear = [[j[2] for j in obj[1].values] for obj in global_average.reset_index().groupby(\"does_appear\")]\n",
    "\n",
    "all_pos = []\n",
    "all_neg = []\n",
    "for cond, i in averaged_times.groupby(['Length', 'does_appear']):\n",
    "    if cond[1]:\n",
    "        all_pos.append(list(i[\"response_time\"]))\n",
    "    else:\n",
    "        all_neg.append(list(i[\"response_time\"]))\n",
    "        \n",
    "all_vals = all_pos + all_neg\n",
    "labels = [True]*len(all_pos)+[False]*len(all_neg)"
   ]
  },
  {
   "cell_type": "code",
   "execution_count": 15,
   "metadata": {},
   "outputs": [
    {
     "data": {
      "text/html": [
       "<div>\n",
       "<style scoped>\n",
       "    .dataframe tbody tr th:only-of-type {\n",
       "        vertical-align: middle;\n",
       "    }\n",
       "\n",
       "    .dataframe tbody tr th {\n",
       "        vertical-align: top;\n",
       "    }\n",
       "\n",
       "    .dataframe thead th {\n",
       "        text-align: right;\n",
       "    }\n",
       "</style>\n",
       "<table border=\"1\" class=\"dataframe\">\n",
       "  <thead>\n",
       "    <tr style=\"text-align: right;\">\n",
       "      <th></th>\n",
       "      <th>Length</th>\n",
       "      <th>does_appear</th>\n",
       "      <th>response_time</th>\n",
       "    </tr>\n",
       "  </thead>\n",
       "  <tbody>\n",
       "    <tr>\n",
       "      <th>0</th>\n",
       "      <td>1.0</td>\n",
       "      <td>False</td>\n",
       "      <td>818.333333</td>\n",
       "    </tr>\n",
       "    <tr>\n",
       "      <th>1</th>\n",
       "      <td>1.0</td>\n",
       "      <td>True</td>\n",
       "      <td>839.222222</td>\n",
       "    </tr>\n",
       "    <tr>\n",
       "      <th>2</th>\n",
       "      <td>2.0</td>\n",
       "      <td>False</td>\n",
       "      <td>770.750000</td>\n",
       "    </tr>\n",
       "    <tr>\n",
       "      <th>3</th>\n",
       "      <td>2.0</td>\n",
       "      <td>True</td>\n",
       "      <td>655.833333</td>\n",
       "    </tr>\n",
       "    <tr>\n",
       "      <th>4</th>\n",
       "      <td>3.0</td>\n",
       "      <td>False</td>\n",
       "      <td>889.444444</td>\n",
       "    </tr>\n",
       "  </tbody>\n",
       "</table>\n",
       "</div>"
      ],
      "text/plain": [
       "   Length  does_appear  response_time\n",
       "0     1.0        False     818.333333\n",
       "1     1.0         True     839.222222\n",
       "2     2.0        False     770.750000\n",
       "3     2.0         True     655.833333\n",
       "4     3.0        False     889.444444"
      ]
     },
     "execution_count": 15,
     "metadata": {},
     "output_type": "execute_result"
    }
   ],
   "source": [
    "av2 = averaged_times.drop(\"subject_id\", axis=\"columns\")\n",
    "av2.head()"
   ]
  },
  {
   "cell_type": "code",
   "execution_count": 16,
   "metadata": {},
   "outputs": [
    {
     "name": "stdout",
     "output_type": "stream",
     "text": [
      "Multiple Comparison of Means - Tukey HSD,FWER=0.01\n",
      "===============================================\n",
      "group1 group2 meandiff   lower    upper  reject\n",
      "-----------------------------------------------\n",
      "False   True  -84.4602 -179.0934 10.1731 False \n",
      "-----------------------------------------------\n",
      "\n",
      "Multiple Comparison of Means - Tukey HSD,FWER=0.01\n",
      "===============================================\n",
      "group1 group2 meandiff   lower    upper  reject\n",
      "-----------------------------------------------\n",
      "False   True  -58.1877 -161.4822 45.1068 False \n",
      "-----------------------------------------------\n",
      "\n",
      "Multiple Comparison of Means - Tukey HSD,FWER=0.01\n",
      "===============================================\n",
      "group1 group2 meandiff   lower    upper  reject\n",
      "-----------------------------------------------\n",
      "False   True  -34.5513 -129.9847 60.8821 False \n",
      "-----------------------------------------------\n",
      "\n",
      "Multiple Comparison of Means - Tukey HSD,FWER=0.01\n",
      "===============================================\n",
      "group1 group2 meandiff   lower    upper  reject\n",
      "-----------------------------------------------\n",
      "False   True  -35.1255 -139.3678 69.1167 False \n",
      "-----------------------------------------------\n",
      "\n",
      "Multiple Comparison of Means - Tukey HSD,FWER=0.01\n",
      "===============================================\n",
      "group1 group2 meandiff   lower    upper  reject\n",
      "-----------------------------------------------\n",
      "False   True  -53.1842 -157.0119 50.6436 False \n",
      "-----------------------------------------------\n",
      "\n",
      "Multiple Comparison of Means - Tukey HSD,FWER=0.01\n",
      "==============================================\n",
      "group1 group2 meandiff   lower   upper  reject\n",
      "----------------------------------------------\n",
      "False   True  -77.674  -207.4231 52.075 False \n",
      "----------------------------------------------\n",
      "\n"
     ]
    }
   ],
   "source": [
    "import statsmodels.stats.multicomp as multi\n",
    "for length in range(1,7):\n",
    "    mc = multi.MultiComparison(av2[av2[\"Length\"] == length][\"response_time\"], av2[av2[\"Length\"] == length][\"does_appear\"])\n",
    "    res = mc.tukeyhsd(alpha=corr_alpha)\n",
    "    print(res.summary())\n",
    "    print()"
   ]
  },
  {
   "cell_type": "markdown",
   "metadata": {},
   "source": [
    "* All differences are not significant. "
   ]
  },
  {
   "cell_type": "markdown",
   "metadata": {},
   "source": [
    "$\\Rightarrow$ We do not search in parallel  \n",
    "$\\Rightarrow$ Because the curves's steepness does not differ significantly for the appears/doesn't appear condition, we assume that we search exhaustively."
   ]
  },
  {
   "cell_type": "code",
   "execution_count": null,
   "metadata": {},
   "outputs": [],
   "source": []
  }
 ],
 "metadata": {
  "kernelspec": {
   "display_name": "Python 3",
   "language": "python",
   "name": "python3"
  },
  "language_info": {
   "codemirror_mode": {
    "name": "ipython",
    "version": 3
   },
   "file_extension": ".py",
   "mimetype": "text/x-python",
   "name": "python",
   "nbconvert_exporter": "python",
   "pygments_lexer": "ipython3",
   "version": "3.7.3"
  }
 },
 "nbformat": 4,
 "nbformat_minor": 2
}
