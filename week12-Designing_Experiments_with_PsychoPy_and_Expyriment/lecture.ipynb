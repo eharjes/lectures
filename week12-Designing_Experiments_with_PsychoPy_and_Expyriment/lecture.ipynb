{
 "cells": [
  {
   "cell_type": "markdown",
   "metadata": {},
   "source": [
    ".\n",
    "# Making experiments"
   ]
  },
  {
   "cell_type": "markdown",
   "metadata": {},
   "source": [
    "**Note on PsychoPy**\n",
    "\n",
    "* In previous iterations of this lecture, we didn't cover Psychopy (cause it suucked, had years-old and long unsupported dependencies, could not easily be installed (nor could its depencencies), didn't run on Linux nor in Virtualbox, didn't support Python 3, swarmed with bugs, was hugely platform-dependent, ...)\n",
    "* However, Psychopy is the most-used library for experiments (both at our University and globally)...\n",
    "* In terms of [timing](https://psyarxiv.com/d6nu5/), Psychopy seems to be far superior to Expyriment\n",
    "* In the last years, Psychopy started to not be awful anymore! \n",
    "    * They started active developement again (outdated intro-Video concerning PychoPy3: https://www.youtube.com/watch?v=bprYeBzkUc8&feature=emb_logo)\n",
    "    * Python 3 compatibility: https://github.com/psychopy/psychopy/releases?after=3.0.0b4\n",
    "    * Easy pip/conda-env install: https://www.psychopy.org/download.html#anaconda-and-miniconda\n",
    "* This time, we include PsychoPy\n",
    "    * Installation: Make sure to follow the instructions at https://www.psychopy.org/download.html#anaconda-and-miniconda (->install from conda-forge!)\n",
    "        * On Linux this *may* be needed as well: https://discourse.psychopy.org/t/installing-and-running-psychopy-on-ubuntu-18-04-with-conda-python-3-6/5792 (not neccessary for me anymore)\n",
    "    * Easy install to your `scientific_programming`-environment using `conda env update --name scientific_programming --file psychopy/psyenv.yml`\n",
    "    * Original `environment.yml` updated as well"
   ]
  },
  {
   "cell_type": "markdown",
   "metadata": {},
   "source": [
    "# The easy way\n",
    "\n",
    "Psychopy contains two interfaces: the **[Builder](https://www.psychopy.org/builder/index.html)** and the **[Coder](https://www.psychopy.org/coder/index.html)**.\n",
    "\n",
    "The Builder is made for non-coders. You create experiments with a drag'n'drop-interface, you run it from inside PsychoPy and then analyze your data in Excel...:\n",
    "\n",
    "![](figures/psychopy_builder.png)\n",
    "\n",
    "What you produce in the Builder-Interface produces Python-Code which could be tweaked afterwards:"
   ]
  },
  {
   "cell_type": "code",
   "execution_count": 8,
   "metadata": {
    "scrolled": true
   },
   "outputs": [
    {
     "name": "stdout",
     "output_type": "stream",
     "text": [
      "﻿#!/usr/bin/env python\n",
      "# -*- coding: utf-8 -*-\n",
      "\"\"\"\n",
      "This experiment was created using PsychoPy3 Experiment Builder (v2020.1.2),\n",
      "    on Wed 01 Jul 2020 02:54:40 PM CEST\n",
      "If you publish work using this script the most relevant publication is:\n",
      "\n",
      "    Peirce J, Gray JR, Simpson S, MacAskill M, Höchenberger R, Sogo H, Kastman E, Lindeløv JK. (2019) \n",
      "        PsychoPy2: Experiments in behavior made easy Behav Res 51: 195. \n",
      "        https://doi.org/10.3758/s13428-018-01193-y\n",
      "\n",
      "\"\"\"\n",
      "\n",
      "from __future__ import absolute_import, division\n",
      "\n",
      "from psychopy import locale_setup\n",
      "from psychopy import prefs\n",
      "from psychopy import sound, gui, visual, core, data, event, logging, clock\n",
      "from psychopy.constants import (NOT_STARTED, STARTED, PLAYING, PAUSED,\n",
      "                                STOPPED, FINISHED, PRESSED, RELEASED, FOREVER)\n",
      "\n",
      "import numpy as np  # whole numpy lib is available, prepend 'np.'\n",
      "from numpy import (sin, cos, tan, log, log10, pi, average,\n",
      "                   sqrt, std, deg2rad, rad2deg, linspace, asarray)\n",
      "from numpy.random import random, randint, normal, shuffle\n",
      "import os  # handy system and path functions\n",
      "import sys  # to get file system encoding\n",
      "\n",
      "from psychopy.hardware import keyboard\n",
      "\n",
      "\n",
      "\n",
      "# Ensure that relative paths start from the same directory as this script\n",
      "_thisDir = os.path.dirname(os.path.abspath(__file__))\n",
      "os.chdir(_thisDir)\n",
      "\n",
      "# Store info about the experiment session\n",
      "psychopyVersion = '2020.1.2'\n",
      "expName = 'stroop'  # from the Builder filename that created this script\n",
      "expInfo = {'participant': '', 'session': '001'}\n",
      "dlg = gui.DlgFromDict(dictionary=expInfo, sortKeys=False, title=expName)\n",
      "if dlg.OK == False:\n",
      "    core.quit()  # user pressed cancel\n",
      "expInfo['date'] = data.getDateStr()  # add a simple timestamp\n",
      "expInfo['expName'] = expName\n",
      "expInfo['psychopyVersion'] = psychopyVersion\n",
      "\n",
      "# Data file name stem = absolute path + name; later add .psyexp, .csv, .log, etc\n",
      "filename = _thisDir + os.sep + u'data/%s_%s_%s' % (expInfo['participant'], expName, expInfo['date'])\n",
      "\n",
      "# An ExperimentHandler isn't essential but helps with data saving\n",
      "thisExp = data.ExperimentHandler(name=expName, version='',\n",
      "    extraInfo=expInfo, runtimeInfo=None,\n",
      "    originPath='/home/chris/Documents/UNI/sem_14/scientific_programming/lectures/week12-Designing_Experiments_with_Expyriment/psychopy/stroop.py',\n",
      "    savePickle=True, saveWideText=True,\n",
      "    dataFileName=filename)\n",
      "# save a log file for detail verbose info\n",
      "logFile = logging.LogFile(filename+'.log', level=logging.EXP)\n",
      "logging.console.setLevel(logging.WARNING)  # this outputs to the screen, not a file\n",
      "\n",
      "endExpNow = False  # flag for 'escape' or other condition => quit the exp\n",
      "frameTolerance = 0.001  # how close to onset before 'same' frame\n",
      "\n",
      "# Start Code - component code to be run before the window creation\n",
      "\n",
      "# Setup the Window\n",
      "win = visual.Window(\n",
      "    size=(1024, 768), fullscr=True, screen=0, \n",
      "    winType='pyglet', allowGUI=False, allowStencil=False,\n",
      "    monitor='testMonitor', color=[0,0,0], colorSpace='rgb',\n",
      "    blendMode='avg', useFBO=True, \n",
      "    units='height')\n",
      "# store frame rate of monitor if we can measure it\n",
      "expInfo['frameRate'] = win.getActualFrameRate()\n",
      "if expInfo['frameRate'] != None:\n",
      "    frameDur = 1.0 / round(expInfo['frameRate'])\n",
      "else:\n",
      "    frameDur = 1.0 / 60.0  # could not measure, so guess\n",
      "\n",
      "# create a default keyboard (e.g. to check for escape)\n",
      "defaultKeyboard = keyboard.Keyboard()\n",
      "\n",
      "# Initialize components for Routine \"instructions\"\n",
      "instructionsClock = core.Clock()\n",
      "text = visual.TextStim(win=win, name='text',\n",
      "    text='Hello, welcome!\\nasdf',\n",
      "    font='Arial',\n",
      "    pos=(0, 0), height=0.1, wrapWidth=None, ori=0, \n",
      "    color='white', colorSpace='rgb', opacity=1, \n",
      "    languageStyle='LTR',\n",
      "    depth=0.0);\n",
      "key_res = keyboard.Keyboard()\n",
      "\n",
      "# Initialize components for Routine \"trial\"\n",
      "trialClock = core.Clock()\n",
      "target = visual.TextStim(win=win, name='target',\n",
      "    text='default text',\n",
      "    font='Arial',\n",
      "    pos=(0, 0), height=0.1, wrapWidth=None, ori=0, \n",
      "    color='white', colorSpace='rgb', opacity=1, \n",
      "    languageStyle='LTR',\n",
      "    depth=0.0);\n",
      "response = keyboard.Keyboard()\n",
      "\n",
      "# Create some handy timers\n",
      "globalClock = core.Clock()  # to track the time since experiment started\n",
      "routineTimer = core.CountdownTimer()  # to track time remaining of each (non-slip) routine \n",
      "\n",
      "# ------Prepare to start Routine \"instructions\"-------\n",
      "continueRoutine = True\n",
      "# update component parameters for each repeat\n",
      "key_res.keys = []\n",
      "key_res.rt = []\n",
      "_key_res_allKeys = []\n",
      "# keep track of which components have finished\n",
      "instructionsComponents = [text, key_res]\n",
      "for thisComponent in instructionsComponents:\n",
      "    thisComponent.tStart = None\n",
      "    thisComponent.tStop = None\n",
      "    thisComponent.tStartRefresh = None\n",
      "    thisComponent.tStopRefresh = None\n",
      "    if hasattr(thisComponent, 'status'):\n",
      "        thisComponent.status = NOT_STARTED\n",
      "# reset timers\n",
      "t = 0\n",
      "_timeToFirstFrame = win.getFutureFlipTime(clock=\"now\")\n",
      "instructionsClock.reset(-_timeToFirstFrame)  # t0 is time of first possible flip\n",
      "frameN = -1\n",
      "\n",
      "# -------Run Routine \"instructions\"-------\n",
      "while continueRoutine:\n",
      "    # get current time\n",
      "    t = instructionsClock.getTime()\n",
      "    tThisFlip = win.getFutureFlipTime(clock=instructionsClock)\n",
      "    tThisFlipGlobal = win.getFutureFlipTime(clock=None)\n",
      "    frameN = frameN + 1  # number of completed frames (so 0 is the first frame)\n",
      "    # update/draw components on each frame\n",
      "    \n",
      "    # *text* updates\n",
      "    if text.status == NOT_STARTED and tThisFlip >= 0.0-frameTolerance:\n",
      "        # keep track of start time/frame for later\n",
      "        text.frameNStart = frameN  # exact frame index\n",
      "        text.tStart = t  # local t and not account for scr refresh\n",
      "        text.tStartRefresh = tThisFlipGlobal  # on global time\n",
      "        win.timeOnFlip(text, 'tStartRefresh')  # time at next scr refresh\n",
      "        text.setAutoDraw(True)\n",
      "    if text.status == STARTED:\n",
      "        # is it time to stop? (based on global clock, using actual start)\n",
      "        if tThisFlipGlobal > text.tStartRefresh + 1.0-frameTolerance:\n",
      "            # keep track of stop time/frame for later\n",
      "            text.tStop = t  # not accounting for scr refresh\n",
      "            text.frameNStop = frameN  # exact frame index\n",
      "            win.timeOnFlip(text, 'tStopRefresh')  # time at next scr refresh\n",
      "            text.setAutoDraw(False)\n",
      "    \n",
      "    # *key_res* updates\n",
      "    waitOnFlip = False\n",
      "    if key_res.status == NOT_STARTED and tThisFlip >= 0.0-frameTolerance:\n",
      "        # keep track of start time/frame for later\n",
      "        key_res.frameNStart = frameN  # exact frame index\n",
      "        key_res.tStart = t  # local t and not account for scr refresh\n",
      "        key_res.tStartRefresh = tThisFlipGlobal  # on global time\n",
      "        win.timeOnFlip(key_res, 'tStartRefresh')  # time at next scr refresh\n",
      "        key_res.status = STARTED\n",
      "        # keyboard checking is just starting\n",
      "        waitOnFlip = True\n",
      "        win.callOnFlip(key_res.clock.reset)  # t=0 on next screen flip\n",
      "        win.callOnFlip(key_res.clearEvents, eventType='keyboard')  # clear events on next screen flip\n",
      "    if key_res.status == STARTED and not waitOnFlip:\n",
      "        theseKeys = key_res.getKeys(keyList=None, waitRelease=False)\n",
      "        _key_res_allKeys.extend(theseKeys)\n",
      "        if len(_key_res_allKeys):\n",
      "            key_res.keys = _key_res_allKeys[-1].name  # just the last key pressed\n",
      "            key_res.rt = _key_res_allKeys[-1].rt\n",
      "            # a response ends the routine\n",
      "            continueRoutine = False\n",
      "    \n",
      "    # check for quit (typically the Esc key)\n",
      "    if endExpNow or defaultKeyboard.getKeys(keyList=[\"escape\"]):\n",
      "        core.quit()\n",
      "    \n",
      "    # check if all components have finished\n",
      "    if not continueRoutine:  # a component has requested a forced-end of Routine\n",
      "        break\n",
      "    continueRoutine = False  # will revert to True if at least one component still running\n",
      "    for thisComponent in instructionsComponents:\n",
      "        if hasattr(thisComponent, \"status\") and thisComponent.status != FINISHED:\n",
      "            continueRoutine = True\n",
      "            break  # at least one component has not yet finished\n",
      "    \n",
      "    # refresh the screen\n",
      "    if continueRoutine:  # don't flip if this routine is over or we'll get a blank screen\n",
      "        win.flip()\n",
      "\n",
      "# -------Ending Routine \"instructions\"-------\n",
      "for thisComponent in instructionsComponents:\n",
      "    if hasattr(thisComponent, \"setAutoDraw\"):\n",
      "        thisComponent.setAutoDraw(False)\n",
      "thisExp.addData('text.started', text.tStartRefresh)\n",
      "thisExp.addData('text.stopped', text.tStopRefresh)\n",
      "# check responses\n",
      "if key_res.keys in ['', [], None]:  # No response was made\n",
      "    key_res.keys = None\n",
      "thisExp.addData('key_res.keys',key_res.keys)\n",
      "if key_res.keys != None:  # we had a response\n",
      "    thisExp.addData('key_res.rt', key_res.rt)\n",
      "thisExp.addData('key_res.started', key_res.tStartRefresh)\n",
      "thisExp.addData('key_res.stopped', key_res.tStopRefresh)\n",
      "thisExp.nextEntry()\n",
      "# the Routine \"instructions\" was not non-slip safe, so reset the non-slip timer\n",
      "routineTimer.reset()\n",
      "\n",
      "# set up handler to look after randomisation of conditions etc\n",
      "trials = data.TrialHandler(nReps=1, method='random', \n",
      "    extraInfo=expInfo, originPath=-1,\n",
      "    trialList=data.importConditions('stroop_conditions.csv'),\n",
      "    seed=None, name='trials')\n",
      "thisExp.addLoop(trials)  # add the loop to the experiment\n",
      "thisTrial = trials.trialList[0]  # so we can initialise stimuli with some values\n",
      "# abbreviate parameter names if possible (e.g. rgb = thisTrial.rgb)\n",
      "if thisTrial != None:\n",
      "    for paramName in thisTrial:\n",
      "        exec('{} = thisTrial[paramName]'.format(paramName))\n",
      "\n",
      "for thisTrial in trials:\n",
      "    currentLoop = trials\n",
      "    # abbreviate parameter names if possible (e.g. rgb = thisTrial.rgb)\n",
      "    if thisTrial != None:\n",
      "        for paramName in thisTrial:\n",
      "            exec('{} = thisTrial[paramName]'.format(paramName))\n",
      "    \n",
      "    # ------Prepare to start Routine \"trial\"-------\n",
      "    continueRoutine = True\n",
      "    # update component parameters for each repeat\n",
      "    target.setColor(color, colorSpace='rgb')\n",
      "    target.setText(word)\n",
      "    response.keys = []\n",
      "    response.rt = []\n",
      "    _response_allKeys = []\n",
      "    # keep track of which components have finished\n",
      "    trialComponents = [target, response]\n",
      "    for thisComponent in trialComponents:\n",
      "        thisComponent.tStart = None\n",
      "        thisComponent.tStop = None\n",
      "        thisComponent.tStartRefresh = None\n",
      "        thisComponent.tStopRefresh = None\n",
      "        if hasattr(thisComponent, 'status'):\n",
      "            thisComponent.status = NOT_STARTED\n",
      "    # reset timers\n",
      "    t = 0\n",
      "    _timeToFirstFrame = win.getFutureFlipTime(clock=\"now\")\n",
      "    trialClock.reset(-_timeToFirstFrame)  # t0 is time of first possible flip\n",
      "    frameN = -1\n",
      "    \n",
      "    # -------Run Routine \"trial\"-------\n",
      "    while continueRoutine:\n",
      "        # get current time\n",
      "        t = trialClock.getTime()\n",
      "        tThisFlip = win.getFutureFlipTime(clock=trialClock)\n",
      "        tThisFlipGlobal = win.getFutureFlipTime(clock=None)\n",
      "        frameN = frameN + 1  # number of completed frames (so 0 is the first frame)\n",
      "        # update/draw components on each frame\n",
      "        \n",
      "        # *target* updates\n",
      "        if target.status == NOT_STARTED and tThisFlip >= 0.5-frameTolerance:\n",
      "            # keep track of start time/frame for later\n",
      "            target.frameNStart = frameN  # exact frame index\n",
      "            target.tStart = t  # local t and not account for scr refresh\n",
      "            target.tStartRefresh = tThisFlipGlobal  # on global time\n",
      "            win.timeOnFlip(target, 'tStartRefresh')  # time at next scr refresh\n",
      "            target.setAutoDraw(True)\n",
      "        if target.status == STARTED:\n",
      "            # is it time to stop? (based on global clock, using actual start)\n",
      "            if tThisFlipGlobal > target.tStartRefresh + 5-frameTolerance:\n",
      "                # keep track of stop time/frame for later\n",
      "                target.tStop = t  # not accounting for scr refresh\n",
      "                target.frameNStop = frameN  # exact frame index\n",
      "                win.timeOnFlip(target, 'tStopRefresh')  # time at next scr refresh\n",
      "                target.setAutoDraw(False)\n",
      "        \n",
      "        # *response* updates\n",
      "        waitOnFlip = False\n",
      "        if response.status == NOT_STARTED and tThisFlip >= 0.5-frameTolerance:\n",
      "            # keep track of start time/frame for later\n",
      "            response.frameNStart = frameN  # exact frame index\n",
      "            response.tStart = t  # local t and not account for scr refresh\n",
      "            response.tStartRefresh = tThisFlipGlobal  # on global time\n",
      "            win.timeOnFlip(response, 'tStartRefresh')  # time at next scr refresh\n",
      "            response.status = STARTED\n",
      "            # keyboard checking is just starting\n",
      "            waitOnFlip = True\n",
      "            win.callOnFlip(response.clock.reset)  # t=0 on next screen flip\n",
      "            win.callOnFlip(response.clearEvents, eventType='keyboard')  # clear events on next screen flip\n",
      "        if response.status == STARTED and not waitOnFlip:\n",
      "            theseKeys = response.getKeys(keyList=['left', 'right', 'up', 'down'], waitRelease=False)\n",
      "            _response_allKeys.extend(theseKeys)\n",
      "            if len(_response_allKeys):\n",
      "                response.keys = _response_allKeys[-1].name  # just the last key pressed\n",
      "                response.rt = _response_allKeys[-1].rt\n",
      "                # was this correct?\n",
      "                if (response.keys == str(corrAns)) or (response.keys == corrAns):\n",
      "                    response.corr = 1\n",
      "                else:\n",
      "                    response.corr = 0\n",
      "                # a response ends the routine\n",
      "                continueRoutine = False\n",
      "        \n",
      "        # check for quit (typically the Esc key)\n",
      "        if endExpNow or defaultKeyboard.getKeys(keyList=[\"escape\"]):\n",
      "            core.quit()\n",
      "        \n",
      "        # check if all components have finished\n",
      "        if not continueRoutine:  # a component has requested a forced-end of Routine\n",
      "            break\n",
      "        continueRoutine = False  # will revert to True if at least one component still running\n",
      "        for thisComponent in trialComponents:\n",
      "            if hasattr(thisComponent, \"status\") and thisComponent.status != FINISHED:\n",
      "                continueRoutine = True\n",
      "                break  # at least one component has not yet finished\n",
      "        \n",
      "        # refresh the screen\n",
      "        if continueRoutine:  # don't flip if this routine is over or we'll get a blank screen\n",
      "            win.flip()\n",
      "    \n",
      "    # -------Ending Routine \"trial\"-------\n",
      "    for thisComponent in trialComponents:\n",
      "        if hasattr(thisComponent, \"setAutoDraw\"):\n",
      "            thisComponent.setAutoDraw(False)\n",
      "    trials.addData('target.started', target.tStartRefresh)\n",
      "    trials.addData('target.stopped', target.tStopRefresh)\n",
      "    # check responses\n",
      "    if response.keys in ['', [], None]:  # No response was made\n",
      "        response.keys = None\n",
      "        # was no response the correct answer?!\n",
      "        if str(corrAns).lower() == 'none':\n",
      "           response.corr = 1;  # correct non-response\n",
      "        else:\n",
      "           response.corr = 0;  # failed to respond (incorrectly)\n",
      "    # store data for trials (TrialHandler)\n",
      "    trials.addData('response.keys',response.keys)\n",
      "    trials.addData('response.corr', response.corr)\n",
      "    if response.keys != None:  # we had a response\n",
      "        trials.addData('response.rt', response.rt)\n",
      "    trials.addData('response.started', response.tStartRefresh)\n",
      "    trials.addData('response.stopped', response.tStopRefresh)\n",
      "    # the Routine \"trial\" was not non-slip safe, so reset the non-slip timer\n",
      "    routineTimer.reset()\n",
      "    thisExp.nextEntry()\n",
      "    \n",
      "# completed 1 repeats of 'trials'\n",
      "\n",
      "\n",
      "# Flip one final time so any remaining win.callOnFlip() \n",
      "# and win.timeOnFlip() tasks get executed before quitting\n",
      "win.flip()\n",
      "\n",
      "# these shouldn't be strictly necessary (should auto-save)\n",
      "thisExp.saveAsWideText(filename+'.csv')\n",
      "thisExp.saveAsPickle(filename)\n",
      "logging.flush()\n",
      "# make sure everything is closed down\n",
      "thisExp.abort()  # or data files will save again on exit\n",
      "win.close()\n",
      "core.quit()\n"
     ]
    }
   ],
   "source": [
    "with open('./psychopy/stroop/stroop.py', 'r') as file:\n",
    "    for line in file.readlines():\n",
    "        print(line, end='')"
   ]
  },
  {
   "cell_type": "code",
   "execution_count": 19,
   "metadata": {},
   "outputs": [
    {
     "name": "stdout",
     "output_type": "stream",
     "text": [
      "\n",
      "(psychopy:14879): Gtk-\u001b[1;33mWARNING\u001b[0m **: \u001b[34m13:13:39.712\u001b[0m: Unable to locate theme engine in module_path: \"adwaita\",\n",
      "\n",
      "(psychopy:14879): Gtk-\u001b[1;33mWARNING\u001b[0m **: \u001b[34m13:13:39.715\u001b[0m: Unable to locate theme engine in module_path: \"adwaita\",\n",
      "01:13:40 PM: Debug: Adding duplicate image handler for 'Windows bitmap file'\n",
      "01:13:40 PM: Debug: Adding duplicate image handler for 'Windows bitmap file'\n",
      "01:13:40 PM: Debug: Adding duplicate image handler for 'Windows bitmap file'\n",
      "\n",
      "** (psychopy:14879): \u001b[1;33mWARNING\u001b[0m **: \u001b[34m13:13:53.074\u001b[0m: Invalid borders specified for theme pixmap:\n",
      "        /usr/share/themes/Breeze/gtk-2.0/../assets/line-h.png,\n",
      "borders don't fit within the image\n"
     ]
    }
   ],
   "source": [
    "!psychopy"
   ]
  },
  {
   "cell_type": "markdown",
   "metadata": {},
   "source": [
    "Being avid coders, we will not look at the Builder-interface. We think that GUIs like this have a lack of flexibility & control, limiting the scope of experimental settings. \n",
    "\n",
    "If you want to see the coder in action, see this 15-minute-Intro: https://www.youtube.com/watch?v=VV6qhuQgsiI"
   ]
  },
  {
   "cell_type": "code",
   "execution_count": 1,
   "metadata": {},
   "outputs": [
    {
     "data": {
      "image/jpeg": "[encoded data removed]",
      "text/html": [
       "\n",
       "        <iframe\n",
       "            width=\"400\"\n",
       "            height=\"300\"\n",
       "            src=\"https://www.youtube.com/embed/VV6qhuQgsiI\"\n",
       "            frameborder=\"0\"\n",
       "            allowfullscreen\n",
       "        ></iframe>\n",
       "        "
      ],
      "text/plain": [
       "<IPython.lib.display.YouTubeVideo at 0x7fc094802080>"
      ]
     },
     "execution_count": 1,
     "metadata": {},
     "output_type": "execute_result"
    }
   ],
   "source": [
    "from IPython.display import YouTubeVideo\n",
    "\n",
    "YouTubeVideo(\"VV6qhuQgsiI\")"
   ]
  },
  {
   "cell_type": "code",
   "execution_count": null,
   "metadata": {},
   "outputs": [],
   "source": []
  },
  {
   "cell_type": "markdown",
   "metadata": {},
   "source": [
    "# The coder-way\n",
    "\n",
    "### Let's think about what we need to make our own experiment:\n",
    "\n",
    "* Graphical User Interface\n",
    "* Stimuli (Visual, auditory, ...)\n",
    "* User Input\n",
    "\n",
    "\n",
    "* Experiment Flow/Design\n",
    "* Data logging\n",
    "* (Serial) Port communication (for eg. EEG-markers)\n",
    "\n",
    "\n",
    "We'll focus on the first three in the first part and afterwards on the latter ones:"
   ]
  },
  {
   "cell_type": "markdown",
   "metadata": {},
   "source": [
    "## Graphical User Interfaces\n",
    "\n",
    "There are quite a few libraries for experiments out there, and they all need some kind of Backend to present visual and auditory stimuly. Many of of them rely on **pyGame** for their visual stimuli, providing more functionality ontop of it (Expyriment does so, and Psychopy does so by default, even though it's [deprecated](https://www.psychopy.org/api/visual/window.html)). But even for those which don't, the principle of how to put stuff on a screen is equal most of the time anyways. \n",
    "(even though modern GUI-libraries generally make use of the Webbrowser (see eg https://towardsdatascience.com/building-a-simple-ui-for-python-fd0e5f2a2d8b), for experiments we need full control & timing we cannot achive in browsers.\n",
    "\n",
    "Let's look into pygame to understand what's going on there:"
   ]
  },
  {
   "cell_type": "code",
   "execution_count": 1,
   "metadata": {},
   "outputs": [
    {
     "name": "stdout",
     "output_type": "stream",
     "text": [
      "pygame 1.9.6\n",
      "Hello from the pygame community. https://www.pygame.org/contribute.html\n"
     ]
    }
   ],
   "source": [
    "import pygame\n",
    "import time"
   ]
  },
  {
   "cell_type": "code",
   "execution_count": 24,
   "metadata": {},
   "outputs": [],
   "source": [
    "pygame.init()\n",
    "\n",
    "pygame.display.set_caption(\"minimal program\")\n",
    "\n",
    "# create a surface on screen that has the size of 240 x 180\n",
    "screen = pygame.display.set_mode((240,180))\n",
    "\n",
    "time.sleep(3)\n",
    "\n",
    "pygame.quit() #only necessary if you run it in Jupyter"
   ]
  },
  {
   "cell_type": "markdown",
   "metadata": {},
   "source": [
    "Pygame must at first be **initialized**, before we initialize some settings for the display. Among these the *display mode* is important -- it decides the size of the actual window pygame will open in."
   ]
  },
  {
   "cell_type": "code",
   "execution_count": 1,
   "metadata": {},
   "outputs": [
    {
     "ename": "AssertionError",
     "evalue": "",
     "output_type": "error",
     "traceback": [
      "\u001b[0;31m---------------------------------------------------------------------------\u001b[0m",
      "\u001b[0;31mAssertionError\u001b[0m                            Traceback (most recent call last)",
      "\u001b[0;32m<ipython-input-1-5c930709a2c6>\u001b[0m in \u001b[0;36m<module>\u001b[0;34m\u001b[0m\n\u001b[1;32m      1\u001b[0m \u001b[0;31m#DO NOT RUN THIS CELL - When I do, I have to manually kill my machine!\u001b[0m\u001b[0;34m\u001b[0m\u001b[0;34m\u001b[0m\u001b[0;34m\u001b[0m\u001b[0m\n\u001b[0;32m----> 2\u001b[0;31m \u001b[0;32massert\u001b[0m \u001b[0;32mFalse\u001b[0m\u001b[0;34m\u001b[0m\u001b[0;34m\u001b[0m\u001b[0m\n\u001b[0m\u001b[1;32m      3\u001b[0m \u001b[0;34m\u001b[0m\u001b[0m\n\u001b[1;32m      4\u001b[0m \u001b[0;31m# Creates a surface on screen that has the size of 240 x 180\u001b[0m\u001b[0;34m\u001b[0m\u001b[0;34m\u001b[0m\u001b[0;34m\u001b[0m\u001b[0m\n\u001b[1;32m      5\u001b[0m \u001b[0mscreen\u001b[0m \u001b[0;34m=\u001b[0m \u001b[0mpygame\u001b[0m\u001b[0;34m.\u001b[0m\u001b[0mdisplay\u001b[0m\u001b[0;34m.\u001b[0m\u001b[0mset_mode\u001b[0m\u001b[0;34m(\u001b[0m\u001b[0;34m(\u001b[0m\u001b[0;36m240\u001b[0m\u001b[0;34m,\u001b[0m\u001b[0;36m180\u001b[0m\u001b[0;34m)\u001b[0m\u001b[0;34m)\u001b[0m\u001b[0;34m\u001b[0m\u001b[0;34m\u001b[0m\u001b[0m\n",
      "\u001b[0;31mAssertionError\u001b[0m: "
     ]
    }
   ],
   "source": [
    "#DO NOT RUN THIS CELL - When I do, I have to manually kill my machine!\n",
    "assert False\n",
    "\n",
    "# Creates a surface on screen that has the size of 240 x 180\n",
    "screen = pygame.display.set_mode((240,180))\n",
    "\n",
    "# Stretches this screen such that it's presented in full-screen mode.\n",
    "pygame.display.toggle_fullscreen()\n",
    "\n",
    "# Creates a true full-screen Window\n",
    "modes = pygame.display.list_modes(0, pygame.FULLSCREEN)\n",
    "screen=pygame.display.set_mode(modes[0], pygame.FULLSCREEN)"
   ]
  },
  {
   "cell_type": "markdown",
   "metadata": {},
   "source": [
    "**Note that stretching a non-fullscreen-resolution-window to fullscreen may lead to side-effects, especially when using multiple displays!** - the reason I only have one screen right now: https://docs.expyriment.org/Problems.html#no-support-for-multiple-monitors"
   ]
  },
  {
   "cell_type": "code",
   "execution_count": 25,
   "metadata": {},
   "outputs": [
    {
     "data": {
      "text/plain": [
       "(1920, 1080)"
      ]
     },
     "execution_count": 25,
     "metadata": {},
     "output_type": "execute_result"
    }
   ],
   "source": [
    "pygame.init()\n",
    "pygame.display.list_modes(0, pygame.FULLSCREEN)[0]"
   ]
  },
  {
   "cell_type": "markdown",
   "metadata": {},
   "source": [
    "## The main loop\n",
    "\n",
    "Note that GUIs must generally perform *active waiting*, which means they must stay constantly running loop to stay active and to not close. Letting a GUI *sleep* will make it stop responding - so if you have other stuff you want to run while the GUI is active, you have to make separate **Threads** (see next week), with the caviat that in basically all Python-GUI-libraris, the UI must additionally generally be in the main *Thread*. To communicate with it, you would use [queues](https://www.google.com/?q=python+gui+communication+queue), which we cannot cover this week.\n",
    "\n",
    "This busy waiting however leads to the general structure of any game (or, for that matter, experiment): The main **game loop**"
   ]
  },
  {
   "cell_type": "code",
   "execution_count": 29,
   "metadata": {},
   "outputs": [
    {
     "ename": "FileNotFoundError",
     "evalue": "[Errno 2] No such file or directory: './pygame'",
     "output_type": "error",
     "traceback": [
      "\u001b[0;31m---------------------------------------------------------------------------\u001b[0m",
      "\u001b[0;31mFileNotFoundError\u001b[0m                         Traceback (most recent call last)",
      "\u001b[0;32m<ipython-input-29-d4cdabf05b07>\u001b[0m in \u001b[0;36m<module>\u001b[0;34m\u001b[0m\n\u001b[1;32m      1\u001b[0m \u001b[0;32mimport\u001b[0m \u001b[0mos\u001b[0m\u001b[0;34m\u001b[0m\u001b[0;34m\u001b[0m\u001b[0m\n\u001b[0;32m----> 2\u001b[0;31m \u001b[0mos\u001b[0m\u001b[0;34m.\u001b[0m\u001b[0mchdir\u001b[0m\u001b[0;34m(\u001b[0m\u001b[0;34m'./pygame'\u001b[0m\u001b[0;34m)\u001b[0m\u001b[0;34m\u001b[0m\u001b[0;34m\u001b[0m\u001b[0m\n\u001b[0m",
      "\u001b[0;31mFileNotFoundError\u001b[0m: [Errno 2] No such file or directory: './pygame'"
     ]
    }
   ],
   "source": [
    "import os\n",
    "os.chdir('./pygame')"
   ]
  },
  {
   "cell_type": "code",
   "execution_count": 4,
   "metadata": {},
   "outputs": [],
   "source": [
    "# %load pygame_1.py\n",
    "import pygame\n",
    "\n",
    "def main():\n",
    "\n",
    "    pygame.init()\n",
    "\n",
    "    # load and set the logo\n",
    "    logo = pygame.image.load(\"logo32x32.jpg\")\n",
    "    pygame.display.set_icon(logo)\n",
    "    pygame.display.set_caption(\"minimal program\")\n",
    "\n",
    "    # create a surface on screen that has the size of 240 x 180\n",
    "    screen = pygame.display.set_mode((240,180))\n",
    "\n",
    "    # define a variable to control the main loop\n",
    "    running = True\n",
    "\n",
    "    while running:\n",
    "        # event handling, gets all event from the eventqueue\n",
    "        for event in pygame.event.get():\n",
    "            # only do something if the event is of type QUIT (meaning you click the [x] or press ALT-F4)\n",
    "            if event.type == pygame.QUIT:\n",
    "                # change the value to False, to exit the main loop\n",
    "                running = False\n",
    "                pygame.quit() #only necessary if you run it in Jupyter\n",
    "\n",
    "\n",
    "if __name__==\"__main__\":\n",
    "    main()\n"
   ]
  },
  {
   "cell_type": "code",
   "execution_count": 28,
   "metadata": {},
   "outputs": [
    {
     "name": "stdout",
     "output_type": "stream",
     "text": [
      "ALSA lib pcm_dmix.c:1090:(snd_pcm_dmix_open) unable to open slave\n"
     ]
    }
   ],
   "source": [
    "!python pygame_1.py"
   ]
  },
  {
   "cell_type": "code",
   "execution_count": 29,
   "metadata": {},
   "outputs": [],
   "source": [
    "# %load pygame_1_fullscreen.py\n",
    "import pygame\n",
    "\n",
    "def main():\n",
    "\n",
    "    pygame.init()\n",
    "\n",
    "    # load and set the logo\n",
    "    logo = pygame.image.load(\"logo32x32.jpg\")\n",
    "    pygame.display.set_icon(logo)\n",
    "    pygame.display.set_caption(\"minimal program\")\n",
    "\n",
    "    # create a surface on screen that has the size of 240 x 180\n",
    "    modes = pygame.display.list_modes(0, pygame.FULLSCREEN)\n",
    "    screen=pygame.display.set_mode(modes[0], pygame.FULLSCREEN)\n",
    "    \n",
    "    \n",
    "    # define a variable to control the main loop\n",
    "    running = True\n",
    "\n",
    "    while running:\n",
    "        # event handling, gets all event from the eventqueue\n",
    "        for event in pygame.event.get():\n",
    "            \n",
    "            if (event.type is pygame.KEYDOWN and event.key == pygame.K_f):\n",
    "                if screen.get_flags() & pygame.FULLSCREEN:\n",
    "                    pygame.display.set_mode(modes[0])\n",
    "                else:\n",
    "                    pygame.display.set_mode(modes[0], pygame.FULLSCREEN)\n",
    "        \n",
    "            # only do something if the event is of type QUIT (meaning you click the [x] or press ALT-F4)\n",
    "            if event.type == pygame.QUIT or (event.type is pygame.KEYDOWN and event.key == pygame.K_ESCAPE):\n",
    "                # change the value to False, to exit the main loop\n",
    "                running = False\n",
    "                pygame.quit() #only necessary if you run it in Jupyter\n",
    "\n",
    "\n",
    "if __name__==\"__main__\":\n",
    "    main()\n"
   ]
  },
  {
   "cell_type": "code",
   "execution_count": 27,
   "metadata": {},
   "outputs": [
    {
     "name": "stdout",
     "output_type": "stream",
     "text": [
      "pygame 1.9.6\n",
      "Hello from the pygame community. https://www.pygame.org/contribute.html\n"
     ]
    }
   ],
   "source": [
    "!python pygame_1_fullscreen.py"
   ]
  },
  {
   "cell_type": "markdown",
   "metadata": {},
   "source": [
    "## Stimuli\n",
    "\n",
    "We cannot have an experiment without anything to show to the user. Let's look at how to present simple stimuli using pygame.   \n",
    "\n",
    "Anything visual must first be created as it's own *surface*, before the function *blit()* is used to copy the contents from this surface to another surface. \n",
    "\n",
    "However, doing so only draws on the back buffer where all objects are drawn before they are shown. To actually update the screen from this back buffer, we need to *flip()* the display, which will swap front and back buffer, such that we see what we drew so far, and continue drawing in the background."
   ]
  },
  {
   "cell_type": "markdown",
   "metadata": {},
   "source": [
    "### Images"
   ]
  },
  {
   "cell_type": "code",
   "execution_count": 28,
   "metadata": {},
   "outputs": [],
   "source": [
    "# %load pygame_2.py\n",
    "import pygame\n",
    "import time\n",
    "\n",
    "def main():\n",
    "\n",
    "    pygame.init()\n",
    "\n",
    "    # load and set the logo\n",
    "    logo = pygame.image.load(\"logo32x32.jpg\")\n",
    "    pygame.display.set_icon(logo)\n",
    "    pygame.display.set_caption(\"minimal program\")\n",
    "\n",
    "    # create a surface on screen that has the size of 240 x 180\n",
    "    screen = pygame.display.set_mode((240,180))\n",
    "\n",
    "    image = pygame.image.load(\"image.jpg\")\n",
    "    screen.blit(image, dest=(50,50))\n",
    "    pygame.display.flip()\n",
    "    \n",
    "    time.sleep(5)\n",
    "    pygame.quit() \n",
    "\n",
    "\n",
    "if __name__ == \"__main__\":\n",
    "    main()"
   ]
  },
  {
   "cell_type": "code",
   "execution_count": 30,
   "metadata": {},
   "outputs": [
    {
     "name": "stdout",
     "output_type": "stream",
     "text": [
      "ALSA lib pcm_dmix.c:1090:(snd_pcm_dmix_open) unable to open slave\n"
     ]
    }
   ],
   "source": [
    "!python pygame_2.py"
   ]
  },
  {
   "cell_type": "markdown",
   "metadata": {},
   "source": [
    "### Text\n",
    "\n",
    "Note that pygame accepts only absolute coordinates on the display. To set a text precisely where you want to have it, you may need to play around with the coordinates or go for relative coordinates yourself."
   ]
  },
  {
   "cell_type": "code",
   "execution_count": 34,
   "metadata": {},
   "outputs": [],
   "source": [
    "# %load pygame_3.py\n",
    "import pygame\n",
    "import time\n",
    "\n",
    "\n",
    "BGCOLOR = (0, 0, 0)\n",
    "SCREENSIZE = (800, 600)\n",
    "FONTSIZE = SCREENSIZE[0]//20\n",
    "FONTCOLOR = (255, 255, 255)\n",
    "\n",
    "CENTER = 0\n",
    "NEWLINECENTER = 1\n",
    "BOTTOM = 3\n",
    "TOP = 6\n",
    "\n",
    "\n",
    "def get_position(screen, text_surface, where):\n",
    "    text_width = text_surface.get_width()\n",
    "    text_height = text_surface.get_height()\n",
    "    width = screen.get_width()\n",
    "    height = screen.get_height()\n",
    "    if where == CENTER:\n",
    "        return width/2-text_width/2, height/2-text_height/2\n",
    "    elif where == NEWLINECENTER:\n",
    "        return width/2-text_width/2, 5.0/8*height\n",
    "    elif where == BOTTOM:\n",
    "        return width/2-text_width/2, height-1.5*text_height\n",
    "    elif where == TOP:\n",
    "        return width/2-text_width/2, 1.0/10*height\n",
    "\n",
    "\n",
    "def main():\n",
    "    pygame.init()\n",
    "    screen=pygame.display.set_mode(SCREENSIZE)\n",
    "\n",
    "    screen.fill(BGCOLOR) #erase texts before\n",
    "    font = pygame.font.Font(None, FONTSIZE)\n",
    "    text_surface = font.render(\"Hello, World!\", True, FONTCOLOR, BGCOLOR) #text, antialias, color, background\n",
    "    posx, posy = get_position(screen, text_surface, TOP)\n",
    "    screen.blit(text_surface, dest=(posx, posy))\n",
    "    pygame.display.flip()\n",
    "\n",
    "    time.sleep(5)\n",
    "    pygame.quit()\n",
    "\n",
    "\n",
    "if __name__ == \"__main__\":\n",
    "    main()"
   ]
  },
  {
   "cell_type": "code",
   "execution_count": 31,
   "metadata": {},
   "outputs": [
    {
     "name": "stdout",
     "output_type": "stream",
     "text": [
      "ALSA lib pcm_dmix.c:1090:(snd_pcm_dmix_open) unable to open slave\n"
     ]
    }
   ],
   "source": [
    "!python pygame_3.py"
   ]
  },
  {
   "cell_type": "markdown",
   "metadata": {},
   "source": [
    "### Moving stimuli"
   ]
  },
  {
   "cell_type": "code",
   "execution_count": 32,
   "metadata": {},
   "outputs": [],
   "source": [
    "# %load pygame_4.py\n",
    "import pygame\n",
    "import time\n",
    "\n",
    "killevent = lambda event: event.type == pygame.QUIT or (event.type is pygame.KEYDOWN and event.key == pygame.K_ESCAPE)\n",
    "\n",
    "def main():\n",
    "\n",
    "    pygame.init()\n",
    "\n",
    "    # create a surface on screen that has the size of 240 x 180\n",
    "    screen = pygame.display.set_mode((800, 600))\n",
    "\n",
    "    image = pygame.image.load(\"smiley.jpg\")\n",
    "    image.set_colorkey((255,255,255)) #this color is now transparent\n",
    "\n",
    "    xpos = 50\n",
    "    ypos = 50\n",
    "    step_x = 10\n",
    "    step_y = 10\n",
    "\n",
    "\n",
    "    while True:\n",
    "        if xpos > screen.get_width()-image.get_width() or xpos <= 0: step_x *= -1\n",
    "        if ypos > screen.get_height()-image.get_height() or ypos <= 0: step_y *= -1\n",
    "        xpos += step_x \n",
    "        ypos += step_y\n",
    "        screen.fill((0,0,0))\n",
    "        screen.blit(image, (xpos, ypos))\n",
    "        pygame.display.flip()\n",
    "        time.sleep(0.01)\n",
    "        if any(killevent(event) for event in pygame.event.get()):\n",
    "            break\n",
    "            \n",
    "    pygame.quit()\n",
    "\n",
    "\n",
    "if __name__ == \"__main__\":\n",
    "    main()\n"
   ]
  },
  {
   "cell_type": "code",
   "execution_count": 38,
   "metadata": {},
   "outputs": [
    {
     "name": "stdout",
     "output_type": "stream",
     "text": [
      "pygame 1.9.6\n",
      "Hello from the pygame community. https://www.pygame.org/contribute.html\n"
     ]
    }
   ],
   "source": [
    "!python pygame_4.py"
   ]
  },
  {
   "cell_type": "markdown",
   "metadata": {},
   "source": [
    "In fact, if you wanted high performance, you'd work with so-called *dirty rectangles*, allowing you to only update part of the screen instead of flipping the entire screen (see eg. https://dr0id.bitbucket.io/legacy/pygame_tutorial01.html)"
   ]
  },
  {
   "cell_type": "markdown",
   "metadata": {},
   "source": [
    "### Sounds"
   ]
  },
  {
   "cell_type": "code",
   "execution_count": 30,
   "metadata": {},
   "outputs": [
    {
     "data": {
      "text/plain": [
       "<Channel at 0x7f98b41c6d80>"
      ]
     },
     "execution_count": 30,
     "metadata": {},
     "output_type": "execute_result"
    }
   ],
   "source": [
    "import pygame \n",
    "\n",
    "pygame.mixer.pre_init(44100, 16, 2, 4096) #frequency, size, channels, buffersize\n",
    "pygame.init()\n",
    "effect = pygame.mixer.Sound('beep.wav')\n",
    "effect.play()"
   ]
  },
  {
   "cell_type": "markdown",
   "metadata": {},
   "source": [
    "## User Input"
   ]
  },
  {
   "cell_type": "markdown",
   "metadata": {},
   "source": [
    "User Input is also an *event*, just like pressing the [x] at the top-right corner. More precisely, a keypress is an event of type pygame.KEYDOWN. That means, if we encounter an event of such a type, we can check for which key it is.  \n",
    "For a list of all pyGame-keys, have a look at https://www.pygame.org/docs/ref/key.html."
   ]
  },
  {
   "cell_type": "code",
   "execution_count": 44,
   "metadata": {},
   "outputs": [],
   "source": [
    "def wait_any_key():\n",
    "    while True:\n",
    "        for event in pygame.event.get():\n",
    "            if event.type == pygame.KEYDOWN:\n",
    "                if event.key == pygame.K_ESCAPE:\n",
    "                    return False\n",
    "                else:\n",
    "                    return event.key  #returns key numbers\n",
    "            elif event.type == pygame.QUIT:\n",
    "                return False\n",
    "\n",
    "\n",
    "def wait_key(which):\n",
    "    while True:\n",
    "        for event in pygame.event.get():\n",
    "            if event.type == pygame.KEYDOWN:\n",
    "                if event.key == pygame.K_ESCAPE:\n",
    "                    return False\n",
    "                elif event.key == which:\n",
    "                    return True\n",
    "            elif event.type == pygame.QUIT:\n",
    "                return False"
   ]
  },
  {
   "cell_type": "markdown",
   "metadata": {},
   "source": [
    "As the ```wait_any_key()``` and ```wait_key()```-functions are what's left from the *game loop* of the previous examples, namely the parts where the process is *actively waiting*, they are responsible for allowing the user to quit. If [ESC] or [x] is pressed, these functions return ```false```, signalling the caller that the process should be terminated."
   ]
  },
  {
   "cell_type": "markdown",
   "metadata": {},
   "source": [
    "## Putting it together\n",
    "\n",
    "Let's use what we know so far to make a sample 'Experiment': The subject is supposed to press [left] for even numbers, and [right] for odd numbers. As we only looked at the GUI so far, we don't measure response times or save the results somehow, but simply play a sound when the subject was wrong."
   ]
  },
  {
   "cell_type": "code",
   "execution_count": 51,
   "metadata": {
    "scrolled": true
   },
   "outputs": [
    {
     "name": "stdout",
     "output_type": "stream",
     "text": [
      "import pygame\n",
      "import time\n",
      "import random\n",
      "\n",
      "\n",
      "BGCOLOR = (0, 0, 0)\n",
      "SCREENSIZE = (800, 600)\n",
      "FONTSIZE = SCREENSIZE[0]//20\n",
      "FONTCOLOR = (255, 255, 255)\n",
      "\n",
      "CENTER = 0\n",
      "NEWLINECENTER = 1\n",
      "BOTTOM = 3\n",
      "TOP = 6\n",
      "\n",
      "\n",
      "def get_position(screen, text_surface, where):\n",
      "    text_width = text_surface.get_width()\n",
      "    text_height = text_surface.get_height()\n",
      "    width = screen.get_width()\n",
      "    height = screen.get_height()\n",
      "    if where == CENTER:\n",
      "        return width/2-text_width/2, height/2-text_height/2\n",
      "    elif where == NEWLINECENTER:\n",
      "        return width/2-text_width/2, 5.0/8*height\n",
      "    elif where == BOTTOM:\n",
      "        return width/2-text_width/2, height-1.5*text_height\n",
      "    elif where == TOP:\n",
      "        return width/2-text_width/2, 1.0/10*height\n",
      "\n",
      "\n",
      "def wait_any_key():\n",
      "    while True:\n",
      "        for event in pygame.event.get():\n",
      "            if event.type == pygame.KEYDOWN:\n",
      "                if event.key == pygame.K_ESCAPE:\n",
      "                    return False\n",
      "                else:\n",
      "                    return event.key  #returns key numbers\n",
      "            elif event.type == pygame.QUIT:\n",
      "                return False\n",
      "\n",
      "\n",
      "def wait_key(which):\n",
      "    while True:\n",
      "        for event in pygame.event.get():\n",
      "            if event.type == pygame.KEYDOWN:\n",
      "                if event.key == pygame.K_ESCAPE:\n",
      "                    return False\n",
      "                elif event.key == which:\n",
      "                    return True\n",
      "            elif event.type == pygame.QUIT:\n",
      "                return False\n",
      "\n",
      "\n",
      "def main():\n",
      "    pygame.mixer.pre_init(44100, 16, 2, 4096) #frequency, size, channels, buffersize\n",
      "    pygame.init()\n",
      "    screen=pygame.display.set_mode(SCREENSIZE)\n",
      "    pressed_keys = []\n",
      "\n",
      "    screen.fill(BGCOLOR)\n",
      "    font = pygame.font.Font(None, FONTSIZE)\n",
      "    smallfont = pygame.font.Font(None, FONTSIZE*3//4)\n",
      "\n",
      "    intro_text = font.render(\"Press <left> for even numbers, and <right> else!\", True, FONTCOLOR, BGCOLOR)\n",
      "    posx, posy = get_position(screen, intro_text, CENTER)\n",
      "    screen.blit(intro_text, (posx, posy))\n",
      "    other_text = smallfont.render(\"Space to continue\", True, FONTCOLOR, BGCOLOR)\n",
      "    posx, posy = get_position(screen, other_text, NEWLINECENTER)\n",
      "    screen.blit(other_text, (posx, posy))\n",
      "    pygame.display.flip()\n",
      "\n",
      "    if not wait_key(pygame.K_SPACE):\n",
      "        return\n",
      "\n",
      "    effect = pygame.mixer.Sound('beep.wav')\n",
      "    num = None\n",
      "    for i in range(4):\n",
      "        pre_num = num\n",
      "        while pre_num == num:\n",
      "            num = random.randint(1, 9)\n",
      "        screen.fill(BGCOLOR)\n",
      "        number = font.render(str(num), True, FONTCOLOR, BGCOLOR)\n",
      "        posx, posy = get_position(screen, number, CENTER)\n",
      "        screen.blit(number, (posx, posy))\n",
      "        pygame.display.flip()\n",
      "        key = wait_any_key()\n",
      "        pressed_keys.append(key)\n",
      "        if not key:\n",
      "            return\n",
      "        elif (key == pygame.K_LEFT and num % 2 != 0) or (key == pygame.K_RIGHT and num % 2 == 0):\n",
      "            effect.play()\n",
      "\n",
      "    screen.fill(BGCOLOR)\n",
      "    finaltext = font.render(\"Thank you for attending!\", True, FONTCOLOR, BGCOLOR)\n",
      "    posx, posy = get_position(screen, finaltext, CENTER)\n",
      "    screen.blit(finaltext, (posx, posy))\n",
      "    pygame.display.flip()\n",
      "    wait_any_key()       \n",
      "    print('Pressed keys:', pressed_keys)\n",
      "    pygame.quit()\n",
      "\n",
      "\n",
      "\n",
      "if __name__ == \"__main__\":\n",
      "    main()\n"
     ]
    }
   ],
   "source": [
    "with open('./pygame_5.py', 'r') as file:\n",
    "    for line in file.readlines():\n",
    "        print(line, end='')"
   ]
  },
  {
   "cell_type": "code",
   "execution_count": 4,
   "metadata": {},
   "outputs": [
    {
     "name": "stdout",
     "output_type": "stream",
     "text": [
      "pygame 1.9.6\n",
      "Hello from the pygame community. https://www.pygame.org/contribute.html\n",
      "ALSA lib pcm_dmix.c:1090:(snd_pcm_dmix_open) unable to open slave\n",
      "Traceback (most recent call last):\n",
      "  File \"pygame_5.py\", line 107, in <module>\n",
      "    main()\n",
      "  File \"pygame_5.py\", line 77, in main\n",
      "    effect = pygame.mixer.Sound('beep.wav')\n",
      "pygame.error: mixer not initialized\n"
     ]
    }
   ],
   "source": [
    "!python pygame_5.py"
   ]
  },
  {
   "cell_type": "raw",
   "metadata": {},
   "source": [
    "\n",
    "\n",
    "\n",
    "\n",
    "\n",
    "\n",
    "\n"
   ]
  },
  {
   "cell_type": "markdown",
   "metadata": {},
   "source": [
    "# PsychoPy\n",
    "\n",
    "After this intro to GUIs, let's look at how Psychopy does the same things.\n",
    "\n",
    "PsychoPy is an all-in-one solution, and as such it is responsible for\n",
    "* Stimulus presentation\n",
    "* Recording of input/output events\n",
    "* Communication with other devices\n",
    "* Collection and preprocessing of data\n",
    "* Experiment design\n",
    "\n",
    "For now, we'll only look at the GUI-Elements and, of course, we'll ignore the Builder-interface."
   ]
  },
  {
   "cell_type": "markdown",
   "metadata": {},
   "source": [
    "Note that Psychopy comes with it's own IDE, which has further settings for example for the screen, contains an experiment runner, syncing for online-experiments etc:"
   ]
  },
  {
   "cell_type": "code",
   "execution_count": 11,
   "metadata": {},
   "outputs": [
    {
     "name": "stdout",
     "output_type": "stream",
     "text": [
      "\n",
      "(psychopy:10715): Gtk-\u001b[1;33mWARNING\u001b[0m **: \u001b[34m14:01:53.259\u001b[0m: Unable to locate theme engine in module_path: \"adwaita\",\n",
      "\n",
      "(psychopy:10715): Gtk-\u001b[1;33mWARNING\u001b[0m **: \u001b[34m14:01:53.262\u001b[0m: Unable to locate theme engine in module_path: \"adwaita\",\n",
      "02:01:53 PM: Debug: Adding duplicate image handler for 'Windows bitmap file'\n",
      "02:01:53 PM: Debug: Adding duplicate image handler for 'Windows bitmap file'\n",
      "02:01:53 PM: Debug: Adding duplicate image handler for 'Windows bitmap file'\n"
     ]
    }
   ],
   "source": [
    "!psychopy"
   ]
  },
  {
   "cell_type": "markdown",
   "metadata": {},
   "source": [
    "We will, however, look at it in our favourite IDE, Jupyter Lab"
   ]
  },
  {
   "cell_type": "code",
   "execution_count": 6,
   "metadata": {},
   "outputs": [],
   "source": [
    "import os\n",
    "os.chdir('../psychopy')"
   ]
  },
  {
   "cell_type": "markdown",
   "metadata": {},
   "source": [
    "## Stimuli"
   ]
  },
  {
   "cell_type": "markdown",
   "metadata": {},
   "source": [
    "We’ll start out by adding a fixation point in the middle of the screen"
   ]
  },
  {
   "cell_type": "code",
   "execution_count": null,
   "metadata": {},
   "outputs": [],
   "source": [
    "#Do not start any Psychopy code from inside Jupyter, you won't be able to close the appearing windows otherwise!"
   ]
  },
  {
   "cell_type": "code",
   "execution_count": null,
   "metadata": {},
   "outputs": [],
   "source": [
    "# %load psychopy_1.py\n",
    "assert '__file__' in locals() #to make sure to not run this inside Jupyter\n",
    "\n",
    "from time import sleep\n",
    "from psychopy import visual\n",
    "# create window of size 800x600px on a monitor object we'll call testMonitor and with yellow color\n",
    "mywin = visual.Window(size=[800,600], monitor=\"testMonitor\", units=\"norm\", color=[255,255,0])\n",
    "\n",
    "# the scaling unit for object sizes and locations is normalized between -1 and 1\n",
    "# create grating simulus on our window, size 0.015, center position, spatial frequency 0\n",
    "# (grating stimulus is otherwise striped), pitch black (-1) color\n",
    "fixation = visual.GratingStim(win=mywin, size=0.015, pos=[0,0], sf=0, color=-1)\n",
    "grating = visual.GratingStim(win=mywin, mask=\"circle\", size=0.2, pos=[-0.8,0], sf=3)\n",
    "\n",
    "sleep(5)"
   ]
  },
  {
   "cell_type": "code",
   "execution_count": 14,
   "metadata": {},
   "outputs": [
    {
     "name": "stdout",
     "output_type": "stream",
     "text": [
      "pygame 1.9.6\n",
      "Hello from the pygame community. https://www.pygame.org/contribute.html\n"
     ]
    }
   ],
   "source": [
    "!python psychopy_1.py"
   ]
  },
  {
   "cell_type": "markdown",
   "metadata": {},
   "source": [
    "As Psychopy bases on pyGame (or other GUI-libraries, as it's backend can be changed!), the concept of front- and back-buffer exists as well, which is why we didn't see anything before:"
   ]
  },
  {
   "cell_type": "code",
   "execution_count": 66,
   "metadata": {},
   "outputs": [],
   "source": [
    "# %load psychopy_2.py\n",
    "assert '__file__' in locals() #to make sure to not run this inside Jupyter\n",
    "\n",
    "from psychopy import visual, event\n",
    "from time import sleep\n",
    "\n",
    "mywin = visual.Window(size=[800,600], monitor=\"testMonitor\", units=\"norm\", color=[255,255,0])\n",
    "\n",
    "fixation = visual.GratingStim(win=mywin, size=0.015, pos=[0,0], sf=0, color=-1)\n",
    "grating = visual.GratingStim(win=mywin, mask=\"circle\", size=0.2, pos=[-0.8,0], sf=3)\n",
    "\n",
    "#without these, the stimulus is not drawn\n",
    "fixation.draw()\n",
    "grating.draw()\n",
    "\n",
    "#also in psychopy, we draw onto the back buffer, and have to *flip* front and back buffer for the stimuli to be shown \n",
    "mywin.flip()\n",
    "\n",
    "sleep(5)"
   ]
  },
  {
   "cell_type": "code",
   "execution_count": 7,
   "metadata": {},
   "outputs": [
    {
     "name": "stdout",
     "output_type": "stream",
     "text": [
      "pygame 1.9.6\n",
      "Hello from the pygame community. https://www.pygame.org/contribute.html\n"
     ]
    }
   ],
   "source": [
    "!python psychopy_2.py"
   ]
  },
  {
   "cell_type": "markdown",
   "metadata": {},
   "source": [
    "## User Input\n",
    "\n",
    "There are two ways to get input from the user - the `waitKeys()`-function, which works similar to our `wait_key` or `wait_any_key` from before, as well as the concept of **Global Keys** - which can be used to execute a function whenever they are pressed"
   ]
  },
  {
   "cell_type": "code",
   "execution_count": 67,
   "metadata": {},
   "outputs": [],
   "source": [
    "# %load psychopy_3.py\n",
    "assert '__file__' in locals() #to make sure to not run this inside Jupyter\n",
    "\n",
    "from psychopy import visual, event, core\n",
    "\n",
    "mywin = visual.Window(size=[800,600], monitor=\"testMonitor\", units=\"norm\", color=[255,255,0])\n",
    "\n",
    "fixation = visual.GratingStim(win=mywin, size=0.015, pos=[0,0], sf=0, color=-1)\n",
    "grating = visual.GratingStim(win=mywin, mask=\"circle\", size=0.2, pos=[-0.8,0], sf=3)\n",
    "\n",
    "#global keys kan be pressed at any time during the experiment to executed the specified function\n",
    "event.globalKeys.add(key='escape', func=core.quit)\n",
    "\n",
    "fixation.draw()\n",
    "grating.draw()\n",
    "mywin.flip()\n",
    "\n",
    "#without arguments, this waits for any keypress - alternatively, you could specify which keys to look for\n",
    "event.waitKeys()\n",
    "mywin.flip()\n",
    "\n",
    "event.waitKeys()"
   ]
  },
  {
   "cell_type": "code",
   "execution_count": 17,
   "metadata": {},
   "outputs": [
    {
     "name": "stdout",
     "output_type": "stream",
     "text": [
      "pygame 1.9.6\n",
      "Hello from the pygame community. https://www.pygame.org/contribute.html\n"
     ]
    }
   ],
   "source": [
    "!python psychopy_3.py"
   ]
  },
  {
   "cell_type": "markdown",
   "metadata": {},
   "source": [
    "# Expyriment\n",
    "\n",
    "I personally prefer **Expyriment** over PsychoPy, as it runs smoother and provides better compability, while being almost equally powerful. \n",
    "\n",
    "It is a pure programming library (providing no GUI), is leightweight, entirely written in python, and has almost no dependencies.\n",
    "\n",
    "Expyriment builds on top of Pygame as its backend, and has a similar way of initializing a GUI, presenting stimuli, and working with user input. It further gives the possibility to explicitly define experimental designs, automatically saves everything necessary, provides useful functions like a timer (with caveats, see later!), and wraps the entire framework into a pre-provided control structure.  \n"
   ]
  },
  {
   "cell_type": "markdown",
   "metadata": {},
   "source": [
    "\n",
    "Expyriment is an all-in-one solution, and as such it is responsible for\n",
    "* Stimulus presentation\n",
    "* Recording of input/output events\n",
    "* Communication with other devices\n",
    "* Collection and preprocessing of data\n",
    "* Experiment design\n",
    "\n",
    "![](figures/Expyriment.png)\n",
    "\n",
    "Figure source: Krause, F. & Lindemann, O. (2014). Expyriment: A Python library for cognitive and neuroscientific experiments. Behavior Research Methods, 46(2), 416-428. doi:10.3758/s13428-013-0390-6."
   ]
  },
  {
   "cell_type": "markdown",
   "metadata": {},
   "source": [
    "All of Expyriment's modules can be used independently of each other - the structure for experimental designs is independend of the presentation software actually used, such that you can use other software for presentation of stimuli, or experimental control, ... "
   ]
  },
  {
   "cell_type": "markdown",
   "metadata": {},
   "source": [
    "## Experiment Control\n",
    "\n",
    "Every Expyriment-experiment adheres to the main control structure, as specified by the ```control```-package.\n",
    "\n",
    "The control-package provides access to an experiment screen, keyboard, log file, clock and device communication.\n",
    "\n",
    "Expyriment has three Landmarks for an experiment: initialize(), start(), and end(). \n",
    "* Initialize() starts up the screen (exp.screen), a keyboard (exp.keyboard), an event log file logging stimulus presentation times & device communications, (exp.events), and an experimental clock (exp.clock)\n",
    "* Start() asks for a subject ID (saved as exp.subject) and creates a data file object (exp.data)\n",
    "* Between start() and end() you iterate your hierachical design (experiment $\\rightarrow$ blocks $\\rightarrow$ trials)\n",
    "* End() ends an experiment and saves tha data and log files"
   ]
  },
  {
   "cell_type": "code",
   "execution_count": 31,
   "metadata": {},
   "outputs": [],
   "source": [
    "import os\n",
    "os.chdir('../expyriment')"
   ]
  },
  {
   "cell_type": "code",
   "execution_count": null,
   "metadata": {},
   "outputs": [],
   "source": [
    "# Expyriment can run inside Jupyter - when you run it the first time, it asks you if it's supposed to run in Window Mode, useful for debugging"
   ]
  },
  {
   "cell_type": "code",
   "execution_count": 62,
   "metadata": {},
   "outputs": [
    {
     "name": "stdout",
     "output_type": "stream",
     "text": [
      "Standard output and error logging is switched off under IPython.\n"
     ]
    },
    {
     "data": {
      "text/plain": [
       "True"
      ]
     },
     "execution_count": 62,
     "metadata": {},
     "output_type": "execute_result"
    }
   ],
   "source": [
    "from expyriment import design, control\n",
    "from time import sleep\n",
    "\n",
    "# create experiment object\n",
    "exp = design.Experiment(name=\"My Experiment\")\n",
    "\n",
    "# initialize experiment object and make it active experimentka\n",
    "# this will show a startup screen\n",
    "# it will also initialize exp.screen, exp.mouse, exp.keyboard, exp.event and exp.clock\n",
    "control.initialize(exp)\n",
    "\n",
    "sleep(2)\n",
    "# this will present a subject number screen and a ready screen after initialization\n",
    "# is completely finished\n",
    "control.start()\n",
    "\n",
    "sleep(2)\n",
    "                        \n",
    "# this will show an \"ending experiment\" screen and save data\n",
    "control.end()"
   ]
  },
  {
   "cell_type": "markdown",
   "metadata": {},
   "source": [
    "While an interactive kernel like Jupyter asks us for the mode, in a normal script you'd always be fullscreen - as long as you don't specify otherwise. The develop-mode is always in window-mode, doesn't ask for a subject-ID, and initializes faster:"
   ]
  },
  {
   "cell_type": "code",
   "execution_count": 64,
   "metadata": {},
   "outputs": [
    {
     "name": "stdout",
     "output_type": "stream",
     "text": [
      "*** DEVELOP MODE ***\n",
      "Standard output and error logging is switched off under IPython.\n"
     ]
    },
    {
     "data": {
      "text/plain": [
       "True"
      ]
     },
     "execution_count": 64,
     "metadata": {},
     "output_type": "execute_result"
    }
   ],
   "source": [
    "from expyriment import design, control\n",
    "from time import sleep\n",
    "\n",
    "exp = design.Experiment(name=\"My Experiment\")\n",
    "control.set_develop_mode(True)\n",
    "\n",
    "control.initialize(exp)\n",
    "sleep(2)\n",
    "control.start()\n",
    "control.end()"
   ]
  },
  {
   "cell_type": "markdown",
   "metadata": {},
   "source": [
    "## Stimuli\n",
    "\n",
    "Expyriment contains classes for visual and auditory stimuli. \n",
    "\n",
    "Unlike Pygame, you don't need to flip the buffer for the stimuli to be actually shown on the screen. This is because of Expyriment's present-function:  \n",
    "```present(clear=True, update=True, log_event_tag=None)```  \n",
    "where ```clear``` clears the buffers before drawing, and ```update``` flips the buffer after drawing.\n",
    "\n",
    "Furthermore, you can (and should) preload the stimuli, such that they are fully loaded upon presentation - otherwise you'll mess up the timing of the experiment."
   ]
  },
  {
   "cell_type": "markdown",
   "metadata": {},
   "source": [
    "To show a few different stimuli in Expyriment without having to write the usual control-landmarks, let's make a context manager for the control *(Please don't do that when actually working with it, this is only for presentation!)*:"
   ]
  },
  {
   "cell_type": "code",
   "execution_count": 65,
   "metadata": {},
   "outputs": [
    {
     "name": "stdout",
     "output_type": "stream",
     "text": [
      "*** DEVELOP MODE ***\n"
     ]
    }
   ],
   "source": [
    "from expyriment import design, control, stimuli, misc\n",
    "control.set_develop_mode(True)\n",
    "\n",
    "class StimuliDemo:\n",
    "    \n",
    "    def __init__(self, name):\n",
    "        exp = design.Experiment(name=name)\n",
    "        control.initialize(exp)\n",
    "        self.exp = exp\n",
    "\n",
    "    def __enter__(self):\n",
    "        control.start()\n",
    "        return self.exp\n",
    "\n",
    "    def __exit__(self, *args):\n",
    "        control.end()"
   ]
  },
  {
   "cell_type": "markdown",
   "metadata": {},
   "source": [
    "### Text"
   ]
  },
  {
   "cell_type": "code",
   "execution_count": 67,
   "metadata": {},
   "outputs": [
    {
     "name": "stdout",
     "output_type": "stream",
     "text": [
      "Standard output and error logging is switched off under IPython.\n"
     ]
    }
   ],
   "source": [
    "with StimuliDemo(\"Experiment\") as exp:\n",
    "    target = stimuli.TextLine(text=\"I am a text!\", text_size=80)\n",
    "    stimuli.FixCross().present()\n",
    "    target.preload()\n",
    "    exp.clock.wait(1000)\n",
    "    target.present()\n",
    "    exp.clock.wait(1000)"
   ]
  },
  {
   "cell_type": "markdown",
   "metadata": {},
   "source": [
    "### Sounds"
   ]
  },
  {
   "cell_type": "code",
   "execution_count": 68,
   "metadata": {},
   "outputs": [
    {
     "name": "stdout",
     "output_type": "stream",
     "text": [
      "Standard output and error logging is switched off under IPython.\n"
     ]
    }
   ],
   "source": [
    "with StimuliDemo(\"Experiment\") as exp:\n",
    "    stimuli.Tone(duration=200, frequency=2000).play()\n",
    "    exp.clock.wait(1000)"
   ]
  },
  {
   "cell_type": "markdown",
   "metadata": {},
   "source": [
    "### Objects"
   ]
  },
  {
   "cell_type": "code",
   "execution_count": 69,
   "metadata": {},
   "outputs": [
    {
     "name": "stdout",
     "output_type": "stream",
     "text": [
      "Standard output and error logging is switched off under IPython.\n"
     ]
    }
   ],
   "source": [
    "with StimuliDemo(\"Experiment\") as exp: \n",
    "    target = stimuli.Rectangle([50, 50], position=[20, 20], colour=misc.constants.C_RED)\n",
    "    #target.preload()\n",
    "    target.present()\n",
    "    exp.clock.wait(1000)"
   ]
  },
  {
   "cell_type": "markdown",
   "metadata": {},
   "source": [
    "### Multiple objects\n",
    "If we want to draw multiple objects on the same buffer, we must \n",
    "* Clear the screen for the first object, without flipping buffers\n",
    "* Don't clear the screen and don't flip buffers for objects in between\n",
    "* Don't clear the screen, but flip buffers, for the last object"
   ]
  },
  {
   "cell_type": "code",
   "execution_count": 70,
   "metadata": {},
   "outputs": [
    {
     "name": "stdout",
     "output_type": "stream",
     "text": [
      "Standard output and error logging is switched off under IPython.\n"
     ]
    }
   ],
   "source": [
    "with StimuliDemo(\"Experiment\") as exp: \n",
    "    stim1 = stimuli.Circle(radius=25, colour=(255, 255, 255), position=[-100,0])\n",
    "    stim2 = stimuli.Circle(radius=25, colour=(255, 255, 255), position=[100,0])\n",
    "    stim1.present(clear=True, update=False)\n",
    "    stim2.present(clear=False, update=True)\n",
    "    exp.clock.wait(3000)"
   ]
  },
  {
   "cell_type": "markdown",
   "metadata": {},
   "source": [
    "### Complex objects"
   ]
  },
  {
   "cell_type": "code",
   "execution_count": 72,
   "metadata": {},
   "outputs": [
    {
     "name": "stdout",
     "output_type": "stream",
     "text": [
      "Standard output and error logging is switched off under IPython.\n"
     ]
    }
   ],
   "source": [
    "with StimuliDemo(\"Experiment\") as exp:    \n",
    "    button = stimuli.Rectangle(size=(40,20), position=(exp.screen.size[0]//2-25, 15-exp.screen.size[1]//2))\n",
    "    button_text = stimuli.TextLine(text=\"ok\", position=button.position, text_colour=misc.constants.C_WHITE)\n",
    "    canvas = stimuli.BlankScreen()\n",
    "    button.plot(canvas)\n",
    "    button_text.plot(canvas)\n",
    "    canvas.present()\n",
    "    exp.clock.wait(5000)"
   ]
  },
  {
   "cell_type": "markdown",
   "metadata": {},
   "source": [
    "Again, we see that we cannot click the button, because sleeping simply *blocks* the view, unlike an *active waiting loop* would do."
   ]
  },
  {
   "cell_type": "markdown",
   "metadata": {},
   "source": [
    "## Defaults\n",
    "\n",
    "Expyriment works with a defaults-system for all its values (font, background-color, ...). Every package of Expyriment contains a ```defaults```-object, where these values can be overwritten."
   ]
  },
  {
   "cell_type": "markdown",
   "metadata": {},
   "source": [
    "https://docs.expyriment.org/expyriment.stimuli.defaults.html, \n",
    "https://docs.expyriment.org/expyriment.control.defaults.html"
   ]
  },
  {
   "cell_type": "raw",
   "metadata": {},
   "source": [
    "<don't forget to restart Kernel>"
   ]
  },
  {
   "cell_type": "code",
   "execution_count": 73,
   "metadata": {},
   "outputs": [
    {
     "name": "stdout",
     "output_type": "stream",
     "text": [
      "*** NORMAL MODE ***\n",
      "Standard output and error logging is switched off under IPython.\n"
     ]
    },
    {
     "data": {
      "text/plain": [
       "True"
      ]
     },
     "execution_count": 73,
     "metadata": {},
     "output_type": "execute_result"
    }
   ],
   "source": [
    "from expyriment import design, control, stimuli\n",
    "from time import sleep\n",
    "control.set_develop_mode(False)\n",
    "\n",
    "control.defaults.window_mode = True # True corresponds to windowed\n",
    "control.defaults.window_size = [800,600] # 800x600 resolution\n",
    "# we are going to change the default background color for this experiment\n",
    "# however this can also be changed later after initialization using exp.screen.colour()\n",
    "\n",
    "design.defaults.experiment_background_colour = (230,230,70)\n",
    "\n",
    "exp = design.Experiment(name=\"Cool Experiment\")\n",
    "control.initialize(exp)\n",
    "control.start()\n",
    "stimuli.FixCross().present()\n",
    "exp.clock.wait(1000)\n",
    "control.end()"
   ]
  },
  {
   "cell_type": "raw",
   "metadata": {},
   "source": [
    "<don't forget to restart Kernel>"
   ]
  },
  {
   "cell_type": "code",
   "execution_count": 74,
   "metadata": {},
   "outputs": [
    {
     "name": "stdout",
     "output_type": "stream",
     "text": [
      "*** DEVELOP MODE ***\n"
     ]
    }
   ],
   "source": [
    "from expyriment import design, control, stimuli, misc\n",
    "control.set_develop_mode(True)\n",
    "used_exp_names = []\n",
    "\n",
    "class StimuliDemo:\n",
    "    \n",
    "    def get_name(self, name):\n",
    "        global used_exp_names\n",
    "        used_name = name; i = 0\n",
    "        while used_name in used_exp_names:\n",
    "            used_name = name+str(i)\n",
    "            i += 1\n",
    "        used_exp_names.append(used_name)\n",
    "        return used_name\n",
    "    \n",
    "    def __init__(self, name):\n",
    "        exp = design.Experiment(name=self.get_name(name))\n",
    "        control.initialize(exp)\n",
    "        self.exp = exp\n",
    "\n",
    "    def __enter__(self):\n",
    "        control.start()\n",
    "        return self.exp\n",
    "\n",
    "    def __exit__(self, *args):\n",
    "        control.end()"
   ]
  },
  {
   "cell_type": "markdown",
   "metadata": {},
   "source": [
    "## User Input\n",
    "\n",
    "Expyriment's IO module is for logging as well as user-input. It can also be used independently from other packages, to get eg. mouse presses or serial port communication."
   ]
  },
  {
   "cell_type": "markdown",
   "metadata": {},
   "source": [
    "### Keyboard.wait()\n",
    "\n",
    "As mentioned above, every initialized experiment has access to the keyboard-object, which contains the method wait():  \n",
    "```wait(keys=None, duration=None, wait_for_keyup=False, callback_function=None, process_control_events=True)```\n",
    "\n",
    "As arguments, you can specify which keys to look for, if you want to wait for a key-release, you can specify a callback-function upon clicking, and you can set a timeout until its's no longer waited for the keypress.\n",
    "\n",
    "The result is a tuple of (clicked character, reaction-time in ms)"
   ]
  },
  {
   "cell_type": "code",
   "execution_count": 76,
   "metadata": {},
   "outputs": [
    {
     "name": "stdout",
     "output_type": "stream",
     "text": [
      "Standard output and error logging is switched off under IPython.\n",
      "8\n",
      "1236\n",
      "True\n"
     ]
    }
   ],
   "source": [
    "with StimuliDemo(\"Experiment\") as exp:  \n",
    "    target = stimuli.TextLine(text=\"Any key to continue.\", text_size=60)\n",
    "    target.present()\n",
    "    button, time = exp.keyboard.wait()\n",
    "\n",
    "print(button)  \n",
    "print(time)\n",
    "print(button == misc.constants.K_BACKSPACE)"
   ]
  },
  {
   "cell_type": "markdown",
   "metadata": {},
   "source": [
    "![](figures/ascii_table.png)"
   ]
  },
  {
   "cell_type": "markdown",
   "metadata": {},
   "source": [
    "All key- and color-constants can be found in Expyriment's documentation: https://docs.expyriment.org/expyriment.misc.constants.html"
   ]
  },
  {
   "cell_type": "markdown",
   "metadata": {},
   "source": [
    "### Mouse input:"
   ]
  },
  {
   "cell_type": "code",
   "execution_count": 78,
   "metadata": {},
   "outputs": [
    {
     "name": "stdout",
     "output_type": "stream",
     "text": [
      "Standard output and error logging is switched off under IPython.\n"
     ]
    }
   ],
   "source": [
    "with StimuliDemo(\"Experiment\") as exp:  \n",
    "    while True:\n",
    "        exp.mouse.show_cursor()  \n",
    "        button = stimuli.Rectangle(size=(50,20), position=(exp.screen.size[0]//2-35, 15-exp.screen.size[1]//2))\n",
    "        button_text = stimuli.TextLine(text=\"close\", position=button.position, text_colour=misc.constants.C_WHITE)\n",
    "        canvas = stimuli.BlankScreen()\n",
    "        button.plot(canvas)\n",
    "        \n",
    "        button_text.plot(canvas)\n",
    "        canvas.present()\n",
    "        bid, pos, _rt = exp.mouse.wait_press()\n",
    "        if bid == 0 and button.overlapping_with_position(pos):\n",
    "            break"
   ]
  },
  {
   "cell_type": "raw",
   "metadata": {},
   "source": [
    "\n",
    "\n",
    "\n",
    "\n",
    "\n",
    "\n",
    "\n",
    "\n"
   ]
  },
  {
   "cell_type": "markdown",
   "metadata": {},
   "source": [
    "# Experiment Design\n",
    "\n",
    "Everybody who already participated in an experiment should be familiar with the basic structure of an experiment -- Some stimulus is shown in a multitude of similar or equal versions in a random order, sometimes mixed with distractors. Each display of a stimulus is a *trial*. Often, experiments are split up into multiple *blocks*, showing for example different versions of the stimuli.  \n",
    " \n",
    "The general order is thus:\n",
    "\n",
    "* There is an experiment (what's returned by ```design.experiment()```)\n",
    "  * The experiments consist of blocks\n",
    "    * Every block consists of trials\n",
    "      * (The trials probably contain one or more stimuli)"
   ]
  },
  {
   "cell_type": "code",
   "execution_count": 97,
   "metadata": {},
   "outputs": [],
   "source": [
    "import os\n",
    "os.chdir('../expyriment')"
   ]
  },
  {
   "cell_type": "markdown",
   "metadata": {},
   "source": [
    "**Wiki**: \n",
    "\n",
    "*In psychology, the Simon effect is the finding that the difference in accuracy or reaction time between trials in which stimulus and response are on the same side and trials in which they are on opposite sides, with responses being generally slower and less accurate when the stimulus and response are on opposite sides. It is named for J. R. Simon who first published the effect in the late 1960s. Simon's original explanation for the effect was that there is an innate tendency to respond toward the source of stimulation. *"
   ]
  },
  {
   "cell_type": "code",
   "execution_count": 98,
   "metadata": {},
   "outputs": [
    {
     "name": "stdout",
     "output_type": "stream",
     "text": [
      "*** DEVELOP MODE ***\n",
      "Standard output and error logging is switched off under IPython.\n"
     ]
    }
   ],
   "source": [
    "%run simon_task_short"
   ]
  },
  {
   "cell_type": "markdown",
   "metadata": {},
   "source": [
    "## Expyriment's Design-package\n",
    "* Contains classes describing experimental structures $\\Rightarrow$ Hierachy between experiment, exp. blocks. exp. trials\n",
    "* Allows for between-subject-factors, that are different dependent on the subject-ID\n",
    "* Can export everything to be used by other packages (including PsychoPy!), can thus be used stand-alone"
   ]
  },
  {
   "cell_type": "markdown",
   "metadata": {},
   "source": [
    "The design of an experiment is specified before calling ```control.start()```, such that in the actual experiment, it is enough to loop over all ```blocks``` and ```trials```, loading and presenting the stimuli from the trials:"
   ]
  },
  {
   "cell_type": "code",
   "execution_count": 99,
   "metadata": {},
   "outputs": [
    {
     "name": "stdout",
     "output_type": "stream",
     "text": [
      "*** DEVELOP MODE ***\n",
      "Standard output and error logging is switched off under IPython.\n"
     ]
    },
    {
     "data": {
      "text/plain": [
       "True"
      ]
     },
     "execution_count": 99,
     "metadata": {},
     "output_type": "execute_result"
    }
   ],
   "source": [
    "# %load open_debugger/blocks_1.py\n",
    "from expyriment import design, control, stimuli, misc, io\n",
    "\n",
    "control.set_develop_mode(True)\n",
    "\n",
    "exp = design.Experiment(name=\"My Experiment\")\n",
    "control.initialize(exp)\n",
    "\n",
    "for name, color in [[\"green\", misc.constants.C_GREEN], [\"red\", misc.constants.C_RED]]:\n",
    "    block = design.Block(name=name.capitalize() + \" Stimuli\")\n",
    "    block.set_factor(\"Color\", name)\n",
    "    for where in [[\"left\", -300], [\"right\", 300]]:\n",
    "        t = design.Trial()\n",
    "        t.set_factor(\"Position\", where[0])\n",
    "        s = stimuli.Rectangle([50, 50], position=[where[1], 0], colour=color)\n",
    "        t.add_stimulus(s)\n",
    "        block.add_trial(t)\n",
    "    exp.add_block(block)\n",
    "\n",
    "control.start()\n",
    "\n",
    "for block in exp.blocks:\n",
    "    for trial in block.trials:\n",
    "        trial.stimuli[0].present()\n",
    "        exp.clock.wait(1000)\n",
    "\n",
    "control.end()"
   ]
  },
  {
   "cell_type": "markdown",
   "metadata": {},
   "source": [
    "Blocks and Trials can have ```Factors```. A factor is a simple key-value-pair, that can be used to store information about a Block or Trial, such that you can restore this information throughout the experiment, and use it to display custom things and to log conditions of blocks and trials."
   ]
  },
  {
   "cell_type": "code",
   "execution_count": 100,
   "metadata": {},
   "outputs": [
    {
     "name": "stdout",
     "output_type": "stream",
     "text": [
      "*** DEVELOP MODE ***\n",
      "Standard output and error logging is switched off under IPython.\n",
      "Now we're printing green Circles.\n",
      "Now we're printing red Circles.\n"
     ]
    },
    {
     "data": {
      "text/plain": [
       "True"
      ]
     },
     "execution_count": 100,
     "metadata": {},
     "output_type": "execute_result"
    }
   ],
   "source": [
    "from expyriment import design, control, stimuli, misc, io\n",
    "control.set_develop_mode(True)\n",
    "from time import sleep\n",
    "\n",
    "exp = design.Experiment(name=\"My Experiment\")\n",
    "control.initialize(exp)\n",
    "\n",
    "blankscreen = stimuli.BlankScreen(colour=(0,0,0))\n",
    "blankscreen.preload()\n",
    "\n",
    "block1 = design.Block(name=\"Block1\")\n",
    "block1.set_factor(\"Color\", \"green\")\n",
    "trial = design.Trial()\n",
    "stimulus = stimuli.Circle(50, colour = misc.constants.C_GREEN)\n",
    "trial.add_stimulus(stimulus)\n",
    "block1.add_trial(trial, copies = 2)\n",
    "exp.add_block(block1)\n",
    "\n",
    "block2 = design.Block(name=\"Block2\")\n",
    "block2.set_factor(\"Color\", \"red\")\n",
    "trial = design.Trial()\n",
    "stimulus = stimuli.Circle(50, colour = misc.constants.C_RED)\n",
    "trial.add_stimulus(stimulus)\n",
    "block2.add_trial(trial, copies = 2)\n",
    "exp.add_block(block2)\n",
    "\n",
    "control.start()\n",
    "                        \n",
    "for block in exp.blocks:\n",
    "    print(\"Now we're printing\", block.get_factor(\"Color\"), \"Circles.\")\n",
    "    for trial in block.trials:\n",
    "        trial.stimuli[0].present()\n",
    "        exp.clock.wait(500)\n",
    "        blankscreen.present()\n",
    "        exp.clock.wait(500)\n",
    "        \n",
    "        \n",
    "control.end()"
   ]
  },
  {
   "cell_type": "markdown",
   "metadata": {},
   "source": [
    "Of course, you'd normally set blocks and trials algorithmically in a loop."
   ]
  },
  {
   "cell_type": "code",
   "execution_count": 83,
   "metadata": {},
   "outputs": [
    {
     "name": "stdout",
     "output_type": "stream",
     "text": [
      "*** DEVELOP MODE ***\n",
      "Standard output and error logging is switched off under IPython.\n"
     ]
    },
    {
     "data": {
      "text/plain": [
       "True"
      ]
     },
     "execution_count": 83,
     "metadata": {},
     "output_type": "execute_result"
    }
   ],
   "source": [
    "from expyriment import design, control, stimuli, misc, io\n",
    "control.set_develop_mode(True)\n",
    "\n",
    "exp = design.Experiment(name=\"My Experiment\")\n",
    "control.initialize(exp)\n",
    "\n",
    "for name, color in [[\"green\", misc.constants.C_GREEN], [\"red\", misc.constants.C_RED]]:\n",
    "    block = design.Block(name=name.capitalize()+\" Stimuli\")\n",
    "    block.set_factor(\"Color\", name)\n",
    "    for where in [[\"left\", -300], [\"right\", 300]]:\n",
    "        t = design.Trial()\n",
    "        t.set_factor(\"Position\", where[0])\n",
    "        s = stimuli.Rectangle([50, 50], position=[where[1], 0], colour=color)\n",
    "        t.add_stimulus(s)\n",
    "        block.add_trial(t)   \n",
    "    exp.add_block(block)\n",
    "        \n",
    "control.start()\n",
    "                        \n",
    "for block in exp.blocks:\n",
    "    for trial in block.trials:\n",
    "        trial.stimuli[0].present()\n",
    "        exp.clock.wait(1000)\n",
    "        \n",
    "        \n",
    "control.end()"
   ]
  },
  {
   "cell_type": "raw",
   "metadata": {},
   "source": [
    "<show in debugger>"
   ]
  },
  {
   "cell_type": "markdown",
   "metadata": {},
   "source": [
    "Blocks also provide the possibility to shuffle trials with it's method ```shuffle_trials(method=0, max_repetitions=None, n_segments=None)```. Note that this method even allows a possibility to not repeat too many equal trials inside a block! More on that in the appendix."
   ]
  },
  {
   "cell_type": "markdown",
   "metadata": {},
   "source": [
    "You can use the design-package alone and export the designs for other libraries:"
   ]
  },
  {
   "cell_type": "code",
   "execution_count": 101,
   "metadata": {},
   "outputs": [],
   "source": [
    "from expyriment import design, control, stimuli, misc, io\n",
    "\n",
    "exp = design.Experiment('Example experiment')\n",
    "block1 = design.Block('Experimental block')\n",
    "for cond in ['A', 'B', 'C']:\n",
    "    trial = design.Trial()\n",
    "    trial.set_factor('Condition', cond)\n",
    "    block1.add_trial(trial, copies=5)\n",
    "block2 = block1.copy()\n",
    "block1.shuffle_trials()\n",
    "block2.shuffle_trials()\n",
    "exp.add_block(block1)\n",
    "exp.add_block(block2)\n",
    "\n",
    "exp.save_design('demodesign.csv')"
   ]
  },
  {
   "cell_type": "markdown",
   "metadata": {},
   "source": [
    "Note that we didn't add any stimuli here. Unfortunately, Expyriment does not allow to save stimuli to a csv."
   ]
  },
  {
   "cell_type": "code",
   "execution_count": null,
   "metadata": {},
   "outputs": [],
   "source": [
    "%cat demodesign.csv"
   ]
  },
  {
   "cell_type": "code",
   "execution_count": 102,
   "metadata": {},
   "outputs": [
    {
     "data": {
      "text/html": [
       "<div>\n",
       "<style scoped>\n",
       "    .dataframe tbody tr th:only-of-type {\n",
       "        vertical-align: middle;\n",
       "    }\n",
       "\n",
       "    .dataframe tbody tr th {\n",
       "        vertical-align: top;\n",
       "    }\n",
       "\n",
       "    .dataframe thead th {\n",
       "        text-align: right;\n",
       "    }\n",
       "</style>\n",
       "<table border=\"1\" class=\"dataframe\">\n",
       "  <thead>\n",
       "    <tr style=\"text-align: right;\">\n",
       "      <th></th>\n",
       "      <th>block_cnt</th>\n",
       "      <th>block_id</th>\n",
       "      <th>trial_cnt</th>\n",
       "      <th>trial_id</th>\n",
       "      <th>Condition</th>\n",
       "    </tr>\n",
       "  </thead>\n",
       "  <tbody>\n",
       "    <tr>\n",
       "      <th>0</th>\n",
       "      <td>0</td>\n",
       "      <td>0</td>\n",
       "      <td>0</td>\n",
       "      <td>14</td>\n",
       "      <td>C</td>\n",
       "    </tr>\n",
       "    <tr>\n",
       "      <th>1</th>\n",
       "      <td>0</td>\n",
       "      <td>0</td>\n",
       "      <td>1</td>\n",
       "      <td>11</td>\n",
       "      <td>C</td>\n",
       "    </tr>\n",
       "    <tr>\n",
       "      <th>2</th>\n",
       "      <td>0</td>\n",
       "      <td>0</td>\n",
       "      <td>2</td>\n",
       "      <td>8</td>\n",
       "      <td>B</td>\n",
       "    </tr>\n",
       "    <tr>\n",
       "      <th>3</th>\n",
       "      <td>0</td>\n",
       "      <td>0</td>\n",
       "      <td>3</td>\n",
       "      <td>13</td>\n",
       "      <td>C</td>\n",
       "    </tr>\n",
       "    <tr>\n",
       "      <th>4</th>\n",
       "      <td>0</td>\n",
       "      <td>0</td>\n",
       "      <td>4</td>\n",
       "      <td>9</td>\n",
       "      <td>B</td>\n",
       "    </tr>\n",
       "    <tr>\n",
       "      <th>5</th>\n",
       "      <td>0</td>\n",
       "      <td>0</td>\n",
       "      <td>5</td>\n",
       "      <td>2</td>\n",
       "      <td>A</td>\n",
       "    </tr>\n",
       "    <tr>\n",
       "      <th>6</th>\n",
       "      <td>0</td>\n",
       "      <td>0</td>\n",
       "      <td>6</td>\n",
       "      <td>0</td>\n",
       "      <td>A</td>\n",
       "    </tr>\n",
       "    <tr>\n",
       "      <th>7</th>\n",
       "      <td>0</td>\n",
       "      <td>0</td>\n",
       "      <td>7</td>\n",
       "      <td>10</td>\n",
       "      <td>C</td>\n",
       "    </tr>\n",
       "    <tr>\n",
       "      <th>8</th>\n",
       "      <td>0</td>\n",
       "      <td>0</td>\n",
       "      <td>8</td>\n",
       "      <td>7</td>\n",
       "      <td>B</td>\n",
       "    </tr>\n",
       "    <tr>\n",
       "      <th>9</th>\n",
       "      <td>0</td>\n",
       "      <td>0</td>\n",
       "      <td>9</td>\n",
       "      <td>5</td>\n",
       "      <td>B</td>\n",
       "    </tr>\n",
       "    <tr>\n",
       "      <th>10</th>\n",
       "      <td>0</td>\n",
       "      <td>0</td>\n",
       "      <td>10</td>\n",
       "      <td>4</td>\n",
       "      <td>A</td>\n",
       "    </tr>\n",
       "    <tr>\n",
       "      <th>11</th>\n",
       "      <td>0</td>\n",
       "      <td>0</td>\n",
       "      <td>11</td>\n",
       "      <td>12</td>\n",
       "      <td>C</td>\n",
       "    </tr>\n",
       "    <tr>\n",
       "      <th>12</th>\n",
       "      <td>0</td>\n",
       "      <td>0</td>\n",
       "      <td>12</td>\n",
       "      <td>6</td>\n",
       "      <td>B</td>\n",
       "    </tr>\n",
       "    <tr>\n",
       "      <th>13</th>\n",
       "      <td>0</td>\n",
       "      <td>0</td>\n",
       "      <td>13</td>\n",
       "      <td>1</td>\n",
       "      <td>A</td>\n",
       "    </tr>\n",
       "    <tr>\n",
       "      <th>14</th>\n",
       "      <td>0</td>\n",
       "      <td>0</td>\n",
       "      <td>14</td>\n",
       "      <td>3</td>\n",
       "      <td>A</td>\n",
       "    </tr>\n",
       "    <tr>\n",
       "      <th>15</th>\n",
       "      <td>1</td>\n",
       "      <td>1</td>\n",
       "      <td>0</td>\n",
       "      <td>10</td>\n",
       "      <td>C</td>\n",
       "    </tr>\n",
       "  </tbody>\n",
       "</table>\n",
       "</div>"
      ],
      "text/plain": [
       "    block_cnt  block_id  trial_cnt  trial_id Condition\n",
       "0           0         0          0        14         C\n",
       "1           0         0          1        11         C\n",
       "2           0         0          2         8         B\n",
       "3           0         0          3        13         C\n",
       "4           0         0          4         9         B\n",
       "5           0         0          5         2         A\n",
       "6           0         0          6         0         A\n",
       "7           0         0          7        10         C\n",
       "8           0         0          8         7         B\n",
       "9           0         0          9         5         B\n",
       "10          0         0         10         4         A\n",
       "11          0         0         11        12         C\n",
       "12          0         0         12         6         B\n",
       "13          0         0         13         1         A\n",
       "14          0         0         14         3         A\n",
       "15          1         1          0        10         C"
      ]
     },
     "execution_count": 102,
     "metadata": {},
     "output_type": "execute_result"
    }
   ],
   "source": [
    "import pandas as pd\n",
    "pd.read_csv('demodesign.csv', comment='#').head(16)"
   ]
  },
  {
   "cell_type": "markdown",
   "metadata": {},
   "source": [
    "### Between-Subject-Factors\n",
    "\n",
    "In many studies, it is necessary to provide different stimuli for different subjects. Keep in mind however that doing so is a major design choice which requires far more experimental subjects to be statistically significant and comes with many other caveats.\n",
    "\n",
    "In Expyriment, this are simply factors that are supposed to be different <b>B</b>et<b>W</b>een <b>S</b>ubjects. Expyriment allows to differ between subjects, based on their subject-ID: The between-subjects-factor is coupled to the subject ID that was assigned when the experiment was started."
   ]
  },
  {
   "cell_type": "markdown",
   "metadata": {},
   "source": [
    "**The Study**  \n",
    "\n",
    "...is one I had to do as HiWi a couple of years ago. It is a linguistic experiment, in which reading times are measured and after a few sentences a control-question (to test if the participant actually read the sentences) must be answered.\n",
    "\n",
    "*Liu, Mingya. (in preparation). ‘The wenn/falls Contrast in German: with experimental evidence‘*\n",
    "\n",
    "The study tests if german native speakers interpret the conditional \"falls\" different than \"wenn\", with the hypothesis that a \"wenn\" is interpreted as biconditional ($P \\leftrightarrow Q$) meaning that the condition where neither antecedent nor consequent are True is valid, but the condition where antecedent is True and consequence False isn't), whereas a \"falls\" is interpreted as material implication (for which it holds that $P\\rightarrow Q \\Leftrightarrow \\lnot P \\vee Q$).\n",
    "\n",
    "For that, the subject is shown seven sentences, in which either the **wenn** or the **falls**-condition is presented, followed by a statement as for example $P \\wedge \\lnot Q$. The response time for this sentence is measured, with the assumption that the conditions which do not correspond to valid formulas in Propositional Logic have longer reading times. Which conditions are shown for which sentences is different from subject to subject.\n",
    "\n",
    "In this (downscaled) version, we have a 2x2 Design:\n",
    "* For every trial, you either get the **Falls** or the **Wenn** condition..\n",
    "    * And there's either the $P \\wedge Q$ (\"gabgab\") or the $P \\wedge \\lnot Q$ (\"gabgabnicht\") - condition."
   ]
  },
  {
   "cell_type": "code",
   "execution_count": 103,
   "metadata": {},
   "outputs": [
    {
     "data": {
      "text/html": [
       "<div>\n",
       "<style scoped>\n",
       "    .dataframe tbody tr th:only-of-type {\n",
       "        vertical-align: middle;\n",
       "    }\n",
       "\n",
       "    .dataframe tbody tr th {\n",
       "        vertical-align: top;\n",
       "    }\n",
       "\n",
       "    .dataframe thead th {\n",
       "        text-align: right;\n",
       "    }\n",
       "</style>\n",
       "<table border=\"1\" class=\"dataframe\">\n",
       "  <thead>\n",
       "    <tr style=\"text-align: right;\">\n",
       "      <th></th>\n",
       "      <th>Exp</th>\n",
       "      <th>Item</th>\n",
       "      <th>is_pract</th>\n",
       "      <th>Condition</th>\n",
       "      <th>S1</th>\n",
       "      <th>S2</th>\n",
       "      <th>S3</th>\n",
       "      <th>S4</th>\n",
       "      <th>S5</th>\n",
       "      <th>S6</th>\n",
       "      <th>S7</th>\n",
       "      <th>Answer</th>\n",
       "      <th>List_Num</th>\n",
       "    </tr>\n",
       "    <tr>\n",
       "      <th>Index</th>\n",
       "      <th></th>\n",
       "      <th></th>\n",
       "      <th></th>\n",
       "      <th></th>\n",
       "      <th></th>\n",
       "      <th></th>\n",
       "      <th></th>\n",
       "      <th></th>\n",
       "      <th></th>\n",
       "      <th></th>\n",
       "      <th></th>\n",
       "      <th></th>\n",
       "      <th></th>\n",
       "    </tr>\n",
       "  </thead>\n",
       "  <tbody>\n",
       "    <tr>\n",
       "      <th>1</th>\n",
       "      <td>MMT</td>\n",
       "      <td>1</td>\n",
       "      <td>True</td>\n",
       "      <td>1</td>\n",
       "      <td>Dennis kaufte einen Blumenstrauß für seine Fre...</td>\n",
       "      <td>Die Blumenladenverkäuferin hat ihm gesagt:</td>\n",
       "      <td>Wenn es Narzissen gibt, gibt es Rosen.</td>\n",
       "      <td>Als Dennis sich umschaute, stellte er fest:</td>\n",
       "      <td>Es gab Narzissen und es gab Rosen.</td>\n",
       "      <td>Dennis ließ sich einen wunderschönen Strauß zu...</td>\n",
       "      <td>Hat Dennis Schokolade gekauft?</td>\n",
       "      <td>Nein</td>\n",
       "      <td>1</td>\n",
       "    </tr>\n",
       "    <tr>\n",
       "      <th>2</th>\n",
       "      <td>MMT</td>\n",
       "      <td>1</td>\n",
       "      <td>True</td>\n",
       "      <td>2</td>\n",
       "      <td>Dennis kaufte einen Blumenstrauß für seine Fre...</td>\n",
       "      <td>Die Blumenladenverkäuferin hat ihm gesagt:</td>\n",
       "      <td>Falls es Narzissen gibt, gibt es Rosen.</td>\n",
       "      <td>Als Dennis sich umschaute, stellte er fest:</td>\n",
       "      <td>Es gab Narzissen und es gab Rosen.</td>\n",
       "      <td>Dennis ließ sich einen wunderschönen Strauß zu...</td>\n",
       "      <td>Hat Dennis Schokolade gekauft?</td>\n",
       "      <td>Nein</td>\n",
       "      <td>2</td>\n",
       "    </tr>\n",
       "    <tr>\n",
       "      <th>5</th>\n",
       "      <td>MMT</td>\n",
       "      <td>1</td>\n",
       "      <td>True</td>\n",
       "      <td>5</td>\n",
       "      <td>Dennis kaufte einen Blumenstrauß für seine Fre...</td>\n",
       "      <td>Die Blumenladenverkäuferin hat ihm gesagt:</td>\n",
       "      <td>Wenn es Narzissen gibt, gibt es Rosen.</td>\n",
       "      <td>Als Dennis sich umschaute, stellte er fest:</td>\n",
       "      <td>Es gab keine Narzissen und es gab Rosen.</td>\n",
       "      <td>Dennis ließ sich einen wunderschönen Strauß zu...</td>\n",
       "      <td>Hat Dennis Schokolade gekauft?</td>\n",
       "      <td>Nein</td>\n",
       "      <td>5</td>\n",
       "    </tr>\n",
       "    <tr>\n",
       "      <th>6</th>\n",
       "      <td>MMT</td>\n",
       "      <td>1</td>\n",
       "      <td>True</td>\n",
       "      <td>6</td>\n",
       "      <td>Dennis kaufte einen Blumenstrauß für seine Fre...</td>\n",
       "      <td>Die Blumenladenverkäuferin hat ihm gesagt:</td>\n",
       "      <td>Falls es Narzissen gibt, gibt es Rosen.</td>\n",
       "      <td>Als Dennis sich umschaute, stellte er fest:</td>\n",
       "      <td>Es gab keine Narzissen und es gab Rosen.</td>\n",
       "      <td>Dennis ließ sich einen wunderschönen Strauß zu...</td>\n",
       "      <td>Hat Dennis Schokolade gekauft?</td>\n",
       "      <td>Nein</td>\n",
       "      <td>6</td>\n",
       "    </tr>\n",
       "    <tr>\n",
       "      <th>10</th>\n",
       "      <td>MMT</td>\n",
       "      <td>2</td>\n",
       "      <td>True</td>\n",
       "      <td>1</td>\n",
       "      <td>Tim war auf dem Weg zur Drogerie.</td>\n",
       "      <td>Er bekam unterwegs noch eine SMS:</td>\n",
       "      <td>Wenn es Toilettenpapier gibt, gibt es Seife.</td>\n",
       "      <td>Als Tim in der Drogerie ankam, sah er:</td>\n",
       "      <td>Es gab Toilettenpapier und es gab Seife.</td>\n",
       "      <td>Tim beeilte sich, da er es eilig hatte.</td>\n",
       "      <td>Hatte Tim sein Handy mit?</td>\n",
       "      <td>Ja</td>\n",
       "      <td>2</td>\n",
       "    </tr>\n",
       "    <tr>\n",
       "      <th>11</th>\n",
       "      <td>MMT</td>\n",
       "      <td>2</td>\n",
       "      <td>True</td>\n",
       "      <td>2</td>\n",
       "      <td>Tim war auf dem Weg zur Drogerie.</td>\n",
       "      <td>Er bekam unterwegs noch eine SMS:</td>\n",
       "      <td>Falls es Toilettenpapier gibt, gibt es Seife.</td>\n",
       "      <td>Als Tim in der Drogerie ankam, sah er:</td>\n",
       "      <td>Es gab Toilettenpapier und es gab Seife.</td>\n",
       "      <td>Tim beeilte sich, da er es eilig hatte.</td>\n",
       "      <td>Hatte Tim sein Handy mit?</td>\n",
       "      <td>Ja</td>\n",
       "      <td>3</td>\n",
       "    </tr>\n",
       "    <tr>\n",
       "      <th>14</th>\n",
       "      <td>MMT</td>\n",
       "      <td>2</td>\n",
       "      <td>True</td>\n",
       "      <td>5</td>\n",
       "      <td>Tim war auf dem Weg zur Drogerie.</td>\n",
       "      <td>Er bekam unterwegs noch eine SMS:</td>\n",
       "      <td>Wenn es Toilettenpapier gibt, gibt es Seife.</td>\n",
       "      <td>Als Tim in der Drogerie ankam, sah er:</td>\n",
       "      <td>Es gab kein Toilettenpapier und es gab Seife.</td>\n",
       "      <td>Tim beeilte sich, da er es eilig hatte.</td>\n",
       "      <td>Hatte Tim sein Handy mit?</td>\n",
       "      <td>Ja</td>\n",
       "      <td>6</td>\n",
       "    </tr>\n",
       "    <tr>\n",
       "      <th>15</th>\n",
       "      <td>MMT</td>\n",
       "      <td>2</td>\n",
       "      <td>True</td>\n",
       "      <td>6</td>\n",
       "      <td>Tim war auf dem Weg zur Drogerie.</td>\n",
       "      <td>Er bekam unterwegs noch eine SMS:</td>\n",
       "      <td>Falls es Toilettenpapier gibt, gibt es Seife.</td>\n",
       "      <td>Als Tim in der Drogerie ankam, sah er:</td>\n",
       "      <td>Es gab kein Toilettenpapier und es gab Seife.</td>\n",
       "      <td>Tim beeilte sich, da er es eilig hatte.</td>\n",
       "      <td>Hatte Tim sein Handy mit?</td>\n",
       "      <td>Ja</td>\n",
       "      <td>7</td>\n",
       "    </tr>\n",
       "  </tbody>\n",
       "</table>\n",
       "</div>"
      ],
      "text/plain": [
       "       Exp  Item  is_pract  Condition  \\\n",
       "Index                                   \n",
       "1      MMT     1      True          1   \n",
       "2      MMT     1      True          2   \n",
       "5      MMT     1      True          5   \n",
       "6      MMT     1      True          6   \n",
       "10     MMT     2      True          1   \n",
       "11     MMT     2      True          2   \n",
       "14     MMT     2      True          5   \n",
       "15     MMT     2      True          6   \n",
       "\n",
       "                                                      S1  \\\n",
       "Index                                                      \n",
       "1      Dennis kaufte einen Blumenstrauß für seine Fre...   \n",
       "2      Dennis kaufte einen Blumenstrauß für seine Fre...   \n",
       "5      Dennis kaufte einen Blumenstrauß für seine Fre...   \n",
       "6      Dennis kaufte einen Blumenstrauß für seine Fre...   \n",
       "10                     Tim war auf dem Weg zur Drogerie.   \n",
       "11                     Tim war auf dem Weg zur Drogerie.   \n",
       "14                     Tim war auf dem Weg zur Drogerie.   \n",
       "15                     Tim war auf dem Weg zur Drogerie.   \n",
       "\n",
       "                                               S2  \\\n",
       "Index                                               \n",
       "1      Die Blumenladenverkäuferin hat ihm gesagt:   \n",
       "2      Die Blumenladenverkäuferin hat ihm gesagt:   \n",
       "5      Die Blumenladenverkäuferin hat ihm gesagt:   \n",
       "6      Die Blumenladenverkäuferin hat ihm gesagt:   \n",
       "10              Er bekam unterwegs noch eine SMS:   \n",
       "11              Er bekam unterwegs noch eine SMS:   \n",
       "14              Er bekam unterwegs noch eine SMS:   \n",
       "15              Er bekam unterwegs noch eine SMS:   \n",
       "\n",
       "                                                  S3  \\\n",
       "Index                                                  \n",
       "1             Wenn es Narzissen gibt, gibt es Rosen.   \n",
       "2            Falls es Narzissen gibt, gibt es Rosen.   \n",
       "5             Wenn es Narzissen gibt, gibt es Rosen.   \n",
       "6            Falls es Narzissen gibt, gibt es Rosen.   \n",
       "10      Wenn es Toilettenpapier gibt, gibt es Seife.   \n",
       "11     Falls es Toilettenpapier gibt, gibt es Seife.   \n",
       "14      Wenn es Toilettenpapier gibt, gibt es Seife.   \n",
       "15     Falls es Toilettenpapier gibt, gibt es Seife.   \n",
       "\n",
       "                                                S4  \\\n",
       "Index                                                \n",
       "1      Als Dennis sich umschaute, stellte er fest:   \n",
       "2      Als Dennis sich umschaute, stellte er fest:   \n",
       "5      Als Dennis sich umschaute, stellte er fest:   \n",
       "6      Als Dennis sich umschaute, stellte er fest:   \n",
       "10          Als Tim in der Drogerie ankam, sah er:   \n",
       "11          Als Tim in der Drogerie ankam, sah er:   \n",
       "14          Als Tim in der Drogerie ankam, sah er:   \n",
       "15          Als Tim in der Drogerie ankam, sah er:   \n",
       "\n",
       "                                                  S5  \\\n",
       "Index                                                  \n",
       "1                 Es gab Narzissen und es gab Rosen.   \n",
       "2                 Es gab Narzissen und es gab Rosen.   \n",
       "5           Es gab keine Narzissen und es gab Rosen.   \n",
       "6           Es gab keine Narzissen und es gab Rosen.   \n",
       "10          Es gab Toilettenpapier und es gab Seife.   \n",
       "11          Es gab Toilettenpapier und es gab Seife.   \n",
       "14     Es gab kein Toilettenpapier und es gab Seife.   \n",
       "15     Es gab kein Toilettenpapier und es gab Seife.   \n",
       "\n",
       "                                                      S6  \\\n",
       "Index                                                      \n",
       "1      Dennis ließ sich einen wunderschönen Strauß zu...   \n",
       "2      Dennis ließ sich einen wunderschönen Strauß zu...   \n",
       "5      Dennis ließ sich einen wunderschönen Strauß zu...   \n",
       "6      Dennis ließ sich einen wunderschönen Strauß zu...   \n",
       "10               Tim beeilte sich, da er es eilig hatte.   \n",
       "11               Tim beeilte sich, da er es eilig hatte.   \n",
       "14               Tim beeilte sich, da er es eilig hatte.   \n",
       "15               Tim beeilte sich, da er es eilig hatte.   \n",
       "\n",
       "                                   S7 Answer  List_Num  \n",
       "Index                                                   \n",
       "1      Hat Dennis Schokolade gekauft?   Nein         1  \n",
       "2      Hat Dennis Schokolade gekauft?   Nein         2  \n",
       "5      Hat Dennis Schokolade gekauft?   Nein         5  \n",
       "6      Hat Dennis Schokolade gekauft?   Nein         6  \n",
       "10          Hatte Tim sein Handy mit?     Ja         2  \n",
       "11          Hatte Tim sein Handy mit?     Ja         3  \n",
       "14          Hatte Tim sein Handy mit?     Ja         6  \n",
       "15          Hatte Tim sein Handy mit?     Ja         7  "
      ]
     },
     "execution_count": 103,
     "metadata": {},
     "output_type": "execute_result"
    }
   ],
   "source": [
    "import pandas as pd\n",
    "\n",
    "def load_df(name):\n",
    "    df = pd.read_csv(name, sep=';', skip_blank_lines=True, index_col='Index', dtype={'Index': 'Int32', 'Item': 'Int8', 'Condition': 'Int8', 'List_Num': 'Int8'})\n",
    "    df['is_pract'] = df['is_pract'].astype('bool')\n",
    "    df = df.dropna(subset=['Exp'])\n",
    "    return df\n",
    "\n",
    "load_df(\"bws_study.csv\").head(8)"
   ]
  },
  {
   "cell_type": "code",
   "execution_count": 51,
   "metadata": {},
   "outputs": [],
   "source": [
    "# %load open_debugger/blocks_3.py\n",
    "from expyriment import design, control, stimuli, misc, io\n",
    "import pandas as pd\n",
    "\n",
    "\n",
    "def load_df(name):\n",
    "    df = pd.read_csv(name, sep=';', skip_blank_lines=True, index_col='Index', dtype={'Index': 'Int32', 'Item': 'Int8', 'Condition': 'Int8', 'List_Num': 'Int8'})\n",
    "    df['is_pract'] = df['is_pract'].astype('bool')\n",
    "    df = df.dropna(subset=['Exp'])\n",
    "    return df\n",
    "\n",
    "\n",
    "control.set_develop_mode(False)\n",
    "control.defaults.window_mode = True\n",
    "control.defaults.window_size = [800, 600]\n",
    "control.defaults.initialize_delay = 0 # you shouldn't set this to zero but it annoys me and I don't care about timing.\n",
    "\n",
    "exp = design.Experiment(name=\"My Experiment\")\n",
    "control.initialize(exp)\n",
    "\n",
    "conditions = load_df(\"../bws_study.csv\").dropna().groupby(\"Condition\")\n",
    "print() #[data for nr, data in conditions]\n",
    "for nr, data in conditions:\n",
    "    block = design.Block(name=f\"Condition{nr}\")\n",
    "    block.set_factor(\"Condition\", nr)\n",
    "    for nr, sents in data.iterrows():\n",
    "        t = design.Trial()\n",
    "        t.set_factor(\"ItemNum\", sents[\"Item\"])\n",
    "        for sent in [\"S1\", \"S2\", \"S3\", \"S4\", \"S5\", \"S6\", \"S7\"]:\n",
    "            s = stimuli.TextLine(text=sents[sent], text_size=20)\n",
    "            t.add_stimulus(s)\n",
    "        block.add_trial(t)\n",
    "    exp.add_block(block)\n",
    "#right now, we have ALL conditions for all subjects...\n",
    "\n",
    "exp.add_bws_factor(\"FallsWennCondition\", [\"Wenn-Condition\", \"Falls-Condition\"])\n",
    "exp.add_bws_factor(\"GabGabCondition\", [\"GabGab-Condition\", \"GabnichtGab-Condition\"])\n",
    "\n",
    "print() #exp, exp.n_bws_factor_conditions\n",
    "control.start()\n",
    "#only after control.start() do we know the subject-ID and know wich conditions to delete..\n",
    "\n",
    "names_to_ids = {block.name: block.id for block in exp.blocks}\n",
    "print()\n",
    "\n",
    "if exp.get_permuted_bws_factor_condition(\"FallsWennCondition\") == \"Wenn-Condition\":\n",
    "    to_delete = {\"Condition2\", \"Condition6\"}\n",
    "else:\n",
    "    to_delete = {\"Condition1\", \"Condition5\"}\n",
    "\n",
    "if exp.get_permuted_bws_factor_condition(\"GabGabCondition\") == \"GabGab-Condition\":\n",
    "    to_delete.update([\"Condition5\", \"Condition6\"])\n",
    "else:\n",
    "    to_delete.update([\"Condition1\", \"Condition2\"])\n",
    "\n",
    "print() #exp\n",
    "for i in to_delete:\n",
    "    exp.remove_block(exp.find_block(names_to_ids[i])[0])\n",
    "\n",
    "print(\"Condition for you:\", [i.name for i in exp.blocks])\n",
    "print(exp.get_permuted_bws_factor_condition(\"GabGabCondition\"))\n",
    "print(exp.get_permuted_bws_factor_condition(\"FallsWennCondition\"))\n",
    "\n",
    "for block in exp.blocks:\n",
    "    for trial in block.trials:\n",
    "        trial.stimuli[2].present()\n",
    "        exp.clock.wait(1000)\n",
    "        trial.stimuli[4].present()\n",
    "        exp.clock.wait(1000)\n",
    "\n",
    "control.end()"
   ]
  },
  {
   "cell_type": "raw",
   "metadata": {},
   "source": [
    "<show in debugger>"
   ]
  },
  {
   "cell_type": "raw",
   "metadata": {},
   "source": [
    "\n",
    "\n",
    "\n",
    "\n",
    "\n"
   ]
  },
  {
   "cell_type": "markdown",
   "metadata": {},
   "source": [
    "## PsychoPy\n",
    "\n",
    "Psychopy has two classes for experimental design: the **Trialhandler** and the **StairHandler**. The TrialHandler chooses a trial (sequentially or randomly) out of a list of pre-defined conditions, whereas the stairhandler uses an *adaptive staircase*, where for each trial, the next condition is based on the participant's response."
   ]
  },
  {
   "cell_type": "markdown",
   "metadata": {},
   "source": [
    "### TrialHandler\n",
    "\n",
    "For our first example, we'll look at the simple TrialHandler:\n",
    "\n",
    "`psychopy.data.TrialHandler(trialList, nReps, method='random', dataTypes=None, extraInfo=None, seed=None, originPath=None, name='', autoLog=True)`"
   ]
  },
  {
   "cell_type": "code",
   "execution_count": 89,
   "metadata": {},
   "outputs": [],
   "source": [
    "import os\n",
    "os.chdir('../psychopy')"
   ]
  },
  {
   "cell_type": "code",
   "execution_count": 55,
   "metadata": {},
   "outputs": [],
   "source": [
    "# %load psychopy_4.py\n",
    "#Show the grating stimulus at different positions\n",
    "\n",
    "assert '__file__' in locals() #to make sure to not run this inside Jupyter\n",
    "\n",
    "from psychopy import visual, event, core, data\n",
    "mywin = visual.Window(size=[800,600], monitor=\"testMonitor\", units=\"norm\", color=[255,255,0])\n",
    "fixation = visual.GratingStim(win=mywin, size=0.015, pos=[0,0], sf=0, color=-1)\n",
    "grating = visual.GratingStim(win=mywin, mask=\"circle\", size=0.2, pos=[0,0], sf=3)\n",
    "event.globalKeys.add(key='escape', func=core.quit)\n",
    "#we know that stuff...\n",
    "\n",
    "positions = [-1, -0.5, 0, 0.5, 1]\n",
    "\n",
    "# 1 repetition of all trials, in sequential order\n",
    "handler = data.TrialHandler(positions, 1, method='sequential')\n",
    "\n",
    "# go through all trials as given by the TrialHandler\n",
    "for trial in handler:\n",
    "    # set grating stimulus to new position\n",
    "    grating.setPos([trial,0])\n",
    "    fixation.draw()\n",
    "    grating.draw()\n",
    "    mywin.flip()\n",
    "    event.waitKeys()"
   ]
  },
  {
   "cell_type": "code",
   "execution_count": 90,
   "metadata": {},
   "outputs": [],
   "source": [
    "!python psychopy_4.py"
   ]
  },
  {
   "cell_type": "raw",
   "metadata": {},
   "source": [
    "<show in debugger>"
   ]
  },
  {
   "cell_type": "markdown",
   "metadata": {},
   "source": [
    "In general when using either PsychoPy and Expyriment, make sure to adhere to the order of things here: \n",
    "* First, create window and handler\n",
    "* Afterwards (before you use them!) prepare all the stimuli\n",
    "* Then set up everything else that can be set up already (as eg. global keys) (before the actual procedure!)\n",
    "* Keep the actual procedure (`for trial in handler`) as short as possible, as to not mess up timing!"
   ]
  },
  {
   "cell_type": "markdown",
   "metadata": {},
   "source": [
    "### StairHandler\n",
    "\n",
    "As our second example, we'll steal (and dumb down for now) the second tutorial for PsychoPy's Coder-Interface, available at https://www.psychopy.org/coder/tutorial2.html. In this experiment, we **measure your JND (just noticable difference) in orientation using a staircase method**\n",
    "\n",
    "*Note that this example still doesn't contain any data logging and is still dumbed down a bit - the way we do data analysis at the end is not the correct way to do this, and as another example, in time-critical experiments you wouldn't use core.wait*"
   ]
  },
  {
   "cell_type": "code",
   "execution_count": null,
   "metadata": {},
   "outputs": [],
   "source": [
    "assert '__file__' in locals() #to make sure to not run this inside Jupyter\n",
    "\n",
    "from psychopy import core, visual, gui, data, event\n",
    "from psychopy.tools.filetools import fromFile, toFile\n",
    "import numpy, random\n",
    "\n",
    "expInfo = {'observer':'jwp', 'refOrientation':0}\n",
    "\n",
    "staircase = data.StairHandler(startVal = 20.0,\n",
    "                          stepType = 'db', stepSizes=[8,4,4,2],\n",
    "                          nUp=1, nDown=3,  # will home in on the 80% threshold\n",
    "                          nTrials=1)\n",
    "\n",
    "\n",
    "# create window and stimuli\n",
    "win = visual.Window([800,600],allowGUI=True, monitor='testMonitor', units='deg')\n",
    "foil = visual.GratingStim(win, sf=1, size=4, mask='gauss', ori=expInfo['refOrientation'])\n",
    "target = visual.GratingStim(win, sf=1, size=4, mask='gauss', ori=expInfo['refOrientation'])\n",
    "fixation = visual.GratingStim(win, color=-1, colorSpace='rgb',tex=None, mask='circle', size=0.2)\n",
    "\n",
    "# display instructions and wait\n",
    "message1 = visual.TextStim(win, pos=[0,+3],text='Hit a key when ready.')\n",
    "message2 = visual.TextStim(win, pos=[0,-3], text=\"Then press left or right to identify the %.1f deg probe.\" %expInfo['refOrientation'])\n",
    "message1.draw()\n",
    "message2.draw()\n",
    "fixation.draw()\n",
    "win.flip()\n",
    "\n",
    "event.waitKeys()\n",
    "\n",
    "for thisIncrement in staircase:  \n",
    "    targetSide= random.choice([-1,1])  # will be either +1(right) or -1(left)\n",
    "    foil.setPos([-5*targetSide, 0])\n",
    "    target.setPos([5*targetSide, 0])  # in other location\n",
    "\n",
    "    # set orientation of probe\n",
    "    foil.setOri(expInfo['refOrientation'] + thisIncrement)\n",
    "\n",
    "    foil.draw()\n",
    "    target.draw()\n",
    "    fixation.draw()\n",
    "    win.flip()\n",
    "\n",
    "    core.wait(0.5) # wait 500ms; but use a loop of x frames for more accurate timing\n",
    "\n",
    "    fixation.draw()\n",
    "    win.flip()\n",
    "\n",
    "    # get response\n",
    "    thisResp=None\n",
    "    while thisResp==None:\n",
    "        allKeys=event.waitKeys()\n",
    "        for thisKey in allKeys:\n",
    "            if thisKey=='left':\n",
    "                if targetSide==-1: thisResp = 1  # correct\n",
    "                else: thisResp = -1              # incorrect\n",
    "            elif thisKey=='right':\n",
    "                if targetSide== 1: thisResp = 1  # correct\n",
    "                else: thisResp = -1              # incorrect\n",
    "            elif thisKey in ['q', 'escape']:\n",
    "                core.quit()  # abort experiment\n",
    "        event.clearEvents()  # clear other (eg mouse) events - they clog the buffer\n",
    "\n",
    "    # add the data to the staircase so it can calculate the next level\n",
    "    staircase.addData(thisResp)\n",
    "    core.wait(1)\n",
    "\n",
    "# staircase has ended\n",
    "\n",
    "# give some output to user in the command line in the output window\n",
    "print('reversals:')\n",
    "print(staircase.reversalIntensities)\n",
    "approxThreshold = numpy.average(staircase.reversalIntensities[-6:])\n",
    "print('mean of final 6 reversals = %.3f' % (approxThreshold))\n",
    "\n",
    "# give some on-screen feedback\n",
    "feedback1 = visual.TextStim(\n",
    "        win, pos=[0,+3],\n",
    "        text='mean of final 6 reversals = %.3f' % (approxThreshold))\n",
    "\n",
    "feedback1.draw()\n",
    "fixation.draw()\n",
    "win.flip()\n",
    "event.waitKeys()  # wait for participant to respond\n",
    "\n",
    "win.close()\n",
    "core.quit()"
   ]
  },
  {
   "cell_type": "code",
   "execution_count": 91,
   "metadata": {},
   "outputs": [
    {
     "name": "stdout",
     "output_type": "stream",
     "text": [
      "reversals:\n",
      "[1.2619146889603865, 3.169786384922227, 2.0, 3.99052462993776]\n",
      "mean of final 6 reversals = 2.606\n"
     ]
    }
   ],
   "source": [
    "!python psychopy_5_jnd1.py"
   ]
  },
  {
   "cell_type": "markdown",
   "metadata": {},
   "source": [
    "*Description of the code:*\n",
    "\n",
    "PsychoPy allows us to set up an object to handle the presentation of stimuli in a staircase procedure, the `StairHandler`. This will define the increment of the orientation (i.e. how far it is from the reference orientation).    \n",
    "The staircase can be configured in many ways, but we’ll set it up to begin with an increment of 20deg (very detectable) and home in on the 80% threshold value.  \n",
    "We’ll step up our increment every time the subject gets a wrong answer and step down if they get three right answers in a row. The step size will also decrease after every 2 reversals, starting with an 8dB step (large) and going down to 1dB steps (smallish). We’ll finish after 50 trials.\n",
    "\n",
    "With each pass through the loop the staircase object will provide the new value for the intensity (which we will call thisIncrement). We will randomly choose a side to present the target stimulus using numpy, setting the position of the target to be there and the foil to be on the other side of the fixation point.  \n",
    "Note, that we must tell the staircase the result of this trial with its `addData()` method. Then it can work out whether the next trial is an increment or decrement."
   ]
  },
  {
   "cell_type": "markdown",
   "metadata": {},
   "source": [
    "# Measuring & Logging"
   ]
  },
  {
   "cell_type": "markdown",
   "metadata": {},
   "source": [
    "## Measuring time\n",
    "\n",
    "Accurate timing of stimuli and IO as well as measuring response times is crucial for all kinds of experiments, so be aware of how you measure time!  "
   ]
  },
  {
   "cell_type": "markdown",
   "metadata": {},
   "source": [
    "\n",
    "  \n",
    "A standard way of measuring time is:"
   ]
  },
  {
   "cell_type": "code",
   "execution_count": 92,
   "metadata": {},
   "outputs": [
    {
     "name": "stdout",
     "output_type": "stream",
     "text": [
      "This took 1.001457929611206 seconds\n"
     ]
    }
   ],
   "source": [
    "import time\n",
    "start = time.time()\n",
    "time.sleep(1)\n",
    "print(\"This took \" + str(time.time()-start) + \" seconds\")"
   ]
  },
  {
   "cell_type": "markdown",
   "metadata": {},
   "source": [
    "While generally a good idea, Python's time()-function may not be as accurate as you may think!  \n",
    "\n",
    "For Linux and Mac, time.time()'s precision is **allegedly** around +-0.001 milliseconds.  \n",
    "For Windows, the precision +- 16 milliseconds precision due to clock implementation problems due to process interrupts.\n",
    "*[source1](https://stackoverflow.com/questions/1938048/high-precision-clock-in-python/38256446#38256446), [source2](https://docs.microsoft.com/en-us/windows-hardware/drivers/kernel/high-resolution-timers)*\n",
    "\n",
    "For measuring time differences, Python provides the performance-counter, that uses the most accurate measure of time your system provides (in the case of Windows, one that doesn't rely on the Windows-clock)"
   ]
  },
  {
   "cell_type": "code",
   "execution_count": 93,
   "metadata": {},
   "outputs": [
    {
     "name": "stdout",
     "output_type": "stream",
     "text": [
      "This took 1.0005711470003007 seconds\n"
     ]
    }
   ],
   "source": [
    "start = time.perf_counter()\n",
    "time.sleep(1)\n",
    "print(\"This took \" + str(time.perf_counter()-start) + \" seconds\")"
   ]
  },
  {
   "cell_type": "markdown",
   "metadata": {},
   "source": [
    "But keep in mind that there are differences among CPUs and even operating systems!  \n",
    "Another caveat is using time.clock() which, amongst the fact that it's deprecated since Python 3.3, behaves completely different on Windows and Unix:\n",
    "\n",
    "*On Unix, return the current processor time as a floating point number expressed in seconds. The precision, and in fact the very definition of the meaning of “processor time”, depends on that of the C function of the same name, but in any case, this is the function to use for benchmarking Python or timing algorithms.*  \n",
    "*On Windows, this function returns wall-clock seconds elapsed since the first call to this function, as a floating point number, based on the Win32 function QueryPerformanceCounter(). The resolution is typically better than one microsecond.* [(see also)](https://stackoverflow.com/questions/25773901/understanding-time-clock-and-time-time)"
   ]
  },
  {
   "cell_type": "markdown",
   "metadata": {},
   "source": [
    "process_time (and the deprecated time.clock()) only count the time the system spent in this process:"
   ]
  },
  {
   "cell_type": "code",
   "execution_count": 94,
   "metadata": {},
   "outputs": [
    {
     "name": "stderr",
     "output_type": "stream",
     "text": [
      "/home/chris/anaconda3/envs/scientific_programming/lib/python3.7/site-packages/ipykernel_launcher.py:2: DeprecationWarning: time.clock has been deprecated in Python 3.3 and will be removed from Python 3.8: use time.perf_counter or time.process_time instead\n",
      "  \n"
     ]
    },
    {
     "name": "stdout",
     "output_type": "stream",
     "text": [
      "This took 0.0027259999999955653 seconds\n"
     ]
    },
    {
     "name": "stderr",
     "output_type": "stream",
     "text": [
      "/home/chris/anaconda3/envs/scientific_programming/lib/python3.7/site-packages/ipykernel_launcher.py:4: DeprecationWarning: time.clock has been deprecated in Python 3.3 and will be removed from Python 3.8: use time.perf_counter or time.process_time instead\n",
      "  after removing the cwd from sys.path.\n"
     ]
    }
   ],
   "source": [
    "import time\n",
    "start = time.clock()\n",
    "time.sleep(1)\n",
    "print(\"This took \" + str(time.clock()-start) + \" seconds\")"
   ]
  },
  {
   "cell_type": "code",
   "execution_count": 95,
   "metadata": {},
   "outputs": [
    {
     "name": "stdout",
     "output_type": "stream",
     "text": [
      "This took 0.9994979190021667 seconds\n"
     ]
    }
   ],
   "source": [
    "import time\n",
    "start_p = time.process_time()\n",
    "start = time.perf_counter()\n",
    "time.sleep(1)\n",
    "end_p = time.process_time()\n",
    "end = time.perf_counter()\n",
    "print(\"This took \" + str((end-start)-(end_p-start_p)) + \" seconds\")"
   ]
  },
  {
   "cell_type": "markdown",
   "metadata": {},
   "source": [
    "### Pygame and timing"
   ]
  },
  {
   "cell_type": "markdown",
   "metadata": {},
   "source": [
    "Pygame provides explicit information about the precision of its own stopwatch on your platform (..however I am not sure how trustworthy that is):"
   ]
  },
  {
   "cell_type": "code",
   "execution_count": 69,
   "metadata": {},
   "outputs": [
    {
     "name": "stdout",
     "output_type": "stream",
     "text": [
      "Pygame's timer resolution is: 10 milliseconds.\n"
     ]
    }
   ],
   "source": [
    "import pygame\n",
    "print(\"Pygame's timer resolution is:\", pygame.TIMER_RESOLUTION, \"milliseconds.\")"
   ]
  },
  {
   "cell_type": "markdown",
   "metadata": {},
   "source": [
    "### Expyriment and timing"
   ]
  },
  {
   "cell_type": "markdown",
   "metadata": {},
   "source": [
    "Expyriment's measurement of response times **allegedly** automatically uses the most accurate timers available.  \n",
    "Further, expyriment provides its own stopwatch (```exp.clock```), that **should be used at all times in an experiment.**   \n",
    "To quote their paper: ```\"Since Python wraps C functions for getting the system time, the accuracy is even more precise than milliseconds (which is the unit Expyriment uses).\"```"
   ]
  },
  {
   "cell_type": "code",
   "execution_count": 70,
   "metadata": {},
   "outputs": [
    {
     "name": "stdout",
     "output_type": "stream",
     "text": [
      "*** DEVELOP MODE ***\n"
     ]
    }
   ],
   "source": [
    "from expyriment import design, control, stimuli, misc\n",
    "control.set_develop_mode(True)\n",
    "used_exp_names = []\n",
    "\n",
    "class StimuliDemo:\n",
    "    \n",
    "    def get_name(self, name):\n",
    "        global used_exp_names\n",
    "        used_name = name; i = 0\n",
    "        while used_name in used_exp_names:\n",
    "            used_name = name+str(i)\n",
    "            i += 1\n",
    "        used_exp_names.append(used_name)\n",
    "        return used_name\n",
    "    \n",
    "    def __init__(self, name):\n",
    "        exp = design.Experiment(name=self.get_name(name))\n",
    "        control.initialize(exp)\n",
    "        self.exp = exp\n",
    "\n",
    "    def __enter__(self):\n",
    "        control.start()\n",
    "        return self.exp\n",
    "\n",
    "    def __exit__(self, *args):\n",
    "        control.end()"
   ]
  },
  {
   "cell_type": "code",
   "execution_count": 71,
   "metadata": {},
   "outputs": [
    {
     "name": "stdout",
     "output_type": "stream",
     "text": [
      "Standard output and error logging is switched off under IPython.\n"
     ]
    }
   ],
   "source": [
    "with StimuliDemo(\"Experiment\") as exp:    \n",
    "    target = stimuli.TextLine(text=\"I am a text!\", text_size=80)\n",
    "    target.preload()\n",
    "    target.present()\n",
    "    exp.clock.wait(500)"
   ]
  },
  {
   "cell_type": "markdown",
   "metadata": {},
   "source": [
    "It is important to know if expyriment presents stimuli accurately on time.\n",
    "\n",
    "Expyriment **allegedly** synchronizes visual stimulus presentation to the refresh rate of the display $\\rightarrow$ time a stimulus is allgedly presented is the one you actually see it!\n",
    "* Pygame doesn't do that, which is why it has several milliseconds uncertainty!\n",
    "* video latency is **allegedly** 0 ms (17ms max update interval on 60hz screen)\n",
    "* audio latency is **allegedly** between 15 and 20 ms\n",
    "* serial port latency <1ms\n",
    "* in a benchmark (automatic reaction to stimulus), the response time was reliably under 2ms for visual, and under 20ms (and stable) for auditory stimuli.\n"
   ]
  },
  {
   "cell_type": "markdown",
   "metadata": {},
   "source": [
    "To make sure that stimuli are also accurately presented precisely on time, the ```preload()``` and ```present()```-methods return the number of milliseconds they took - so you can (and should!) use this time to subtract it from other waiting times!"
   ]
  },
  {
   "cell_type": "code",
   "execution_count": 72,
   "metadata": {},
   "outputs": [
    {
     "name": "stdout",
     "output_type": "stream",
     "text": [
      "Standard output and error logging is switched off under IPython.\n"
     ]
    }
   ],
   "source": [
    "letters = list(\"ABCDE\")\n",
    "with StimuliDemo(\"Experiment\") as exp:   \n",
    "    for letter in letters:\n",
    "        target = stimuli.TextLine(text=letter, text_size=80)\n",
    "        exp.clock.wait(500 - stimuli.FixCross().present() - target.preload())\n",
    "        target.present()\n",
    "        exp.clock.wait(1000)\n",
    "        exp.clock.wait(1000 - stimuli.BlankScreen().present() - target.unload())"
   ]
  },
  {
   "cell_type": "markdown",
   "metadata": {},
   "source": [
    "### Recent findings and PsychoPy"
   ]
  },
  {
   "cell_type": "markdown",
   "metadata": {},
   "source": [
    "According to a new paper from the developers of PsychoPy ([https://psyarxiv.com/d6nu5/](https://psyarxiv.com/d6nu5/)), in which they measured variability and lag of stimulus presentation as well as response logging, Expyriment is really imprecise when it comes to timing:"
   ]
  },
  {
   "cell_type": "markdown",
   "metadata": {},
   "source": [
    "![](figures/timing_study.png)"
   ]
  },
  {
   "cell_type": "markdown",
   "metadata": {},
   "source": [
    "There are several things this study points out when it comes to timing:\n",
    "* \"Expyriment’s stimulus presentation and response monitoring is built up on the Pygame Python library, which has not been optimized for low-latency, high-precision timing. We would not recommend the use of this package where precise stimulus/response timing is required.\"\n",
    "    * Note that by default (yet), PsychoPy also uses the Pygame backend, and will have the same timing problems!\n",
    "* Using a USB-Keyboard to measure response time (instead of a high-precision button-box) adds another 20-40ms of delay\n",
    "* Often, especially in Expyriment, a stimulus is shown for 1 extra screen-update-frame (which, at 60hz, is 16.7ms)\n",
    "* Expyriment's audio-presentation is incredibly imprrecise\n",
    "* The further down on a monitor you present a stimulus, the more lag it has (up to, again, 16.7ms after upper ones)\n",
    "* Monitors sometimes have seconds that add lag (make sure to select gaming-settings, as they are generally the fastest)\n",
    "* Operating systems can add extra-lag \n",
    "    * Windows 10 adds a 1-frame-lag (16.7ms) if you turn on screen scaling\n",
    "    * Mac is the worst in Timing\n",
    "* *\"It should be noted that substantial timing improvements were made to [Psychopy] in the 2020.1 release\"*\n",
    "    * You wouldn't use `core.wait()` in Psychopy if precise timing is important, as you'll probably overshoot by 1 frame. \n",
    "    * PsychoPy allows you to present a stimulus for acertian number of screen refreshes instead which is better for short stimuli.\n",
    "    * PsychoPy has several settings to make sure you'll get the most precise timing! Take [the paper](https://psyarxiv.com/d6nu5/) as reference!"
   ]
  },
  {
   "cell_type": "code",
   "execution_count": null,
   "metadata": {},
   "outputs": [],
   "source": [
    "# We can have as many timers as we like and reset them at any time during the experiment, \n",
    "# but I generally use one to measure the time since the experiment started and another that I reset at the beginning of each trial.\n",
    "globalClock = core.Clock()\n",
    "trialClock = core.Clock()"
   ]
  },
  {
   "cell_type": "code",
   "execution_count": 74,
   "metadata": {},
   "outputs": [
    {
     "data": {
      "text/html": [
       "\n",
       "        <iframe\n",
       "            width=\"100%\"\n",
       "            height=\"800\"\n",
       "            src=\"https://www.psychopy.org/api/clock.html\"\n",
       "            frameborder=\"0\"\n",
       "            allowfullscreen\n",
       "        ></iframe>\n",
       "        "
      ],
      "text/plain": [
       "<IPython.lib.display.IFrame at 0x7f4553f44cc0>"
      ]
     },
     "execution_count": 74,
     "metadata": {},
     "output_type": "execute_result"
    }
   ],
   "source": [
    "from IPython.display import IFrame\n",
    "\n",
    "IFrame(\n",
    "    \"https://www.psychopy.org/api/clock.html\",\n",
    "    width=\"100%\",\n",
    "    height=800,\n",
    ")"
   ]
  },
  {
   "cell_type": "markdown",
   "metadata": {},
   "source": [
    "## Data logging\n",
    "\n",
    "Both Expyriment and PschoPy provide the possibility to log everything that's happening throughout the experiment.  \n",
    "Further, both libraries actually log to *two files*, one of which is a full log containing everything that could be remotely relevant, the other basically containing only what you want it to."
   ]
  },
  {
   "cell_type": "markdown",
   "metadata": {},
   "source": [
    "### Expyriment"
   ]
  },
  {
   "cell_type": "markdown",
   "metadata": {},
   "source": [
    "After the experiment ended using control.end(), two files will automatically be saved: \n",
    "* An event log file (```events/name_vpnr_timestamp.xpe```) that contains an automatic history of all events: \n",
    "  * A detailed description of experimental design (including a complete listing of trials)\n",
    "  * Stimulus presentation and expected IO events and device communications\n",
    "  * Upon selection even more (all screen operations, full serial port communication, ...)\n",
    "* A data file (```data/name_vpnr_timestamp.xpd```), containing what was manually saved during the experiment\n",
    "\n",
    "Both files are *commented* csv-files and can be inspected with most csv-viewers (and with pandas, when explicitly skipping the commented rows!)\n",
    "\n",
    "To add something to the data-file, you use the ```exp.data``` attribute.  \n",
    "Before ```control.start()```, you can add the column names via:  \n",
    "```exp.data_variable_names = [\"name1\", \"name\"]```  \n",
    "Adding variables happens using \n",
    "```exp.data.add([value1, value2])```"
   ]
  },
  {
   "cell_type": "code",
   "execution_count": 51,
   "metadata": {},
   "outputs": [],
   "source": [
    "import os\n",
    "os.chdir('../expyriment')"
   ]
  },
  {
   "cell_type": "code",
   "execution_count": 8,
   "metadata": {},
   "outputs": [],
   "source": [
    "# %load responsetime.py\n",
    "assert '__file__' in locals() #to make sure to not run this inside Jupyter\n",
    "\n",
    "from expyriment import design, control, stimuli, misc, io\n",
    "import random\n",
    "control.set_develop_mode(True)\n",
    "\n",
    "exp = design.Experiment(name=\"My Experiment\")\n",
    "control.initialize(exp)\n",
    "\n",
    "fixcross = stimuli.FixCross()\n",
    "fixcross.preload()\n",
    "blankscreen = stimuli.BlankScreen()\n",
    "blankscreen.preload()\n",
    "\n",
    "b = design.Block(name=\"Only Block\")\n",
    "for i in range(5):\n",
    "    waiting_time = random.randint(200, 2000)\n",
    "    t = design.Trial()\n",
    "    t.set_factor(\"waiting_time\", waiting_time)\n",
    "    s = stimuli.Circle(50)\n",
    "    t.add_stimulus(s)\n",
    "    b.add_trial(t)\n",
    "exp.add_block(b)\n",
    "    \n",
    "    \n",
    "exp.data_variable_names = [\"Waiting Time\", \"Response Time\"]\n",
    "    \n",
    "control.start()\n",
    "\n",
    "for block in exp.blocks:\n",
    "    for trial in block.trials:\n",
    "        fixcross.present()\n",
    "        exp.clock.wait(trial.get_factor(\"waiting_time\") - trial.stimuli[0].preload())\n",
    "        trial.stimuli[0].present() \n",
    "        button, rt = exp.keyboard.wait(keys=[misc.constants.K_SPACE])\n",
    "        exp.data.add([trial.get_factor(\"waiting_time\"), rt])\n",
    "        \n",
    "            \n",
    "control.end()            "
   ]
  },
  {
   "cell_type": "code",
   "execution_count": 55,
   "metadata": {},
   "outputs": [
    {
     "name": "stdout",
     "output_type": "stream",
     "text": [
      "*** DEVELOP MODE ***\n",
      "Standard output and error logging is switched off under IPython.\n"
     ]
    }
   ],
   "source": [
    "%run responsetime.py"
   ]
  },
  {
   "cell_type": "code",
   "execution_count": 57,
   "metadata": {},
   "outputs": [
    {
     "name": "stdout",
     "output_type": "stream",
     "text": [
      "#Expyriment 0.10.0 (Python 3.7.3), .xpd-file, coding: UTF-8\n",
      "#date: Di Jul 07 2020 11:16:13\n",
      "#--EXPERIMENT INFO\n",
      "#e mainfile: responsetime.py\n",
      "#e sha1: None\n",
      "#e modules: \n",
      "#e Experiment: My Experiment\n",
      "#e no between subject factors\n",
      "#e Block 0: Only Block\n",
      "#e     block factors: \n",
      "#e     n trials: 5\n",
      "#e     trial factors: waiting_time = [1439, 1850, 615, 696, 915]\n",
      "#e                    \n",
      "#--SUBJECT INFO\n",
      "#s id: 3\n",
      "subject_id,Waiting Time,Response Time\n",
      "3,615,439\n",
      "3,696,316\n",
      "3,915,283\n",
      "3,1850,292\n",
      "3,1439,271\n"
     ]
    }
   ],
   "source": [
    "%cat data/responsetime_03.xpd"
   ]
  },
  {
   "cell_type": "code",
   "execution_count": 58,
   "metadata": {},
   "outputs": [
    {
     "name": "stdout",
     "output_type": "stream",
     "text": [
      "#Expyriment 0.10.0 (Python 3.7.3), .xpe-file, coding: UTF-8\n",
      "#date: Di Jul 07 2020 11:16:13\n",
      "#sha1: None\n",
      "#modules: \n",
      "#display: size=(800, 600), window_mode=True, open_gl=2\n",
      "#os: uname_result(system='Linux', node='chris-ThinkPad-E480', release='4.15.0-106-generic', version='#107-Ubuntu SMP Thu Jun 4 11:27:52 UTC 2020', machine='x86_64', processor='x86_64')\n",
      "Time,Type,Event,Value,Detail,Detail2\n",
      "2856,design,log,\n",
      "#design: #exp: My Experiment\n",
      "#design: #dvn: Waiting Time,Response Time\n",
      "#design: block_cnt,block_id,trial_cnt,trial_id,waiting_time\n",
      "#design: 0,0,0,0,615\n",
      "#design: 0,0,1,1,696\n",
      "#design: 0,0,2,2,915\n",
      "#design: 0,0,3,3,1850\n",
      "#design: 0,0,4,4,1439\n",
      "2856,design,logged,\n",
      "2856,Experiment,started\n",
      "2857,Stimulus,presented,0\n",
      "3472,Stimulus,presented,2\n",
      "3912,Keyboard,received,32,wait\n",
      "3914,Stimulus,presented,0\n",
      "4610,Stimulus,presented,3\n",
      "4928,Keyboard,received,32,wait\n",
      "4929,Stimulus,presented,0\n",
      "5844,Stimulus,presented,4\n",
      "6128,Keyboard,received,32,wait\n",
      "6129,Stimulus,presented,0\n",
      "7979,Stimulus,presented,5\n",
      "8272,Keyboard,received,32,wait\n",
      "8273,Stimulus,presented,0\n",
      "9712,Stimulus,presented,6\n",
      "9984,Keyboard,received,32,wait\n",
      "9984,Experiment,ended\n"
     ]
    }
   ],
   "source": [
    "%cat events/responsetime_03.xpe"
   ]
  },
  {
   "cell_type": "code",
   "execution_count": 60,
   "metadata": {},
   "outputs": [
    {
     "data": {
      "text/html": [
       "<div>\n",
       "<style scoped>\n",
       "    .dataframe tbody tr th:only-of-type {\n",
       "        vertical-align: middle;\n",
       "    }\n",
       "\n",
       "    .dataframe tbody tr th {\n",
       "        vertical-align: top;\n",
       "    }\n",
       "\n",
       "    .dataframe thead th {\n",
       "        text-align: right;\n",
       "    }\n",
       "</style>\n",
       "<table border=\"1\" class=\"dataframe\">\n",
       "  <thead>\n",
       "    <tr style=\"text-align: right;\">\n",
       "      <th></th>\n",
       "      <th>Time</th>\n",
       "      <th>Type</th>\n",
       "      <th>Event</th>\n",
       "      <th>Value</th>\n",
       "      <th>Detail</th>\n",
       "      <th>Detail2</th>\n",
       "    </tr>\n",
       "  </thead>\n",
       "  <tbody>\n",
       "    <tr>\n",
       "      <th>0</th>\n",
       "      <td>484</td>\n",
       "      <td>design</td>\n",
       "      <td>log</td>\n",
       "      <td>NaN</td>\n",
       "      <td>NaN</td>\n",
       "      <td>NaN</td>\n",
       "    </tr>\n",
       "    <tr>\n",
       "      <th>1</th>\n",
       "      <td>484</td>\n",
       "      <td>design</td>\n",
       "      <td>logged</td>\n",
       "      <td>NaN</td>\n",
       "      <td>NaN</td>\n",
       "      <td>NaN</td>\n",
       "    </tr>\n",
       "    <tr>\n",
       "      <th>2</th>\n",
       "      <td>484</td>\n",
       "      <td>Experiment</td>\n",
       "      <td>started</td>\n",
       "      <td>NaN</td>\n",
       "      <td>NaN</td>\n",
       "      <td>NaN</td>\n",
       "    </tr>\n",
       "    <tr>\n",
       "      <th>3</th>\n",
       "      <td>484</td>\n",
       "      <td>Stimulus</td>\n",
       "      <td>presented</td>\n",
       "      <td>0.0</td>\n",
       "      <td>NaN</td>\n",
       "      <td>NaN</td>\n",
       "    </tr>\n",
       "    <tr>\n",
       "      <th>4</th>\n",
       "      <td>1819</td>\n",
       "      <td>Stimulus</td>\n",
       "      <td>presented</td>\n",
       "      <td>2.0</td>\n",
       "      <td>NaN</td>\n",
       "      <td>NaN</td>\n",
       "    </tr>\n",
       "  </tbody>\n",
       "</table>\n",
       "</div>"
      ],
      "text/plain": [
       "   Time        Type      Event  Value Detail  Detail2\n",
       "0   484      design        log    NaN    NaN      NaN\n",
       "1   484      design     logged    NaN    NaN      NaN\n",
       "2   484  Experiment    started    NaN    NaN      NaN\n",
       "3   484    Stimulus  presented    0.0    NaN      NaN\n",
       "4  1819    Stimulus  presented    2.0    NaN      NaN"
      ]
     },
     "execution_count": 60,
     "metadata": {},
     "output_type": "execute_result"
    }
   ],
   "source": [
    "pd.read_csv(\"events/responsetime_01.xpe\", comment='#').head()"
   ]
  },
  {
   "cell_type": "code",
   "execution_count": 61,
   "metadata": {},
   "outputs": [
    {
     "data": {
      "text/html": [
       "<div>\n",
       "<style scoped>\n",
       "    .dataframe tbody tr th:only-of-type {\n",
       "        vertical-align: middle;\n",
       "    }\n",
       "\n",
       "    .dataframe tbody tr th {\n",
       "        vertical-align: top;\n",
       "    }\n",
       "\n",
       "    .dataframe thead th {\n",
       "        text-align: right;\n",
       "    }\n",
       "</style>\n",
       "<table border=\"1\" class=\"dataframe\">\n",
       "  <thead>\n",
       "    <tr style=\"text-align: right;\">\n",
       "      <th></th>\n",
       "      <th>subject_id</th>\n",
       "      <th>Waiting Time</th>\n",
       "      <th>Response Time</th>\n",
       "    </tr>\n",
       "  </thead>\n",
       "  <tbody>\n",
       "    <tr>\n",
       "      <th>0</th>\n",
       "      <td>1</td>\n",
       "      <td>1334</td>\n",
       "      <td>232</td>\n",
       "    </tr>\n",
       "    <tr>\n",
       "      <th>1</th>\n",
       "      <td>1</td>\n",
       "      <td>1045</td>\n",
       "      <td>264</td>\n",
       "    </tr>\n",
       "    <tr>\n",
       "      <th>2</th>\n",
       "      <td>1</td>\n",
       "      <td>1667</td>\n",
       "      <td>250</td>\n",
       "    </tr>\n",
       "    <tr>\n",
       "      <th>3</th>\n",
       "      <td>1</td>\n",
       "      <td>1839</td>\n",
       "      <td>229</td>\n",
       "    </tr>\n",
       "    <tr>\n",
       "      <th>4</th>\n",
       "      <td>1</td>\n",
       "      <td>1936</td>\n",
       "      <td>244</td>\n",
       "    </tr>\n",
       "  </tbody>\n",
       "</table>\n",
       "</div>"
      ],
      "text/plain": [
       "   subject_id  Waiting Time  Response Time\n",
       "0           1          1334            232\n",
       "1           1          1045            264\n",
       "2           1          1667            250\n",
       "3           1          1839            229\n",
       "4           1          1936            244"
      ]
     },
     "execution_count": 61,
     "metadata": {},
     "output_type": "execute_result"
    }
   ],
   "source": [
    "pd.read_csv(\"data/responsetime_01.xpd\", comment='#').head()"
   ]
  },
  {
   "cell_type": "markdown",
   "metadata": {},
   "source": [
    "### PsychoPy"
   ]
  },
  {
   "cell_type": "code",
   "execution_count": 62,
   "metadata": {},
   "outputs": [],
   "source": [
    "import os\n",
    "os.chdir('../psychopy')"
   ]
  },
  {
   "cell_type": "markdown",
   "metadata": {},
   "source": [
    "#### Full log"
   ]
  },
  {
   "cell_type": "markdown",
   "metadata": {},
   "source": [
    "PsychoPy extends the `logging` module which we know already of week 5 to do the *full log*. We have seen already that the logging-module is very customizable. PsychoPy uses this to, for example, log the time after program execution instead of the actual date, and adds two logging-level `DATA` and `EXP` (between WARNING and INFO)\n",
    "\n",
    "[https://www.psychopy.org/api/logging.html](https://www.psychopy.org/api/logging.html)"
   ]
  },
  {
   "cell_type": "code",
   "execution_count": 63,
   "metadata": {},
   "outputs": [
    {
     "name": "stdout",
     "output_type": "stream",
     "text": [
      "0.2172 \tWARNING \tWe strongly recommend you activate the PTB sound engine in PsychoPy prefs as the preferred audio engine. Its timing is vastly superior. Your prefs are currently set to use ['sounddevice', 'pyo', 'pygame'] (in that order).\n",
      "5.5665 \tWARNING \tUser requested fullscreen with size [1024  768], but screen is actually [1920, 1080]. Using actual size\n",
      "6.1653 \tEXP \tCreated window1 = Window(allowGUI=False, allowStencil=False, args=UNKNOWN, autoLog=True, bitsMode=UNKNOWN, blendMode='avg', bpc=(8, 8, 8), color=array([0., 0., 0.]), colorSpace='rgb', depthBits=8, fullscr=<method-wrapper '__getattribute__' of attributeSetter object at 0x7ff4f5d5d5c0>, gamma=None, gammaErrorPolicy='raise', kwargs=UNKNOWN, lms=UNKNOWN, monitor=<psychopy.monitors.calibTools.Monitor object at 0x7ff4d4c86ac8>, multiSample=False, name='window1', numSamples=2, pos=[0.0, 0.0], screen=0, size=array([1920, 1080]), stencilBits=0, stereo=False, units='height', useFBO=True, useRetina=False, viewOri=0.0, viewPos=None, viewScale=None, waitBlanking=True, winType='pyglet')\n",
      "6.1655 \tEXP \twindow1: recordFrameIntervals = False\n",
      "6.3300 \tEXP \twindow1: recordFrameIntervals = True\n",
      "6.5139 \tEXP \twindow1: recordFrameIntervals = False\n",
      "6.6214 \tEXP \tCreated text = TextStim(__class__=<class 'psychopy.visual.text.TextStim'>, alignHoriz=method-wrapper(...), alignText='center', alignVert=method-wrapper(...), anchorHoriz='center', anchorVert='center', antialias=True, autoLog=True, bold=False, color='white', colorSpace='named', contrast=1.0, depth=0.0, flipHoriz=False, flipVert=False, font='Arial', fontFiles=[], height=0.1, italic=False, languageStyle='LTR', name='text', opacity=1.0, ori=0, pos=array([0., 0.]), rgb=array([255., 255., 255.]), text='Hello, welcome!\\nasdf', units='height', win=Window(...), wrapWidth=1)\n",
      "6.6266 \tEXP \tCreated target = TextStim(__class__=<class 'psychopy.visual.text.TextStim'>, alignHoriz=method-wrapper(...), alignText='center', alignVert=method-wrapper(...), anchorHoriz='center', anchorVert='center', antialias=True, autoLog=True, bold=False, color='white', colorSpace='named', contrast=1.0, depth=0.0, flipHoriz=False, flipVert=False, font='Arial', fontFiles=[], height=0.1, italic=False, languageStyle='LTR', name='target', opacity=1.0, ori=0, pos=array([0., 0.]), rgb=array([255., 255., 255.]), text='default text', units='height', win=Window(...), wrapWidth=1)\n",
      "6.6395 \tEXP \ttext: autoDraw = True\n",
      "7.0867 \tEXP \tImported stroop_conditions.csv as conditions, 3 conditions, 4 params\n"
     ]
    }
   ],
   "source": [
    "%%bash\n",
    "head stroop/data/chris_stroop_2020_Jul_01_1509.log"
   ]
  },
  {
   "cell_type": "code",
   "execution_count": null,
   "metadata": {},
   "outputs": [],
   "source": [
    "#this cannot be executed as it's a snipped from another script \n",
    "\n",
    "from psychopy import logging\n",
    "\n",
    "filename = _thisDir + os.sep + u'data/%s_%s_%s' % (expInfo['participant'], expName, expInfo['date'])\n",
    "\n",
    "# save a log file for detail verbose info\n",
    "logFile = logging.LogFile(filename+'.log', level=logging.EXP)\n",
    "logging.console.setLevel(logging.WARNING)  # this outputs to the screen, not a file\n",
    "\n",
    "#actual code here\n",
    "\n",
    "\n",
    "logging.flush()"
   ]
  },
  {
   "cell_type": "markdown",
   "metadata": {},
   "source": [
    "#### Tabular log"
   ]
  },
  {
   "cell_type": "markdown",
   "metadata": {},
   "source": [
    "To create the tabular log, PsychoPy provides the [`psychopy.data`](https://www.psychopy.org/api/data.html) submodule, which contains the `ExperimentHandler`.\n",
    "\n",
    "The `ExperimentHandler` provides the method `addData(key, val)` which allows to add a key-value-pair. The data is saved as Pandas-Style tabular data, meaning that a key can have several values (and normally has one for each trial). When `ExperimentHandler`s `nextEntry()` is called, the handler will go over to the next row. Not every key has to have a value in every single row, such that it's possible to write some general information into the first row of the resulting file.\n",
    "```\n",
    "# add some data for this trial\n",
    "exp.addData('resp.rt', 0.8)\n",
    "exp.addData('resp.key', 'k')\n",
    "# end of trial - move to next line in data output\n",
    "exp.nextEntry()\n",
    "```\n",
    "\n",
    "Further, you can add multiple `TrialHandler`s or `StairHandler`s (or more) to one `ExperimentHandler` using it's `addLoop` method. Every `Handler` also has the `addData` and `nextEntry`. \n",
    "\n",
    "Normally you use the `ExperimentHandler` solely to create a single data file from an experiment with many different loops, which you add separately."
   ]
  },
  {
   "cell_type": "code",
   "execution_count": 26,
   "metadata": {},
   "outputs": [
    {
     "data": {
      "text/html": [
       "\n",
       "        <iframe\n",
       "            width=\"100%\"\n",
       "            height=\"800\"\n",
       "            src=\"https://www.psychopy.org/api/data.html\"\n",
       "            frameborder=\"0\"\n",
       "            allowfullscreen\n",
       "        ></iframe>\n",
       "        "
      ],
      "text/plain": [
       "<IPython.lib.display.IFrame at 0x7f084800b630>"
      ]
     },
     "execution_count": 26,
     "metadata": {},
     "output_type": "execute_result"
    }
   ],
   "source": [
    "from IPython.display import IFrame\n",
    "IFrame(\"https://www.psychopy.org/api/data.html\", width=\"100%\", height=800)"
   ]
  },
  {
   "cell_type": "markdown",
   "metadata": {},
   "source": [
    "Furthermore, you can easily save an experiment to using [pickle](https://docs.python.org/3/library/pickle.html). PsychoPy uses the standard that it names this serialized Experiments `name.psydat`."
   ]
  },
  {
   "cell_type": "code",
   "execution_count": 64,
   "metadata": {},
   "outputs": [
    {
     "ename": "NameError",
     "evalue": "name '_thisDir' is not defined",
     "output_type": "error",
     "traceback": [
      "\u001b[0;31m---------------------------------------------------------------------------\u001b[0m",
      "\u001b[0;31mNameError\u001b[0m                                 Traceback (most recent call last)",
      "\u001b[0;32m<ipython-input-64-cabda293949a>\u001b[0m in \u001b[0;36m<module>\u001b[0;34m\u001b[0m\n\u001b[1;32m     14\u001b[0m \u001b[0mexpInfo\u001b[0m\u001b[0;34m[\u001b[0m\u001b[0;34m'psychopyVersion'\u001b[0m\u001b[0;34m]\u001b[0m \u001b[0;34m=\u001b[0m \u001b[0mpsychopyVersion\u001b[0m\u001b[0;34m\u001b[0m\u001b[0;34m\u001b[0m\u001b[0m\n\u001b[1;32m     15\u001b[0m \u001b[0;34m\u001b[0m\u001b[0m\n\u001b[0;32m---> 16\u001b[0;31m \u001b[0mfilename\u001b[0m \u001b[0;34m=\u001b[0m \u001b[0m_thisDir\u001b[0m \u001b[0;34m+\u001b[0m \u001b[0mos\u001b[0m\u001b[0;34m.\u001b[0m\u001b[0msep\u001b[0m \u001b[0;34m+\u001b[0m \u001b[0;34mu'data/%s_%s_%s'\u001b[0m \u001b[0;34m%\u001b[0m \u001b[0;34m(\u001b[0m\u001b[0mexpInfo\u001b[0m\u001b[0;34m[\u001b[0m\u001b[0;34m'participant'\u001b[0m\u001b[0;34m]\u001b[0m\u001b[0;34m,\u001b[0m \u001b[0mexpName\u001b[0m\u001b[0;34m,\u001b[0m \u001b[0mexpInfo\u001b[0m\u001b[0;34m[\u001b[0m\u001b[0;34m'date'\u001b[0m\u001b[0;34m]\u001b[0m\u001b[0;34m)\u001b[0m\u001b[0;34m\u001b[0m\u001b[0;34m\u001b[0m\u001b[0m\n\u001b[0m\u001b[1;32m     17\u001b[0m \u001b[0;34m\u001b[0m\u001b[0m\n\u001b[1;32m     18\u001b[0m thisExp = data.ExperimentHandler(name=expName, version='',\n",
      "\u001b[0;31mNameError\u001b[0m: name '_thisDir' is not defined"
     ]
    }
   ],
   "source": [
    "#again, this won't run, as it's only snippets (see next chapter for full code)\n",
    "\n",
    "from psychopy import sound, gui, visual, core, data, event, logging, clock\n",
    "\n",
    "# Store info about the experiment session\n",
    "psychopyVersion = '2020.1.2'\n",
    "expName = 'stroop'  # from the Builder filename that created this script\n",
    "expInfo = {'participant': '', 'session': '001'}\n",
    "dlg = gui.DlgFromDict(dictionary=expInfo, sortKeys=False, title=expName)\n",
    "if dlg.OK == False:\n",
    "    core.quit()  # user pressed cancel\n",
    "expInfo['date'] = data.getDateStr()  # add a simple timestamp\n",
    "expInfo['expName'] = expName\n",
    "expInfo['psychopyVersion'] = psychopyVersion\n",
    "\n",
    "filename = _thisDir + os.sep + u'data/%s_%s_%s' % (expInfo['participant'], expName, expInfo['date'])\n",
    "\n",
    "thisExp = data.ExperimentHandler(name=expName, version='',\n",
    "    extraInfo=expInfo, runtimeInfo=None,\n",
    "    originPath='/home/chris/Documents/UNI/sem_14/scientific_programming/lectures/week12-Designing_Experiments_with_Expyriment/psychopy/stroop.py',\n",
    "    savePickle=True, saveWideText=True,\n",
    "    dataFileName=filename)\n",
    "\n",
    "# save a log file for detail verbose info\n",
    "logFile = logging.LogFile(filename+'.log', level=logging.EXP)\n",
    "logging.console.setLevel(logging.WARNING)  # this outputs to the screen, not a file\n",
    "\n",
    "#...in between: showing instructions, ... \n",
    "\n",
    "# --- when ending instructions ---\n",
    "thisExp.addData('key_res.keys',key_res.keys)\n",
    "if key_res.keys != None:  # we had a response\n",
    "    thisExp.addData('key_res.rt', key_res.rt)\n",
    "\n",
    "# --- before looping through trials ---\n",
    "\n",
    "# set up handler to look after randomisation of conditions etc\n",
    "trials = data.TrialHandler(nReps=1, method='random', \n",
    "    extraInfo=expInfo, originPath=-1,\n",
    "    trialList=data.importConditions('stroop_conditions.csv'),\n",
    "    seed=None, name='trials')\n",
    "thisExp.addLoop(trials)  # add the loop to the experiment\n",
    "\n",
    "# --- when looping through trials ---\n",
    "\n",
    "for thisTrial in trials:\n",
    "    #...in between: running trial ... \n",
    "    trials.addData('response.corr', response.corr)\n",
    "    if response.keys != None:  # we had a response\n",
    "        trials.addData('response.rt', response.rt)\n",
    "\n",
    "# these shouldn't be strictly necessary (should auto-save)\n",
    "thisExp.saveAsWideText(filename+'.csv')\n",
    "thisExp.saveAsPickle(filename)\n",
    "logging.flush()"
   ]
  },
  {
   "cell_type": "code",
   "execution_count": 33,
   "metadata": {},
   "outputs": [
    {
     "data": {
      "text/html": [
       "<div>\n",
       "<style scoped>\n",
       "    .dataframe tbody tr th:only-of-type {\n",
       "        vertical-align: middle;\n",
       "    }\n",
       "\n",
       "    .dataframe tbody tr th {\n",
       "        vertical-align: top;\n",
       "    }\n",
       "\n",
       "    .dataframe thead th {\n",
       "        text-align: right;\n",
       "    }\n",
       "</style>\n",
       "<table border=\"1\" class=\"dataframe\">\n",
       "  <thead>\n",
       "    <tr style=\"text-align: right;\">\n",
       "      <th></th>\n",
       "      <th>word</th>\n",
       "      <th>color</th>\n",
       "      <th>congruent</th>\n",
       "      <th>corrAns</th>\n",
       "      <th>trials.thisRepN</th>\n",
       "      <th>trials.thisTrialN</th>\n",
       "      <th>trials.thisN</th>\n",
       "      <th>trials.thisIndex</th>\n",
       "      <th>text.started</th>\n",
       "      <th>text.stopped</th>\n",
       "      <th>key_res.keys</th>\n",
       "      <th>key_res.rt</th>\n",
       "      <th>key_res.started</th>\n",
       "      <th>key_res.stopped</th>\n",
       "      <th>target.started</th>\n",
       "      <th>target.stopped</th>\n",
       "      <th>response.keys</th>\n",
       "      <th>response.corr</th>\n",
       "      <th>response.rt</th>\n",
       "      <th>response.started</th>\n",
       "      <th>response.stopped</th>\n",
       "      <th>participant</th>\n",
       "      <th>session</th>\n",
       "      <th>date</th>\n",
       "      <th>expName</th>\n",
       "      <th>psychopyVersion</th>\n",
       "      <th>frameRate</th>\n",
       "      <th>Unnamed: 27</th>\n",
       "    </tr>\n",
       "  </thead>\n",
       "  <tbody>\n",
       "    <tr>\n",
       "      <th>0</th>\n",
       "      <td>NaN</td>\n",
       "      <td>NaN</td>\n",
       "      <td>NaN</td>\n",
       "      <td>NaN</td>\n",
       "      <td>NaN</td>\n",
       "      <td>NaN</td>\n",
       "      <td>NaN</td>\n",
       "      <td>NaN</td>\n",
       "      <td>6.639504</td>\n",
       "      <td>None</td>\n",
       "      <td>space</td>\n",
       "      <td>0.404655</td>\n",
       "      <td>6.639504</td>\n",
       "      <td>None</td>\n",
       "      <td>NaN</td>\n",
       "      <td>NaN</td>\n",
       "      <td>NaN</td>\n",
       "      <td>NaN</td>\n",
       "      <td>NaN</td>\n",
       "      <td>NaN</td>\n",
       "      <td>NaN</td>\n",
       "      <td>chris</td>\n",
       "      <td>1</td>\n",
       "      <td>2020_Jul_01_1509</td>\n",
       "      <td>stroop</td>\n",
       "      <td>2020.1.2</td>\n",
       "      <td>59.995251</td>\n",
       "      <td>NaN</td>\n",
       "    </tr>\n",
       "    <tr>\n",
       "      <th>1</th>\n",
       "      <td>red</td>\n",
       "      <td>red</td>\n",
       "      <td>1.0</td>\n",
       "      <td>left</td>\n",
       "      <td>0.0</td>\n",
       "      <td>0.0</td>\n",
       "      <td>0.0</td>\n",
       "      <td>0.0</td>\n",
       "      <td>NaN</td>\n",
       "      <td>NaN</td>\n",
       "      <td>NaN</td>\n",
       "      <td>NaN</td>\n",
       "      <td>NaN</td>\n",
       "      <td>NaN</td>\n",
       "      <td>7.591104</td>\n",
       "      <td>None</td>\n",
       "      <td>left</td>\n",
       "      <td>1.0</td>\n",
       "      <td>0.628744</td>\n",
       "      <td>7.591104</td>\n",
       "      <td>None</td>\n",
       "      <td>chris</td>\n",
       "      <td>1</td>\n",
       "      <td>2020_Jul_01_1509</td>\n",
       "      <td>stroop</td>\n",
       "      <td>2020.1.2</td>\n",
       "      <td>59.995251</td>\n",
       "      <td>NaN</td>\n",
       "    </tr>\n",
       "    <tr>\n",
       "      <th>2</th>\n",
       "      <td>red</td>\n",
       "      <td>green</td>\n",
       "      <td>0.0</td>\n",
       "      <td>down</td>\n",
       "      <td>0.0</td>\n",
       "      <td>1.0</td>\n",
       "      <td>1.0</td>\n",
       "      <td>1.0</td>\n",
       "      <td>NaN</td>\n",
       "      <td>NaN</td>\n",
       "      <td>NaN</td>\n",
       "      <td>NaN</td>\n",
       "      <td>NaN</td>\n",
       "      <td>NaN</td>\n",
       "      <td>8.789965</td>\n",
       "      <td>None</td>\n",
       "      <td>right</td>\n",
       "      <td>0.0</td>\n",
       "      <td>0.253915</td>\n",
       "      <td>8.789965</td>\n",
       "      <td>None</td>\n",
       "      <td>chris</td>\n",
       "      <td>1</td>\n",
       "      <td>2020_Jul_01_1509</td>\n",
       "      <td>stroop</td>\n",
       "      <td>2020.1.2</td>\n",
       "      <td>59.995251</td>\n",
       "      <td>NaN</td>\n",
       "    </tr>\n",
       "    <tr>\n",
       "      <th>3</th>\n",
       "      <td>blue</td>\n",
       "      <td>green</td>\n",
       "      <td>0.0</td>\n",
       "      <td>down</td>\n",
       "      <td>0.0</td>\n",
       "      <td>2.0</td>\n",
       "      <td>2.0</td>\n",
       "      <td>2.0</td>\n",
       "      <td>NaN</td>\n",
       "      <td>NaN</td>\n",
       "      <td>NaN</td>\n",
       "      <td>NaN</td>\n",
       "      <td>NaN</td>\n",
       "      <td>NaN</td>\n",
       "      <td>9.673583</td>\n",
       "      <td>None</td>\n",
       "      <td>left</td>\n",
       "      <td>0.0</td>\n",
       "      <td>0.265900</td>\n",
       "      <td>9.673583</td>\n",
       "      <td>None</td>\n",
       "      <td>chris</td>\n",
       "      <td>1</td>\n",
       "      <td>2020_Jul_01_1509</td>\n",
       "      <td>stroop</td>\n",
       "      <td>2020.1.2</td>\n",
       "      <td>59.995251</td>\n",
       "      <td>NaN</td>\n",
       "    </tr>\n",
       "  </tbody>\n",
       "</table>\n",
       "</div>"
      ],
      "text/plain": [
       "   word  color  congruent corrAns  trials.thisRepN  trials.thisTrialN  trials.thisN  trials.thisIndex  text.started text.stopped key_res.keys  key_res.rt  key_res.started key_res.stopped  target.started target.stopped response.keys  response.corr  response.rt  response.started response.stopped participant  session              date expName psychopyVersion  frameRate  Unnamed: 27\n",
       "0   NaN    NaN        NaN     NaN              NaN                NaN           NaN               NaN      6.639504         None        space    0.404655         6.639504            None             NaN            NaN           NaN            NaN          NaN               NaN              NaN       chris        1  2020_Jul_01_1509  stroop        2020.1.2  59.995251          NaN\n",
       "1   red    red        1.0    left              0.0                0.0           0.0               0.0           NaN          NaN          NaN         NaN              NaN             NaN        7.591104           None          left            1.0     0.628744          7.591104             None       chris        1  2020_Jul_01_1509  stroop        2020.1.2  59.995251          NaN\n",
       "2   red  green        0.0    down              0.0                1.0           1.0               1.0           NaN          NaN          NaN         NaN              NaN             NaN        8.789965           None         right            0.0     0.253915          8.789965             None       chris        1  2020_Jul_01_1509  stroop        2020.1.2  59.995251          NaN\n",
       "3  blue  green        0.0    down              0.0                2.0           2.0               2.0           NaN          NaN          NaN         NaN              NaN             NaN        9.673583           None          left            0.0     0.265900          9.673583             None       chris        1  2020_Jul_01_1509  stroop        2020.1.2  59.995251          NaN"
      ]
     },
     "metadata": {},
     "output_type": "display_data"
    }
   ],
   "source": [
    "from IPython.display import display\n",
    "with pd.option_context('display.max_columns', 100, 'display.expand_frame_repr', False, 'display.max_colwidth', 120):\n",
    "    display(pd.read_csv('stroop/data/chris_stroop_2020_Jul_01_1509.csv'))"
   ]
  },
  {
   "cell_type": "markdown",
   "metadata": {},
   "source": [
    "## Exporting data"
   ]
  },
  {
   "cell_type": "code",
   "execution_count": 79,
   "metadata": {},
   "outputs": [],
   "source": [
    "import os\n",
    "os.chdir('../expyriment')"
   ]
  },
  {
   "cell_type": "code",
   "execution_count": 80,
   "metadata": {},
   "outputs": [
    {
     "name": "stdout",
     "output_type": "stream",
     "text": [
      "*** DEVELOP MODE ***\n",
      "Standard output and error logging is switched off under IPython.\n"
     ]
    }
   ],
   "source": [
    "%run simon_task_short.py"
   ]
  },
  {
   "cell_type": "code",
   "execution_count": 66,
   "metadata": {},
   "outputs": [
    {
     "data": {
      "text/html": [
       "<div>\n",
       "<style scoped>\n",
       "    .dataframe tbody tr th:only-of-type {\n",
       "        vertical-align: middle;\n",
       "    }\n",
       "\n",
       "    .dataframe tbody tr th {\n",
       "        vertical-align: top;\n",
       "    }\n",
       "\n",
       "    .dataframe thead th {\n",
       "        text-align: right;\n",
       "    }\n",
       "</style>\n",
       "<table border=\"1\" class=\"dataframe\">\n",
       "  <thead>\n",
       "    <tr style=\"text-align: right;\">\n",
       "      <th></th>\n",
       "      <th></th>\n",
       "      <th>Colour</th>\n",
       "      <th>Position</th>\n",
       "      <th>Button</th>\n",
       "      <th>RT</th>\n",
       "    </tr>\n",
       "    <tr>\n",
       "      <th>subject_id</th>\n",
       "      <th>Mapping</th>\n",
       "      <th></th>\n",
       "      <th></th>\n",
       "      <th></th>\n",
       "      <th></th>\n",
       "    </tr>\n",
       "  </thead>\n",
       "  <tbody>\n",
       "    <tr>\n",
       "      <th rowspan=\"16\" valign=\"top\">1</th>\n",
       "      <th>left4green</th>\n",
       "      <td>green</td>\n",
       "      <td>left</td>\n",
       "      <td>276</td>\n",
       "      <td>533</td>\n",
       "    </tr>\n",
       "    <tr>\n",
       "      <th>left4green</th>\n",
       "      <td>green</td>\n",
       "      <td>right</td>\n",
       "      <td>276</td>\n",
       "      <td>381</td>\n",
       "    </tr>\n",
       "    <tr>\n",
       "      <th>left4green</th>\n",
       "      <td>red</td>\n",
       "      <td>right</td>\n",
       "      <td>275</td>\n",
       "      <td>405</td>\n",
       "    </tr>\n",
       "    <tr>\n",
       "      <th>left4green</th>\n",
       "      <td>red</td>\n",
       "      <td>left</td>\n",
       "      <td>275</td>\n",
       "      <td>557</td>\n",
       "    </tr>\n",
       "    <tr>\n",
       "      <th>left4green</th>\n",
       "      <td>red</td>\n",
       "      <td>right</td>\n",
       "      <td>275</td>\n",
       "      <td>342</td>\n",
       "    </tr>\n",
       "    <tr>\n",
       "      <th>left4green</th>\n",
       "      <td>red</td>\n",
       "      <td>left</td>\n",
       "      <td>275</td>\n",
       "      <td>454</td>\n",
       "    </tr>\n",
       "    <tr>\n",
       "      <th>left4green</th>\n",
       "      <td>green</td>\n",
       "      <td>left</td>\n",
       "      <td>276</td>\n",
       "      <td>366</td>\n",
       "    </tr>\n",
       "    <tr>\n",
       "      <th>left4green</th>\n",
       "      <td>green</td>\n",
       "      <td>right</td>\n",
       "      <td>276</td>\n",
       "      <td>430</td>\n",
       "    </tr>\n",
       "    <tr>\n",
       "      <th>left4red</th>\n",
       "      <td>red</td>\n",
       "      <td>right</td>\n",
       "      <td>276</td>\n",
       "      <td>436</td>\n",
       "    </tr>\n",
       "    <tr>\n",
       "      <th>left4red</th>\n",
       "      <td>green</td>\n",
       "      <td>left</td>\n",
       "      <td>275</td>\n",
       "      <td>445</td>\n",
       "    </tr>\n",
       "    <tr>\n",
       "      <th>left4red</th>\n",
       "      <td>red</td>\n",
       "      <td>right</td>\n",
       "      <td>276</td>\n",
       "      <td>486</td>\n",
       "    </tr>\n",
       "    <tr>\n",
       "      <th>left4red</th>\n",
       "      <td>red</td>\n",
       "      <td>left</td>\n",
       "      <td>276</td>\n",
       "      <td>365</td>\n",
       "    </tr>\n",
       "    <tr>\n",
       "      <th>left4red</th>\n",
       "      <td>green</td>\n",
       "      <td>right</td>\n",
       "      <td>275</td>\n",
       "      <td>421</td>\n",
       "    </tr>\n",
       "    <tr>\n",
       "      <th>left4red</th>\n",
       "      <td>red</td>\n",
       "      <td>left</td>\n",
       "      <td>276</td>\n",
       "      <td>309</td>\n",
       "    </tr>\n",
       "    <tr>\n",
       "      <th>left4red</th>\n",
       "      <td>green</td>\n",
       "      <td>left</td>\n",
       "      <td>275</td>\n",
       "      <td>517</td>\n",
       "    </tr>\n",
       "    <tr>\n",
       "      <th>left4red</th>\n",
       "      <td>green</td>\n",
       "      <td>right</td>\n",
       "      <td>275</td>\n",
       "      <td>677</td>\n",
       "    </tr>\n",
       "  </tbody>\n",
       "</table>\n",
       "</div>"
      ],
      "text/plain": [
       "                      Colour Position  Button   RT\n",
       "subject_id Mapping                                \n",
       "1          left4green  green     left     276  533\n",
       "           left4green  green    right     276  381\n",
       "           left4green    red    right     275  405\n",
       "           left4green    red     left     275  557\n",
       "           left4green    red    right     275  342\n",
       "           left4green    red     left     275  454\n",
       "           left4green  green     left     276  366\n",
       "           left4green  green    right     276  430\n",
       "           left4red      red    right     276  436\n",
       "           left4red    green     left     275  445\n",
       "           left4red      red    right     276  486\n",
       "           left4red      red     left     276  365\n",
       "           left4red    green    right     275  421\n",
       "           left4red      red     left     276  309\n",
       "           left4red    green     left     275  517\n",
       "           left4red    green    right     275  677"
      ]
     },
     "execution_count": 66,
     "metadata": {},
     "output_type": "execute_result"
    }
   ],
   "source": [
    "df = pd.read_csv(\"data/simon_task_short_01.xpd\", comment='#', index_col=[0,1])\n",
    "df"
   ]
  },
  {
   "cell_type": "code",
   "execution_count": null,
   "metadata": {},
   "outputs": [],
   "source": [
    "# %load export_data.py\n",
    "assert '__file__' in locals() #to make sure to not run this inside Jupyter\n",
    "\n",
    "from expyriment import misc\n",
    "import os\n",
    "\n",
    "data_folder = os.path.join(os.path.dirname(__file__), \"data/\")\n",
    "print(\"Data Folder:\", data_folder)\n",
    "misc.data_preprocessing.write_concatenated_data(data_folder, \"simon_task_short\", output_file=\"data.csv\")"
   ]
  },
  {
   "cell_type": "code",
   "execution_count": 81,
   "metadata": {},
   "outputs": [
    {
     "name": "stdout",
     "output_type": "stream",
     "text": [
      "Data Folder: /home/chris/Documents/UNI/sem_14/scientific_programming/lectures/week12-Designing_Experiments_with_PsychoPy_and_Expyriment/expyriment/data/\n",
      "** Expyriment Data Preprocessor **\n",
      "found 3 subject_data sets\n",
      "found 6 variables: ['subject_id', 'Mapping', 'Colour', 'Position', 'Button', 'RT']\n",
      "   reading /home/chris/Documents/UNI/sem_14/scientific_programming/lectures/week12-Designing_Experiments_with_PsychoPy_and_Expyriment/expyriment/data/simon_task_short_02.xpd\n",
      "   reading /home/chris/Documents/UNI/sem_14/scientific_programming/lectures/week12-Designing_Experiments_with_PsychoPy_and_Expyriment/expyriment/data/simon_task_short_07.xpd\n",
      "   reading /home/chris/Documents/UNI/sem_14/scientific_programming/lectures/week12-Designing_Experiments_with_PsychoPy_and_Expyriment/expyriment/data/simon_task_short_01.xpd\n",
      "write file: data.csv (288 cells in 48 rows)\n"
     ]
    }
   ],
   "source": [
    "%run export_data.py"
   ]
  },
  {
   "cell_type": "code",
   "execution_count": 82,
   "metadata": {},
   "outputs": [
    {
     "data": {
      "text/html": [
       "<div>\n",
       "<style scoped>\n",
       "    .dataframe tbody tr th:only-of-type {\n",
       "        vertical-align: middle;\n",
       "    }\n",
       "\n",
       "    .dataframe tbody tr th {\n",
       "        vertical-align: top;\n",
       "    }\n",
       "\n",
       "    .dataframe thead th {\n",
       "        text-align: right;\n",
       "    }\n",
       "</style>\n",
       "<table border=\"1\" class=\"dataframe\">\n",
       "  <thead>\n",
       "    <tr style=\"text-align: right;\">\n",
       "      <th></th>\n",
       "      <th></th>\n",
       "      <th>Colour</th>\n",
       "      <th>Position</th>\n",
       "      <th>Button</th>\n",
       "      <th>RT</th>\n",
       "    </tr>\n",
       "    <tr>\n",
       "      <th>subject_id</th>\n",
       "      <th>Mapping</th>\n",
       "      <th></th>\n",
       "      <th></th>\n",
       "      <th></th>\n",
       "      <th></th>\n",
       "    </tr>\n",
       "  </thead>\n",
       "  <tbody>\n",
       "    <tr>\n",
       "      <th rowspan=\"16\" valign=\"top\">2</th>\n",
       "      <th>left4red</th>\n",
       "      <td>red</td>\n",
       "      <td>right</td>\n",
       "      <td>276</td>\n",
       "      <td>933</td>\n",
       "    </tr>\n",
       "    <tr>\n",
       "      <th>left4red</th>\n",
       "      <td>red</td>\n",
       "      <td>right</td>\n",
       "      <td>276</td>\n",
       "      <td>453</td>\n",
       "    </tr>\n",
       "    <tr>\n",
       "      <th>left4red</th>\n",
       "      <td>green</td>\n",
       "      <td>left</td>\n",
       "      <td>275</td>\n",
       "      <td>596</td>\n",
       "    </tr>\n",
       "    <tr>\n",
       "      <th>left4red</th>\n",
       "      <td>green</td>\n",
       "      <td>right</td>\n",
       "      <td>275</td>\n",
       "      <td>477</td>\n",
       "    </tr>\n",
       "    <tr>\n",
       "      <th>left4red</th>\n",
       "      <td>green</td>\n",
       "      <td>left</td>\n",
       "      <td>275</td>\n",
       "      <td>309</td>\n",
       "    </tr>\n",
       "    <tr>\n",
       "      <th>left4red</th>\n",
       "      <td>green</td>\n",
       "      <td>right</td>\n",
       "      <td>275</td>\n",
       "      <td>341</td>\n",
       "    </tr>\n",
       "    <tr>\n",
       "      <th>left4red</th>\n",
       "      <td>red</td>\n",
       "      <td>left</td>\n",
       "      <td>276</td>\n",
       "      <td>333</td>\n",
       "    </tr>\n",
       "    <tr>\n",
       "      <th>left4red</th>\n",
       "      <td>red</td>\n",
       "      <td>left</td>\n",
       "      <td>276</td>\n",
       "      <td>453</td>\n",
       "    </tr>\n",
       "    <tr>\n",
       "      <th>left4green</th>\n",
       "      <td>green</td>\n",
       "      <td>left</td>\n",
       "      <td>276</td>\n",
       "      <td>508</td>\n",
       "    </tr>\n",
       "    <tr>\n",
       "      <th>left4green</th>\n",
       "      <td>green</td>\n",
       "      <td>right</td>\n",
       "      <td>275</td>\n",
       "      <td>373</td>\n",
       "    </tr>\n",
       "    <tr>\n",
       "      <th>left4green</th>\n",
       "      <td>red</td>\n",
       "      <td>left</td>\n",
       "      <td>275</td>\n",
       "      <td>565</td>\n",
       "    </tr>\n",
       "    <tr>\n",
       "      <th>left4green</th>\n",
       "      <td>green</td>\n",
       "      <td>right</td>\n",
       "      <td>276</td>\n",
       "      <td>469</td>\n",
       "    </tr>\n",
       "    <tr>\n",
       "      <th>left4green</th>\n",
       "      <td>red</td>\n",
       "      <td>left</td>\n",
       "      <td>276</td>\n",
       "      <td>454</td>\n",
       "    </tr>\n",
       "    <tr>\n",
       "      <th>left4green</th>\n",
       "      <td>red</td>\n",
       "      <td>right</td>\n",
       "      <td>275</td>\n",
       "      <td>502</td>\n",
       "    </tr>\n",
       "    <tr>\n",
       "      <th>left4green</th>\n",
       "      <td>red</td>\n",
       "      <td>right</td>\n",
       "      <td>275</td>\n",
       "      <td>445</td>\n",
       "    </tr>\n",
       "    <tr>\n",
       "      <th>left4green</th>\n",
       "      <td>green</td>\n",
       "      <td>left</td>\n",
       "      <td>276</td>\n",
       "      <td>413</td>\n",
       "    </tr>\n",
       "    <tr>\n",
       "      <th rowspan=\"16\" valign=\"top\">7</th>\n",
       "      <th>left4green</th>\n",
       "      <td>green</td>\n",
       "      <td>right</td>\n",
       "      <td>276</td>\n",
       "      <td>150</td>\n",
       "    </tr>\n",
       "    <tr>\n",
       "      <th>left4green</th>\n",
       "      <td>red</td>\n",
       "      <td>left</td>\n",
       "      <td>276</td>\n",
       "      <td>134</td>\n",
       "    </tr>\n",
       "    <tr>\n",
       "      <th>left4green</th>\n",
       "      <td>red</td>\n",
       "      <td>left</td>\n",
       "      <td>276</td>\n",
       "      <td>53</td>\n",
       "    </tr>\n",
       "    <tr>\n",
       "      <th>left4green</th>\n",
       "      <td>red</td>\n",
       "      <td>right</td>\n",
       "      <td>276</td>\n",
       "      <td>173</td>\n",
       "    </tr>\n",
       "    <tr>\n",
       "      <th>left4green</th>\n",
       "      <td>red</td>\n",
       "      <td>right</td>\n",
       "      <td>276</td>\n",
       "      <td>150</td>\n",
       "    </tr>\n",
       "    <tr>\n",
       "      <th>left4green</th>\n",
       "      <td>green</td>\n",
       "      <td>left</td>\n",
       "      <td>276</td>\n",
       "      <td>125</td>\n",
       "    </tr>\n",
       "    <tr>\n",
       "      <th>left4green</th>\n",
       "      <td>green</td>\n",
       "      <td>right</td>\n",
       "      <td>276</td>\n",
       "      <td>117</td>\n",
       "    </tr>\n",
       "    <tr>\n",
       "      <th>left4green</th>\n",
       "      <td>green</td>\n",
       "      <td>left</td>\n",
       "      <td>276</td>\n",
       "      <td>166</td>\n",
       "    </tr>\n",
       "    <tr>\n",
       "      <th>left4red</th>\n",
       "      <td>green</td>\n",
       "      <td>left</td>\n",
       "      <td>276</td>\n",
       "      <td>238</td>\n",
       "    </tr>\n",
       "    <tr>\n",
       "      <th>left4red</th>\n",
       "      <td>green</td>\n",
       "      <td>left</td>\n",
       "      <td>276</td>\n",
       "      <td>21</td>\n",
       "    </tr>\n",
       "    <tr>\n",
       "      <th>left4red</th>\n",
       "      <td>red</td>\n",
       "      <td>right</td>\n",
       "      <td>276</td>\n",
       "      <td>118</td>\n",
       "    </tr>\n",
       "    <tr>\n",
       "      <th>left4red</th>\n",
       "      <td>green</td>\n",
       "      <td>right</td>\n",
       "      <td>276</td>\n",
       "      <td>117</td>\n",
       "    </tr>\n",
       "    <tr>\n",
       "      <th>left4red</th>\n",
       "      <td>red</td>\n",
       "      <td>left</td>\n",
       "      <td>276</td>\n",
       "      <td>85</td>\n",
       "    </tr>\n",
       "    <tr>\n",
       "      <th>left4red</th>\n",
       "      <td>red</td>\n",
       "      <td>left</td>\n",
       "      <td>276</td>\n",
       "      <td>125</td>\n",
       "    </tr>\n",
       "    <tr>\n",
       "      <th>left4red</th>\n",
       "      <td>green</td>\n",
       "      <td>right</td>\n",
       "      <td>276</td>\n",
       "      <td>30</td>\n",
       "    </tr>\n",
       "    <tr>\n",
       "      <th>left4red</th>\n",
       "      <td>red</td>\n",
       "      <td>right</td>\n",
       "      <td>276</td>\n",
       "      <td>86</td>\n",
       "    </tr>\n",
       "    <tr>\n",
       "      <th rowspan=\"16\" valign=\"top\">1</th>\n",
       "      <th>left4green</th>\n",
       "      <td>green</td>\n",
       "      <td>left</td>\n",
       "      <td>276</td>\n",
       "      <td>533</td>\n",
       "    </tr>\n",
       "    <tr>\n",
       "      <th>left4green</th>\n",
       "      <td>green</td>\n",
       "      <td>right</td>\n",
       "      <td>276</td>\n",
       "      <td>381</td>\n",
       "    </tr>\n",
       "    <tr>\n",
       "      <th>left4green</th>\n",
       "      <td>red</td>\n",
       "      <td>right</td>\n",
       "      <td>275</td>\n",
       "      <td>405</td>\n",
       "    </tr>\n",
       "    <tr>\n",
       "      <th>left4green</th>\n",
       "      <td>red</td>\n",
       "      <td>left</td>\n",
       "      <td>275</td>\n",
       "      <td>557</td>\n",
       "    </tr>\n",
       "    <tr>\n",
       "      <th>left4green</th>\n",
       "      <td>red</td>\n",
       "      <td>right</td>\n",
       "      <td>275</td>\n",
       "      <td>342</td>\n",
       "    </tr>\n",
       "    <tr>\n",
       "      <th>left4green</th>\n",
       "      <td>red</td>\n",
       "      <td>left</td>\n",
       "      <td>275</td>\n",
       "      <td>454</td>\n",
       "    </tr>\n",
       "    <tr>\n",
       "      <th>left4green</th>\n",
       "      <td>green</td>\n",
       "      <td>left</td>\n",
       "      <td>276</td>\n",
       "      <td>366</td>\n",
       "    </tr>\n",
       "    <tr>\n",
       "      <th>left4green</th>\n",
       "      <td>green</td>\n",
       "      <td>right</td>\n",
       "      <td>276</td>\n",
       "      <td>430</td>\n",
       "    </tr>\n",
       "    <tr>\n",
       "      <th>left4red</th>\n",
       "      <td>red</td>\n",
       "      <td>right</td>\n",
       "      <td>276</td>\n",
       "      <td>436</td>\n",
       "    </tr>\n",
       "    <tr>\n",
       "      <th>left4red</th>\n",
       "      <td>green</td>\n",
       "      <td>left</td>\n",
       "      <td>275</td>\n",
       "      <td>445</td>\n",
       "    </tr>\n",
       "    <tr>\n",
       "      <th>left4red</th>\n",
       "      <td>red</td>\n",
       "      <td>right</td>\n",
       "      <td>276</td>\n",
       "      <td>486</td>\n",
       "    </tr>\n",
       "    <tr>\n",
       "      <th>left4red</th>\n",
       "      <td>red</td>\n",
       "      <td>left</td>\n",
       "      <td>276</td>\n",
       "      <td>365</td>\n",
       "    </tr>\n",
       "    <tr>\n",
       "      <th>left4red</th>\n",
       "      <td>green</td>\n",
       "      <td>right</td>\n",
       "      <td>275</td>\n",
       "      <td>421</td>\n",
       "    </tr>\n",
       "    <tr>\n",
       "      <th>left4red</th>\n",
       "      <td>red</td>\n",
       "      <td>left</td>\n",
       "      <td>276</td>\n",
       "      <td>309</td>\n",
       "    </tr>\n",
       "    <tr>\n",
       "      <th>left4red</th>\n",
       "      <td>green</td>\n",
       "      <td>left</td>\n",
       "      <td>275</td>\n",
       "      <td>517</td>\n",
       "    </tr>\n",
       "    <tr>\n",
       "      <th>left4red</th>\n",
       "      <td>green</td>\n",
       "      <td>right</td>\n",
       "      <td>275</td>\n",
       "      <td>677</td>\n",
       "    </tr>\n",
       "  </tbody>\n",
       "</table>\n",
       "</div>"
      ],
      "text/plain": [
       "                      Colour Position  Button   RT\n",
       "subject_id Mapping                                \n",
       "2          left4red      red    right     276  933\n",
       "           left4red      red    right     276  453\n",
       "           left4red    green     left     275  596\n",
       "           left4red    green    right     275  477\n",
       "           left4red    green     left     275  309\n",
       "           left4red    green    right     275  341\n",
       "           left4red      red     left     276  333\n",
       "           left4red      red     left     276  453\n",
       "           left4green  green     left     276  508\n",
       "           left4green  green    right     275  373\n",
       "           left4green    red     left     275  565\n",
       "           left4green  green    right     276  469\n",
       "           left4green    red     left     276  454\n",
       "           left4green    red    right     275  502\n",
       "           left4green    red    right     275  445\n",
       "           left4green  green     left     276  413\n",
       "7          left4green  green    right     276  150\n",
       "           left4green    red     left     276  134\n",
       "           left4green    red     left     276   53\n",
       "           left4green    red    right     276  173\n",
       "           left4green    red    right     276  150\n",
       "           left4green  green     left     276  125\n",
       "           left4green  green    right     276  117\n",
       "           left4green  green     left     276  166\n",
       "           left4red    green     left     276  238\n",
       "           left4red    green     left     276   21\n",
       "           left4red      red    right     276  118\n",
       "           left4red    green    right     276  117\n",
       "           left4red      red     left     276   85\n",
       "           left4red      red     left     276  125\n",
       "           left4red    green    right     276   30\n",
       "           left4red      red    right     276   86\n",
       "1          left4green  green     left     276  533\n",
       "           left4green  green    right     276  381\n",
       "           left4green    red    right     275  405\n",
       "           left4green    red     left     275  557\n",
       "           left4green    red    right     275  342\n",
       "           left4green    red     left     275  454\n",
       "           left4green  green     left     276  366\n",
       "           left4green  green    right     276  430\n",
       "           left4red      red    right     276  436\n",
       "           left4red    green     left     275  445\n",
       "           left4red      red    right     276  486\n",
       "           left4red      red     left     276  365\n",
       "           left4red    green    right     275  421\n",
       "           left4red      red     left     276  309\n",
       "           left4red    green     left     275  517\n",
       "           left4red    green    right     275  677"
      ]
     },
     "execution_count": 82,
     "metadata": {},
     "output_type": "execute_result"
    }
   ],
   "source": [
    "df = pd.read_csv(\"data.csv\", comment='#', index_col=[0,1])\n",
    "df"
   ]
  },
  {
   "cell_type": "raw",
   "metadata": {},
   "source": [
    "\n",
    "\n",
    "\n",
    "\n",
    "\n",
    "\n",
    "\n",
    "\n",
    "\n",
    "\n",
    "\n",
    "\n"
   ]
  },
  {
   "cell_type": "markdown",
   "metadata": {},
   "source": [
    "# Putting it together\n",
    "\n",
    "This is finally enough to code experiments!"
   ]
  },
  {
   "cell_type": "markdown",
   "metadata": {},
   "source": [
    "## Expyriment: Simon-Task\n",
    "\n",
    "As first example, let's look at the code for an experiment testing the **Simon effect**, which says that reaction times are faster, and reactions more accurate, when the stimulus occurs in the same relative location as the response, even if the stimulus location is irrelevant to the task."
   ]
  },
  {
   "cell_type": "markdown",
   "metadata": {},
   "source": [
    "In two experimental tasks, participants have to respond to a rectangle on the screen, according to its color (red or green), by pressing the left or the right arrow key on the computer’s keyboard. Additionally, the position of the rectangles can be either left or right. Each trial will start with the presentation of a fixation cross for 500 ms, ollowed by the rectangle that will remain on the display until a response is given. Between trials, a blank screen is shown for 3,000 ms. Each block will contain 128 trials in random order. The two tasks will differ only in the mapping of responses (i.e., which button to press for which color), which will be shown to the participant as a brief  nstruction at the beginning of each block. The order of tasks will be counterb alanced over participants. The experiment has a 2×2×2×2 factorial design, with the within-subjects  actors Color (red, green), Position (left, right), and Task (left = green, left = red), as well as the between-subjects factor Task Order (left = green first,left = red first). (From the [paper](https://link.springer.com/article/10.3758%2Fs13428-013-0390-6))"
   ]
  },
  {
   "cell_type": "code",
   "execution_count": null,
   "metadata": {},
   "outputs": [],
   "source": [
    "from expyriment import design, control, stimuli, io, misc\n",
    "control.set_develop_mode(False)\n",
    "io.defaults.outputfile_time_stamp = False\n",
    "\n",
    "# Create and initialize an Experiment\n",
    "exp = design.Experiment(\"Simon Task\")\n",
    "control.initialize(exp)\n",
    "\n",
    "# Define and preload standard stimuli\n",
    "fixcross = stimuli.FixCross()\n",
    "fixcross.preload()\n",
    "blankscreen = stimuli.BlankScreen()\n",
    "blankscreen.preload()\n",
    "# left and right arrow keys for responses\n",
    "response_keys = [misc.constants.K_LEFT, misc.constants.K_RIGHT]\n",
    "\n",
    "# Create design\n",
    "for mapping in [\"left=green\", \"left=red\"]:\n",
    "    b = design.Block()\n",
    "    b.set_factor(\"Mapping\", mapping)\n",
    "    for where in [[\"left\", -300], [\"right\", 300]]:\n",
    "        for what in [[\"red\", misc.constants.C_RED],\n",
    "                     [\"green\", misc.constants.C_GREEN]]:\n",
    "            t = design.Trial()\n",
    "            t.set_factor(\"Position\", where[0])\n",
    "            t.set_factor(\"Colour\", what[0])\n",
    "            s = stimuli.Rectangle([50, 50], position=[where[1], 0], colour=what[1])\n",
    "            t.add_stimulus(s)\n",
    "            b.add_trial(t, copies=2)\n",
    "    b.shuffle_trials()\n",
    "    exp.add_block(b)\n",
    "    \n",
    "exp.add_bws_factor(\"TaskOrder\",[\"left=green first\",\"left=red first\"])\n",
    "exp.data_variable_names = [\"Mapping\", \"Colour\", \"Position\", \"Button\", \"RT\"]\n",
    "exp.save_design('simon_design.csv')\n",
    "\n",
    "# Start Experiment\n",
    "control.start()\n",
    "if exp.get_permuted_bws_factor_condition(\"TaskOrder\") == \"left=red first\":\n",
    "    exp.swap_blocks(0,1)\n",
    "    \n",
    "for block in exp.blocks:\n",
    "    stimuli.TextScreen(\"Instructions\", block.get_factor(\"Mapping\")).present()\n",
    "    exp.keyboard.wait()\n",
    "    for trial in block.trials:\n",
    "        fixcross.present()\n",
    "        exp.clock.wait(1000 - trial.stimuli[0].preload())\n",
    "        trial.stimuli[0].present()\n",
    "        button, rt = exp.keyboard.wait(keys=response_keys)\n",
    "        exp.data.add([block.get_factor(\"Mapping\"), trial.get_factor(\"Colour\"), trial.get_factor(\"Position\"), button, rt])\n",
    "\n",
    "# End Experiment\n",
    "control.end(goodbye_text=\"Thank you for participating!\")\n",
    "exp.save_design('simon_design_subject'+str(exp.subject)+'.csv')"
   ]
  },
  {
   "cell_type": "code",
   "execution_count": 83,
   "metadata": {},
   "outputs": [
    {
     "name": "stdout",
     "output_type": "stream",
     "text": [
      "# -*- coding: UTF-8 -*-\n",
      "#exp: Simon Task\n",
      "#bws: TaskOrder=left=green first,left=red first\n",
      "#bws-rand: 0\n",
      "#dvn: Mapping,Colour,Position,Button,RT\n",
      "block_cnt,block_id,block_Mapping,trial_cnt,trial_id,Colour,Position\n",
      "0,0,left=green,0,5,red,right\n",
      "0,0,left=green,1,3,green,left\n",
      "0,0,left=green,2,6,green,right\n",
      "0,0,left=green,3,4,red,right\n",
      "0,0,left=green,4,1,red,left\n",
      "0,0,left=green,5,7,green,right\n",
      "0,0,left=green,6,0,red,left\n",
      "0,0,left=green,7,2,green,left\n",
      "1,1,left=red,0,7,green,right\n",
      "1,1,left=red,1,6,green,right\n",
      "1,1,left=red,2,4,red,right\n",
      "1,1,left=red,3,1,red,left\n",
      "1,1,left=red,4,0,red,left\n",
      "1,1,left=red,5,3,green,left\n",
      "1,1,left=red,6,2,green,left\n",
      "1,1,left=red,7,5,red,right"
     ]
    }
   ],
   "source": [
    "%cat simon_design.csv"
   ]
  },
  {
   "cell_type": "code",
   "execution_count": 84,
   "metadata": {},
   "outputs": [
    {
     "name": "stdout",
     "output_type": "stream",
     "text": [
      "cat: data/ipykernel_launcher_01.xpd: No such file or directory\n"
     ]
    }
   ],
   "source": [
    "%cat data/ipykernel_launcher_01.xpd"
   ]
  },
  {
   "cell_type": "code",
   "execution_count": null,
   "metadata": {},
   "outputs": [],
   "source": [
    "%cat events/ipykernel_launcher_01.xpe"
   ]
  },
  {
   "cell_type": "code",
   "execution_count": 85,
   "metadata": {},
   "outputs": [
    {
     "name": "stdout",
     "output_type": "stream",
     "text": [
      "*** DEVELOP MODE ***\n",
      "Standard output and error logging is switched off under IPython.\n"
     ]
    }
   ],
   "source": [
    "%run simon_task_short.py"
   ]
  },
  {
   "cell_type": "markdown",
   "metadata": {},
   "source": [
    "## Full Psychopy-JND code\n",
    "\n",
    "In the above example for measuring the *Just Notifiable Difference* for the angle of a grating stimulus, we didn't do any data logging and stripped the PsychoPy-[Tutorial](https://www.psychopy.org/coder/tutorial2.html) a bit, so here's the full code of that. Note however that the logging here is done manually, probably to dumb down the example a bit. I'd definitely recommend to use the logging from PsychoPy!"
   ]
  },
  {
   "cell_type": "code",
   "execution_count": 87,
   "metadata": {},
   "outputs": [],
   "source": [
    "import os\n",
    "os.chdir('../psychopy')"
   ]
  },
  {
   "cell_type": "code",
   "execution_count": 48,
   "metadata": {
    "scrolled": true
   },
   "outputs": [],
   "source": [
    "# %load psychopy_6_jnd2.py\n",
    "\"\"\"measure your JND in orientation using a staircase method\"\"\"\n",
    "\n",
    "assert '__file__' in locals() #to make sure to not run this inside Jupyter\n",
    "\n",
    "# explanation https://www.psychopy.org/coder/tutorial2.html\n",
    "# code https://raw.githubusercontent.com/psychopy/psychopy/master/docs/source/coder/tutorial2.py\n",
    "\n",
    "\n",
    "from psychopy import core, visual, gui, data, event\n",
    "from psychopy.tools.filetools import fromFile, toFile\n",
    "import numpy, random\n",
    "\n",
    "try:  # try to get a previous parameters file\n",
    "    expInfo = fromFile('lastParams.pickle')\n",
    "except:  # if not there then use a default set\n",
    "    expInfo = {'observer':'jwp', 'refOrientation':0}\n",
    "expInfo['dateStr'] = data.getDateStr()  # add the current time\n",
    "# present a dialogue to change params\n",
    "dlg = gui.DlgFromDict(expInfo, title='simple JND Exp', fixed=['dateStr'])\n",
    "if dlg.OK:\n",
    "    toFile('lastParams.pickle', expInfo)  # save params to file for next time\n",
    "else:\n",
    "    core.quit()  # the user hit cancel so exit\n",
    "\n",
    "# make a text file to save data\n",
    "fileName = expInfo['observer'] + expInfo['dateStr']\n",
    "dataFile = open(fileName+'.csv', 'w')  # a simple text file with 'comma-separated-values'\n",
    "dataFile.write('targetSide,oriIncrement,correct\\n')\n",
    "\n",
    "# create the staircase handler\n",
    "staircase = data.StairHandler(startVal = 20.0,\n",
    "                          stepType = 'db', stepSizes=[8,4,4,2],\n",
    "                          nUp=1, nDown=3,  # will home in on the 80% threshold\n",
    "                          nTrials=1)\n",
    "\n",
    "# create window and stimuli\n",
    "win = visual.Window([800,600],allowGUI=True,\n",
    "                    monitor='testMonitor', units='deg')\n",
    "foil = visual.GratingStim(win, sf=1, size=4, mask='gauss',\n",
    "                          ori=expInfo['refOrientation'])\n",
    "target = visual.GratingStim(win, sf=1, size=4, mask='gauss',\n",
    "                            ori=expInfo['refOrientation'])\n",
    "fixation = visual.GratingStim(win, color=-1, colorSpace='rgb',\n",
    "                              tex=None, mask='circle', size=0.2)\n",
    "# and some handy clocks to keep track of time\n",
    "globalClock = core.Clock()\n",
    "trialClock = core.Clock()\n",
    "\n",
    "# display instructions and wait\n",
    "message1 = visual.TextStim(win, pos=[0,+3],text='Hit a key when ready.')\n",
    "message2 = visual.TextStim(win, pos=[0,-3],\n",
    "    text=\"Then press left or right to identify the %.1f deg probe.\" %expInfo['refOrientation'])\n",
    "message1.draw()\n",
    "message2.draw()\n",
    "fixation.draw()\n",
    "win.flip()#to show our newly drawn 'stimuli'\n",
    "#pause until there's a keypress\n",
    "event.waitKeys()\n",
    "\n",
    "for thisIncrement in staircase:  # will continue the staircase until it terminates!\n",
    "    # set location of stimuli\n",
    "    targetSide= random.choice([-1,1])  # will be either +1(right) or -1(left)\n",
    "    foil.setPos([-5*targetSide, 0])\n",
    "    target.setPos([5*targetSide, 0])  # in other location\n",
    "\n",
    "    # set orientation of probe\n",
    "    foil.setOri(expInfo['refOrientation'] + thisIncrement)\n",
    "\n",
    "    # draw all stimuli\n",
    "    foil.draw()\n",
    "    target.draw()\n",
    "    fixation.draw()\n",
    "    win.flip()\n",
    "\n",
    "    # wait 500ms; but use a loop of x frames for more accurate timing\n",
    "    core.wait(0.5)\n",
    "\n",
    "    # blank screen\n",
    "    fixation.draw()\n",
    "    win.flip()\n",
    "\n",
    "    # get response\n",
    "    thisResp=None\n",
    "    while thisResp==None:\n",
    "        allKeys=event.waitKeys()\n",
    "        for thisKey in allKeys:\n",
    "            if thisKey=='left':\n",
    "                if targetSide==-1: thisResp = 1  # correct\n",
    "                else: thisResp = -1              # incorrect\n",
    "            elif thisKey=='right':\n",
    "                if targetSide== 1: thisResp = 1  # correct\n",
    "                else: thisResp = -1              # incorrect\n",
    "            elif thisKey in ['q', 'escape']:\n",
    "                core.quit()  # abort experiment\n",
    "        event.clearEvents()  # clear other (eg mouse) events - they clog the buffer\n",
    "\n",
    "    # add the data to the staircase so it can calculate the next level\n",
    "    staircase.addData(thisResp)\n",
    "    dataFile.write('%i,%.3f,%i\\n' %(targetSide, thisIncrement, thisResp))\n",
    "    core.wait(1)\n",
    "\n",
    "# staircase has ended\n",
    "dataFile.close()\n",
    "staircase.saveAsPickle(fileName)  # special python binary file to save all the info\n",
    "\n",
    "# give some output to user in the command line in the output window\n",
    "print('reversals:')\n",
    "print(staircase.reversalIntensities)\n",
    "approxThreshold = numpy.average(staircase.reversalIntensities[-6:])\n",
    "print('mean of final 6 reversals = %.3f' % (approxThreshold))\n",
    "\n",
    "# give some on-screen feedback\n",
    "feedback1 = visual.TextStim(\n",
    "        win, pos=[0,+3],\n",
    "        text='mean of final 6 reversals = %.3f' % (approxThreshold))\n",
    "\n",
    "feedback1.draw()\n",
    "fixation.draw()\n",
    "win.flip()\n",
    "event.waitKeys()  # wait for participant to respond\n",
    "\n",
    "win.close()\n",
    "core.quit()\n",
    " \n"
   ]
  },
  {
   "cell_type": "markdown",
   "metadata": {},
   "source": [
    "for an explanation of this code, see https://www.psychopy.org/coder/tutorial2.html"
   ]
  },
  {
   "cell_type": "markdown",
   "metadata": {},
   "source": [
    "## PsychoPy: Stroop-Task (from Builder)"
   ]
  },
  {
   "cell_type": "markdown",
   "metadata": {},
   "source": [
    "The video at the very beginning showed how to create the [Stroop-Task](https://en.wikipedia.org/wiki/Stroop_effect) using PsychoPy's Builder. I followed that tutorial (more or less), and PsychoPy auto-generated corresponding Python-Code.\n",
    "\n",
    "![](./figures/strooptask_builder.png)"
   ]
  },
  {
   "cell_type": "markdown",
   "metadata": {},
   "source": [
    "Note that as the code was generated algorithmically, there are certainly a few things you wouldn't do yourself in there, however the code also contains a lot to learn from and to copy for your projects."
   ]
  },
  {
   "cell_type": "code",
   "execution_count": 88,
   "metadata": {},
   "outputs": [
    {
     "name": "stdout",
     "output_type": "stream",
     "text": [
      "7561.4038 \tWARNING \tUser requested fullscreen with size [1024  768], but screen is actually [1920, 1080]. Using actual size\n",
      "7563.2001 \tWARNING \tt of last frame was 24.71ms (=1/40)\n"
     ]
    }
   ],
   "source": [
    "%run stroop/stroop.py"
   ]
  },
  {
   "cell_type": "code",
   "execution_count": 50,
   "metadata": {},
   "outputs": [],
   "source": [
    "# %load stroop/stroop.py\n",
    "#!/usr/bin/env python\n",
    "\"\"\"\n",
    "This experiment was created using PsychoPy3 Experiment Builder (v2020.1.2),\n",
    "    on Wed 01 Jul 2020 02:54:40 PM CEST\n",
    "If you publish work using this script the most relevant publication is:\n",
    "\n",
    "    Peirce J, Gray JR, Simpson S, MacAskill M, Höchenberger R, Sogo H, Kastman E, Lindeløv JK. (2019) \n",
    "        PsychoPy2: Experiments in behavior made easy Behav Res 51: 195. \n",
    "        https://doi.org/10.3758/s13428-018-01193-y\n",
    "\n",
    "\"\"\"\n",
    "\n",
    "from __future__ import absolute_import, division\n",
    "\n",
    "from psychopy import locale_setup\n",
    "from psychopy import prefs\n",
    "from psychopy import sound, gui, visual, core, data, event, logging, clock\n",
    "from psychopy.constants import (NOT_STARTED, STARTED, PLAYING, PAUSED,\n",
    "                                STOPPED, FINISHED, PRESSED, RELEASED, FOREVER)\n",
    "\n",
    "import numpy as np  # whole numpy lib is available, prepend 'np.'\n",
    "from numpy import (sin, cos, tan, log, log10, pi, average,\n",
    "                   sqrt, std, deg2rad, rad2deg, linspace, asarray)\n",
    "from numpy.random import random, randint, normal, shuffle\n",
    "import os  # handy system and path functions\n",
    "import sys  # to get file system encoding\n",
    "\n",
    "from psychopy.hardware import keyboard\n",
    "\n",
    "\n",
    "\n",
    "# Ensure that relative paths start from the same directory as this script\n",
    "_thisDir = os.path.dirname(os.path.abspath(__file__))\n",
    "os.chdir(_thisDir)\n",
    "\n",
    "# Store info about the experiment session\n",
    "psychopyVersion = '2020.1.2'\n",
    "expName = 'stroop'  # from the Builder filename that created this script\n",
    "expInfo = {'participant': '', 'session': '001'}\n",
    "dlg = gui.DlgFromDict(dictionary=expInfo, sortKeys=False, title=expName)\n",
    "if dlg.OK == False:\n",
    "    core.quit()  # user pressed cancel\n",
    "expInfo['date'] = data.getDateStr()  # add a simple timestamp\n",
    "expInfo['expName'] = expName\n",
    "expInfo['psychopyVersion'] = psychopyVersion\n",
    "\n",
    "# Data file name stem = absolute path + name; later add .psyexp, .csv, .log, etc\n",
    "filename = _thisDir + os.sep + u'data/%s_%s_%s' % (expInfo['participant'], expName, expInfo['date'])\n",
    "\n",
    "# An ExperimentHandler isn't essential but helps with data saving\n",
    "thisExp = data.ExperimentHandler(name=expName, version='',\n",
    "    extraInfo=expInfo, runtimeInfo=None,\n",
    "    originPath='/home/chris/Documents/UNI/sem_14/scientific_programming/lectures/week12-Designing_Experiments_with_Expyriment/psychopy/stroop.py',\n",
    "    savePickle=True, saveWideText=True,\n",
    "    dataFileName=filename)\n",
    "# save a log file for detail verbose info\n",
    "logFile = logging.LogFile(filename+'.log', level=logging.EXP)\n",
    "logging.console.setLevel(logging.WARNING)  # this outputs to the screen, not a file\n",
    "\n",
    "endExpNow = False  # flag for 'escape' or other condition => quit the exp\n",
    "frameTolerance = 0.001  # how close to onset before 'same' frame\n",
    "\n",
    "# Start Code - component code to be run before the window creation\n",
    "\n",
    "# Setup the Window\n",
    "win = visual.Window(\n",
    "    size=(1024, 768), fullscr=True, screen=0, \n",
    "    winType='pyglet', allowGUI=False, allowStencil=False,\n",
    "    monitor='testMonitor', color=[0,0,0], colorSpace='rgb',\n",
    "    blendMode='avg', useFBO=True, \n",
    "    units='height')\n",
    "# store frame rate of monitor if we can measure it\n",
    "expInfo['frameRate'] = win.getActualFrameRate()\n",
    "if expInfo['frameRate'] != None:\n",
    "    frameDur = 1.0 / round(expInfo['frameRate'])\n",
    "else:\n",
    "    frameDur = 1.0 / 60.0  # could not measure, so guess\n",
    "\n",
    "# create a default keyboard (e.g. to check for escape)\n",
    "defaultKeyboard = keyboard.Keyboard()\n",
    "\n",
    "# Initialize components for Routine \"instructions\"\n",
    "instructionsClock = core.Clock()\n",
    "text = visual.TextStim(win=win, name='text',\n",
    "    text='Hello, welcome!\\nasdf',\n",
    "    font='Arial',\n",
    "    pos=(0, 0), height=0.1, wrapWidth=None, ori=0, \n",
    "    color='white', colorSpace='rgb', opacity=1, \n",
    "    languageStyle='LTR',\n",
    "    depth=0.0);\n",
    "key_res = keyboard.Keyboard()\n",
    "\n",
    "# Initialize components for Routine \"trial\"\n",
    "trialClock = core.Clock()\n",
    "target = visual.TextStim(win=win, name='target',\n",
    "    text='default text',\n",
    "    font='Arial',\n",
    "    pos=(0, 0), height=0.1, wrapWidth=None, ori=0, \n",
    "    color='white', colorSpace='rgb', opacity=1, \n",
    "    languageStyle='LTR',\n",
    "    depth=0.0);\n",
    "response = keyboard.Keyboard()\n",
    "\n",
    "# Create some handy timers\n",
    "globalClock = core.Clock()  # to track the time since experiment started\n",
    "routineTimer = core.CountdownTimer()  # to track time remaining of each (non-slip) routine \n",
    "\n",
    "# ------Prepare to start Routine \"instructions\"-------\n",
    "continueRoutine = True\n",
    "# update component parameters for each repeat\n",
    "key_res.keys = []\n",
    "key_res.rt = []\n",
    "_key_res_allKeys = []\n",
    "# keep track of which components have finished\n",
    "instructionsComponents = [text, key_res]\n",
    "for thisComponent in instructionsComponents:\n",
    "    thisComponent.tStart = None\n",
    "    thisComponent.tStop = None\n",
    "    thisComponent.tStartRefresh = None\n",
    "    thisComponent.tStopRefresh = None\n",
    "    if hasattr(thisComponent, 'status'):\n",
    "        thisComponent.status = NOT_STARTED\n",
    "# reset timers\n",
    "t = 0\n",
    "_timeToFirstFrame = win.getFutureFlipTime(clock=\"now\")\n",
    "instructionsClock.reset(-_timeToFirstFrame)  # t0 is time of first possible flip\n",
    "frameN = -1\n",
    "\n",
    "# -------Run Routine \"instructions\"-------\n",
    "while continueRoutine:\n",
    "    # get current time\n",
    "    t = instructionsClock.getTime()\n",
    "    tThisFlip = win.getFutureFlipTime(clock=instructionsClock)\n",
    "    tThisFlipGlobal = win.getFutureFlipTime(clock=None)\n",
    "    frameN = frameN + 1  # number of completed frames (so 0 is the first frame)\n",
    "    # update/draw components on each frame\n",
    "    \n",
    "    # *text* updates\n",
    "    if text.status == NOT_STARTED and tThisFlip >= 0.0-frameTolerance:\n",
    "        # keep track of start time/frame for later\n",
    "        text.frameNStart = frameN  # exact frame index\n",
    "        text.tStart = t  # local t and not account for scr refresh\n",
    "        text.tStartRefresh = tThisFlipGlobal  # on global time\n",
    "        win.timeOnFlip(text, 'tStartRefresh')  # time at next scr refresh\n",
    "        text.setAutoDraw(True)\n",
    "    if text.status == STARTED:\n",
    "        # is it time to stop? (based on global clock, using actual start)\n",
    "        if tThisFlipGlobal > text.tStartRefresh + 1.0-frameTolerance:\n",
    "            # keep track of stop time/frame for later\n",
    "            text.tStop = t  # not accounting for scr refresh\n",
    "            text.frameNStop = frameN  # exact frame index\n",
    "            win.timeOnFlip(text, 'tStopRefresh')  # time at next scr refresh\n",
    "            text.setAutoDraw(False)\n",
    "    \n",
    "    # *key_res* updates\n",
    "    waitOnFlip = False\n",
    "    if key_res.status == NOT_STARTED and tThisFlip >= 0.0-frameTolerance:\n",
    "        # keep track of start time/frame for later\n",
    "        key_res.frameNStart = frameN  # exact frame index\n",
    "        key_res.tStart = t  # local t and not account for scr refresh\n",
    "        key_res.tStartRefresh = tThisFlipGlobal  # on global time\n",
    "        win.timeOnFlip(key_res, 'tStartRefresh')  # time at next scr refresh\n",
    "        key_res.status = STARTED\n",
    "        # keyboard checking is just starting\n",
    "        waitOnFlip = True\n",
    "        win.callOnFlip(key_res.clock.reset)  # t=0 on next screen flip\n",
    "        win.callOnFlip(key_res.clearEvents, eventType='keyboard')  # clear events on next screen flip\n",
    "    if key_res.status == STARTED and not waitOnFlip:\n",
    "        theseKeys = key_res.getKeys(keyList=None, waitRelease=False)\n",
    "        _key_res_allKeys.extend(theseKeys)\n",
    "        if len(_key_res_allKeys):\n",
    "            key_res.keys = _key_res_allKeys[-1].name  # just the last key pressed\n",
    "            key_res.rt = _key_res_allKeys[-1].rt\n",
    "            # a response ends the routine\n",
    "            continueRoutine = False\n",
    "    \n",
    "    # check for quit (typically the Esc key)\n",
    "    if endExpNow or defaultKeyboard.getKeys(keyList=[\"escape\"]):\n",
    "        core.quit()\n",
    "    \n",
    "    # check if all components have finished\n",
    "    if not continueRoutine:  # a component has requested a forced-end of Routine\n",
    "        break\n",
    "    continueRoutine = False  # will revert to True if at least one component still running\n",
    "    for thisComponent in instructionsComponents:\n",
    "        if hasattr(thisComponent, \"status\") and thisComponent.status != FINISHED:\n",
    "            continueRoutine = True\n",
    "            break  # at least one component has not yet finished\n",
    "    \n",
    "    # refresh the screen\n",
    "    if continueRoutine:  # don't flip if this routine is over or we'll get a blank screen\n",
    "        win.flip()\n",
    "\n",
    "# -------Ending Routine \"instructions\"-------\n",
    "for thisComponent in instructionsComponents:\n",
    "    if hasattr(thisComponent, \"setAutoDraw\"):\n",
    "        thisComponent.setAutoDraw(False)\n",
    "thisExp.addData('text.started', text.tStartRefresh)\n",
    "thisExp.addData('text.stopped', text.tStopRefresh)\n",
    "# check responses\n",
    "if key_res.keys in ['', [], None]:  # No response was made\n",
    "    key_res.keys = None\n",
    "thisExp.addData('key_res.keys',key_res.keys)\n",
    "if key_res.keys != None:  # we had a response\n",
    "    thisExp.addData('key_res.rt', key_res.rt)\n",
    "thisExp.addData('key_res.started', key_res.tStartRefresh)\n",
    "thisExp.addData('key_res.stopped', key_res.tStopRefresh)\n",
    "thisExp.nextEntry()\n",
    "# the Routine \"instructions\" was not non-slip safe, so reset the non-slip timer\n",
    "routineTimer.reset()\n",
    "\n",
    "# set up handler to look after randomisation of conditions etc\n",
    "trials = data.TrialHandler(nReps=1, method='random', \n",
    "    extraInfo=expInfo, originPath=-1,\n",
    "    trialList=data.importConditions('stroop_conditions.csv'),\n",
    "    seed=None, name='trials')\n",
    "thisExp.addLoop(trials)  # add the loop to the experiment\n",
    "thisTrial = trials.trialList[0]  # so we can initialise stimuli with some values\n",
    "# abbreviate parameter names if possible (e.g. rgb = thisTrial.rgb)\n",
    "if thisTrial != None:\n",
    "    for paramName in thisTrial:\n",
    "        exec('{} = thisTrial[paramName]'.format(paramName))\n",
    "\n",
    "for thisTrial in trials:\n",
    "    currentLoop = trials\n",
    "    # abbreviate parameter names if possible (e.g. rgb = thisTrial.rgb)\n",
    "    if thisTrial != None:\n",
    "        for paramName in thisTrial:\n",
    "            exec('{} = thisTrial[paramName]'.format(paramName))\n",
    "    \n",
    "    # ------Prepare to start Routine \"trial\"-------\n",
    "    continueRoutine = True\n",
    "    # update component parameters for each repeat\n",
    "    target.setColor(color, colorSpace='rgb')\n",
    "    target.setText(word)\n",
    "    response.keys = []\n",
    "    response.rt = []\n",
    "    _response_allKeys = []\n",
    "    # keep track of which components have finished\n",
    "    trialComponents = [target, response]\n",
    "    for thisComponent in trialComponents:\n",
    "        thisComponent.tStart = None\n",
    "        thisComponent.tStop = None\n",
    "        thisComponent.tStartRefresh = None\n",
    "        thisComponent.tStopRefresh = None\n",
    "        if hasattr(thisComponent, 'status'):\n",
    "            thisComponent.status = NOT_STARTED\n",
    "    # reset timers\n",
    "    t = 0\n",
    "    _timeToFirstFrame = win.getFutureFlipTime(clock=\"now\")\n",
    "    trialClock.reset(-_timeToFirstFrame)  # t0 is time of first possible flip\n",
    "    frameN = -1\n",
    "    \n",
    "    # -------Run Routine \"trial\"-------\n",
    "    while continueRoutine:\n",
    "        # get current time\n",
    "        t = trialClock.getTime()\n",
    "        tThisFlip = win.getFutureFlipTime(clock=trialClock)\n",
    "        tThisFlipGlobal = win.getFutureFlipTime(clock=None)\n",
    "        frameN = frameN + 1  # number of completed frames (so 0 is the first frame)\n",
    "        # update/draw components on each frame\n",
    "        \n",
    "        # *target* updates\n",
    "        if target.status == NOT_STARTED and tThisFlip >= 0.5-frameTolerance:\n",
    "            # keep track of start time/frame for later\n",
    "            target.frameNStart = frameN  # exact frame index\n",
    "            target.tStart = t  # local t and not account for scr refresh\n",
    "            target.tStartRefresh = tThisFlipGlobal  # on global time\n",
    "            win.timeOnFlip(target, 'tStartRefresh')  # time at next scr refresh\n",
    "            target.setAutoDraw(True)\n",
    "        if target.status == STARTED:\n",
    "            # is it time to stop? (based on global clock, using actual start)\n",
    "            if tThisFlipGlobal > target.tStartRefresh + 5-frameTolerance:\n",
    "                # keep track of stop time/frame for later\n",
    "                target.tStop = t  # not accounting for scr refresh\n",
    "                target.frameNStop = frameN  # exact frame index\n",
    "                win.timeOnFlip(target, 'tStopRefresh')  # time at next scr refresh\n",
    "                target.setAutoDraw(False)\n",
    "        \n",
    "        # *response* updates\n",
    "        waitOnFlip = False\n",
    "        if response.status == NOT_STARTED and tThisFlip >= 0.5-frameTolerance:\n",
    "            # keep track of start time/frame for later\n",
    "            response.frameNStart = frameN  # exact frame index\n",
    "            response.tStart = t  # local t and not account for scr refresh\n",
    "            response.tStartRefresh = tThisFlipGlobal  # on global time\n",
    "            win.timeOnFlip(response, 'tStartRefresh')  # time at next scr refresh\n",
    "            response.status = STARTED\n",
    "            # keyboard checking is just starting\n",
    "            waitOnFlip = True\n",
    "            win.callOnFlip(response.clock.reset)  # t=0 on next screen flip\n",
    "            win.callOnFlip(response.clearEvents, eventType='keyboard')  # clear events on next screen flip\n",
    "        if response.status == STARTED and not waitOnFlip:\n",
    "            theseKeys = response.getKeys(keyList=['left', 'right', 'up', 'down'], waitRelease=False)\n",
    "            _response_allKeys.extend(theseKeys)\n",
    "            if len(_response_allKeys):\n",
    "                response.keys = _response_allKeys[-1].name  # just the last key pressed\n",
    "                response.rt = _response_allKeys[-1].rt\n",
    "                # was this correct?\n",
    "                if (response.keys == str(corrAns)) or (response.keys == corrAns):\n",
    "                    response.corr = 1\n",
    "                else:\n",
    "                    response.corr = 0\n",
    "                # a response ends the routine\n",
    "                continueRoutine = False\n",
    "        \n",
    "        # check for quit (typically the Esc key)\n",
    "        if endExpNow or defaultKeyboard.getKeys(keyList=[\"escape\"]):\n",
    "            core.quit()\n",
    "        \n",
    "        # check if all components have finished\n",
    "        if not continueRoutine:  # a component has requested a forced-end of Routine\n",
    "            break\n",
    "        continueRoutine = False  # will revert to True if at least one component still running\n",
    "        for thisComponent in trialComponents:\n",
    "            if hasattr(thisComponent, \"status\") and thisComponent.status != FINISHED:\n",
    "                continueRoutine = True\n",
    "                break  # at least one component has not yet finished\n",
    "        \n",
    "        # refresh the screen\n",
    "        if continueRoutine:  # don't flip if this routine is over or we'll get a blank screen\n",
    "            win.flip()\n",
    "    \n",
    "    # -------Ending Routine \"trial\"-------\n",
    "    for thisComponent in trialComponents:\n",
    "        if hasattr(thisComponent, \"setAutoDraw\"):\n",
    "            thisComponent.setAutoDraw(False)\n",
    "    trials.addData('target.started', target.tStartRefresh)\n",
    "    trials.addData('target.stopped', target.tStopRefresh)\n",
    "    # check responses\n",
    "    if response.keys in ['', [], None]:  # No response was made\n",
    "        response.keys = None\n",
    "        # was no response the correct answer?!\n",
    "        if str(corrAns).lower() == 'none':\n",
    "           response.corr = 1;  # correct non-response\n",
    "        else:\n",
    "           response.corr = 0;  # failed to respond (incorrectly)\n",
    "    # store data for trials (TrialHandler)\n",
    "    trials.addData('response.keys',response.keys)\n",
    "    trials.addData('response.corr', response.corr)\n",
    "    if response.keys != None:  # we had a response\n",
    "        trials.addData('response.rt', response.rt)\n",
    "    trials.addData('response.started', response.tStartRefresh)\n",
    "    trials.addData('response.stopped', response.tStopRefresh)\n",
    "    # the Routine \"trial\" was not non-slip safe, so reset the non-slip timer\n",
    "    routineTimer.reset()\n",
    "    thisExp.nextEntry()\n",
    "    \n",
    "# completed 1 repeats of 'trials'\n",
    "\n",
    "\n",
    "# Flip one final time so any remaining win.callOnFlip() \n",
    "# and win.timeOnFlip() tasks get executed before quitting\n",
    "win.flip()\n",
    "\n",
    "# these shouldn't be strictly necessary (should auto-save)\n",
    "thisExp.saveAsWideText(filename+'.csv')\n",
    "thisExp.saveAsPickle(filename)\n",
    "logging.flush()\n",
    "# make sure everything is closed down\n",
    "thisExp.abort()  # or data files will save again on exit\n",
    "win.close()\n",
    "core.quit()\n"
   ]
  },
  {
   "cell_type": "raw",
   "metadata": {},
   "source": [
    "\n",
    "\n",
    "\n",
    "\n",
    "\n",
    "\n",
    "\n",
    "\n",
    "\n",
    "\n",
    "\n",
    "\n",
    "\n",
    "\n",
    "\n",
    "\n"
   ]
  },
  {
   "cell_type": "markdown",
   "metadata": {},
   "source": [
    "# More resources\n",
    "\n",
    "* PsychoPy's Getting Started: https://www.psychopy.org/gettingStarted.html\n",
    "* The documentation for PsychoPy's Coder-Interface (including the tutorial we had here in detail): https://www.psychopy.org/coder/index.html#tutorials\n",
    "* The study on timing-accuracies of different experiment-libraries: https://psyarxiv.com/d6nu5/\n",
    "\n",
    "\n",
    "* First address for Expyriment: Their [website](http://www.expyriment.org/).\n",
    "* A nice introduction is given by their paper: Krause, F. & Lindemann, O. (2014). Expyriment: A Python library for cognitive and neuroscientific experiments. Behavior Research Methods, 46(2), 416-428. [doi:10.3758/s13428-013-0390-6](https://link.springer.com/article/10.3758%2Fs13428-013-0390-6).\n",
    "* It's always, always, always helpful to look at the docs! They provide a nice Overview, as well as the API reference, under [https://docs.expyriment.org/](https://docs.expyriment.org/)\n",
    "* A nice starting point if you want to make your own experiments is also their experiment-stash: [https://github.com/expyriment/expyriment-stash](https://github.com/expyriment/expyriment-stash)"
   ]
  },
  {
   "cell_type": "raw",
   "metadata": {},
   "source": [
    "\n",
    "\n",
    "\n",
    "\n",
    "\n",
    "\n",
    "\n",
    "\n"
   ]
  },
  {
   "cell_type": "markdown",
   "metadata": {},
   "source": [
    "# Appendix"
   ]
  },
  {
   "cell_type": "markdown",
   "metadata": {},
   "source": [
    "## Shuffling\n",
    "\n",
    "Shuffling your conditions is harder as it seems at first: Imagine you merge two experiments into one, additionally providing distractors. It may be unwanted to have more than two trial of the same condition behind each other. Further, you may not want the first experiment to be present only in the first half of the experiment, leaving only the other one and the distractors for the second half."
   ]
  },
  {
   "cell_type": "code",
   "execution_count": 102,
   "metadata": {},
   "outputs": [
    {
     "name": "stdout",
     "output_type": "stream",
     "text": [
      "['A6', 'B4', 'A2', 'A8', 'C6', 'A7', 'C4', 'A5', 'A3', 'A4', 'C8', 'B5', 'A9', 'C9', 'C0', 'A0', 'B3', 'B1', 'B2', 'B8', 'B6', 'C3', 'B0', 'C1', 'B7', 'C2', 'C7', 'B9', 'C5', 'A1']\n"
     ]
    },
    {
     "data": {
      "text/plain": [
       "False"
      ]
     },
     "execution_count": 102,
     "metadata": {},
     "output_type": "execute_result"
    }
   ],
   "source": [
    "import random\n",
    "from functools import reduce\n",
    "\n",
    "def condition(ls):\n",
    "    \"\"\"returns False if two consecutive list-elements start with the same letter, else True\"\"\"\n",
    "    return reduce(lambda x,y: False if x is False or x[0]==y[0] else y, ls) != False\n",
    "\n",
    "def generate_lists(num_elems):\n",
    "    l1 = list([\"A\"+str(i) for i in range(num_elems)])\n",
    "    l2 = list([\"B\"+str(i) for i in range(num_elems)])\n",
    "    l3 = list([\"C\"+str(i) for i in range(num_elems)])\n",
    "    return l1+l2+l3\n",
    "\n",
    "together = generate_lists(10)\n",
    "random.shuffle(together)\n",
    "\n",
    "print(together)\n",
    "condition(together)"
   ]
  },
  {
   "cell_type": "markdown",
   "metadata": {},
   "source": [
    "The easiest approach to do this is to just test the conditions you want in a function, and to shuffle until this condition is met. But beware, this has a theoretical runtime of $\\mathcal{O}(\\infty)$, and thus may run indefinitely long or not even lead to any result at all! The more restrictions you have to your shuffle and the more items the lists have, the less likely that any shuffle will even be found!"
   ]
  },
  {
   "cell_type": "code",
   "execution_count": 104,
   "metadata": {},
   "outputs": [
    {
     "name": "stdout",
     "output_type": "stream",
     "text": [
      "['B7', 'C6', 'B8', 'A1', 'C8', 'A6', 'B1', 'C9', 'B6', 'C2', 'B9', 'A0', 'C0', 'A8', 'B0', 'A7', 'B5', 'A4', 'C7', 'A9', 'C5', 'A5', 'C4', 'B4', 'A2', 'B2', 'A3', 'C1', 'B3', 'C3']\n"
     ]
    }
   ],
   "source": [
    "random.seed(1)\n",
    "\n",
    "together = generate_lists(10)\n",
    "\n",
    "while not condition(together):\n",
    "    random.shuffle(together)\n",
    "\n",
    "print(together)"
   ]
  },
  {
   "cell_type": "code",
   "execution_count": 3,
   "metadata": {},
   "outputs": [
    {
     "ename": "KeyboardInterrupt",
     "evalue": "",
     "output_type": "error",
     "traceback": [
      "\u001b[0;31m---------------------------------------------------------------------------\u001b[0m",
      "\u001b[0;31mKeyboardInterrupt\u001b[0m                         Traceback (most recent call last)",
      "\u001b[0;32m<ipython-input-3-953225f05360>\u001b[0m in \u001b[0;36m<module>\u001b[0;34m\u001b[0m\n\u001b[1;32m      1\u001b[0m \u001b[0mtogether\u001b[0m \u001b[0;34m=\u001b[0m \u001b[0mgenerate_lists\u001b[0m\u001b[0;34m(\u001b[0m\u001b[0;36m15\u001b[0m\u001b[0;34m)\u001b[0m\u001b[0;34m\u001b[0m\u001b[0;34m\u001b[0m\u001b[0m\n\u001b[1;32m      2\u001b[0m \u001b[0;34m\u001b[0m\u001b[0m\n\u001b[0;32m----> 3\u001b[0;31m \u001b[0;32mwhile\u001b[0m \u001b[0;32mnot\u001b[0m \u001b[0mcondition\u001b[0m\u001b[0;34m(\u001b[0m\u001b[0mtogether\u001b[0m\u001b[0;34m)\u001b[0m\u001b[0;34m:\u001b[0m\u001b[0;34m\u001b[0m\u001b[0;34m\u001b[0m\u001b[0m\n\u001b[0m\u001b[1;32m      4\u001b[0m     \u001b[0mrandom\u001b[0m\u001b[0;34m.\u001b[0m\u001b[0mshuffle\u001b[0m\u001b[0;34m(\u001b[0m\u001b[0mtogether\u001b[0m\u001b[0;34m)\u001b[0m\u001b[0;34m\u001b[0m\u001b[0;34m\u001b[0m\u001b[0m\n\u001b[1;32m      5\u001b[0m \u001b[0;34m\u001b[0m\u001b[0m\n",
      "\u001b[0;32m<ipython-input-1-bea934544e9c>\u001b[0m in \u001b[0;36mcondition\u001b[0;34m(ls)\u001b[0m\n\u001b[1;32m      4\u001b[0m \u001b[0;32mdef\u001b[0m \u001b[0mcondition\u001b[0m\u001b[0;34m(\u001b[0m\u001b[0mls\u001b[0m\u001b[0;34m)\u001b[0m\u001b[0;34m:\u001b[0m\u001b[0;34m\u001b[0m\u001b[0;34m\u001b[0m\u001b[0m\n\u001b[1;32m      5\u001b[0m     \u001b[0;34m\"\"\"returns False if two consecutive list-elements start with the same letter, else True\"\"\"\u001b[0m\u001b[0;34m\u001b[0m\u001b[0;34m\u001b[0m\u001b[0m\n\u001b[0;32m----> 6\u001b[0;31m     \u001b[0;32mreturn\u001b[0m \u001b[0mreduce\u001b[0m\u001b[0;34m(\u001b[0m\u001b[0;32mlambda\u001b[0m \u001b[0mx\u001b[0m\u001b[0;34m,\u001b[0m\u001b[0my\u001b[0m\u001b[0;34m:\u001b[0m \u001b[0;32mFalse\u001b[0m \u001b[0;32mif\u001b[0m \u001b[0mx\u001b[0m \u001b[0;32mis\u001b[0m \u001b[0;32mFalse\u001b[0m \u001b[0;32mor\u001b[0m \u001b[0mx\u001b[0m\u001b[0;34m[\u001b[0m\u001b[0;36m0\u001b[0m\u001b[0;34m]\u001b[0m\u001b[0;34m==\u001b[0m\u001b[0my\u001b[0m\u001b[0;34m[\u001b[0m\u001b[0;36m0\u001b[0m\u001b[0;34m]\u001b[0m \u001b[0;32melse\u001b[0m \u001b[0my\u001b[0m\u001b[0;34m,\u001b[0m \u001b[0mls\u001b[0m\u001b[0;34m)\u001b[0m \u001b[0;34m!=\u001b[0m \u001b[0;32mFalse\u001b[0m\u001b[0;34m\u001b[0m\u001b[0;34m\u001b[0m\u001b[0m\n\u001b[0m\u001b[1;32m      7\u001b[0m \u001b[0;34m\u001b[0m\u001b[0m\n\u001b[1;32m      8\u001b[0m \u001b[0;32mdef\u001b[0m \u001b[0mgenerate_lists\u001b[0m\u001b[0;34m(\u001b[0m\u001b[0mnum_elems\u001b[0m\u001b[0;34m)\u001b[0m\u001b[0;34m:\u001b[0m\u001b[0;34m\u001b[0m\u001b[0;34m\u001b[0m\u001b[0m\n",
      "\u001b[0;32m<ipython-input-1-bea934544e9c>\u001b[0m in \u001b[0;36m<lambda>\u001b[0;34m(x, y)\u001b[0m\n\u001b[1;32m      4\u001b[0m \u001b[0;32mdef\u001b[0m \u001b[0mcondition\u001b[0m\u001b[0;34m(\u001b[0m\u001b[0mls\u001b[0m\u001b[0;34m)\u001b[0m\u001b[0;34m:\u001b[0m\u001b[0;34m\u001b[0m\u001b[0;34m\u001b[0m\u001b[0m\n\u001b[1;32m      5\u001b[0m     \u001b[0;34m\"\"\"returns False if two consecutive list-elements start with the same letter, else True\"\"\"\u001b[0m\u001b[0;34m\u001b[0m\u001b[0;34m\u001b[0m\u001b[0m\n\u001b[0;32m----> 6\u001b[0;31m     \u001b[0;32mreturn\u001b[0m \u001b[0mreduce\u001b[0m\u001b[0;34m(\u001b[0m\u001b[0;32mlambda\u001b[0m \u001b[0mx\u001b[0m\u001b[0;34m,\u001b[0m\u001b[0my\u001b[0m\u001b[0;34m:\u001b[0m \u001b[0;32mFalse\u001b[0m \u001b[0;32mif\u001b[0m \u001b[0mx\u001b[0m \u001b[0;32mis\u001b[0m \u001b[0;32mFalse\u001b[0m \u001b[0;32mor\u001b[0m \u001b[0mx\u001b[0m\u001b[0;34m[\u001b[0m\u001b[0;36m0\u001b[0m\u001b[0;34m]\u001b[0m\u001b[0;34m==\u001b[0m\u001b[0my\u001b[0m\u001b[0;34m[\u001b[0m\u001b[0;36m0\u001b[0m\u001b[0;34m]\u001b[0m \u001b[0;32melse\u001b[0m \u001b[0my\u001b[0m\u001b[0;34m,\u001b[0m \u001b[0mls\u001b[0m\u001b[0;34m)\u001b[0m \u001b[0;34m!=\u001b[0m \u001b[0;32mFalse\u001b[0m\u001b[0;34m\u001b[0m\u001b[0;34m\u001b[0m\u001b[0m\n\u001b[0m\u001b[1;32m      7\u001b[0m \u001b[0;34m\u001b[0m\u001b[0m\n\u001b[1;32m      8\u001b[0m \u001b[0;32mdef\u001b[0m \u001b[0mgenerate_lists\u001b[0m\u001b[0;34m(\u001b[0m\u001b[0mnum_elems\u001b[0m\u001b[0;34m)\u001b[0m\u001b[0;34m:\u001b[0m\u001b[0;34m\u001b[0m\u001b[0;34m\u001b[0m\u001b[0m\n",
      "\u001b[0;31mKeyboardInterrupt\u001b[0m: "
     ]
    }
   ],
   "source": [
    "together = generate_lists(15)\n",
    "\n",
    "while not condition(together):\n",
    "    random.shuffle(together)\n",
    "\n",
    "print(together)"
   ]
  },
  {
   "cell_type": "markdown",
   "metadata": {},
   "source": [
    "A better approach in this situation may be *divide and conquer*, provided the problem you have can easily be divided."
   ]
  },
  {
   "cell_type": "code",
   "execution_count": 105,
   "metadata": {},
   "outputs": [
    {
     "name": "stdout",
     "output_type": "stream",
     "text": [
      "['C2', 'A21', 'B27', 'C25', 'B21', 'A1', 'B6', 'C29', 'A6', 'C14', 'B14', 'A9', 'B16', 'C4', 'A27', 'B2', 'C3', 'A24', 'B8', 'C22', 'A13', 'C5', 'B12', 'C6', 'A18', 'B10', 'A29', 'B3', 'C13', 'A23', 'C11', 'A11', 'C10', 'A12', 'B1', 'C26', 'B18', 'A28', 'B20', 'A20', 'C16', 'B11', 'C19', 'B17', 'A2', 'B13', 'A22', 'B19', 'C17', 'B26', 'A26', 'C21', 'B15', 'C9', 'A17', 'C7', 'A5', 'B7', 'A4', 'C24', 'A10', 'B22', 'A19', 'C1', 'B5', 'C23', 'B0', 'A7', 'B24', 'C27', 'A8', 'C28', 'B4', 'A3', 'C18', 'A0', 'C0', 'A25', 'B28', 'C15', 'B23', 'A16', 'B29', 'A14', 'B9', 'C20', 'B25', 'C12', 'A15', 'C8']\n"
     ]
    }
   ],
   "source": [
    "def generate_lists2(num_elems):\n",
    "    l1 = list([\"A\"+str(i) for i in range(num_elems)])\n",
    "    l2 = list([\"B\"+str(i) for i in range(num_elems)])\n",
    "    l3 = list([\"C\"+str(i) for i in range(num_elems)])\n",
    "    for ls in [l1, l2, l3]:\n",
    "        random.shuffle(ls)\n",
    "    return l1, l2, l3\n",
    "\n",
    "NUM_ELEMS = 30\n",
    "OKAY_ELEMS = 5\n",
    "l1, l2, l3 = generate_lists2(NUM_ELEMS)\n",
    "tmp_lists = []\n",
    "\n",
    "for i in range(NUM_ELEMS//OKAY_ELEMS):\n",
    "    tmp = l1[i*OKAY_ELEMS: (i+1)*OKAY_ELEMS] + l2[i*OKAY_ELEMS: (i+1)*OKAY_ELEMS] + l3[i*OKAY_ELEMS: (i+1)*OKAY_ELEMS]\n",
    "    while not condition(tmp):\n",
    "        random.shuffle(tmp)\n",
    "    tmp_lists.append(tmp)\n",
    "                \n",
    "for i in range(len(tmp_lists)-1):\n",
    "    while not condition([tmp_lists[i][-1]]+[tmp_lists[i+1][0]]):\n",
    "        tmp_lists[i+1] = tmp_lists[i+1][1:] + [tmp_lists[i+1][0]]\n",
    "    \n",
    "final_list = reduce(lambda x,y: x+y, tmp_lists)\n",
    "\n",
    "print(final_list)"
   ]
  },
  {
   "cell_type": "markdown",
   "metadata": {},
   "source": [
    "Another possibility is to just drop the idea of \"shuffling until you find one\" idea completely, and build the desired sequence one at a time:"
   ]
  },
  {
   "cell_type": "code",
   "execution_count": 106,
   "metadata": {},
   "outputs": [
    {
     "name": "stdout",
     "output_type": "stream",
     "text": [
      "['A11', 'B16', 'C24', 'B19', 'C28', 'A13', 'C2', 'A9', 'B25', 'C14', 'A10', 'B24', 'A12', 'B3', 'C22', 'A29', 'C12', 'B15', 'C26', 'B22', 'A19', 'C5', 'B17', 'A0', 'C29', 'B29', 'C9', 'A25', 'C23', 'B0', 'A20', 'C25', 'B20', 'A7', 'C27', 'A22', 'B1', 'A17', 'B23', 'A1', 'C10', 'A5', 'C8', 'B18', 'A28', 'C18', 'B10', 'C19', 'A21', 'B11', 'C15', 'A2', 'C20', 'A26', 'B7', 'A4', 'C0', 'A15', 'C21', 'B5', 'A27', 'C3', 'A8', 'B27', 'A23', 'C13', 'B14', 'C4', 'B26', 'C1', 'A6', 'B12', 'C7', 'B28', 'C16', 'B13', 'A24', 'C17', 'A16', 'B8', 'A14', 'B6', 'C6', 'B4', 'A3', 'B9', 'A18', 'B21', 'C11', 'B2']\n"
     ]
    }
   ],
   "source": [
    "import numpy\n",
    "lists = generate_lists2(30)\n",
    "\n",
    "#print(lists)\n",
    "#print(list(numpy.where(list_allowed))[0])\n",
    "\n",
    "\n",
    "amdone = False\n",
    "while not amdone:\n",
    "    try:\n",
    "        list_allowed = [True, True, True]\n",
    "        indices = [0, 0, 0]\n",
    "        merged = []\n",
    "        for _ in range(sum(len(i) for i in lists)):\n",
    "            next_val = random.choice(list(numpy.where(list_allowed))[0])\n",
    "            merged.append(lists[next_val][indices[next_val]])\n",
    "            indices[next_val] += 1\n",
    "            list_allowed = [True, True, True]\n",
    "            list_allowed[next_val] = False\n",
    "            for i in range(len(indices)):\n",
    "                if indices[i] >= len(lists[i]):\n",
    "                    list_allowed[i] = False\n",
    "    except IndexError:\n",
    "        pass\n",
    "    else:\n",
    "        amdone = True\n",
    "    \n",
    "    \n",
    "print(merged)"
   ]
  },
  {
   "cell_type": "markdown",
   "metadata": {},
   "source": [
    "How expyriment shuffles: https://docs.expyriment.org/expyriment.design.Block.html#expyriment.design.Block.shuffle_trials"
   ]
  },
  {
   "cell_type": "markdown",
   "metadata": {},
   "source": [
    "## Serial triggers\n",
    "\n",
    "If you're working with (for example) an EEG, all you need your expyriment to do is to sent triggers to it at the right time - this is done very easily with serial ports:"
   ]
  },
  {
   "cell_type": "code",
   "execution_count": null,
   "metadata": {},
   "outputs": [],
   "source": [
    "%cat /dev/com1"
   ]
  },
  {
   "cell_type": "code",
   "execution_count": null,
   "metadata": {},
   "outputs": [],
   "source": [
    "from expyriment import design, control, stimuli, misc, io\n",
    "import random\n",
    "control.set_develop_mode(True)\n",
    "\n",
    "exp = design.Experiment(name=\"My Experiment\")\n",
    "control.initialize(exp)\n",
    "\n",
    "fixcross = stimuli.FixCross()\n",
    "fixcross.preload()\n",
    "blankscreen = stimuli.BlankScreen()\n",
    "blankscreen.preload()\n",
    "\n",
    "b = design.Block(name=\"Only Block\")\n",
    "for i in range(10):\n",
    "    waiting_time = random.randint(200, 2000)\n",
    "    t = design.Trial()\n",
    "    t.set_factor(\"waiting_time\", waiting_time)\n",
    "    s = stimuli.Circle(50)\n",
    "    t.add_stimulus(s)\n",
    "    b.add_trial(t)\n",
    "exp.add_block(b)\n",
    "    \n",
    "# This requires pySerial (pip install pyserial), I've added that to the environment.yml by now!\n",
    "exp.serial_port = io.SerialPort(\"COM1\") # Can also be COM2, COM3, etc.\n",
    "# Will throw an error, as I don't have a COM1 Port right now!\n",
    "\n",
    "exp.data_variable_names = [\"Waiting Time\", \"Response Time\"]\n",
    "    \n",
    "control.start()\n",
    "\n",
    "for block in exp.blocks: \n",
    "    for trial in block.trials:\n",
    "        fixcross.present()\n",
    "        exp.clock.wait(trial.get_factor(\"waiting_time\") - trial.stimuli[0].preload())\n",
    "        trial.stimuli[0].present() \n",
    "        exp.serial_port.write(chr(1)) # Send the byte 1 as a character\n",
    "        button, rt = exp.keyboard.wait(keys=[misc.constants.K_SPACE])\n",
    "        exp.data.add([trial.get_factor(\"waiting_time\"), rt])\n",
    "        \n",
    "            \n",
    "exp.serial_port.close()\n",
    "control.end()            "
   ]
  },
  {
   "cell_type": "markdown",
   "metadata": {},
   "source": [
    "https://docs.expyriment.org/expyriment.io.SerialPort"
   ]
  }
 ],
 "metadata": {
  "kernelspec": {
   "display_name": "Python 3",
   "language": "python",
   "name": "python3"
  },
  "language_info": {
   "codemirror_mode": {
    "name": "ipython",
    "version": 3
   },
   "file_extension": ".py",
   "mimetype": "text/x-python",
   "name": "python",
   "nbconvert_exporter": "python",
   "pygments_lexer": "ipython3",
   "version": "3.7.3"
  },
  "toc-autonumbering": true
 },
 "nbformat": 4,
 "nbformat_minor": 4
}
