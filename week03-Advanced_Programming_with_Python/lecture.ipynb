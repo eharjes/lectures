{
 "cells": [
  {
   "cell_type": "markdown",
   "metadata": {},
   "source": [
    "# Addendum last week\n",
    "\n",
    "## dicts\n",
    "\n",
    "When talking about dicts, there's one new important change from python 3.5 to python 3.7, namely that dicts are now officially sorted (by insertion order):"
   ]
  },
  {
   "cell_type": "markdown",
   "metadata": {},
   "source": [
    "![3.6](figures/changes_3.6.png)"
   ]
  },
  {
   "cell_type": "markdown",
   "metadata": {},
   "source": [
    "![3.7](figures/changes_3.7.png)"
   ]
  },
  {
   "cell_type": "markdown",
   "metadata": {},
   "source": [
    "Meaning ordered dicts became a side-effects of CPython's new implementation of dict, and an official *lanuguage feature* in Python 3.7.  \n",
    "\n",
    "Soooo this code would only coincidentially work on older versions of Python:"
   ]
  },
  {
   "cell_type": "code",
   "execution_count": 1,
   "metadata": {},
   "outputs": [],
   "source": [
    "my_dict = {'a': 1, 'b': 2}\n",
    "my_dict['c'] = 4\n",
    "assert list(my_dict.keys())[2] == 'c'"
   ]
  },
  {
   "cell_type": "markdown",
   "metadata": {},
   "source": [
    "You could, however, use an OrderedDict if you have to.  \n",
    "\n",
    "To keep up with new changes to Python, check https://docs.python.org/3.7/whatsnew/3.7.html. Note that Python 3.7 is the newest version shipped with Anaconda so far."
   ]
  },
  {
   "cell_type": "code",
   "execution_count": 2,
   "metadata": {},
   "outputs": [
    {
     "name": "stdout",
     "output_type": "stream",
     "text": [
      "Python 3.7.3\n"
     ]
    }
   ],
   "source": [
    "%%bash\n",
    "\n",
    "python --version"
   ]
  },
  {
   "cell_type": "markdown",
   "metadata": {},
   "source": [
    "(what are these percent-signs, you ask? - https://ipython.readthedocs.io/en/stable/interactive/magics.html)"
   ]
  },
  {
   "cell_type": "code",
   "execution_count": 3,
   "metadata": {},
   "outputs": [
    {
     "data": {
      "text/plain": [
       "'/home/chris/Documents/UNI/sem_14/scientific_programming/lectures/week03-Advanced_Programming_with_Python'"
      ]
     },
     "execution_count": 3,
     "metadata": {},
     "output_type": "execute_result"
    }
   ],
   "source": [
    "%pwd"
   ]
  },
  {
   "cell_type": "code",
   "execution_count": 4,
   "metadata": {},
   "outputs": [
    {
     "name": "stdout",
     "output_type": "stream",
     "text": [
      "\u001b[0m\u001b[01;34mfigures\u001b[0m/  lecture.ipynb  save_file.txt  test.txt  TODO\n"
     ]
    }
   ],
   "source": [
    "%ls"
   ]
  },
  {
   "cell_type": "markdown",
   "metadata": {},
   "source": [
    "## variables and names"
   ]
  },
  {
   "cell_type": "markdown",
   "metadata": {},
   "source": [
    "A tool to interactively explore memory layout in Python programs: http://pythontutor.com/live.html#mode=edit.\n",
    "![tool](figures/tool.png)"
   ]
  },
  {
   "cell_type": "markdown",
   "metadata": {},
   "source": [
    ".\n",
    "# Advanced Python\n",
    "In this lecture we look at a lot of language features that make Python special compared to other programming languages. "
   ]
  },
  {
   "cell_type": "code",
   "execution_count": 5,
   "metadata": {},
   "outputs": [],
   "source": [
    "import sys\n",
    "sys.path.append(\"..\")\n",
    "from utils import count_down"
   ]
  },
  {
   "cell_type": "markdown",
   "metadata": {
    "toc-hr-collapsed": false
   },
   "source": [
    "# The Python Data Model\n",
    "\n",
    "We have already seen math-operators on numbers:"
   ]
  },
  {
   "cell_type": "code",
   "execution_count": 6,
   "metadata": {},
   "outputs": [
    {
     "name": "stdout",
     "output_type": "stream",
     "text": [
      "a + b =  5\n",
      "a - b =  -1\n",
      "a * b =  6\n",
      "a ** b =  8\n",
      "a / b =  0.6666666666666666\n",
      "a // b =  0\n",
      "b % a =  1\n"
     ]
    }
   ],
   "source": [
    "# Standard math operators work as expected on numbers\n",
    "a = 2\n",
    "b = 3\n",
    "\n",
    "print('a + b = ', a + b)\n",
    "print('a - b = ', a - b)\n",
    "print('a * b = ', a * b)\n",
    "print('a ** b = ', a ** b)  # a to the power of b (a^b is a bit-wise XOR!)\n",
    "print('a / b = ', a / b)\n",
    "print('a // b = ', a // b)  # Floor division \n",
    "print('b % a = ', b % a)    # Modulo operator (divide, return remainder)"
   ]
  },
  {
   "cell_type": "markdown",
   "metadata": {},
   "source": [
    "And we've also seen these operators on strings!"
   ]
  },
  {
   "cell_type": "code",
   "execution_count": 7,
   "metadata": {},
   "outputs": [
    {
     "name": "stdout",
     "output_type": "stream",
     "text": [
      "helloworld\n",
      "hellohellohello\n"
     ]
    }
   ],
   "source": [
    "print('hello' + 'world')\n",
    "print('hello' * 3)"
   ]
  },
  {
   "cell_type": "markdown",
   "metadata": {},
   "source": [
    "So how does Python know *which one of these* it is supposed to use?  \n",
    "  \n",
    "  \n",
    "Under the hood, most Python syntax is just *syntatic sugar* for method calls. \n",
    "\n",
    "So if you call..."
   ]
  },
  {
   "cell_type": "code",
   "execution_count": 8,
   "metadata": {},
   "outputs": [
    {
     "data": {
      "text/plain": [
       "3"
      ]
     },
     "execution_count": 8,
     "metadata": {},
     "output_type": "execute_result"
    }
   ],
   "source": [
    "mylist = [1, 2, 3]\n",
    "len(mylist)"
   ]
  },
  {
   "cell_type": "markdown",
   "metadata": {},
   "source": [
    "What Python makes of this is actually:"
   ]
  },
  {
   "cell_type": "code",
   "execution_count": 9,
   "metadata": {},
   "outputs": [
    {
     "data": {
      "text/plain": [
       "3"
      ]
     },
     "execution_count": 9,
     "metadata": {},
     "output_type": "execute_result"
    }
   ],
   "source": [
    "mylist.__len__()"
   ]
  },
  {
   "cell_type": "markdown",
   "metadata": {},
   "source": [
    "So, under the hood of python there's basically this:"
   ]
  },
  {
   "cell_type": "code",
   "execution_count": 10,
   "metadata": {},
   "outputs": [],
   "source": [
    "def len(obj):\n",
    "    return obj.__len__()"
   ]
  },
  {
   "cell_type": "markdown",
   "metadata": {},
   "source": [
    "If you know the methods that are implicitly called by the common syntax you can design objects that beautifully integrate with the language.\n",
    "\n",
    "Another example:"
   ]
  },
  {
   "cell_type": "code",
   "execution_count": 11,
   "metadata": {},
   "outputs": [
    {
     "data": {
      "text/plain": [
       "6"
      ]
     },
     "execution_count": 11,
     "metadata": {},
     "output_type": "execute_result"
    }
   ],
   "source": [
    "3 + 3 "
   ]
  },
  {
   "cell_type": "markdown",
   "metadata": {},
   "source": [
    "is in fact doing "
   ]
  },
  {
   "cell_type": "code",
   "execution_count": 12,
   "metadata": {},
   "outputs": [
    {
     "data": {
      "text/plain": [
       "6"
      ]
     },
     "execution_count": 12,
     "metadata": {},
     "output_type": "execute_result"
    }
   ],
   "source": [
    "(3).__add__(3)"
   ]
  },
  {
   "cell_type": "markdown",
   "metadata": {},
   "source": [
    "Let's find out how we can make objects that behave nicely with the rest of the language. As an example we look at a class for representing triples of numeric values."
   ]
  },
  {
   "cell_type": "code",
   "execution_count": 13,
   "metadata": {},
   "outputs": [],
   "source": [
    "class Triple:\n",
    "    def __init__(self, num1, num2, num3):\n",
    "        self.nums = num1, num2, num3"
   ]
  },
  {
   "cell_type": "code",
   "execution_count": 14,
   "metadata": {},
   "outputs": [
    {
     "data": {
      "text/plain": [
       "<__main__.Triple at 0x7fe1ad15d0f0>"
      ]
     },
     "execution_count": 14,
     "metadata": {},
     "output_type": "execute_result"
    }
   ],
   "source": [
    "Triple(1, 2, 3)"
   ]
  },
  {
   "cell_type": "markdown",
   "metadata": {},
   "source": [
    "The string representation of our class is not really informative. We can fix this by implementing `__repr__`."
   ]
  },
  {
   "cell_type": "code",
   "execution_count": 15,
   "metadata": {},
   "outputs": [
    {
     "data": {
      "text/plain": [
       "Triple(1, 2, 3)"
      ]
     },
     "execution_count": 15,
     "metadata": {},
     "output_type": "execute_result"
    }
   ],
   "source": [
    "class Triple:\n",
    "    def __init__(self, num1, num2, num3):\n",
    "        self.nums = num1, num2, num3\n",
    "        \n",
    "    def __repr__(self):\n",
    "        \"\"\"A string representation for inspecting objects at runtime.\"\"\"\n",
    "        return \"Triple(\" + str(self.nums[0]) + \", \" + str(self.nums[1]) + \", \" + str(self.nums[2]) + \")\"\n",
    "    \n",
    "Triple(1, 2, 3)"
   ]
  },
  {
   "cell_type": "markdown",
   "metadata": {},
   "source": [
    "To make addition between `Triple`s possible, we have to implement `__add__`. We define the addition `Triple`s just as the elementwise addition of the three numbers.  "
   ]
  },
  {
   "cell_type": "code",
   "execution_count": 16,
   "metadata": {},
   "outputs": [],
   "source": [
    "class Triple:\n",
    "    def __init__(self, num1, num2, num3):\n",
    "        self.nums = num1, num2, num3\n",
    "        \n",
    "    def __repr__(self):\n",
    "        \"\"\"A string representation for inspecting objects at runtime.\"\"\"\n",
    "        return \"Triple(\" + str(self.nums[0]) + \", \" + str(self.nums[1]) + \", \" + str(self.nums[2]) + \")\"\n",
    "    \n",
    "    def __add__(self, other):\n",
    "        num1 = self.nums[0] + other.nums[0]\n",
    "        num2 = self.nums[1] + other.nums[1]\n",
    "        num3 = self.nums[2] + other.nums[2]\n",
    "        return Triple(num1, num2, num3)\n",
    "        \n",
    "    \n",
    "a = Triple(1, 2, 3)\n",
    "b = Triple(2, 3, 4)"
   ]
  },
  {
   "cell_type": "markdown",
   "metadata": {},
   "source": [
    "Because we implemented `__add__` we can add triples with the plus operator.\n",
    "The following three expressions are all the same! The first one is the fast way to write it, which \n",
    "internally maps to the second, which internally maps to the third!\n"
   ]
  },
  {
   "cell_type": "code",
   "execution_count": 17,
   "metadata": {},
   "outputs": [
    {
     "name": "stdout",
     "output_type": "stream",
     "text": [
      "Triple(3, 5, 7)\n",
      "Triple(3, 5, 7)\n",
      "Triple(3, 5, 7)\n"
     ]
    }
   ],
   "source": [
    "print(a + b)\n",
    "print(a.__add__(b))\n",
    "print(Triple.__add__(a, b))"
   ]
  },
  {
   "cell_type": "code",
   "execution_count": 18,
   "metadata": {},
   "outputs": [],
   "source": [
    "class Triple:\n",
    "    def __init__(self, num1, num2, num3):\n",
    "        self.nums = num1, num2, num3\n",
    "        \n",
    "    def __repr__(self):\n",
    "        \"\"\"A string representation for inspecting objects at runtime.\"\"\"\n",
    "        return \"Triple(\" + str(self.nums[0]) + \", \" + str(self.nums[1]) + \", \" + str(self.nums[2]) + \")\"\n",
    "    \n",
    "    def __add__(self, other):\n",
    "        if isinstance(other, Triple):\n",
    "            num1 = self.nums[0] + other.nums[0]\n",
    "            num2 = self.nums[1] + other.nums[1]\n",
    "            num3 = self.nums[2] + other.nums[2]\n",
    "            return Triple(num1, num2, num3)\n",
    "        elif isinstance(other, int):\n",
    "            return Triple(self.nums[0]+other, self.nums[1]+other, self.nums[2]+other)\n",
    "        else:\n",
    "            return NotImplemted\n",
    "        \n",
    "    \n",
    "a = Triple(1, 2, 3)\n",
    "b = Triple(2, 3, 4)"
   ]
  },
  {
   "cell_type": "code",
   "execution_count": 19,
   "metadata": {},
   "outputs": [
    {
     "data": {
      "text/plain": [
       "Triple(2, 3, 4)"
      ]
     },
     "execution_count": 19,
     "metadata": {},
     "output_type": "execute_result"
    }
   ],
   "source": [
    "a + 1"
   ]
  },
  {
   "cell_type": "markdown",
   "metadata": {},
   "source": [
    "Now it would be nice to enable addition between triples and scalar numbers by just elementwise adding the scalar to all three triple values. But the expression"
   ]
  },
  {
   "cell_type": "code",
   "execution_count": 20,
   "metadata": {},
   "outputs": [
    {
     "ename": "TypeError",
     "evalue": "unsupported operand type(s) for +: 'int' and 'Triple'",
     "output_type": "error",
     "traceback": [
      "\u001b[0;31m---------------------------------------------------------------------------\u001b[0m",
      "\u001b[0;31mTypeError\u001b[0m                                 Traceback (most recent call last)",
      "\u001b[0;32m<ipython-input-20-0d1dd5c80c6a>\u001b[0m in \u001b[0;36m<module>\u001b[0;34m()\u001b[0m\n\u001b[0;32m----> 1\u001b[0;31m \u001b[0;36m1\u001b[0m \u001b[0;34m+\u001b[0m \u001b[0mTriple\u001b[0m\u001b[0;34m(\u001b[0m\u001b[0;36m1\u001b[0m\u001b[0;34m,\u001b[0m \u001b[0;36m2\u001b[0m\u001b[0;34m,\u001b[0m \u001b[0;36m3\u001b[0m\u001b[0;34m)\u001b[0m\u001b[0;34m\u001b[0m\u001b[0;34m\u001b[0m\u001b[0m\n\u001b[0m",
      "\u001b[0;31mTypeError\u001b[0m: unsupported operand type(s) for +: 'int' and 'Triple'"
     ]
    }
   ],
   "source": [
    "1 + Triple(1, 2, 3)"
   ]
  },
  {
   "cell_type": "markdown",
   "metadata": {},
   "source": [
    "is interpreted as "
   ]
  },
  {
   "cell_type": "code",
   "execution_count": 21,
   "metadata": {},
   "outputs": [
    {
     "data": {
      "text/plain": [
       "NotImplemented"
      ]
     },
     "execution_count": 21,
     "metadata": {},
     "output_type": "execute_result"
    }
   ],
   "source": [
    "int.__add__(1, Triple(1, 2, 3))"
   ]
  },
  {
   "cell_type": "markdown",
   "metadata": {},
   "source": [
    "which returns the special value `NotImplemented`. If a binary operaton does not work when called on the first operand does not work, Python tries to invert the order of operands, calling `__radd__` on the other. If this does not work either a `TypeError` is raised. By implementing `__radd__` we can make scalar addition work without changing the behaivor of the `int`s."
   ]
  },
  {
   "cell_type": "code",
   "execution_count": 22,
   "metadata": {},
   "outputs": [],
   "source": [
    "class Triple:\n",
    "    def __init__(self, num1, num2, num3):\n",
    "        self.nums = num1, num2, num3\n",
    "        \n",
    "    def __repr__(self):\n",
    "        \"\"\"A string representation for inspecting objects at runtime.\"\"\"\n",
    "        return \"Triple(\" + str(self.nums[0]) + \", \" + str(self.nums[1]) + \", \" + str(self.nums[2]) + \")\"\n",
    "    \n",
    "    def __add__(self, other):\n",
    "        if isinstance(other, Triple):\n",
    "            num1 = self.nums[0] + other.nums[0]\n",
    "            num2 = self.nums[1] + other.nums[1]\n",
    "            num3 = self.nums[2] + other.nums[2]\n",
    "            return Triple(num1, num2, num3)\n",
    "        elif isinstance(other, int):\n",
    "            return Triple(self.nums[0]+other, self.nums[1]+other, self.nums[2]+other)\n",
    "        else:\n",
    "            return NotImplemted\n",
    "    \n",
    "    def __radd__(self, other):\n",
    "        num1 = self.nums[0] + other\n",
    "        num2 = self.nums[1] + other\n",
    "        num3 = self.nums[2] + other\n",
    "        return Triple(num1, num2, num3)"
   ]
  },
  {
   "cell_type": "code",
   "execution_count": 23,
   "metadata": {},
   "outputs": [
    {
     "data": {
      "text/plain": [
       "Triple(2, 3, 4)"
      ]
     },
     "execution_count": 23,
     "metadata": {},
     "output_type": "execute_result"
    }
   ],
   "source": [
    "1 + Triple(1, 2, 3)"
   ]
  },
  {
   "cell_type": "code",
   "execution_count": 24,
   "metadata": {},
   "outputs": [
    {
     "data": {
      "text/plain": [
       "Triple(3, 7, 9)"
      ]
     },
     "execution_count": 24,
     "metadata": {},
     "output_type": "execute_result"
    }
   ],
   "source": [
    "Triple(1, 5, 7) + 2"
   ]
  },
  {
   "cell_type": "markdown",
   "metadata": {},
   "source": [
    "## Exercise\n",
    "Make the `in` operator work on our triples. For that we need to implement `__contains__`. The statement \n",
    "```python \n",
    "3 in Triple(1, 2, 3)\n",
    "```\n",
    "\n",
    "should become `True` after defining `__contains__`."
   ]
  },
  {
   "cell_type": "code",
   "execution_count": 25,
   "metadata": {
    "cell_type": "solution"
   },
   "outputs": [],
   "source": [
    "class Triple:\n",
    "    def __init__(self, num1, num2, num3):\n",
    "        self.nums = num1, num2, num3\n",
    "        \n",
    "    def __repr__(self):\n",
    "        \"\"\"A string representation for inspecting objects at runtime.\"\"\"\n",
    "        return \"Triple(\" + str(self.nums[0]) + \", \" + str(self.nums[1]) + \", \" + str(self.nums[2]) + \")\"\n",
    "    \n",
    "    def __contains__(self, item):\n",
    "        return item in self.nums"
   ]
  },
  {
   "cell_type": "code",
   "execution_count": 26,
   "metadata": {},
   "outputs": [
    {
     "data": {
      "text/plain": [
       "True"
      ]
     },
     "execution_count": 26,
     "metadata": {},
     "output_type": "execute_result"
    }
   ],
   "source": [
    "3 in Triple(1, 2, 3)"
   ]
  },
  {
   "cell_type": "markdown",
   "metadata": {},
   "source": [
    "You can read more about Python's data model at https://docs.python.org/3/reference/datamodel.html."
   ]
  },
  {
   "cell_type": "code",
   "execution_count": 143,
   "metadata": {},
   "outputs": [],
   "source": [
    "class Triple:\n",
    "    def __init__(self, num1, num2, num3):\n",
    "        self.nums = num1, num2, num3\n",
    "        \n",
    "    def __repr__(self):\n",
    "        \"\"\"A string representation for inspecting objects at runtime.\"\"\"\n",
    "        return \"Triple(\" + str(self.nums[0]) + \", \" + str(self.nums[1]) + \", \" + str(self.nums[2]) + \")\"\n",
    "    \n",
    "    def __contains__(self, item):\n",
    "        return item in self.nums\n",
    "    \n",
    "    def __bool__(self, items):\n",
    "        return any(self.nums) "
   ]
  },
  {
   "cell_type": "markdown",
   "metadata": {},
   "source": [
    "This further resolves a question we had from last week:\n",
    "### Truth value testing\n",
    "Any object can be tested for truth value, for use in an if or while condition or as operand of the Boolean operations. The following objects are considered false:\n",
    "* `None`\n",
    "* `False`\n",
    "* Zero of numeric types (`0`, `0.0`)\n",
    "* Empty sequences and collections: `''`, `()`, `[]`, `{}`, `set()`\n",
    "* Objects of user-defined classes that return 0 for `len(obj)`"
   ]
  },
  {
   "cell_type": "markdown",
   "metadata": {},
   "source": [
    "![truthynesss](figures/bool.png)"
   ]
  },
  {
   "cell_type": "code",
   "execution_count": 28,
   "metadata": {},
   "outputs": [],
   "source": [
    "def find_truthyness(var):\n",
    "    try:\n",
    "        return var.__bool__()\n",
    "    except AttributeError:\n",
    "        try:\n",
    "            return var.__len__() != 0\n",
    "        except AttributeError:\n",
    "            return True"
   ]
  },
  {
   "cell_type": "code",
   "execution_count": 29,
   "metadata": {},
   "outputs": [
    {
     "name": "stdout",
     "output_type": "stream",
     "text": [
      "False\n",
      "True \n",
      "\n",
      "False\n",
      "True \n",
      "\n",
      "False\n",
      "True\n"
     ]
    }
   ],
   "source": [
    "print(find_truthyness(\"\"))\n",
    "print(find_truthyness(\"asdf\"), '\\n')\n",
    "\n",
    "print(find_truthyness([]))\n",
    "print(find_truthyness([1, 2]), '\\n')\n",
    "\n",
    "print(find_truthyness(0))  #int.__bool__(0)\n",
    "print(find_truthyness(1))  #int.__bool__(1)"
   ]
  },
  {
   "cell_type": "markdown",
   "metadata": {},
   "source": [
    "https://docs.python.org/3/reference/datamodel.html#special-method-names"
   ]
  },
  {
   "cell_type": "markdown",
   "metadata": {},
   "source": [
    "# Iterables and Iterators\n",
    "Objects that can be used in `for ... in ...` statements are called *iterable*."
   ]
  },
  {
   "cell_type": "code",
   "execution_count": 30,
   "metadata": {},
   "outputs": [
    {
     "name": "stdout",
     "output_type": "stream",
     "text": [
      "1\n",
      "2\n",
      "3\n"
     ]
    }
   ],
   "source": [
    "class Triple:\n",
    "    def __init__(self, num1, num2, num3):\n",
    "        self.nums = num1, num2, num3\n",
    "    \n",
    "    def __repr__(self):\n",
    "        \"\"\"A string representation for inspecting objects at runtime.\"\"\"\n",
    "        return \"Triple(\" + str(self.nums[0]) + \", \" + str(self.nums[1]) + \", \" + str(self.nums[2]) + \")\"\n",
    "    \n",
    "    def __iter__(self):\n",
    "        return iter(self.nums)\n",
    "    \n",
    "my_triple = Triple(1, 2, 3)\n",
    "\n",
    "\n",
    "for value in my_triple:\n",
    "    print(value)"
   ]
  },
  {
   "cell_type": "markdown",
   "metadata": {},
   "source": [
    "The `__iter__` - magic-method is what makes an object iterable. Behind the scenes, the `iter`-function calls this method to get the iterator."
   ]
  },
  {
   "cell_type": "markdown",
   "metadata": {},
   "source": [
    "An *iterator* is an object that implements `__next__`. "
   ]
  },
  {
   "cell_type": "code",
   "execution_count": 31,
   "metadata": {},
   "outputs": [],
   "source": [
    "class myrange:\n",
    "    def __init__(self, n):\n",
    "        self.i = 0\n",
    "        self.n = n\n",
    "\n",
    "    def __next__(self):\n",
    "        if self.i < self.n:\n",
    "            self.i += 1\n",
    "            return self.i\n",
    "        else:\n",
    "            raise StopIteration()"
   ]
  },
  {
   "cell_type": "code",
   "execution_count": 32,
   "metadata": {},
   "outputs": [],
   "source": [
    "a = myrange(2)"
   ]
  },
  {
   "cell_type": "markdown",
   "metadata": {},
   "source": [
    "Usually, you want to make an iterator also iterable by returning itself from `__iter__`. Here an example of how to create your own `range`-function:"
   ]
  },
  {
   "cell_type": "code",
   "execution_count": 33,
   "metadata": {},
   "outputs": [],
   "source": [
    "class myrange:\n",
    "    def __init__(self, n):\n",
    "        self.i = 0\n",
    "        self.n = n\n",
    "\n",
    "    def __iter__(self):\n",
    "        return self\n",
    "\n",
    "    def __next__(self):\n",
    "        if self.i < self.n:\n",
    "            self.i += 1\n",
    "            return self.i\n",
    "        else:\n",
    "            raise StopIteration()"
   ]
  },
  {
   "cell_type": "code",
   "execution_count": 34,
   "metadata": {},
   "outputs": [
    {
     "name": "stdout",
     "output_type": "stream",
     "text": [
      "1\n",
      "2\n",
      "3\n",
      "4\n",
      "5\n"
     ]
    }
   ],
   "source": [
    "for i in myrange(5):\n",
    "    print(i)"
   ]
  },
  {
   "cell_type": "markdown",
   "metadata": {},
   "source": [
    "Python relies heavily on iterators, and you should use them everytime Python offers them! the following code would be considered *unpythonic*."
   ]
  },
  {
   "cell_type": "code",
   "execution_count": 35,
   "metadata": {},
   "outputs": [
    {
     "name": "stdout",
     "output_type": "stream",
     "text": [
      "10\n",
      "20\n",
      "30\n"
     ]
    }
   ],
   "source": [
    "a_list = [10, 20, 30]\n",
    "for i in range(len(a_list)):\n",
    "    print(a_list[i])"
   ]
  },
  {
   "cell_type": "markdown",
   "metadata": {},
   "source": [
    "Instead we prefer using the iterator directly."
   ]
  },
  {
   "cell_type": "code",
   "execution_count": 36,
   "metadata": {},
   "outputs": [
    {
     "name": "stdout",
     "output_type": "stream",
     "text": [
      "10\n",
      "20\n",
      "30\n"
     ]
    }
   ],
   "source": [
    "a_list = [10, 20, 30]\n",
    "for number in a_list:\n",
    "    print(number)"
   ]
  },
  {
   "cell_type": "code",
   "execution_count": 37,
   "metadata": {},
   "outputs": [
    {
     "data": {
      "text/plain": [
       "1"
      ]
     },
     "execution_count": 37,
     "metadata": {},
     "output_type": "execute_result"
    }
   ],
   "source": [
    "a = myrange(5)\n",
    "next(a)"
   ]
  },
  {
   "cell_type": "code",
   "execution_count": 38,
   "metadata": {},
   "outputs": [
    {
     "name": "stdout",
     "output_type": "stream",
     "text": [
      "2\n",
      "3\n",
      "4\n",
      "5\n"
     ]
    }
   ],
   "source": [
    "for i in a:\n",
    "    print(i)"
   ]
  },
  {
   "cell_type": "markdown",
   "metadata": {},
   "source": [
    "# Properties\n",
    "Other languages often define *getters* and *setters* to restrict access to object attributes. In Python we can add getter and setter logic using `properties`."
   ]
  },
  {
   "cell_type": "code",
   "execution_count": 39,
   "metadata": {},
   "outputs": [],
   "source": [
    "class Triple:\n",
    "    def __init__(self, num1, num2, num3):\n",
    "        self._nums = num1, num2, num3\n",
    "        \n",
    "    def __repr__(self):\n",
    "        \"\"\"A string representation for inspecting objects at runtime.\"\"\"\n",
    "        return \"Triple(\" + str(self._nums[0]) + \", \" + str(self._nums[1]) + \", \" + str(self._nums[2]) + \")\"\n",
    "    \n",
    "a = Triple(1, 2, 3)"
   ]
  },
  {
   "cell_type": "code",
   "execution_count": 40,
   "metadata": {},
   "outputs": [
    {
     "data": {
      "text/plain": [
       "(1, 2, 3)"
      ]
     },
     "execution_count": 40,
     "metadata": {},
     "output_type": "execute_result"
    }
   ],
   "source": [
    "class Triple():\n",
    "    def __init__(self, num1, num2, num3):\n",
    "        self._nums = num1, num2, num3\n",
    "      \n",
    "    @property\n",
    "    def nums(self):\n",
    "        return self._nums\n",
    "\n",
    "    \n",
    "a = Triple(1, 2, 3)\n",
    "a.nums"
   ]
  },
  {
   "cell_type": "markdown",
   "metadata": {},
   "source": [
    "By default, we can not assign to attributes that are declared via properties. "
   ]
  },
  {
   "cell_type": "code",
   "execution_count": 41,
   "metadata": {},
   "outputs": [
    {
     "ename": "AttributeError",
     "evalue": "can't set attribute",
     "output_type": "error",
     "traceback": [
      "\u001b[0;31m---------------------------------------------------------------------------\u001b[0m",
      "\u001b[0;31mAttributeError\u001b[0m                            Traceback (most recent call last)",
      "\u001b[0;32m<ipython-input-41-960f3f9a1ef9>\u001b[0m in \u001b[0;36m<module>\u001b[0;34m()\u001b[0m\n\u001b[0;32m----> 1\u001b[0;31m \u001b[0ma\u001b[0m\u001b[0;34m.\u001b[0m\u001b[0mnums\u001b[0m \u001b[0;34m=\u001b[0m \u001b[0;36m10\u001b[0m\u001b[0;34m,\u001b[0m \u001b[0;36m11\u001b[0m\u001b[0;34m,\u001b[0m \u001b[0;36m12\u001b[0m\u001b[0;34m\u001b[0m\u001b[0;34m\u001b[0m\u001b[0m\n\u001b[0m",
      "\u001b[0;31mAttributeError\u001b[0m: can't set attribute"
     ]
    }
   ],
   "source": [
    "a.nums = 10, 11, 12"
   ]
  },
  {
   "cell_type": "markdown",
   "metadata": {},
   "source": [
    "But we can add a setter with another decorator. This is useful for including validation logic."
   ]
  },
  {
   "cell_type": "code",
   "execution_count": 42,
   "metadata": {},
   "outputs": [
    {
     "data": {
      "text/plain": [
       "(4, 5, 6)"
      ]
     },
     "execution_count": 42,
     "metadata": {},
     "output_type": "execute_result"
    }
   ],
   "source": [
    "class Triple():\n",
    "    def __init__(self, num1, num2, num3):\n",
    "        self._nums = num1, num2, num3\n",
    "      \n",
    "    @property\n",
    "    def nums(self):\n",
    "        return self._nums\n",
    "    \n",
    "    @nums.setter\n",
    "    def nums(self, value):\n",
    "        if len(value) == 3:\n",
    "            self._nums = value\n",
    "        else:\n",
    "            raise ValueError(\"Three values are required to set the data.\")\n",
    "    \n",
    "a = Triple(1, 2, 3)\n",
    "a.nums = (4, 5, 6)\n",
    "a.nums"
   ]
  },
  {
   "cell_type": "markdown",
   "metadata": {},
   "source": [
    "With `properties` we can add getter and setter logic, without having them surface in our objects interfaces. This also means you can start to write \n",
    "your classes with plain attributes and add getters and setters later if required."
   ]
  },
  {
   "cell_type": "markdown",
   "metadata": {},
   "source": [
    "# Exceptions"
   ]
  },
  {
   "cell_type": "code",
   "execution_count": 43,
   "metadata": {},
   "outputs": [],
   "source": [
    "import random"
   ]
  },
  {
   "cell_type": "code",
   "execution_count": 44,
   "metadata": {},
   "outputs": [
    {
     "ename": "TypeError",
     "evalue": "'int' object is not subscriptable",
     "output_type": "error",
     "traceback": [
      "\u001b[0;31m---------------------------------------------------------------------------\u001b[0m",
      "\u001b[0;31mTypeError\u001b[0m                                 Traceback (most recent call last)",
      "\u001b[0;32m<ipython-input-44-734c705ef440>\u001b[0m in \u001b[0;36m<module>\u001b[0;34m()\u001b[0m\n\u001b[1;32m      1\u001b[0m \u001b[0ma\u001b[0m \u001b[0;34m=\u001b[0m \u001b[0;34m[\u001b[0m\u001b[0;36m1\u001b[0m\u001b[0;34m,\u001b[0m \u001b[0;36m2\u001b[0m\u001b[0;34m,\u001b[0m \u001b[0;36m3\u001b[0m\u001b[0;34m]\u001b[0m \u001b[0;32mif\u001b[0m \u001b[0mrandom\u001b[0m\u001b[0;34m.\u001b[0m\u001b[0mrandint\u001b[0m\u001b[0;34m(\u001b[0m\u001b[0;36m0\u001b[0m\u001b[0;34m,\u001b[0m\u001b[0;36m1\u001b[0m\u001b[0;34m)\u001b[0m \u001b[0;32melse\u001b[0m \u001b[0;36m1\u001b[0m\u001b[0;34m\u001b[0m\u001b[0;34m\u001b[0m\u001b[0m\n\u001b[1;32m      2\u001b[0m \u001b[0;34m\u001b[0m\u001b[0m\n\u001b[0;32m----> 3\u001b[0;31m \u001b[0mfirst_val\u001b[0m \u001b[0;34m=\u001b[0m \u001b[0ma\u001b[0m\u001b[0;34m[\u001b[0m\u001b[0;36m0\u001b[0m\u001b[0;34m]\u001b[0m \u001b[0;31m#throws an Exception in 50% of cases\u001b[0m\u001b[0;34m\u001b[0m\u001b[0;34m\u001b[0m\u001b[0m\n\u001b[0m",
      "\u001b[0;31mTypeError\u001b[0m: 'int' object is not subscriptable"
     ]
    }
   ],
   "source": [
    "a = [1, 2, 3] if random.randint(0,1) else 1\n",
    "\n",
    "first_val = a[0] #throws an Exception in 50% of cases"
   ]
  },
  {
   "cell_type": "code",
   "execution_count": 45,
   "metadata": {},
   "outputs": [
    {
     "name": "stdout",
     "output_type": "stream",
     "text": [
      "<class 'TypeError'> 'int' object is not subscriptable\n"
     ]
    }
   ],
   "source": [
    "a = [1, 2, 3] if random.randint(0,1) else 1\n",
    "\n",
    "# we can catch that exception! In Java, this is try-catch, in python it's called try-except\n",
    "try:\n",
    "    first_val = a[0]\n",
    "    print(\"everything worked!\")\n",
    "except Exception as e:\n",
    "    print(type(e), e)"
   ]
  },
  {
   "cell_type": "code",
   "execution_count": 46,
   "metadata": {},
   "outputs": [
    {
     "name": "stdout",
     "output_type": "stream",
     "text": [
      "this will be executed whether the try block throws an error or not\n"
     ]
    }
   ],
   "source": [
    "try:\n",
    "    file_handle = open('test.txt')\n",
    "except FileNotFoundError as err:\n",
    "    print('this will be executed if a FileNotFoundError occurs')\n",
    "    print(err)\n",
    "finally:\n",
    "    print('this will be executed whether the try block throws an error or not')\n",
    "    try:\n",
    "        file_handle.close()\n",
    "    except:\n",
    "        pass\n"
   ]
  },
  {
   "cell_type": "code",
   "execution_count": 47,
   "metadata": {},
   "outputs": [
    {
     "name": "stdout",
     "output_type": "stream",
     "text": [
      "index error\n"
     ]
    }
   ],
   "source": [
    "# Exceptions will go up through functions if unhandled\n",
    "def foo():\n",
    "    try:\n",
    "        [1, 2][3] #this will cause an IndexError, however as it isn't handled here, the error is thrown upward to the caller\n",
    "        open('asdf')\n",
    "    except FileNotFoundError as err:\n",
    "        print('file not found error')\n",
    "\n",
    "try:\n",
    "    foo()\n",
    "    print(\"won't be reached\")\n",
    "except IndexError as err:\n",
    "    print('index error')"
   ]
  },
  {
   "cell_type": "code",
   "execution_count": 48,
   "metadata": {},
   "outputs": [
    {
     "name": "stdout",
     "output_type": "stream",
     "text": [
      "this will run\n"
     ]
    }
   ],
   "source": [
    "# you can catch multiple exceptions in one try-except statement\n",
    "\n",
    "try:\n",
    "    [1,2][3]\n",
    "except Exception:         #it will start chronologically at the first one, looking if this fits....\n",
    "    print(\"this will run\") \n",
    "except IndexError:        #and if it does, it won't execute the others\n",
    "    print(\"this won't..\")\n"
   ]
  },
  {
   "cell_type": "code",
   "execution_count": 49,
   "metadata": {},
   "outputs": [
    {
     "name": "stdout",
     "output_type": "stream",
     "text": [
      "either atttr or ind\n"
     ]
    }
   ],
   "source": [
    "# you can catch multiple exceptions in one try-except statement\n",
    "\n",
    "try:\n",
    "    [1,2][3]\n",
    "except (AttributeError, IndexError):         #it will start chronologically at the first one, looking if this fits....\n",
    "    print(\"either atttr or ind\") "
   ]
  },
  {
   "cell_type": "markdown",
   "metadata": {},
   "source": [
    "![exceptions](figures/errors.png)"
   ]
  },
  {
   "cell_type": "code",
   "execution_count": 50,
   "metadata": {},
   "outputs": [
    {
     "name": "stdout",
     "output_type": "stream",
     "text": [
      "I gracefully stopped!\n"
     ]
    }
   ],
   "source": [
    "try:\n",
    "    while True:\n",
    "        pass\n",
    "except KeyboardInterrupt:\n",
    "    print(\"I gracefully stopped!\")"
   ]
  },
  {
   "cell_type": "markdown",
   "metadata": {},
   "source": [
    "`try-except` also has an 'else', which runs if no error was thrown."
   ]
  },
  {
   "cell_type": "code",
   "execution_count": 51,
   "metadata": {},
   "outputs": [
    {
     "name": "stdout",
     "output_type": "stream",
     "text": [
      "randval is: 2\n",
      "this will run if randval was 2\n"
     ]
    }
   ],
   "source": [
    "try:\n",
    "    randval = random.randint(0,2)\n",
    "    print(\"randval is:\", randval)\n",
    "    if randval == 0:\n",
    "        [1,2][3]\n",
    "    elif randval == 1:\n",
    "        5/0\n",
    "except IndexError: \n",
    "    print(\"this will run if randval was 0\") \n",
    "except ZeroDivisionError:       \n",
    "    print(\"this will run if randval was 1\")\n",
    "else:\n",
    "    print(\"this will run if randval was 2\")\n"
   ]
  },
  {
   "cell_type": "code",
   "execution_count": 52,
   "metadata": {},
   "outputs": [
    {
     "name": "stdout",
     "output_type": "stream",
     "text": [
      "True\n"
     ]
    }
   ],
   "source": [
    "# You can even extend Exception yourself, to throw your own Exceptions!\n",
    "\n",
    "class NotTheValueIWantedException(Exception):\n",
    "    pass\n",
    "\n",
    "print(isinstance(NotTheValueIWantedException(), Exception))"
   ]
  },
  {
   "cell_type": "code",
   "execution_count": 53,
   "metadata": {},
   "outputs": [
    {
     "name": "stdout",
     "output_type": "stream",
     "text": [
      "A value it accepted was: 42\n",
      "A value it accepted was: 1337\n"
     ]
    }
   ],
   "source": [
    "def my_method(value):\n",
    "    if value != 42 and value != 1337:\n",
    "        raise NotTheValueIWantedException\n",
    "        \n",
    "for i in range(2000):\n",
    "    try:\n",
    "        my_method(i)\n",
    "        print(\"A value it accepted was:\", i)\n",
    "    except NotTheValueIWantedException:\n",
    "        pass"
   ]
  },
  {
   "cell_type": "markdown",
   "metadata": {},
   "source": [
    "Remember our Principle? This is because Python is so good and fast at throwing exceptions!\n",
    "![Glossary: EAFP](../week02-Basic_Programming_with_Python/eafp.png \"Glossary: EAFP\")\n",
    "\n",
    "from https://docs.python.org/3/glossary.html"
   ]
  },
  {
   "cell_type": "code",
   "execution_count": 54,
   "metadata": {},
   "outputs": [
    {
     "name": "stdout",
     "output_type": "stream",
     "text": [
      "{'odd': [1, 3, 5], 'even': [2, 4]}\n"
     ]
    }
   ],
   "source": [
    "lst = [1, 2, 3, 4, 5]\n",
    "\n",
    "def even_odd(num):\n",
    "    return \"even\" if num % 2 == 0 else \"odd\"\n",
    "\n",
    "dct = {}\n",
    "for elem in lst:\n",
    "    try:\n",
    "       dct[even_odd(elem)].append(elem) \n",
    "    except KeyError:\n",
    "        dct[even_odd(elem)] = [elem]\n",
    "        \n",
    "print(dct)"
   ]
  },
  {
   "cell_type": "markdown",
   "metadata": {},
   "source": [
    "# Duck Typing\n",
    "\n",
    "> *\"If it looks like a duck and quacks like a duck, it probably is a duck\"*.\n",
    "\n",
    "We stated in lecture 2, that the type of a variable is only checked at the last possible minute. In fact, the philosophy of **duck typing** is that it doesn't even matter what type a variable is -- the only thing that matters is if you can do what you need to with it."
   ]
  },
  {
   "cell_type": "code",
   "execution_count": 55,
   "metadata": {},
   "outputs": [],
   "source": [
    "class Animal:\n",
    "    def is_living():\n",
    "        return True\n",
    "    \n",
    "class LandAnimal(Animal):\n",
    "    \n",
    "    def __init__(self):\n",
    "        self.has_legs = True\n",
    "        \n",
    "    def walk(self):\n",
    "        return \"tap tap\"\n",
    "    \n",
    "class WaterAnimal(Animal):\n",
    "    def __init__(self):\n",
    "        self.has_legs = False\n",
    "    \n",
    "    def swim(self):\n",
    "        return \"splash\""
   ]
  },
  {
   "cell_type": "code",
   "execution_count": 56,
   "metadata": {},
   "outputs": [],
   "source": [
    "def move_forward(animal):\n",
    "    if isinstance(animal, LandAnimal):\n",
    "        print(animal.walk())\n",
    "    if isinstance(animal, WaterAnimal):\n",
    "        print(animal.swim())"
   ]
  },
  {
   "cell_type": "code",
   "execution_count": 57,
   "metadata": {},
   "outputs": [
    {
     "name": "stdout",
     "output_type": "stream",
     "text": [
      "splash\n"
     ]
    }
   ],
   "source": [
    "animal = LandAnimal() if random.randint(0,1) else WaterAnimal()\n",
    "\n",
    "move_forward(animal)"
   ]
  },
  {
   "cell_type": "code",
   "execution_count": 58,
   "metadata": {},
   "outputs": [
    {
     "name": "stdout",
     "output_type": "stream",
     "text": [
      "tap tap\n",
      "splash\n"
     ]
    }
   ],
   "source": [
    "class DuckLikeAnimal(LandAnimal, WaterAnimal):\n",
    "    pass\n",
    "\n",
    "move_forward(DuckLikeAnimal())"
   ]
  },
  {
   "cell_type": "markdown",
   "metadata": {},
   "source": [
    "![Glossary: Duck Typing](figures/ducktyping.png \"Glossary: Duck Typing\")"
   ]
  },
  {
   "cell_type": "code",
   "execution_count": 59,
   "metadata": {},
   "outputs": [],
   "source": [
    "class DuckLikeAnimal(LandAnimal, WaterAnimal):\n",
    "    def __init__(self, *args, **kwargs):\n",
    "        self.looks_like = \"duck\"\n",
    "        self.quacks_like = \"duck\"\n",
    "        super().__init__(*args, **kwargs)    "
   ]
  },
  {
   "cell_type": "code",
   "execution_count": 60,
   "metadata": {},
   "outputs": [
    {
     "name": "stdout",
     "output_type": "stream",
     "text": [
      "For all that matters, it is a duck!\n"
     ]
    }
   ],
   "source": [
    "duck_like = DuckLikeAnimal()\n",
    "\n",
    "if duck_like.looks_like == \"duck\" and duck_like.quacks_like == \"duck\":\n",
    "    print(\"For all that matters, it is a duck!\")"
   ]
  },
  {
   "cell_type": "markdown",
   "metadata": {},
   "source": [
    "So making our animal move *the pythonic way* would include our principle of duck typing togehter with our EAFP principle:"
   ]
  },
  {
   "cell_type": "code",
   "execution_count": 61,
   "metadata": {},
   "outputs": [
    {
     "name": "stdout",
     "output_type": "stream",
     "text": [
      "tap tap\n"
     ]
    }
   ],
   "source": [
    "animal = DuckLikeAnimal()\n",
    "\n",
    "try:\n",
    "    print(animal.walk())\n",
    "except AttributeError:\n",
    "    print(animal.swim())"
   ]
  },
  {
   "cell_type": "markdown",
   "metadata": {},
   "source": [
    "# Factory methods\n",
    "Sometimes we want to be able to initialize our objects in different ways. A classic pattern of object oriented programming\n",
    "is the `Factory`. A `Factory`'s only purpose is to initialize other objects. In Python, we do not really need this\n",
    "pattern, but instead we can use *factory methods* to initialize our object in different ways. For that we can use\n",
    "`classmethods` that take the class instead of the instance as a first argument."
   ]
  },
  {
   "cell_type": "code",
   "execution_count": 62,
   "metadata": {},
   "outputs": [
    {
     "data": {
      "text/plain": [
       "Triple(3, 3, 3)"
      ]
     },
     "execution_count": 62,
     "metadata": {},
     "output_type": "execute_result"
    }
   ],
   "source": [
    "class Triple():\n",
    "    def __init__(self, num1, num2, num3):\n",
    "        self._nums = num1, num2, num3\n",
    "    \n",
    "    def __repr__(self):\n",
    "        \"\"\"A string representation for inspecting objects at runtime.\"\"\"\n",
    "        return \"Triple(\" + str(self.nums[0]) + \", \" + str(self.nums[1]) + \", \" + str(self.nums[2]) + \")\"\n",
    "    \n",
    "    @property\n",
    "    def nums(self):\n",
    "        return self._nums\n",
    "    \n",
    "    @classmethod\n",
    "    def from_value(cls, num):\n",
    "        return cls(num, num, num)\n",
    "\n",
    "Triple.from_value(3)"
   ]
  },
  {
   "cell_type": "markdown",
   "metadata": {},
   "source": [
    "# Generators\n",
    "\n",
    "You remember \"enumerate\":"
   ]
  },
  {
   "cell_type": "code",
   "execution_count": 63,
   "metadata": {},
   "outputs": [
    {
     "name": "stdout",
     "output_type": "stream",
     "text": [
      "num: 1 grade: Outstanding\n",
      "num: 2 grade: Exceeds Expectations\n",
      "num: 3 grade: Acceptable\n",
      "num: 4 grade: Poor\n",
      "num: 5 grade: Dreadful\n",
      "num: 6 grade: Troll\n"
     ]
    }
   ],
   "source": [
    "grades = [\"Outstanding\", \"Exceeds Expectations\", \"Acceptable\", \"Poor\", \"Dreadful\", \"Troll\"]\n",
    "for i, grade in enumerate(grades):\n",
    "    print(\"num:\",i+1,\"grade:\",grade)"
   ]
  },
  {
   "cell_type": "code",
   "execution_count": 64,
   "metadata": {},
   "outputs": [
    {
     "data": {
      "text/plain": [
       "[(0, 'Outstanding'),\n",
       " (1, 'Exceeds Expectations'),\n",
       " (2, 'Acceptable'),\n",
       " (3, 'Poor'),\n",
       " (4, 'Dreadful'),\n",
       " (5, 'Troll')]"
      ]
     },
     "execution_count": 64,
     "metadata": {},
     "output_type": "execute_result"
    }
   ],
   "source": [
    "list(enumerate(grades))"
   ]
  },
  {
   "cell_type": "markdown",
   "metadata": {},
   "source": [
    "If you iterate over a list, you always have to have the full list in memory, which is incredibly inefficient."
   ]
  },
  {
   "cell_type": "code",
   "execution_count": 65,
   "metadata": {},
   "outputs": [
    {
     "name": "stdout",
     "output_type": "stream",
     "text": [
      "0\n",
      "1\n",
      "2\n",
      "3\n",
      "4\n",
      "5\n",
      "6\n",
      "7\n",
      "8\n",
      "9\n",
      "10\n",
      "11\n"
     ]
    }
   ],
   "source": [
    "for num, elem in enumerate(range(39999999)):\n",
    "    print(elem)\n",
    "    if num > 10:\n",
    "        break"
   ]
  },
  {
   "cell_type": "markdown",
   "metadata": {},
   "source": [
    "\n",
    "A Python generator function is a function which returns a generator. Generator functions a implicitly defined by the use of `yield` in the function body. `yield` may be used with a value, in which case that value is treated as the \"generated\" value. The next time `next()` is called on the generator (i.e. in the next step in a for loop, for example), the generator resumes execution from where it called `yield`, not from the beginning of the function. All of the state, like the values of local variables, is recovered and the generator contiues to execute until the next call to `yield`. \n",
    "\n",
    "https://jeffknupp.com/blog/2013/04/07/improve-your-python-yield-and-generators-explained/"
   ]
  },
  {
   "cell_type": "code",
   "execution_count": 66,
   "metadata": {},
   "outputs": [
    {
     "name": "stdout",
     "output_type": "stream",
     "text": [
      "1\n",
      "10\n",
      "3\n",
      "5\n"
     ]
    }
   ],
   "source": [
    "def generate_numbers():\n",
    "    yield 1\n",
    "    yield 10\n",
    "    yield 3\n",
    "    yield 5\n",
    "    \n",
    "for i in generate_numbers():\n",
    "    print(i)"
   ]
  },
  {
   "cell_type": "code",
   "execution_count": 67,
   "metadata": {},
   "outputs": [
    {
     "name": "stdout",
     "output_type": "stream",
     "text": [
      "<generator object generate_numbers at 0x7fe191844840>\n",
      "1\n",
      "\n"
     ]
    }
   ],
   "source": [
    "a = generate_numbers()\n",
    "print(a)\n",
    "\n",
    "print(next(a))\n",
    "print()\n"
   ]
  },
  {
   "cell_type": "code",
   "execution_count": 68,
   "metadata": {},
   "outputs": [
    {
     "name": "stdout",
     "output_type": "stream",
     "text": [
      "10\n",
      "3\n",
      "5\n"
     ]
    },
    {
     "ename": "StopIteration",
     "evalue": "",
     "output_type": "error",
     "traceback": [
      "\u001b[0;31m---------------------------------------------------------------------------\u001b[0m",
      "\u001b[0;31mStopIteration\u001b[0m                             Traceback (most recent call last)",
      "\u001b[0;32m<ipython-input-68-831d83967049>\u001b[0m in \u001b[0;36m<module>\u001b[0;34m()\u001b[0m\n\u001b[1;32m      2\u001b[0m     \u001b[0mprint\u001b[0m\u001b[0;34m(\u001b[0m\u001b[0mi\u001b[0m\u001b[0;34m)\u001b[0m\u001b[0;34m\u001b[0m\u001b[0;34m\u001b[0m\u001b[0m\n\u001b[1;32m      3\u001b[0m \u001b[0;34m\u001b[0m\u001b[0m\n\u001b[0;32m----> 4\u001b[0;31m \u001b[0mprint\u001b[0m\u001b[0;34m(\u001b[0m\u001b[0mnext\u001b[0m\u001b[0;34m(\u001b[0m\u001b[0ma\u001b[0m\u001b[0;34m)\u001b[0m\u001b[0;34m)\u001b[0m \u001b[0;31m#will throw a StopIteration\u001b[0m\u001b[0;34m\u001b[0m\u001b[0;34m\u001b[0m\u001b[0m\n\u001b[0m",
      "\u001b[0;31mStopIteration\u001b[0m: "
     ]
    }
   ],
   "source": [
    "for i in a:\n",
    "    print(i)\n",
    "    \n",
    "print(next(a)) #will throw a StopIteration"
   ]
  },
  {
   "cell_type": "markdown",
   "metadata": {},
   "source": [
    "When we call a normal Python function, execution starts at function's first line and continues until a return statement, exception, or the end of the function is encountered. \n",
    "Once a function returns control to its caller, any work done by the function and stored in local variables is lost. A new call to the function creates everything from scratch. \n",
    "\n",
    "A **generator** is a certain kind of function (recognized by the keyword *yield* in place of *return*), that doesn't lose its data. If a generator is called, it will run until the next occurence of the `yield` keyword. When called again, it starts right after that, and runs until the next occurence of `yield`.\n",
    "\n",
    "A generator is an iterator, which means you can loop over it, call next(), and use it the way you'd use any other iterator"
   ]
  },
  {
   "cell_type": "code",
   "execution_count": 69,
   "metadata": {},
   "outputs": [
    {
     "data": {
      "text/plain": [
       "(True, True)"
      ]
     },
     "execution_count": 69,
     "metadata": {},
     "output_type": "execute_result"
    }
   ],
   "source": [
    "hasattr(a, '__iter__'), hasattr(a, '__next__')"
   ]
  },
  {
   "cell_type": "markdown",
   "metadata": {},
   "source": [
    "Generators are a perfect way to get rid of too convolutedly nested for-loops:"
   ]
  },
  {
   "cell_type": "code",
   "execution_count": 70,
   "metadata": {},
   "outputs": [],
   "source": [
    "nested_list = [[[1, 2, 3], [4, 5, 6]],[[7, 8, 9], [10, 11, 12]]]"
   ]
  },
  {
   "cell_type": "code",
   "execution_count": 71,
   "metadata": {},
   "outputs": [
    {
     "name": "stdout",
     "output_type": "stream",
     "text": [
      "1\n",
      "2\n",
      "3\n",
      "4\n",
      "5\n",
      "6\n",
      "7\n",
      "8\n",
      "9\n",
      "10\n",
      "11\n",
      "12\n"
     ]
    }
   ],
   "source": [
    "for i in nested_list:\n",
    "    for j in i:\n",
    "        for k in j:\n",
    "            print(k)"
   ]
  },
  {
   "cell_type": "code",
   "execution_count": 72,
   "metadata": {},
   "outputs": [
    {
     "name": "stdout",
     "output_type": "stream",
     "text": [
      "1\n",
      "2\n",
      "3\n",
      "4\n",
      "5\n",
      "6\n",
      "7\n",
      "8\n",
      "9\n",
      "10\n",
      "11\n",
      "12\n"
     ]
    }
   ],
   "source": [
    "def nested_list_iterator(thelist):\n",
    "    for i in thelist:\n",
    "        for j in i:\n",
    "            for k in j:\n",
    "                yield k\n",
    "                \n",
    "for i in nested_list_iterator(nested_list):\n",
    "    print(i)"
   ]
  },
  {
   "cell_type": "markdown",
   "metadata": {},
   "source": [
    "Also, generators are perfect if you have complex stuff to loop over and/or want to be able to simply replace that thing you're looping over:"
   ]
  },
  {
   "cell_type": "raw",
   "metadata": {},
   "source": [
    "# mode when running the gameplayer live:\n",
    "\n",
    "while True:\n",
    "    board = Gameboard.get_gameboard_image()\n",
    "    do_first_thing(board)\n",
    "    do_second_thing(board)\n",
    "    do_third_thing(board)\n",
    "\n",
    "# mode when running the gameplayer non-live:\n",
    "\n",
    "for fname in os.listdir('error_imgs'):\n",
    "    board = Gameboard(plt.imread('error_imgs/'+fname), is_live=False)\n",
    "    do_first_thing(board)\n",
    "    do_second_thing(board)\n",
    "    do_third_thing(board)\n",
    "\n",
    "\n",
    "# -> I could encapsulate do_first_thing, do_second_thing and do_third_thing in a do_things-method, but I can also encapsulate the part where I loop"
   ]
  },
  {
   "cell_type": "raw",
   "metadata": {},
   "source": [
    "def boardimage_iterator(live=False):\n",
    "    if not live:\n",
    "        for fname in os.listdir('error_imgs'):\n",
    "            gameboard = Gameboard(plt.imread('error_imgs/'+fname), is_live=False)\n",
    "            imshow(gameboard.rgb_image, fname)\n",
    "            print(fname)\n",
    "            yield gameboard\n",
    "    else:\n",
    "        while True:\n",
    "            if ONLY_IF_CAPS and not caps_active():\n",
    "                time.sleep(1)\n",
    "                continue\n",
    "            yield Gameboard.get_gameboard_image()\n",
    "            \n",
    "            \n",
    "for board in boardgame_iterator(True):\n",
    "    do_first_thing(board)\n",
    "    do_second_thing(board)\n",
    "    do_third_thing(board)"
   ]
  },
  {
   "cell_type": "markdown",
   "metadata": {},
   "source": [
    "## Exercise\n",
    "Use a generator to produce even numbers infinitely. Then print the first ten even numbers."
   ]
  },
  {
   "cell_type": "markdown",
   "metadata": {
    "cell_type": "hint"
   },
   "source": [
    "Use a `while True` loop to produces number infinitely. Then wrap the generator function in `enumerate` and `break` after the first ten values. "
   ]
  },
  {
   "cell_type": "code",
   "execution_count": 75,
   "metadata": {
    "cell_type": "solution"
   },
   "outputs": [
    {
     "name": "stdout",
     "output_type": "stream",
     "text": [
      "0\n",
      "2\n",
      "4\n",
      "6\n",
      "8\n",
      "10\n",
      "12\n",
      "14\n",
      "16\n",
      "18\n",
      "20\n"
     ]
    }
   ],
   "source": [
    "def even_numbers():\n",
    "    i = 0\n",
    "    while True:\n",
    "        if i % 2 == 0:\n",
    "            yield i\n",
    "        \n",
    "        i += 1\n",
    "\n",
    "for i, num in enumerate(even_numbers()):\n",
    "    print(num)\n",
    "    if i >= 10:\n",
    "        break"
   ]
  },
  {
   "cell_type": "code",
   "execution_count": 76,
   "metadata": {
    "cell_type": "solution"
   },
   "outputs": [
    {
     "name": "stdout",
     "output_type": "stream",
     "text": [
      "0\n",
      "2\n",
      "4\n",
      "6\n",
      "8\n",
      "10\n",
      "12\n",
      "14\n",
      "16\n",
      "18\n",
      "20\n"
     ]
    }
   ],
   "source": [
    "def even_numbers():\n",
    "    i = 0\n",
    "    while True:\n",
    "        yield i        \n",
    "        i += 2\n",
    "\n",
    "for i, num in enumerate(even_numbers()):\n",
    "    print(num)\n",
    "    if i >= 10:\n",
    "        break"
   ]
  },
  {
   "cell_type": "markdown",
   "metadata": {},
   "source": [
    "So a generator is a function that remembers its state in between calls. It's basically the same as this:"
   ]
  },
  {
   "cell_type": "code",
   "execution_count": 77,
   "metadata": {},
   "outputs": [],
   "source": [
    "class EvenNumberGenerator():\n",
    "    def __init__(self):\n",
    "        self.index = 0\n",
    "    \n",
    "    def __call__(self):\n",
    "        self.index += 2\n",
    "        return self.index\n",
    "    \n",
    "    def __iter__(self):\n",
    "        return self\n",
    "    \n",
    "    def __next__(self):\n",
    "        return self.__call__()\n",
    "        \n",
    "numgen = EvenNumberGenerator()"
   ]
  },
  {
   "cell_type": "code",
   "execution_count": 78,
   "metadata": {},
   "outputs": [
    {
     "data": {
      "text/plain": [
       "2"
      ]
     },
     "execution_count": 78,
     "metadata": {},
     "output_type": "execute_result"
    }
   ],
   "source": [
    "numgen()"
   ]
  },
  {
   "cell_type": "code",
   "execution_count": 79,
   "metadata": {},
   "outputs": [
    {
     "name": "stdout",
     "output_type": "stream",
     "text": [
      "4\n",
      "6\n",
      "8\n",
      "10\n",
      "12\n",
      "14\n",
      "16\n",
      "18\n",
      "20\n",
      "22\n",
      "24\n"
     ]
    }
   ],
   "source": [
    "for i, num in enumerate(numgen):\n",
    "    print(num)\n",
    "    if i >= 10:\n",
    "        break"
   ]
  },
  {
   "cell_type": "markdown",
   "metadata": {},
   "source": [
    "# Context managers (and IO)\n",
    "Context managers can be seen as conceptual counterpart to functions. While a function presents a chunk of code that is reused in between other operations, a context manager is a chunk of code that is reused *around* other operations."
   ]
  },
  {
   "cell_type": "code",
   "execution_count": 80,
   "metadata": {},
   "outputs": [
    {
     "name": "stdout",
     "output_type": "stream",
     "text": [
      "Entering context.\n",
      "I am inside the context\n",
      "Exiting context.\n",
      "I am outside!\n"
     ]
    }
   ],
   "source": [
    "class PrintingContext:\n",
    "    \n",
    "    def __enter__(self):\n",
    "        print('Entering context.')\n",
    "    \n",
    "    def __exit__(self, exception_type, exception_value, traceback):\n",
    "        print('Exiting context.')\n",
    "        \n",
    "with PrintingContext():\n",
    "    print('I am inside the context')\n",
    "    \n",
    "print(\"I am outside!\")"
   ]
  },
  {
   "cell_type": "code",
   "execution_count": 81,
   "metadata": {},
   "outputs": [
    {
     "name": "stdout",
     "output_type": "stream",
     "text": [
      "before...\n",
      "Entering context.\n",
      "I am inside!\n",
      "Exiting context.\n",
      "after!\n"
     ]
    }
   ],
   "source": [
    "def my_func():\n",
    "    with PrintingContext():\n",
    "        print(\"I am inside!\")\n",
    "        return\n",
    "    \n",
    "print(\"before...\")\n",
    "my_func()\n",
    "print(\"after!\")"
   ]
  },
  {
   "cell_type": "markdown",
   "metadata": {},
   "source": [
    "## File IO"
   ]
  },
  {
   "cell_type": "markdown",
   "metadata": {},
   "source": [
    "Writing to a file."
   ]
  },
  {
   "cell_type": "code",
   "execution_count": 82,
   "metadata": {},
   "outputs": [],
   "source": [
    "string = \"\"\"hello world!\n",
    "this is chris, and I am writing \n",
    "this message!\n",
    "\"\"\"\n",
    "fh = open('test.txt', 'w') # open needs as arguments the file-path, and a mode (\"r\": read, \"w\": write, \"a\": append, \n",
    "                           #                                                    \"rb\": read binary, \"wb\": write binary, \"a\": append binary) \n",
    "                           # and returns a file-handle we can work with\n",
    "fh.write(string)\n",
    "fh.close()                 # don't forget to close the file afterwards!"
   ]
  },
  {
   "cell_type": "code",
   "execution_count": 83,
   "metadata": {},
   "outputs": [
    {
     "name": "stdout",
     "output_type": "stream",
     "text": [
      "hello world!\n",
      "this is chris, and I am writing \n",
      "this message!\n"
     ]
    }
   ],
   "source": [
    "%%bash\n",
    "cat test.txt"
   ]
  },
  {
   "cell_type": "markdown",
   "metadata": {},
   "source": [
    "Now we can read from the file what we just wrote in there."
   ]
  },
  {
   "cell_type": "code",
   "execution_count": 84,
   "metadata": {},
   "outputs": [
    {
     "name": "stdout",
     "output_type": "stream",
     "text": [
      "hello world!\n",
      "this is chris, and I am writing \n",
      "this message!\n"
     ]
    }
   ],
   "source": [
    "# reading example:\n",
    "fh = open('test.txt', 'r')\n",
    "lines = fh.readlines()\n",
    "\n",
    "for line in lines:\n",
    "    print(line, end='')\n",
    "    \n",
    "fh.close()"
   ]
  },
  {
   "cell_type": "markdown",
   "metadata": {},
   "source": [
    "## Better done with context managers\n",
    "Context managers are really useful for handling resources that need to released after they are no longer used. The prototypical example is file IO."
   ]
  },
  {
   "cell_type": "code",
   "execution_count": 85,
   "metadata": {},
   "outputs": [],
   "source": [
    "with open('save_file.txt', mode='w') as file_context:    # __enter__ is called here.\n",
    "    file_context.write('You cannot forget to close me.')\n",
    "# __exit__ is called here."
   ]
  },
  {
   "cell_type": "code",
   "execution_count": 86,
   "metadata": {},
   "outputs": [
    {
     "name": "stdout",
     "output_type": "stream",
     "text": [
      "['You cannot forget to close me.']\n"
     ]
    }
   ],
   "source": [
    "class File():\n",
    "\n",
    "    def __init__(self, filename, mode):\n",
    "        self.filename = filename\n",
    "        self.mode = mode\n",
    "\n",
    "    def __enter__(self):\n",
    "        self.open_file = open(self.filename, self.mode)\n",
    "        return self.open_file\n",
    "\n",
    "    def __exit__(self, *args):\n",
    "        self.open_file.close()\n",
    "\n",
    "with File('save_file.txt', mode='r') as fh:\n",
    "    print(fh.readlines())"
   ]
  },
  {
   "cell_type": "markdown",
   "metadata": {},
   "source": [
    "more info on context managers: https://jeffknupp.com/blog/2016/03/07/python-with-context-managers/"
   ]
  },
  {
   "cell_type": "markdown",
   "metadata": {},
   "source": [
    "# Lambda Expressions\n",
    "\n",
    "Lambda expressions can be used to create \"small\", \"throw-away\", anonymous functions."
   ]
  },
  {
   "cell_type": "code",
   "execution_count": 87,
   "metadata": {},
   "outputs": [
    {
     "data": {
      "text/plain": [
       "(64, function)"
      ]
     },
     "execution_count": 87,
     "metadata": {},
     "output_type": "execute_result"
    }
   ],
   "source": [
    "def square_number(x):\n",
    "    return x**2\n",
    "\n",
    "square_number(8), type(square_number)"
   ]
  },
  {
   "cell_type": "code",
   "execution_count": 88,
   "metadata": {},
   "outputs": [
    {
     "data": {
      "text/plain": [
       "<function __main__.<lambda>>"
      ]
     },
     "execution_count": 88,
     "metadata": {},
     "output_type": "execute_result"
    }
   ],
   "source": [
    "lambda x: x**2"
   ]
  },
  {
   "cell_type": "code",
   "execution_count": 89,
   "metadata": {},
   "outputs": [
    {
     "data": {
      "text/plain": [
       "(64, function)"
      ]
     },
     "execution_count": 89,
     "metadata": {},
     "output_type": "execute_result"
    }
   ],
   "source": [
    "square_number = lambda x: x**2\n",
    "\n",
    "square_number(8), type(square_number)"
   ]
  },
  {
   "cell_type": "code",
   "execution_count": 90,
   "metadata": {},
   "outputs": [
    {
     "data": {
      "text/plain": [
       "5"
      ]
     },
     "execution_count": 90,
     "metadata": {},
     "output_type": "execute_result"
    }
   ],
   "source": [
    "calc_sum = lambda x, y: x + y\n",
    "calc_sum(2, 3)"
   ]
  },
  {
   "cell_type": "markdown",
   "metadata": {},
   "source": [
    "You can use lambda-expressions for small pieces of code:"
   ]
  },
  {
   "cell_type": "code",
   "execution_count": 91,
   "metadata": {},
   "outputs": [],
   "source": [
    "now = lambda: pd.to_datetime(datetime.datetime.now()).tz_localize('UTC').tz_convert('Europe/Berlin')\n",
    "maketime = lambda x: datetime.datetime.utcfromtimestamp(int(x)).strftime('%Y-%m-%d %H:%M')\n",
    "imsave = lambda fname, img: plt.imsave(fname, img, vmin=0, vmax=1)"
   ]
  },
  {
   "cell_type": "markdown",
   "metadata": {},
   "source": [
    "## Controlling list operations with lambdas"
   ]
  },
  {
   "cell_type": "code",
   "execution_count": 92,
   "metadata": {},
   "outputs": [
    {
     "name": "stdout",
     "output_type": "stream",
     "text": [
      "[1, 3, 6, 7, 45, 67]\n",
      "[1, 3, 6, 7, 45, 67]\n"
     ]
    }
   ],
   "source": [
    "unsorted_list = [6, 1, 45, 67, 3, 7]\n",
    "\n",
    "# two ways to sort:\n",
    "new_list = sorted(unsorted_list) # creates a new sorted one, old one stays the same\n",
    "unsorted_list.sort()             # sorts in-place, the old one will change\n",
    "\n",
    "print(new_list)\n",
    "print(unsorted_list)"
   ]
  },
  {
   "cell_type": "markdown",
   "metadata": {},
   "source": [
    "Sorting in  descending order."
   ]
  },
  {
   "cell_type": "code",
   "execution_count": 93,
   "metadata": {},
   "outputs": [
    {
     "data": {
      "text/plain": [
       "[67, 45, 7, 6, 3, 1]"
      ]
     },
     "execution_count": 93,
     "metadata": {},
     "output_type": "execute_result"
    }
   ],
   "source": [
    "unsorted_list.sort(reverse=True) \n",
    "unsorted_list"
   ]
  },
  {
   "cell_type": "markdown",
   "metadata": {},
   "source": [
    "Sorting according to specific rules can be done with lambda functions. For example you can sort people by their age."
   ]
  },
  {
   "cell_type": "code",
   "execution_count": 94,
   "metadata": {},
   "outputs": [],
   "source": [
    "people = [\n",
    "    {'name': 'Aaron', 'age': 40},\n",
    "    {'name': 'Berta', 'age': 20},\n",
    "    {'name': 'Chris', 'age': 29},\n",
    "]"
   ]
  },
  {
   "cell_type": "code",
   "execution_count": 95,
   "metadata": {},
   "outputs": [
    {
     "data": {
      "text/plain": [
       "[{'age': 20, 'name': 'Berta'},\n",
       " {'age': 29, 'name': 'Chris'},\n",
       " {'age': 40, 'name': 'Aaron'}]"
      ]
     },
     "execution_count": 95,
     "metadata": {},
     "output_type": "execute_result"
    }
   ],
   "source": [
    "people.sort(key=lambda item: item['age'])\n",
    "people"
   ]
  },
  {
   "cell_type": "markdown",
   "metadata": {},
   "source": [
    "or by their name."
   ]
  },
  {
   "cell_type": "code",
   "execution_count": 96,
   "metadata": {},
   "outputs": [
    {
     "data": {
      "text/plain": [
       "[{'age': 40, 'name': 'Aaron'},\n",
       " {'age': 20, 'name': 'Berta'},\n",
       " {'age': 29, 'name': 'Chris'}]"
      ]
     },
     "execution_count": 96,
     "metadata": {},
     "output_type": "execute_result"
    }
   ],
   "source": [
    "people.sort(key=lambda item: item['name'])\n",
    "people"
   ]
  },
  {
   "cell_type": "markdown",
   "metadata": {},
   "source": [
    "Other functions work similarly, For example you can use the `key` argument in `max`"
   ]
  },
  {
   "cell_type": "code",
   "execution_count": 97,
   "metadata": {},
   "outputs": [
    {
     "data": {
      "text/plain": [
       "{'age': 40, 'name': 'Aaron'}"
      ]
     },
     "execution_count": 97,
     "metadata": {},
     "output_type": "execute_result"
    }
   ],
   "source": [
    "max(people, key=lambda x: x['age'])"
   ]
  },
  {
   "cell_type": "markdown",
   "metadata": {},
   "source": [
    "## Exercise\n",
    "Use the `min` function with a `key` argument to find the person that comes first in the alphabet."
   ]
  },
  {
   "cell_type": "code",
   "execution_count": 98,
   "metadata": {
    "cell_type": "solution"
   },
   "outputs": [
    {
     "data": {
      "text/plain": [
       "{'age': 40, 'name': 'Aaron'}"
      ]
     },
     "execution_count": 98,
     "metadata": {},
     "output_type": "execute_result"
    }
   ],
   "source": [
    "min(people, key=lambda x: x['name'])"
   ]
  },
  {
   "cell_type": "markdown",
   "metadata": {},
   "source": [
    "## Map, Filter & Reduce\n",
    "\n",
    "Python has many features that originally stem from different programming paradigmns. One of these is that of functional programming, where the concept of *map*, *filter*, and *reduce* come from. These functions are there to apply a function to a collection of data."
   ]
  },
  {
   "cell_type": "markdown",
   "metadata": {},
   "source": [
    "### Map\n",
    "\n",
    "Map takes a function and a collection, and simply applys the function to every element of the collection:"
   ]
  },
  {
   "cell_type": "code",
   "execution_count": 99,
   "metadata": {},
   "outputs": [
    {
     "data": {
      "text/plain": [
       "[1, 4, 9, 16, 25]"
      ]
     },
     "execution_count": 99,
     "metadata": {},
     "output_type": "execute_result"
    }
   ],
   "source": [
    "items = [1, 2, 3, 4, 5]\n",
    "squared = list(map(lambda x: x**2, items))\n",
    "squared"
   ]
  },
  {
   "cell_type": "markdown",
   "metadata": {},
   "source": [
    "..which is the same as"
   ]
  },
  {
   "cell_type": "code",
   "execution_count": 100,
   "metadata": {},
   "outputs": [],
   "source": [
    "items = [1, 2, 3, 4, 5]\n",
    "squared = []\n",
    "for i in items:\n",
    "    squared.append(i**2)"
   ]
  },
  {
   "cell_type": "markdown",
   "metadata": {},
   "source": [
    "### Filter\n",
    "\n",
    "`filter` takes a collection and a function that returns a boolean value. As the name suggests, it thus filters the list: it creates a list of elements for which the function returns true."
   ]
  },
  {
   "cell_type": "code",
   "execution_count": 101,
   "metadata": {},
   "outputs": [
    {
     "data": {
      "text/plain": [
       "[-5, -4, -3, -2, -1]"
      ]
     },
     "execution_count": 101,
     "metadata": {},
     "output_type": "execute_result"
    }
   ],
   "source": [
    "number_list = range(-5, 5)\n",
    "less_than_zero = list(filter(lambda x: x < 0, number_list))\n",
    "less_than_zero"
   ]
  },
  {
   "cell_type": "raw",
   "metadata": {},
   "source": [
    "# an actual example (not here exectuable) from a project of mine:\n",
    "for (dirpath, dirnames, filenames) in os.walk(args.basepath):\n",
    "    filenames = list(filter(lambda x: os.path.splitext(x)[1] not in IGNORE_EXTS, filenames))\n",
    "    if not args.include_hidden:\n",
    "        filenames = list(filter(lambda x: x[0] != '.', filenames))"
   ]
  },
  {
   "cell_type": "markdown",
   "metadata": {},
   "source": [
    "### Reduce \n",
    "\n",
    "is a really useful function for performing some computation on a list and returning the result. It applies a rolling computation to sequential pairs of values in a list. For example, if you wanted to compute the product of a list of integers."
   ]
  },
  {
   "cell_type": "code",
   "execution_count": 103,
   "metadata": {},
   "outputs": [
    {
     "data": {
      "text/plain": [
       "113"
      ]
     },
     "execution_count": 103,
     "metadata": {},
     "output_type": "execute_result"
    }
   ],
   "source": [
    "from functools import reduce #reduce is not in pythons standardlib and must be imported!\n",
    "mysum = reduce(lambda x,y: x+y, [47,11,42,13])\n",
    "mysum"
   ]
  },
  {
   "cell_type": "markdown",
   "metadata": {},
   "source": [
    "![tool](figures/reduce_diagram.png)"
   ]
  },
  {
   "cell_type": "markdown",
   "metadata": {},
   "source": [
    "...which is the same as:"
   ]
  },
  {
   "cell_type": "code",
   "execution_count": 104,
   "metadata": {},
   "outputs": [],
   "source": [
    "product = 1\n",
    "thelist = [1, 2, 3, 4]\n",
    "for num in thelist:\n",
    "    product = product * num"
   ]
  },
  {
   "cell_type": "code",
   "execution_count": 105,
   "metadata": {},
   "outputs": [],
   "source": [
    "# real-life example:\n",
    "def get_newest_commit(commitlist):\n",
    "    date = lambda x: parser.parse(x).strftime(\"%s\")\n",
    "    newer = lambda x,y: x if date(x) > date(y) else y\n",
    "    return reduce(newer, commitlist)"
   ]
  },
  {
   "cell_type": "code",
   "execution_count": 106,
   "metadata": {},
   "outputs": [
    {
     "name": "stdout",
     "output_type": "stream",
     "text": [
      "The Zen of Python, by Tim Peters\n",
      "\n",
      "Beautiful is better than ugly.\n",
      "Explicit is better than implicit.\n",
      "Simple is better than complex.\n",
      "Complex is better than complicated.\n",
      "Flat is better than nested.\n",
      "Sparse is better than dense.\n",
      "Readability counts.\n",
      "Special cases aren't special enough to break the rules.\n",
      "Although practicality beats purity.\n",
      "Errors should never pass silently.\n",
      "Unless explicitly silenced.\n",
      "In the face of ambiguity, refuse the temptation to guess.\n",
      "There should be one-- and preferably only one --obvious way to do it.\n",
      "Although that way may not be obvious at first unless you're Dutch.\n",
      "Now is better than never.\n",
      "Although never is often better than *right* now.\n",
      "If the implementation is hard to explain, it's a bad idea.\n",
      "If the implementation is easy to explain, it may be a good idea.\n",
      "Namespaces are one honking great idea -- let's do more of those!\n"
     ]
    }
   ],
   "source": [
    "import this"
   ]
  },
  {
   "cell_type": "markdown",
   "metadata": {},
   "source": [
    "https://www.python-course.eu/lambda.php"
   ]
  },
  {
   "cell_type": "code",
   "execution_count": null,
   "metadata": {},
   "outputs": [],
   "source": []
  },
  {
   "cell_type": "markdown",
   "metadata": {},
   "source": [
    "# Comprehensions\n",
    "Comprehensions are a special syntax that simplify the creation of collections."
   ]
  },
  {
   "cell_type": "markdown",
   "metadata": {},
   "source": [
    "## List comprehension"
   ]
  },
  {
   "cell_type": "markdown",
   "metadata": {},
   "source": [
    "To get a list of of squares from a list of numbers we would usually have to write code like this."
   ]
  },
  {
   "cell_type": "code",
   "execution_count": 107,
   "metadata": {},
   "outputs": [
    {
     "data": {
      "text/plain": [
       "[1, 4, 9, 16, 25]"
      ]
     },
     "execution_count": 107,
     "metadata": {},
     "output_type": "execute_result"
    }
   ],
   "source": [
    "original_numbers = [1, 2, 3, 4, 5]\n",
    "squared_numbers = []\n",
    "for i in original_numbers:\n",
    "    squared_numbers.append(i**2)\n",
    "    \n",
    "squared_numbers"
   ]
  },
  {
   "cell_type": "markdown",
   "metadata": {},
   "source": [
    "However, with a comprehension, we can greatly simplify this."
   ]
  },
  {
   "cell_type": "code",
   "execution_count": 108,
   "metadata": {},
   "outputs": [
    {
     "data": {
      "text/plain": [
       "[1, 4, 9, 16, 25]"
      ]
     },
     "execution_count": 108,
     "metadata": {},
     "output_type": "execute_result"
    }
   ],
   "source": [
    "squared_numbers = [i**2 for i in original_numbers]\n",
    "squared_numbers"
   ]
  },
  {
   "cell_type": "markdown",
   "metadata": {},
   "source": [
    "The general syntax for a comprehension is `[`expression `for` element `in` iterable \\[`if` filter_condition\\] `]`. Let's see this in action."
   ]
  },
  {
   "cell_type": "code",
   "execution_count": 109,
   "metadata": {},
   "outputs": [
    {
     "data": {
      "text/plain": [
       "[1, 4, 7]"
      ]
     },
     "execution_count": 109,
     "metadata": {},
     "output_type": "execute_result"
    }
   ],
   "source": [
    "original_values = [(1, True), (2, False), (3, False), (4, True), (5, False), (7, True)]\n",
    "only_trues = []\n",
    "for i in original_values:\n",
    "    if i[1]:\n",
    "        only_trues.append(i[0])\n",
    "\n",
    "only_trues"
   ]
  },
  {
   "cell_type": "code",
   "execution_count": 110,
   "metadata": {},
   "outputs": [
    {
     "data": {
      "text/plain": [
       "[1, 4, 7]"
      ]
     },
     "execution_count": 110,
     "metadata": {},
     "output_type": "execute_result"
    }
   ],
   "source": [
    "only_trues = [\n",
    "    i[0]                      # what to do with the values from the old list\n",
    "    for i in original_values  # for-loop like syntax\n",
    "    if i[1]                   # filtering. \n",
    "]\n",
    "only_trues"
   ]
  },
  {
   "cell_type": "markdown",
   "metadata": {},
   "source": [
    "If we do not just want to filter, but instead do something else with the values that do not satisfy our filter condition, we can use a \n",
    "ternary expression."
   ]
  },
  {
   "cell_type": "code",
   "execution_count": 111,
   "metadata": {},
   "outputs": [
    {
     "data": {
      "text/plain": [
       "[1, 0, 0, 4, 0, 7]"
      ]
     },
     "execution_count": 111,
     "metadata": {},
     "output_type": "execute_result"
    }
   ],
   "source": [
    "only_trues_or_zero = [\n",
    "    i[0] if i[1] else 0       # what to do with the values from the old list\n",
    "    for i in original_values  # for-loop like syntax\n",
    "]\n",
    "only_trues_or_zero"
   ]
  },
  {
   "cell_type": "markdown",
   "metadata": {},
   "source": [
    "## Dictionary Comprehension"
   ]
  },
  {
   "cell_type": "code",
   "execution_count": 112,
   "metadata": {},
   "outputs": [
    {
     "data": {
      "text/plain": [
       "{1: 1, 2: 4, 3: 9, 4: 16, 5: 25}"
      ]
     },
     "execution_count": 112,
     "metadata": {},
     "output_type": "execute_result"
    }
   ],
   "source": [
    "numbers_and_their_squares = {num: num ** 2 for num in [1,2,3,4,5]}\n",
    "numbers_and_their_squares"
   ]
  },
  {
   "cell_type": "markdown",
   "metadata": {},
   "source": [
    "## Generator Comprehension\n",
    "Generator comprehension is a compact way to write down generators"
   ]
  },
  {
   "cell_type": "code",
   "execution_count": 142,
   "metadata": {},
   "outputs": [
    {
     "name": "stdout",
     "output_type": "stream",
     "text": [
      "<generator object <genexpr> at 0x7fe191844840>\n",
      "1\n",
      "[2, 3, 4, 5, 6, 7, 8, 9]\n"
     ]
    }
   ],
   "source": [
    "a = (i for i in range(10))\n",
    "print(a) # it's a generator!\n",
    "next(a)\n",
    "print(next(a))\n",
    "print(list(a))"
   ]
  },
  {
   "cell_type": "code",
   "execution_count": 114,
   "metadata": {},
   "outputs": [],
   "source": [
    "def scream(*strings, **kwargs):\n",
    "    print(*[i.upper() for i in strings], **kwargs)"
   ]
  },
  {
   "cell_type": "code",
   "execution_count": 115,
   "metadata": {},
   "outputs": [
    {
     "name": "stdout",
     "output_type": "stream",
     "text": [
      "HELLO I AM  CHRIS\n"
     ]
    }
   ],
   "source": [
    "scream(\"hello\", \"I am \", \"Chris\")"
   ]
  },
  {
   "cell_type": "markdown",
   "metadata": {},
   "source": [
    "# Strings and format-strings"
   ]
  },
  {
   "cell_type": "markdown",
   "metadata": {},
   "source": [
    "## some string-operations"
   ]
  },
  {
   "cell_type": "code",
   "execution_count": 116,
   "metadata": {},
   "outputs": [
    {
     "name": "stdout",
     "output_type": "stream",
     "text": [
      "['test', 'hello', 'world'] <class 'list'>\n"
     ]
    },
    {
     "data": {
      "text/plain": [
       "'test, hello, world'"
      ]
     },
     "execution_count": 116,
     "metadata": {},
     "output_type": "execute_result"
    }
   ],
   "source": [
    "# remove whitespaces at beginning and end\n",
    "s = \"   hello    \"\n",
    "new_s = s.strip()\n",
    "\n",
    "# split string in multiple parts (gives a list)\n",
    "s = \"test, hello, world\"\n",
    "splitted = s.split(', ')\n",
    "print(splitted, type(splitted))\n",
    "\n",
    "# create a string again by joining a list of partial strings\n",
    "', '.join(splitted) # -> \"test, hello, world\""
   ]
  },
  {
   "cell_type": "markdown",
   "metadata": {},
   "source": [
    "## Format-strings: version 1\n",
    "\n",
    "Standard format-strings are C-style. The `%`-operator formats a set of varaibles in a tuple together with a special format-strings. This syntax is still from Python 2 and there is no good reason to still use it today."
   ]
  },
  {
   "cell_type": "code",
   "execution_count": 117,
   "metadata": {},
   "outputs": [
    {
     "name": "stdout",
     "output_type": "stream",
     "text": [
      "An int: 15, a rounded float: 3.14, a string: string!\n"
     ]
    }
   ],
   "source": [
    "import math\n",
    "\n",
    "an_int = 15\n",
    "a_float = math.pi #3.141592653589793\n",
    "a_string = \"string!\"\n",
    "\n",
    "string = \"An int: %d, a rounded float: %.2f, a string: %s\" % (an_int, a_float, a_string)\n",
    "print(string)"
   ]
  },
  {
   "cell_type": "markdown",
   "metadata": {},
   "source": [
    "| code          | meaning                                                               |\n",
    "|---------------|-----------------------------------------------------------------------|\n",
    "| %s            | String (or any object with a string representation, like numbers      |\n",
    "| %d            | Integers                                                              |\n",
    "| %f            | Floating point numbers                                                |\n",
    "| %.NUMDIGITSf  | Floating point numbers with NUMDIGITS digits to the right of the dot. |\n",
    "| %x/%X         | Integers in hex representation (lowercase/uppercase)                  |"
   ]
  },
  {
   "cell_type": "markdown",
   "metadata": {},
   "source": [
    "## Format-strings: version 2\n",
    "\n",
    "Python's native format()-method is far more powerful than the borrowed c-syntax. For a complete list of it's arguments, look at https://docs.python.org/3.4/library/string.html#formatspec. For a nice small overview, have a look at https://wiki.python.org/moin/FormatReference"
   ]
  },
  {
   "cell_type": "code",
   "execution_count": 118,
   "metadata": {},
   "outputs": [
    {
     "name": "stdout",
     "output_type": "stream",
     "text": [
      "aaron is 40 years old!\n",
      "berta is 20 years old!\n",
      "chris is 21 years old!\n"
     ]
    }
   ],
   "source": [
    "people = [\n",
    "    {'name': 'aaron', 'age': 40},\n",
    "    {'name': 'berta', 'age': 20},\n",
    "    {'name': 'chris', 'age': 21},\n",
    "]\n",
    "\n",
    "# the {} are placeholders and are filled with the arguments of format()\n",
    "for person in people:\n",
    "    print(\"{} is {} years old!\".format(person['name'], person['age']))"
   ]
  },
  {
   "cell_type": "markdown",
   "metadata": {},
   "source": [
    "The `{}` placeholders can be given names to make order irrelevant."
   ]
  },
  {
   "cell_type": "code",
   "execution_count": 119,
   "metadata": {},
   "outputs": [
    {
     "name": "stdout",
     "output_type": "stream",
     "text": [
      "aaron is 40 years old!\n",
      "berta is 20 years old!\n",
      "chris is 21 years old!\n"
     ]
    }
   ],
   "source": [
    "for person in people:\n",
    "    print(\"{name} is {age} years old!\".format(\n",
    "        age=person['age'],\n",
    "        name=person['name']))"
   ]
  },
  {
   "cell_type": "markdown",
   "metadata": {},
   "source": [
    "Names allow for neat dict-unpacking into the `format()` method."
   ]
  },
  {
   "cell_type": "code",
   "execution_count": 120,
   "metadata": {},
   "outputs": [
    {
     "name": "stdout",
     "output_type": "stream",
     "text": [
      "aaron is 40 years old!\n",
      "berta is 20 years old!\n",
      "chris is 21 years old!\n"
     ]
    }
   ],
   "source": [
    "for person in people:\n",
    "    print(\"{name} is {age} years old!\".format(**person))"
   ]
  },
  {
   "cell_type": "code",
   "execution_count": 121,
   "metadata": {},
   "outputs": [
    {
     "name": "stdout",
     "output_type": "stream",
     "text": [
      "      1.00\n",
      "     10.00\n",
      "    100.00\n",
      "   1000.00\n",
      "  10000.00\n"
     ]
    }
   ],
   "source": [
    "# format() allows for many many formatting options, such as justification and\n",
    "# conversion to decimal places etc...\n",
    "nums = [10**i for i in range(5)] # -> [1, 10, 100, 1000, 10000]\n",
    "\n",
    "for n in nums:\n",
    "    # >     right justified\n",
    "    # 10    10 characters long\n",
    "    # .2    show 2 decimal places\n",
    "    # f     display as floating point number\n",
    "    print(\"{:>10.2f}\".format(n))"
   ]
  },
  {
   "cell_type": "markdown",
   "metadata": {},
   "source": [
    "## Format-strings: version 3\n",
    "\n",
    "Since Python 3.6, there is nice super-easy way to produce formatted string literals: `fstrings`! `fstrings` are very readable and should be the preferred way to format strings, except if you need to do something very complex that requires `str.format`."
   ]
  },
  {
   "cell_type": "code",
   "execution_count": 122,
   "metadata": {},
   "outputs": [
    {
     "data": {
      "text/plain": [
       "'He said his name is Fred.'"
      ]
     },
     "execution_count": 122,
     "metadata": {},
     "output_type": "execute_result"
    }
   ],
   "source": [
    "name = \"Fred\"\n",
    "string = f\"He said his name is {name}.\"\n",
    "string"
   ]
  },
  {
   "cell_type": "code",
   "execution_count": 123,
   "metadata": {},
   "outputs": [
    {
     "data": {
      "text/plain": [
       "'12 + 16 = 28'"
      ]
     },
     "execution_count": 123,
     "metadata": {},
     "output_type": "execute_result"
    }
   ],
   "source": [
    "f\"12 + 16 = {12 + 16}\""
   ]
  },
  {
   "cell_type": "code",
   "execution_count": 124,
   "metadata": {},
   "outputs": [
    {
     "data": {
      "text/plain": [
       "'result:     12.346'"
      ]
     },
     "execution_count": 124,
     "metadata": {},
     "output_type": "execute_result"
    }
   ],
   "source": [
    "width = 10\n",
    "precision = 5\n",
    "value = 12.34567\n",
    "f\"result: {value:{width}.{precision}}\" "
   ]
  },
  {
   "cell_type": "markdown",
   "metadata": {},
   "source": [
    "# Decorators\n",
    "Decorators a functions that change the functionality of other functions or classes. This should be usually be done in a transparent manner, i.e. the interface of the original function stays the same, while the functionaliy is added around it."
   ]
  },
  {
   "cell_type": "code",
   "execution_count": 125,
   "metadata": {},
   "outputs": [
    {
     "name": "stdout",
     "output_type": "stream",
     "text": [
      "~~~ result of substract ~~~\n",
      "3\n",
      "~~~~~~~~~~~~~~~~~~~~~~~~~~~\n"
     ]
    }
   ],
   "source": [
    "def substract(x, y):\n",
    "    return x - y\n",
    "\n",
    "def decorated_substract(*args, **kwargs):\n",
    "    print('~~~ result of', substract.__name__, '~~~')\n",
    "    result = substract(*args, **kwargs)              \n",
    "    print(result)                               \n",
    "    print('~~~~~~~~~~~~~~~~~~~~~~~~~~~')        \n",
    "    return result    \n",
    "    \n",
    "decorated_substract(5, 2);"
   ]
  },
  {
   "cell_type": "markdown",
   "metadata": {},
   "source": [
    "This however only creates a new function, containing a changed behaviour of the substract-function. What if we want to change the behaviour of arbitrary functions?"
   ]
  },
  {
   "cell_type": "code",
   "execution_count": 126,
   "metadata": {},
   "outputs": [
    {
     "name": "stdout",
     "output_type": "stream",
     "text": [
      "~~~ result of add ~~~\n",
      "7\n",
      "~~~~~~~~~~~~~~~~~~~~~~~~~~~\n"
     ]
    },
    {
     "data": {
      "text/plain": [
       "7"
      ]
     },
     "execution_count": 126,
     "metadata": {},
     "output_type": "execute_result"
    }
   ],
   "source": [
    "def substract(x, y):\n",
    "    return x - y\n",
    "\n",
    "def add(x, y):\n",
    "    return x + y\n",
    "\n",
    "def decorated(func, *args, **kwargs):\n",
    "    result = func(*args, **kwargs)              \n",
    "    print('~~~ result of', func.__name__, '~~~')\n",
    "    print(result)                               \n",
    "    print('~~~~~~~~~~~~~~~~~~~~~~~~~~~')        \n",
    "    return result    \n",
    "    \n",
    "decorated(add, 5, 2)"
   ]
  },
  {
   "cell_type": "code",
   "execution_count": 127,
   "metadata": {},
   "outputs": [
    {
     "name": "stdout",
     "output_type": "stream",
     "text": [
      "~~~ result of substract ~~~\n",
      "3\n",
      "~~~~~~~~~~~~~~~~~~~~~~~~~~~\n"
     ]
    },
    {
     "data": {
      "text/plain": [
       "3"
      ]
     },
     "execution_count": 127,
     "metadata": {},
     "output_type": "execute_result"
    }
   ],
   "source": [
    "decorated(substract, 5, 2)"
   ]
  },
  {
   "cell_type": "markdown",
   "metadata": {},
   "source": [
    "We're still not okay with this, because we want to change the behaviour of `add` itself!"
   ]
  },
  {
   "cell_type": "code",
   "execution_count": 128,
   "metadata": {},
   "outputs": [],
   "source": [
    "def print_decorator(func):                           # func is the method which will be decorated by this\n",
    "        \n",
    "    print(\"This occurs when we re-define the function\")\n",
    "    \n",
    "    #if we define function = decorated(function), the new function will be this:\n",
    "    \n",
    "    def inner(*args, **kwargs):                      # we define a new function here, taking any parameters...\n",
    "        result = func(*args, **kwargs)               # which, when called, executes the original function with these parameters...\n",
    "        print('~~~ result of', func.__name__, '~~~') # prints name of original funciton...\n",
    "        print(result)                                # prints the result of the function...\n",
    "        print('~~~~~~~~~~~~~~~~~~~~~~~~~~~')         # some lines...\n",
    "        return result                                # and returns that result of that function \n",
    "    \n",
    "    return inner   # the new function is this inner function!"
   ]
  },
  {
   "cell_type": "code",
   "execution_count": 129,
   "metadata": {},
   "outputs": [
    {
     "name": "stdout",
     "output_type": "stream",
     "text": [
      "This occurs when we re-define the function\n"
     ]
    }
   ],
   "source": [
    "decorated_add = print_decorator(add)"
   ]
  },
  {
   "cell_type": "code",
   "execution_count": 130,
   "metadata": {},
   "outputs": [
    {
     "name": "stdout",
     "output_type": "stream",
     "text": [
      "~~~ result of add ~~~\n",
      "8\n",
      "~~~~~~~~~~~~~~~~~~~~~~~~~~~\n"
     ]
    },
    {
     "data": {
      "text/plain": [
       "8"
      ]
     },
     "execution_count": 130,
     "metadata": {},
     "output_type": "execute_result"
    }
   ],
   "source": [
    "decorated_add(3, 5)"
   ]
  },
  {
   "cell_type": "code",
   "execution_count": 131,
   "metadata": {},
   "outputs": [
    {
     "name": "stdout",
     "output_type": "stream",
     "text": [
      "This occurs when we re-define the function\n",
      "~~~ result of add ~~~\n",
      "8\n",
      "~~~~~~~~~~~~~~~~~~~~~~~~~~~\n"
     ]
    },
    {
     "data": {
      "text/plain": [
       "8"
      ]
     },
     "execution_count": 131,
     "metadata": {},
     "output_type": "execute_result"
    }
   ],
   "source": [
    "add = print_decorator(add)\n",
    "add(3,5)"
   ]
  },
  {
   "cell_type": "markdown",
   "metadata": {},
   "source": [
    "Python provides a syntax for the assignment `function = decorated(function)`. This however just *syntactic sugar* for calling the decorator directly. "
   ]
  },
  {
   "cell_type": "code",
   "execution_count": 132,
   "metadata": {},
   "outputs": [
    {
     "name": "stdout",
     "output_type": "stream",
     "text": [
      "This occurs when we re-define the function\n",
      "~~~ result of multiply ~~~\n",
      "15\n",
      "~~~~~~~~~~~~~~~~~~~~~~~~~~~\n",
      "~~~ result of multiply ~~~\n",
      "20\n",
      "~~~~~~~~~~~~~~~~~~~~~~~~~~~\n"
     ]
    },
    {
     "data": {
      "text/plain": [
       "20"
      ]
     },
     "execution_count": 132,
     "metadata": {},
     "output_type": "execute_result"
    }
   ],
   "source": [
    "@print_decorator #multiply = print_decorator(multiply)  \n",
    "def multiply(x, y):\n",
    "    return x * y\n",
    "\n",
    "multiply(3, 5)\n",
    "multiply(4, 5)"
   ]
  },
  {
   "cell_type": "markdown",
   "metadata": {},
   "source": [
    "Another example:"
   ]
  },
  {
   "cell_type": "code",
   "execution_count": 133,
   "metadata": {},
   "outputs": [
    {
     "data": {
      "text/plain": [
       "'<b>hello world</b>'"
      ]
     },
     "execution_count": 133,
     "metadata": {},
     "output_type": "execute_result"
    }
   ],
   "source": [
    "def bold(fn):\n",
    "    \"\"\"wraps the result of a function such that it's bold\"\"\"\n",
    "    def wrapped():\n",
    "        return \"<b>\" + fn() + \"</b>\"\n",
    "    return wrapped\n",
    "\n",
    "\n",
    "@bold #hello = bold(hello)\n",
    "def hello():\n",
    "    \"\"\"prints 'hello world'\"\"\"\n",
    "    return \"hello world\"\n",
    "\n",
    "hello()"
   ]
  },
  {
   "cell_type": "code",
   "execution_count": 134,
   "metadata": {},
   "outputs": [
    {
     "data": {
      "text/html": [
       "<b>hello world</b>"
      ],
      "text/plain": [
       "<IPython.core.display.HTML object>"
      ]
     },
     "execution_count": 134,
     "metadata": {},
     "output_type": "execute_result"
    }
   ],
   "source": [
    "from IPython.display import HTML\n",
    "HTML(hello())"
   ]
  },
  {
   "cell_type": "markdown",
   "metadata": {},
   "source": [
    "We can even chain decorators!"
   ]
  },
  {
   "cell_type": "code",
   "execution_count": 135,
   "metadata": {},
   "outputs": [
    {
     "data": {
      "text/plain": [
       "'<b><i>hello world</i></b>'"
      ]
     },
     "execution_count": 135,
     "metadata": {},
     "output_type": "execute_result"
    }
   ],
   "source": [
    "def bold(fn):\n",
    "    \"\"\"wraps the result of a function such that it's bold\"\"\"\n",
    "    def wrapped():\n",
    "        return \"<b>\" + fn() + \"</b>\"\n",
    "    return wrapped\n",
    "\n",
    "def italic(fn):\n",
    "    \"\"\"wraps the result of a function such that it's italics\"\"\"\n",
    "    def wrapped():\n",
    "        return \"<i>\" + fn() + \"</i>\"\n",
    "    return wrapped\n",
    "\n",
    "@bold #hello = bold(hello)\n",
    "@italic #hello = italic(bold(hello))\n",
    "def hello():\n",
    "    \"\"\"prints 'hello world'\"\"\"\n",
    "    return \"hello world\"\n",
    "\n",
    "hello()"
   ]
  },
  {
   "cell_type": "code",
   "execution_count": 136,
   "metadata": {},
   "outputs": [
    {
     "data": {
      "text/plain": [
       "\u001b[0;31mSignature:\u001b[0m \u001b[0mhello\u001b[0m\u001b[0;34m(\u001b[0m\u001b[0;34m)\u001b[0m\u001b[0;34m\u001b[0m\u001b[0;34m\u001b[0m\u001b[0m\n",
       "\u001b[0;31mDocstring:\u001b[0m <no docstring>\n",
       "\u001b[0;31mFile:\u001b[0m      ~/Documents/UNI/sem_14/scientific_programming/lectures/week03-Advanced_Programming_with_Python/<ipython-input-135-ec26579624f2>\n",
       "\u001b[0;31mType:\u001b[0m      function\n"
      ]
     },
     "metadata": {},
     "output_type": "display_data"
    }
   ],
   "source": [
    "hello?"
   ]
  },
  {
   "cell_type": "markdown",
   "metadata": {},
   "source": [
    "That's it almost it for basic knowledge of decorators!\n",
    "There's just one important thing: If we replace the original function by the decorated version, we lose all information of the orginal function, as its docstring, information about arguments, etc. To make up for that, we use *another decorator*, namely `functools.wraps`. This simply copies the docstring of the original function to the new one."
   ]
  },
  {
   "cell_type": "code",
   "execution_count": 137,
   "metadata": {},
   "outputs": [
    {
     "data": {
      "text/html": [
       "<b><i>hello world</i></b>"
      ],
      "text/plain": [
       "<IPython.core.display.HTML object>"
      ]
     },
     "execution_count": 137,
     "metadata": {},
     "output_type": "execute_result"
    }
   ],
   "source": [
    "from functools import wraps\n",
    "from IPython.display import HTML\n",
    "\n",
    "def html(fn):\n",
    "    @wraps(fn)\n",
    "    def wrapped():\n",
    "        return HTML(fn())\n",
    "    return wrapped\n",
    "\n",
    "\n",
    "def bold(fn):\n",
    "    @wraps(fn)\n",
    "    def wrapped():\n",
    "        return \"<b>\" + fn() + \"</b>\"\n",
    "    return wrapped\n",
    "\n",
    "def italic(fn):\n",
    "    @wraps(fn)\n",
    "    def wrapped():\n",
    "        return \"<i>\" + fn() + \"</i>\"\n",
    "    return wrapped\n",
    "\n",
    "@html\n",
    "@bold\n",
    "@italic\n",
    "def hello():\n",
    "    \"\"\"prints 'hello world'\"\"\"\n",
    "    return \"hello world\"\n",
    "\n",
    "hello()"
   ]
  },
  {
   "cell_type": "code",
   "execution_count": 138,
   "metadata": {},
   "outputs": [
    {
     "data": {
      "text/plain": [
       "\u001b[0;31mSignature:\u001b[0m \u001b[0mhello\u001b[0m\u001b[0;34m(\u001b[0m\u001b[0;34m)\u001b[0m\u001b[0;34m\u001b[0m\u001b[0;34m\u001b[0m\u001b[0m\n",
       "\u001b[0;31mDocstring:\u001b[0m prints 'hello world'\n",
       "\u001b[0;31mFile:\u001b[0m      ~/Documents/UNI/sem_14/scientific_programming/lectures/week03-Advanced_Programming_with_Python/<ipython-input-137-473bdfbbb84c>\n",
       "\u001b[0;31mType:\u001b[0m      function\n"
      ]
     },
     "metadata": {},
     "output_type": "display_data"
    }
   ],
   "source": [
    "hello?"
   ]
  },
  {
   "cell_type": "markdown",
   "metadata": {},
   "source": [
    "## Exercise\n",
    "Define and apply a decorator that makes a string appear red. You can achieve this by wrapping the string in `<span style='color: red'> str </span>`"
   ]
  },
  {
   "cell_type": "code",
   "execution_count": 139,
   "metadata": {
    "cell_type": "solution"
   },
   "outputs": [
    {
     "data": {
      "text/html": [
       "<span style='color: red'><b><i>hello world</i></b></span>"
      ],
      "text/plain": [
       "<IPython.core.display.HTML object>"
      ]
     },
     "execution_count": 139,
     "metadata": {},
     "output_type": "execute_result"
    }
   ],
   "source": [
    "def red(fn):\n",
    "    @wraps(fn)\n",
    "    def wrapped():\n",
    "        return \"<span style='color: red'>\" + fn() + \"</span>\"\n",
    "    return wrapped\n",
    "\n",
    "@html\n",
    "@red\n",
    "@bold\n",
    "@italic\n",
    "def hello():\n",
    "    \"\"\"prints 'hello world'\"\"\"\n",
    "    return \"hello world\"\n",
    "\n",
    "hello()"
   ]
  },
  {
   "cell_type": "raw",
   "metadata": {},
   "source": [
    "#real-world example: Your Dashboard!\n",
    "\n",
    "def must_login(fn):\n",
    "    @wraps(fn)\n",
    "    def wrapped(*args, **kwargs):\n",
    "        if 'access_token' in session:\n",
    "            return fn(*args, **kwargs)\n",
    "        else:\n",
    "            return redirect(url_for('not_loggedin'))\n",
    "    return wrapped\n",
    "\n",
    "\n",
    "@app.route('/logoutgithub')\n",
    "@cross_origin(supports_credentials=True)\n",
    "@must_login\n",
    "def logoutgithub():\n",
    "    if session.get('access_token'):\n",
    "        del session['access_token']\n",
    "    return redirect('https://github.com/logout')"
   ]
  }
 ],
 "metadata": {
  "kernelspec": {
   "display_name": "Python 3",
   "language": "python",
   "name": "python3"
  },
  "language_info": {
   "codemirror_mode": {
    "name": "ipython",
    "version": 3
   },
   "file_extension": ".py",
   "mimetype": "text/x-python",
   "name": "python",
   "nbconvert_exporter": "python",
   "pygments_lexer": "ipython3",
   "version": "3.7.4"
  },
  "toc-autonumbering": true,
  "toc-showcode": false,
  "toc-showmarkdowntxt": false
 },
 "nbformat": 4,
 "nbformat_minor": 2
}
